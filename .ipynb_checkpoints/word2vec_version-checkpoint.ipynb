{
 "cells": [
  {
   "cell_type": "code",
   "execution_count": 9,
   "metadata": {},
   "outputs": [],
   "source": [
    "import pandas as pd\n",
    "import numpy as np\n",
    "import os\n",
    "import gensim"
   ]
  },
  {
   "cell_type": "code",
   "execution_count": 2,
   "metadata": {},
   "outputs": [
    {
     "name": "stdout",
     "output_type": "stream",
     "text": [
      "--2020-08-06 02:50:57--  http://wikipedia2vec.s3.amazonaws.com/models/zh/2018-04-20/zhwiki_20180420_300d.txt.bz2\n",
      "Resolving wikipedia2vec.s3.amazonaws.com (wikipedia2vec.s3.amazonaws.com)... 52.219.0.25\n",
      "Connecting to wikipedia2vec.s3.amazonaws.com (wikipedia2vec.s3.amazonaws.com)|52.219.0.25|:80... connected.\n",
      "HTTP request sent, awaiting response... 200 OK\n",
      "Length: 868159128 (828M) [application/x-bzip2]\n",
      "Saving to: ‘zhwiki_20180420_300d.txt.bz2’\n",
      "\n",
      "zhwiki_20180420_300 100%[===================>] 827.94M  18.6MB/s    in 47s     \n",
      "\n",
      "2020-08-06 02:51:45 (17.5 MB/s) - ‘zhwiki_20180420_300d.txt.bz2’ saved [868159128/868159128]\n",
      "\n"
     ]
    }
   ],
   "source": [
    "!wget http://wikipedia2vec.s3.amazonaws.com/models/zh/2018-04-20/zhwiki_20180420_300d.txt.bz2"
   ]
  },
  {
   "cell_type": "code",
   "execution_count": 16,
   "metadata": {},
   "outputs": [
    {
     "name": "stdout",
     "output_type": "stream",
     "text": [
      "Collecting wikipedia2vec\n",
      "\u001b[?25l  Downloading https://files.pythonhosted.org/packages/d8/88/751037c70ca86581d444824e66bb799ef9060339a1d5d1fc1804c422d7cc/wikipedia2vec-1.0.4.tar.gz (1.2MB)\n",
      "\u001b[K     |████████████████████████████████| 1.2MB 2.5MB/s \n",
      "\u001b[?25hRequirement already satisfied: click in /usr/local/lib/python3.6/dist-packages (from wikipedia2vec) (7.1.2)\n",
      "Requirement already satisfied: jieba in /usr/local/lib/python3.6/dist-packages (from wikipedia2vec) (0.42.1)\n",
      "Requirement already satisfied: joblib in /usr/local/lib/python3.6/dist-packages (from wikipedia2vec) (0.16.0)\n",
      "Requirement already satisfied: lmdb in /usr/local/lib/python3.6/dist-packages (from wikipedia2vec) (0.98)\n",
      "Collecting marisa-trie\n",
      "\u001b[?25l  Downloading https://files.pythonhosted.org/packages/20/95/d23071d0992dabcb61c948fb118a90683193befc88c23e745b050a29e7db/marisa-trie-0.7.5.tar.gz (270kB)\n",
      "\u001b[K     |████████████████████████████████| 276kB 7.1MB/s \n",
      "\u001b[?25hCollecting mwparserfromhell\n",
      "\u001b[?25l  Downloading https://files.pythonhosted.org/packages/23/03/4fb04da533c7e237c0104151c028d8bff856293d34e51d208c529696fb79/mwparserfromhell-0.5.4.tar.gz (135kB)\n",
      "\u001b[K     |████████████████████████████████| 143kB 5.0MB/s \n",
      "\u001b[?25hRequirement already satisfied: numpy in /usr/local/lib/python3.6/dist-packages (from wikipedia2vec) (1.18.5)\n",
      "Requirement already satisfied: scipy in /usr/local/lib/python3.6/dist-packages (from wikipedia2vec) (1.4.1)\n",
      "Requirement already satisfied: six in /usr/local/lib/python3.6/dist-packages (from wikipedia2vec) (1.15.0)\n",
      "Requirement already satisfied: tqdm in /usr/local/lib/python3.6/dist-packages (from wikipedia2vec) (4.41.1)\n",
      "Building wheels for collected packages: wikipedia2vec, marisa-trie, mwparserfromhell\n",
      "  Building wheel for wikipedia2vec (setup.py) ... \u001b[?25l\u001b[?25hdone\n",
      "  Created wheel for wikipedia2vec: filename=wikipedia2vec-1.0.4-cp36-cp36m-linux_x86_64.whl size=4581774 sha256=6b5f2b2758a1ca670130602ab30362edc5d502b3d8d2538e0d643143ddf7f33d\n",
      "  Stored in directory: /root/.cache/pip/wheels/16/e7/02/852c8ce366cc10adcf5d43c6471bbf926dd15c277578c13184\n",
      "  Building wheel for marisa-trie (setup.py) ... \u001b[?25l\u001b[?25hdone\n",
      "  Created wheel for marisa-trie: filename=marisa_trie-0.7.5-cp36-cp36m-linux_x86_64.whl size=862478 sha256=46102f55762525eb8f3cb4f76e981fe48f7c7b04f33bc4c1a26981a9bfd04e33\n",
      "  Stored in directory: /root/.cache/pip/wheels/45/24/79/022624fc914f0e559fe8a1141aaff1f9df810905a13fc75d57\n",
      "  Building wheel for mwparserfromhell (setup.py) ... \u001b[?25l\u001b[?25hdone\n",
      "  Created wheel for mwparserfromhell: filename=mwparserfromhell-0.5.4-cp36-cp36m-linux_x86_64.whl size=183772 sha256=9d5ba12bb180afc0821d43eb1727295b97829f97f9289f24f5c8c1f2c90dc2a6\n",
      "  Stored in directory: /root/.cache/pip/wheels/2a/76/d5/7088b941df3b362c45dd7912dd05314bc034751ec9cbca9a75\n",
      "Successfully built wikipedia2vec marisa-trie mwparserfromhell\n",
      "Installing collected packages: marisa-trie, mwparserfromhell, wikipedia2vec\n",
      "Successfully installed marisa-trie-0.7.5 mwparserfromhell-0.5.4 wikipedia2vec-1.0.4\n"
     ]
    }
   ],
   "source": [
    "!pip3 install wikipedia2vec"
   ]
  },
  {
   "cell_type": "code",
   "execution_count": 1,
   "metadata": {},
   "outputs": [],
   "source": [
    "from wikipedia2vec import Wikipedia2Vec"
   ]
  },
  {
   "cell_type": "code",
   "execution_count": 2,
   "metadata": {},
   "outputs": [],
   "source": [
    "model_ext = Wikipedia2Vec.load_text('zhwiki_20180420_300d.txt')"
   ]
  },
  {
   "cell_type": "code",
   "execution_count": 3,
   "metadata": {},
   "outputs": [],
   "source": [
    "import jieba"
   ]
  },
  {
   "cell_type": "code",
   "execution_count": 35,
   "metadata": {},
   "outputs": [
    {
     "data": {
      "text/plain": [
       "<Word 中国>"
      ]
     },
     "execution_count": 35,
     "metadata": {},
     "output_type": "execute_result"
    }
   ],
   "source": [
    "#dictionary.get_word(u'中国')"
   ]
  },
  {
   "cell_type": "code",
   "execution_count": 36,
   "metadata": {},
   "outputs": [
    {
     "data": {
      "text/plain": [
       "array([ 0.1177    , -0.42699999, -0.0866    ,  0.0897    , -0.0673    ,\n",
       "        0.0349    , -0.1017    ,  0.31040001, -0.2146    , -0.30739999,\n",
       "       -0.1488    , -0.50449997,  0.2277    ,  0.20730001,  0.26300001,\n",
       "        0.0316    , -0.0675    , -0.44479999, -0.35620001,  0.23119999,\n",
       "       -0.0129    , -0.169     ,  0.14740001, -0.39969999,  0.28189999,\n",
       "        0.25510001, -0.426     ,  0.33090001,  0.0447    , -0.13600001,\n",
       "        0.43110001,  0.5614    ,  0.1185    , -0.2053    , -0.1895    ,\n",
       "       -0.33360001, -0.3436    ,  0.47670001, -0.0723    ,  0.1043    ,\n",
       "        0.1229    , -0.23459999,  0.2432    ,  0.0617    ,  0.2412    ,\n",
       "       -0.0065    ,  0.19220001, -0.0723    ,  0.3188    ,  0.26179999,\n",
       "        0.1314    ,  0.19419999,  0.0025    ,  0.2174    ,  0.1144    ,\n",
       "       -0.51719999, -0.2712    , -0.37189999,  0.3678    , -0.0231    ,\n",
       "       -0.0744    , -0.0136    ,  0.29460001,  0.1259    ,  0.1345    ,\n",
       "       -0.34189999, -0.28049999, -0.1617    ,  0.3132    , -0.1079    ,\n",
       "        0.3448    ,  0.14929999,  0.16      ,  0.2075    , -0.2194    ,\n",
       "        0.1593    ,  0.0562    ,  0.0681    , -0.16500001, -0.2332    ,\n",
       "        0.3231    , -0.58170003,  0.44260001,  0.0133    , -0.1397    ,\n",
       "       -0.3145    ,  0.17389999, -0.0821    , -0.36250001,  0.13770001,\n",
       "        0.1103    ,  0.016     , -0.50370002, -0.29519999,  0.0448    ,\n",
       "       -0.1566    , -0.19499999, -0.2647    , -0.63840002, -0.0157    ,\n",
       "       -0.35589999,  0.1856    ,  0.41460001,  0.0401    ,  0.1991    ,\n",
       "       -0.50660002, -0.0299    , -0.46509999,  0.20559999, -0.5686    ,\n",
       "        0.0453    ,  0.1069    , -0.1286    ,  0.0232    , -0.0056    ,\n",
       "       -0.2383    ,  0.32499999, -0.0473    ,  0.38769999,  0.1833    ,\n",
       "       -0.0191    , -0.0494    , -0.197     , -0.3574    , -0.1735    ,\n",
       "        0.12639999, -0.3612    ,  0.53329998,  0.1188    , -0.1524    ,\n",
       "        0.1523    , -0.1183    ,  0.0233    , -0.1952    ,  0.39629999,\n",
       "       -0.1065    , -0.0667    , -0.49829999,  0.28029999, -0.3461    ,\n",
       "       -0.3001    ,  0.16599999,  0.34220001, -0.2006    , -0.0716    ,\n",
       "       -0.1215    ,  0.035     ,  0.1605    , -0.15899999,  0.31830001,\n",
       "       -0.2013    ,  0.1409    ,  0.3687    ,  0.19850001, -0.28060001,\n",
       "       -0.1064    , -0.1917    ,  0.4824    , -0.0905    , -0.21950001,\n",
       "        0.1265    , -0.0348    , -0.0418    , -0.0545    ,  0.24169999,\n",
       "        0.0209    , -0.0909    , -0.0112    ,  0.0112    , -0.131     ,\n",
       "        0.1053    ,  0.0023    , -0.1238    , -0.3439    , -0.21789999,\n",
       "       -0.15109999, -0.0295    , -0.4285    , -0.0379    , -0.3258    ,\n",
       "        0.27720001, -0.161     , -0.30199999, -0.1735    , -0.43880001,\n",
       "        0.49779999, -0.2272    ,  0.0535    , -0.1101    ,  0.34830001,\n",
       "       -0.1021    , -0.0689    ,  0.2176    , -0.1054    , -0.2235    ,\n",
       "       -0.0018    , -0.1149    , -0.1349    ,  0.0448    ,  0.0115    ,\n",
       "       -0.15800001, -0.2032    , -0.1952    ,  0.3664    ,  0.20100001,\n",
       "        0.57999998, -0.19239999, -0.39320001,  0.1972    ,  0.22830001,\n",
       "        0.29769999,  0.0482    ,  0.32319999,  0.1462    , -0.002     ,\n",
       "        0.1013    ,  0.28259999,  0.21520001,  0.147     ,  0.31799999,\n",
       "        0.2299    ,  0.0073    , -0.1749    ,  0.0564    , -0.1837    ,\n",
       "       -0.1961    ,  0.2051    ,  0.292     , -0.0985    , -0.0486    ,\n",
       "        0.4797    , -0.1402    ,  0.0791    , -0.0529    ,  0.0087    ,\n",
       "        0.59259999,  0.0269    , -0.1807    ,  0.2888    ,  0.0751    ,\n",
       "       -0.214     ,  0.25440001,  0.0711    ,  0.27779999,  0.0688    ,\n",
       "        0.1464    , -0.27419999,  0.1233    , -0.0704    ,  0.2006    ,\n",
       "        0.45649999,  0.0415    , -0.222     ,  0.0847    , -0.20479999,\n",
       "       -0.0573    , -0.16429999,  0.38409999,  0.3628    , -0.2361    ,\n",
       "        0.0929    , -0.0188    ,  0.2379    ,  0.31169999,  0.0847    ,\n",
       "       -0.0203    , -0.0519    , -0.0713    , -0.54049999, -0.1857    ,\n",
       "       -0.3398    , -0.0735    ,  0.2367    , -0.1011    , -0.1292    ,\n",
       "        0.0121    ,  0.0911    ,  0.0719    ,  0.574     , -0.0498    ,\n",
       "       -0.095     ,  0.1268    ,  0.0812    ,  0.0047    , -0.46470001,\n",
       "        0.38550001,  0.0243    , -0.1441    , -0.2068    ,  0.1512    ,\n",
       "        0.0751    , -0.0432    , -0.0858    ,  0.1716    ,  0.65310001,\n",
       "        0.3001    , -0.0056    , -0.0177    , -0.35460001, -0.3443    ])"
      ]
     },
     "execution_count": 36,
     "metadata": {},
     "output_type": "execute_result"
    }
   ],
   "source": [
    "#model_ext.get_word_vector(u'中国')"
   ]
  },
  {
   "cell_type": "code",
   "execution_count": 4,
   "metadata": {},
   "outputs": [],
   "source": [
    "import shutil\n",
    "import os\n",
    "wiki_dict_path = 'wiki-dict.txt'\n",
    "if os.path.exists(wiki_dict_path):\n",
    "    os.remove(wiki_dict_path)"
   ]
  },
  {
   "cell_type": "code",
   "execution_count": 5,
   "metadata": {},
   "outputs": [
    {
     "data": {
      "text/plain": [
       "['.bashrc',\n",
       " '.profile',\n",
       " 'zhwiki_20180420_300d.txt',\n",
       " 'zhwiki_20180420_100d.txt',\n",
       " '.viminfo',\n",
       " 'douban_data.pkl',\n",
       " '.ipynb_checkpoints',\n",
       " '.kaggle',\n",
       " 'gensim_format.ipynb',\n",
       " 'master',\n",
       " 'serlize_m_dict_bu_reg.pkl',\n",
       " 'DMSC.csv',\n",
       " 'tiny.txt',\n",
       " 'word2vec_version.ipynb',\n",
       " '.config',\n",
       " 'nlp-master',\n",
       " '.cache',\n",
       " '.local',\n",
       " 'kaggle.json',\n",
       " '.wget-hsts',\n",
       " 'serlize_m_dict_total.pkl',\n",
       " '.keras',\n",
       " '.bash_history',\n",
       " '.python_history',\n",
       " '.npm',\n",
       " '.jupyter',\n",
       " '.ipython',\n",
       " '.node-gyp',\n",
       " '.gsutil']"
      ]
     },
     "execution_count": 5,
     "metadata": {},
     "output_type": "execute_result"
    }
   ],
   "source": [
    "os.listdir()"
   ]
  },
  {
   "cell_type": "code",
   "execution_count": 6,
   "metadata": {},
   "outputs": [
    {
     "name": "stdout",
     "output_type": "stream",
     "text": [
      "write num 100000\n",
      "write num 200000\n",
      "write num 300000\n",
      "write num 400000\n",
      "write num 500000\n",
      "write num 600000\n",
      "write num 700000\n",
      "write num 800000\n",
      "write num 900000\n",
      "write num 1000000\n",
      "write num 1100000\n",
      "write num 1200000\n",
      "write num 1300000\n",
      "write num 1400000\n",
      "write num 1500000\n"
     ]
    }
   ],
   "source": [
    "with open(wiki_dict_path, 'w') as f:\n",
    "    for idx, w in enumerate(model_ext.dictionary):\n",
    "        if hasattr(w, \"text\"):\n",
    "            #### skip entity\n",
    "            f.write(u\"{}\\n\".format(w.text))\n",
    "        if idx > 0 and idx % 100000 == 0:\n",
    "            print(\"write num {}\".format(idx))\n",
    "            #break\n"
   ]
  },
  {
   "cell_type": "code",
   "execution_count": 7,
   "metadata": {},
   "outputs": [
    {
     "name": "stderr",
     "output_type": "stream",
     "text": [
      "Building prefix dict from the default dictionary ...\n",
      "Loading model from cache /tmp/jieba.cache\n",
      "Loading model cost 0.757 seconds.\n",
      "Prefix dict has been built successfully.\n"
     ]
    }
   ],
   "source": [
    "jieba.load_userdict(wiki_dict_path)"
   ]
  },
  {
   "cell_type": "code",
   "execution_count": 10,
   "metadata": {},
   "outputs": [
    {
     "name": "stderr",
     "output_type": "stream",
     "text": [
      "/usr/local/lib/python3.6/dist-packages/numpy/lib/arraysetops.py:569: FutureWarning: elementwise comparison failed; returning scalar instead, but in the future will perform elementwise comparison\n",
      "  mask |= (ar1 == a)\n"
     ]
    }
   ],
   "source": [
    "data = pd.read_csv(\"DMSC.csv\", index_col = 0)"
   ]
  },
  {
   "cell_type": "code",
   "execution_count": 11,
   "metadata": {},
   "outputs": [],
   "source": [
    "sample_df = data.groupby(\n",
    "    [\"Movie_Name_CN\", \"Star\"]\n",
    ").apply(\n",
    "    lambda x: x.sample(n = int(2125056/(28*200)), replace = True, random_state = 0)\n",
    ")"
   ]
  },
  {
   "cell_type": "code",
   "execution_count": 12,
   "metadata": {},
   "outputs": [],
   "source": [
    "from sklearn.model_selection import train_test_split\n",
    "comments = sample_df.values[:, 7]\n",
    "star = sample_df.values[:, 6]"
   ]
  },
  {
   "cell_type": "code",
   "execution_count": 13,
   "metadata": {},
   "outputs": [],
   "source": [
    "x_train, x_test, y_train, y_test = train_test_split(\n",
    "    comments, star, test_size = 0.2, random_state = 0\n",
    ")"
   ]
  },
  {
   "cell_type": "code",
   "execution_count": 99,
   "metadata": {},
   "outputs": [
    {
     "name": "stdout",
     "output_type": "stream",
     "text": [
      "--2020-08-06 06:20:38--  https://codeload.github.com/weiyunchen/nlp/zip/master\n",
      "Resolving codeload.github.com (codeload.github.com)... 140.82.112.10\n",
      "Connecting to codeload.github.com (codeload.github.com)|140.82.112.10|:443... connected.\n",
      "HTTP request sent, awaiting response... 200 OK\n",
      "Length: unspecified [application/zip]\n",
      "Saving to: ‘master’\n",
      "\n",
      "master                  [ <=>                ]  75.41K  --.-KB/s    in 0.03s   \n",
      "\n",
      "2020-08-06 06:20:38 (2.88 MB/s) - ‘master’ saved [77224]\n",
      "\n"
     ]
    }
   ],
   "source": [
    "!wget -nc \"https://codeload.github.com/weiyunchen/nlp/zip/master\""
   ]
  },
  {
   "cell_type": "code",
   "execution_count": 100,
   "metadata": {},
   "outputs": [
    {
     "name": "stdout",
     "output_type": "stream",
     "text": [
      "Archive:  master\n",
      "78a55b3ff658cd83cd1ae4abbe5fb475507097c3\n",
      "   creating: nlp-master/\n",
      "  inflating: nlp-master/faker.png    \n",
      "  inflating: nlp-master/stopwords.txt  \n"
     ]
    }
   ],
   "source": [
    "!unzip master"
   ]
  },
  {
   "cell_type": "code",
   "execution_count": 14,
   "metadata": {},
   "outputs": [],
   "source": [
    "with open(\"nlp-master/stopwords.txt\", \"r\") as f:\n",
    "    stopwords = list(map(lambda line: line.strip(\"\\n\") ,f.readlines()))"
   ]
  },
  {
   "cell_type": "code",
   "execution_count": 15,
   "metadata": {},
   "outputs": [],
   "source": [
    "def cut(data, labels, stopwords):\n",
    "    result = []\n",
    "    new_labels = []\n",
    "    for index in tqdm_notebook(range(len(data))):\n",
    "        comment = clean_str(data[index])\n",
    "        label = labels[index]\n",
    "        seg_list = jieba.cut(comment, cut_all = False, HMM = True)\n",
    "        seg_list = list(filter(lambda x: x.strip(\"\\n\") if (x not in stopwords and len(x) > 1) else None, seg_list))\n",
    "        if len(seg_list) > 1:\n",
    "            result.append(seg_list)\n",
    "            new_labels.append(label)\n",
    "    return result, new_labels"
   ]
  },
  {
   "cell_type": "code",
   "execution_count": 16,
   "metadata": {},
   "outputs": [],
   "source": [
    "from tqdm import tqdm_notebook\n",
    "import re"
   ]
  },
  {
   "cell_type": "code",
   "execution_count": 17,
   "metadata": {},
   "outputs": [],
   "source": [
    "def clean_str(line):\n",
    "    line.strip('\\n')\n",
    "    line = re.sub(r\"[^\\u4e00-\\u9fff]\", \"\", line)\n",
    "    line = re.sub(\n",
    "        \"[0-9a-zA-Z\\-\\s+\\.\\!\\/_,$%^*\\(\\)\\+(+\\\"\\')]+|[+——！，。？、~@#￥%……&*（）<>\\[\\]:：★◆【】《》;；=?？]+\", \"\", line)\n",
    "    return line.strip()"
   ]
  },
  {
   "cell_type": "code",
   "execution_count": 18,
   "metadata": {},
   "outputs": [
    {
     "name": "stderr",
     "output_type": "stream",
     "text": [
      "/usr/local/lib/python3.6/dist-packages/ipykernel_launcher.py:4: TqdmDeprecationWarning: This function will be removed in tqdm==5.0.0\n",
      "Please use `tqdm.notebook.tqdm` instead of `tqdm.tqdm_notebook`\n",
      "  after removing the cwd from sys.path.\n"
     ]
    },
    {
     "data": {
      "application/vnd.jupyter.widget-view+json": {
       "model_id": "5e0c8e252dba432095e208aa0dfe0203",
       "version_major": 2,
       "version_minor": 0
      },
      "text/plain": [
       "HBox(children=(FloatProgress(value=0.0, max=42448.0), HTML(value='')))"
      ]
     },
     "metadata": {},
     "output_type": "display_data"
    },
    {
     "name": "stdout",
     "output_type": "stream",
     "text": [
      "\n"
     ]
    },
    {
     "data": {
      "application/vnd.jupyter.widget-view+json": {
       "model_id": "a27f5a47067243e09bc5c06cb9d3cee6",
       "version_major": 2,
       "version_minor": 0
      },
      "text/plain": [
       "HBox(children=(FloatProgress(value=0.0, max=10612.0), HTML(value='')))"
      ]
     },
     "metadata": {},
     "output_type": "display_data"
    },
    {
     "name": "stdout",
     "output_type": "stream",
     "text": [
      "\n"
     ]
    }
   ],
   "source": [
    "train_cut_result, train_labels = cut(x_train, y_train, stopwords)\n",
    "test_cut_result, test_label = cut(x_test, y_test, stopwords)"
   ]
  },
  {
   "cell_type": "code",
   "execution_count": 19,
   "metadata": {},
   "outputs": [
    {
     "data": {
      "text/plain": [
       "[['美国', '队长', '钢铁', '好像', '摇滚圈', '五月天', '二手', '玫瑰'],\n",
       " ['特地', '登陆', '打星', '星半', '半星', '一分'],\n",
       " ['画面',\n",
       "  '挺不错',\n",
       "  '变身',\n",
       "  '很帅',\n",
       "  '剧情',\n",
       "  '太弱',\n",
       "  '点燃',\n",
       "  '泪点',\n",
       "  '几段',\n",
       "  '打戏',\n",
       "  '审美疲劳',\n",
       "  '国产',\n",
       "  '动画',\n",
       "  '不错',\n",
       "  '贡献',\n",
       "  '票房',\n",
       "  '心态',\n",
       "  '电影院']]"
      ]
     },
     "execution_count": 19,
     "metadata": {},
     "output_type": "execute_result"
    }
   ],
   "source": [
    "train_cut_result[:3]"
   ]
  },
  {
   "cell_type": "code",
   "execution_count": 120,
   "metadata": {},
   "outputs": [],
   "source": [
    "from functools import reduce\n",
    "def word_match_stats(cut_result):\n",
    "    all_tokens = reduce(lambda a, b: a.union(b) ,map(set, cut_result))\n",
    "    all_num = len(all_tokens)\n",
    "    not_in_set = set(filter(lambda word_: word_ not in map(lambda x: x.text ,model_ext.dictionary.words()), all_tokens))\n",
    "    not_in_num = len(not_in_set)\n",
    "    print(\"all_num : {} not_in_num : {} not_in_ratio : {}\".format(all_num, not_in_num, not_in_num / all_num))"
   ]
  },
  {
   "cell_type": "code",
   "execution_count": 20,
   "metadata": {},
   "outputs": [],
   "source": [
    "#word_match_stats(train_cut_result + test_cut_result)"
   ]
  },
  {
   "cell_type": "code",
   "execution_count": 21,
   "metadata": {},
   "outputs": [],
   "source": [
    "from functools import reduce\n",
    "def retrieve_stats(cut_result):\n",
    "    def get_wrapper(word_text):\n",
    "        req = None\n",
    "        try:\n",
    "            req = model_ext.get_word_vector(word_text)\n",
    "        except:\n",
    "            pass\n",
    "        return req\n",
    "    def process_w2v_list(w2v_list):\n",
    "        if not w2v_list:\n",
    "            return np.zeros(model_ext.get_word_vector(u\"中国\").shape)\n",
    "        sum_vec = reduce(lambda a, b: a + b ,w2v_list)\n",
    "        return sum_vec / len(w2v_list)\n",
    "    stats_df = pd.concat(list(map(lambda inner_list: pd.Series(list(map(lambda x:  False if x is None else True,map(get_wrapper, inner_list)))).value_counts(), cut_result)), axis = 1).fillna(0)\n",
    "    return stats_df\n",
    "    "
   ]
  },
  {
   "cell_type": "code",
   "execution_count": 22,
   "metadata": {},
   "outputs": [],
   "source": [
    "test_stats_df = retrieve_stats(test_cut_result)"
   ]
  },
  {
   "cell_type": "code",
   "execution_count": 23,
   "metadata": {},
   "outputs": [
    {
     "name": "stderr",
     "output_type": "stream",
     "text": [
      "/usr/local/lib/python3.6/dist-packages/statsmodels/tools/_testing.py:19: FutureWarning: pandas.util.testing is deprecated. Use the functions in the public API at pandas.testing instead.\n",
      "  import pandas.util.testing as tm\n"
     ]
    },
    {
     "data": {
      "text/plain": [
       "<matplotlib.axes._subplots.AxesSubplot at 0x7f8e703228d0>"
      ]
     },
     "execution_count": 23,
     "metadata": {},
     "output_type": "execute_result"
    },
    {
     "data": {
      "image/png": "[encoded data removed]",
      "text/plain": [
       "<Figure size 432x288 with 1 Axes>"
      ]
     },
     "metadata": {
      "needs_background": "light"
     },
     "output_type": "display_data"
    }
   ],
   "source": [
    "import seaborn as sns\n",
    "sns.distplot(test_stats_df.T[False] / (test_stats_df.T[False] + test_stats_df.T[True]))"
   ]
  },
  {
   "cell_type": "code",
   "execution_count": 24,
   "metadata": {},
   "outputs": [],
   "source": [
    "train_stats_df = retrieve_stats(train_cut_result)"
   ]
  },
  {
   "cell_type": "code",
   "execution_count": 25,
   "metadata": {},
   "outputs": [
    {
     "data": {
      "text/plain": [
       "<matplotlib.axes._subplots.AxesSubplot at 0x7f8e702f16a0>"
      ]
     },
     "execution_count": 25,
     "metadata": {},
     "output_type": "execute_result"
    },
    {
     "data": {
      "image/png": "[encoded data removed]",
      "text/plain": [
       "<Figure size 432x288 with 1 Axes>"
      ]
     },
     "metadata": {
      "needs_background": "light"
     },
     "output_type": "display_data"
    }
   ],
   "source": [
    "import seaborn as sns\n",
    "sns.distplot(train_stats_df.T[False] / (train_stats_df.T[False] + train_stats_df.T[True]))"
   ]
  },
  {
   "cell_type": "code",
   "execution_count": 26,
   "metadata": {},
   "outputs": [],
   "source": [
    "from functools import reduce\n",
    "def transform_cut_result_to_avg_w2v(cut_result):\n",
    "    def get_wrapper(word_text):\n",
    "        req = None\n",
    "        try:\n",
    "            req = model_ext.get_word_vector(word_text)\n",
    "        except:\n",
    "            pass\n",
    "        return req\n",
    "    def process_w2v_list(w2v_list):\n",
    "        if not w2v_list:\n",
    "            return np.zeros(model_ext.get_word_vector(u\"中国\").shape)\n",
    "        sum_vec = reduce(lambda a, b: a + b ,w2v_list)\n",
    "        return sum_vec / len(w2v_list)\n",
    "    \n",
    "    avg_vec_list = list(map(lambda inner_list: process_w2v_list(list(filter(lambda x: False if x is None else True, map(get_wrapper, inner_list)))), cut_result))\n",
    "    return avg_vec_list"
   ]
  },
  {
   "cell_type": "code",
   "execution_count": 27,
   "metadata": {},
   "outputs": [],
   "source": [
    "train_avg_vec_list = transform_cut_result_to_avg_w2v(train_cut_result)"
   ]
  },
  {
   "cell_type": "code",
   "execution_count": 28,
   "metadata": {},
   "outputs": [],
   "source": [
    "test_avg_vec_list = transform_cut_result_to_avg_w2v(test_cut_result)"
   ]
  },
  {
   "cell_type": "code",
   "execution_count": 29,
   "metadata": {},
   "outputs": [],
   "source": [
    "def filter_vec_labels_by_stats(avg_vec_list, labels, stats_df):\n",
    "    stats_df = stats_df.T\n",
    "    avg_vec_list = avg_vec_list\n",
    "    labels = train_labels\n",
    "    req_indices = stats_df[stats_df[True] > 0].index.tolist()\n",
    "    req_data, req_labels = map(lambda x: np.asarray(x)[req_indices], [avg_vec_list, labels])\n",
    "    return req_data, req_labels"
   ]
  },
  {
   "cell_type": "code",
   "execution_count": 30,
   "metadata": {},
   "outputs": [],
   "source": [
    "train_w2v_avg_filtered, train_labels_filtered = filter_vec_labels_by_stats(train_avg_vec_list, train_labels, train_stats_df)"
   ]
  },
  {
   "cell_type": "code",
   "execution_count": 31,
   "metadata": {},
   "outputs": [
    {
     "data": {
      "text/plain": [
       "[36228, 36228, 36270, 36270]"
      ]
     },
     "execution_count": 31,
     "metadata": {},
     "output_type": "execute_result"
    }
   ],
   "source": [
    "list(map(len, [train_w2v_avg_filtered, train_labels_filtered, train_avg_vec_list, train_labels]))"
   ]
  },
  {
   "cell_type": "code",
   "execution_count": 32,
   "metadata": {},
   "outputs": [],
   "source": [
    "test_w2v_avg_filtered, test_labels_filtered = filter_vec_labels_by_stats(test_avg_vec_list, test_label, test_stats_df)"
   ]
  },
  {
   "cell_type": "code",
   "execution_count": 33,
   "metadata": {},
   "outputs": [
    {
     "data": {
      "text/plain": [
       "[9015, 9015, 9029, 9029]"
      ]
     },
     "execution_count": 33,
     "metadata": {},
     "output_type": "execute_result"
    }
   ],
   "source": [
    "list(map(len, [test_w2v_avg_filtered, test_labels_filtered, test_avg_vec_list, test_label]))"
   ]
  },
  {
   "cell_type": "code",
   "execution_count": 34,
   "metadata": {},
   "outputs": [
    {
     "data": {
      "text/plain": [
       "(36228, 300)"
      ]
     },
     "execution_count": 34,
     "metadata": {},
     "output_type": "execute_result"
    }
   ],
   "source": [
    "train_w2v_avg_filtered.shape"
   ]
  },
  {
   "cell_type": "code",
   "execution_count": 35,
   "metadata": {},
   "outputs": [
    {
     "data": {
      "text/plain": [
       "(36228,)"
      ]
     },
     "execution_count": 35,
     "metadata": {},
     "output_type": "execute_result"
    }
   ],
   "source": [
    "train_labels_filtered.shape"
   ]
  },
  {
   "cell_type": "code",
   "execution_count": 36,
   "metadata": {},
   "outputs": [
    {
     "data": {
      "text/plain": [
       "4    7555\n",
       "3    7425\n",
       "5    7238\n",
       "2    7141\n",
       "1    6869\n",
       "dtype: int64"
      ]
     },
     "execution_count": 36,
     "metadata": {},
     "output_type": "execute_result"
    }
   ],
   "source": [
    "pd.Series(train_labels_filtered).value_counts()"
   ]
  },
  {
   "cell_type": "code",
   "execution_count": 42,
   "metadata": {},
   "outputs": [],
   "source": [
    "serlize_dict = {\n",
    "    \"train_w2v_avg_filtered\": train_w2v_avg_filtered,\n",
    "    \"train_labels_filtered\": train_labels_filtered,\n",
    "    \"test_w2v_avg_filtered\": test_w2v_avg_filtered,\n",
    "    \"test_labels_filtered\": test_labels_filtered,\n",
    "}\n",
    "import pickle as pkl\n",
    "with open(\"w2v_avg_data.pkl\", \"wb\") as f:\n",
    "    pkl.dump(serlize_dict, f)"
   ]
  },
  {
   "cell_type": "code",
   "execution_count": 37,
   "metadata": {},
   "outputs": [],
   "source": [
    "from sklearn.ensemble import RandomForestClassifier"
   ]
  },
  {
   "cell_type": "code",
   "execution_count": 39,
   "metadata": {},
   "outputs": [
    {
     "name": "stdout",
     "output_type": "stream",
     "text": [
      "Help on class RandomForestClassifier in module sklearn.ensemble._forest:\n",
      "\n",
      "class RandomForestClassifier(ForestClassifier)\n",
      " |  A random forest classifier.\n",
      " |  \n",
      " |  A random forest is a meta estimator that fits a number of decision tree\n",
      " |  classifiers on various sub-samples of the dataset and uses averaging to\n",
      " |  improve the predictive accuracy and control over-fitting.\n",
      " |  The sub-sample size is always the same as the original\n",
      " |  input sample size but the samples are drawn with replacement if\n",
      " |  `bootstrap=True` (default).\n",
      " |  \n",
      " |  Read more in the :ref:`User Guide <forest>`.\n",
      " |  \n",
      " |  Parameters\n",
      " |  ----------\n",
      " |  n_estimators : integer, optional (default=100)\n",
      " |      The number of trees in the forest.\n",
      " |  \n",
      " |      .. versionchanged:: 0.22\n",
      " |         The default value of ``n_estimators`` changed from 10 to 100\n",
      " |         in 0.22.\n",
      " |  \n",
      " |  criterion : string, optional (default=\"gini\")\n",
      " |      The function to measure the quality of a split. Supported criteria are\n",
      " |      \"gini\" for the Gini impurity and \"entropy\" for the information gain.\n",
      " |      Note: this parameter is tree-specific.\n",
      " |  \n",
      " |  max_depth : integer or None, optional (default=None)\n",
      " |      The maximum depth of the tree. If None, then nodes are expanded until\n",
      " |      all leaves are pure or until all leaves contain less than\n",
      " |      min_samples_split samples.\n",
      " |  \n",
      " |  min_samples_split : int, float, optional (default=2)\n",
      " |      The minimum number of samples required to split an internal node:\n",
      " |  \n",
      " |      - If int, then consider `min_samples_split` as the minimum number.\n",
      " |      - If float, then `min_samples_split` is a fraction and\n",
      " |        `ceil(min_samples_split * n_samples)` are the minimum\n",
      " |        number of samples for each split.\n",
      " |  \n",
      " |      .. versionchanged:: 0.18\n",
      " |         Added float values for fractions.\n",
      " |  \n",
      " |  min_samples_leaf : int, float, optional (default=1)\n",
      " |      The minimum number of samples required to be at a leaf node.\n",
      " |      A split point at any depth will only be considered if it leaves at\n",
      " |      least ``min_samples_leaf`` training samples in each of the left and\n",
      " |      right branches.  This may have the effect of smoothing the model,\n",
      " |      especially in regression.\n",
      " |  \n",
      " |      - If int, then consider `min_samples_leaf` as the minimum number.\n",
      " |      - If float, then `min_samples_leaf` is a fraction and\n",
      " |        `ceil(min_samples_leaf * n_samples)` are the minimum\n",
      " |        number of samples for each node.\n",
      " |  \n",
      " |      .. versionchanged:: 0.18\n",
      " |         Added float values for fractions.\n",
      " |  \n",
      " |  min_weight_fraction_leaf : float, optional (default=0.)\n",
      " |      The minimum weighted fraction of the sum total of weights (of all\n",
      " |      the input samples) required to be at a leaf node. Samples have\n",
      " |      equal weight when sample_weight is not provided.\n",
      " |  \n",
      " |  max_features : int, float, string or None, optional (default=\"auto\")\n",
      " |      The number of features to consider when looking for the best split:\n",
      " |  \n",
      " |      - If int, then consider `max_features` features at each split.\n",
      " |      - If float, then `max_features` is a fraction and\n",
      " |        `int(max_features * n_features)` features are considered at each\n",
      " |        split.\n",
      " |      - If \"auto\", then `max_features=sqrt(n_features)`.\n",
      " |      - If \"sqrt\", then `max_features=sqrt(n_features)` (same as \"auto\").\n",
      " |      - If \"log2\", then `max_features=log2(n_features)`.\n",
      " |      - If None, then `max_features=n_features`.\n",
      " |  \n",
      " |      Note: the search for a split does not stop until at least one\n",
      " |      valid partition of the node samples is found, even if it requires to\n",
      " |      effectively inspect more than ``max_features`` features.\n",
      " |  \n",
      " |  max_leaf_nodes : int or None, optional (default=None)\n",
      " |      Grow trees with ``max_leaf_nodes`` in best-first fashion.\n",
      " |      Best nodes are defined as relative reduction in impurity.\n",
      " |      If None then unlimited number of leaf nodes.\n",
      " |  \n",
      " |  min_impurity_decrease : float, optional (default=0.)\n",
      " |      A node will be split if this split induces a decrease of the impurity\n",
      " |      greater than or equal to this value.\n",
      " |  \n",
      " |      The weighted impurity decrease equation is the following::\n",
      " |  \n",
      " |          N_t / N * (impurity - N_t_R / N_t * right_impurity\n",
      " |                              - N_t_L / N_t * left_impurity)\n",
      " |  \n",
      " |      where ``N`` is the total number of samples, ``N_t`` is the number of\n",
      " |      samples at the current node, ``N_t_L`` is the number of samples in the\n",
      " |      left child, and ``N_t_R`` is the number of samples in the right child.\n",
      " |  \n",
      " |      ``N``, ``N_t``, ``N_t_R`` and ``N_t_L`` all refer to the weighted sum,\n",
      " |      if ``sample_weight`` is passed.\n",
      " |  \n",
      " |      .. versionadded:: 0.19\n",
      " |  \n",
      " |  min_impurity_split : float, (default=1e-7)\n",
      " |      Threshold for early stopping in tree growth. A node will split\n",
      " |      if its impurity is above the threshold, otherwise it is a leaf.\n",
      " |  \n",
      " |      .. deprecated:: 0.19\n",
      " |         ``min_impurity_split`` has been deprecated in favor of\n",
      " |         ``min_impurity_decrease`` in 0.19. The default value of\n",
      " |         ``min_impurity_split`` will change from 1e-7 to 0 in 0.23 and it\n",
      " |         will be removed in 0.25. Use ``min_impurity_decrease`` instead.\n",
      " |  \n",
      " |  \n",
      " |  bootstrap : boolean, optional (default=True)\n",
      " |      Whether bootstrap samples are used when building trees. If False, the\n",
      " |      whole datset is used to build each tree.\n",
      " |  \n",
      " |  oob_score : bool (default=False)\n",
      " |      Whether to use out-of-bag samples to estimate\n",
      " |      the generalization accuracy.\n",
      " |  \n",
      " |  n_jobs : int or None, optional (default=None)\n",
      " |      The number of jobs to run in parallel. :meth:`fit`, :meth:`predict`,\n",
      " |      :meth:`decision_path` and :meth:`apply` are all parallelized over the\n",
      " |      trees. ``None`` means 1 unless in a :obj:`joblib.parallel_backend`\n",
      " |      context. ``-1`` means using all processors. See :term:`Glossary\n",
      " |      <n_jobs>` for more details.\n",
      " |  \n",
      " |  random_state : int, RandomState instance or None, optional (default=None)\n",
      " |      Controls both the randomness of the bootstrapping of the samples used\n",
      " |      when building trees (if ``bootstrap=True``) and the sampling of the\n",
      " |      features to consider when looking for the best split at each node\n",
      " |      (if ``max_features < n_features``).\n",
      " |      See :term:`Glossary <random_state>` for details.\n",
      " |  \n",
      " |  verbose : int, optional (default=0)\n",
      " |      Controls the verbosity when fitting and predicting.\n",
      " |  \n",
      " |  warm_start : bool, optional (default=False)\n",
      " |      When set to ``True``, reuse the solution of the previous call to fit\n",
      " |      and add more estimators to the ensemble, otherwise, just fit a whole\n",
      " |      new forest. See :term:`the Glossary <warm_start>`.\n",
      " |  \n",
      " |  class_weight : dict, list of dicts, \"balanced\", \"balanced_subsample\" or     None, optional (default=None)\n",
      " |      Weights associated with classes in the form ``{class_label: weight}``.\n",
      " |      If not given, all classes are supposed to have weight one. For\n",
      " |      multi-output problems, a list of dicts can be provided in the same\n",
      " |      order as the columns of y.\n",
      " |  \n",
      " |      Note that for multioutput (including multilabel) weights should be\n",
      " |      defined for each class of every column in its own dict. For example,\n",
      " |      for four-class multilabel classification weights should be\n",
      " |      [{0: 1, 1: 1}, {0: 1, 1: 5}, {0: 1, 1: 1}, {0: 1, 1: 1}] instead of\n",
      " |      [{1:1}, {2:5}, {3:1}, {4:1}].\n",
      " |  \n",
      " |      The \"balanced\" mode uses the values of y to automatically adjust\n",
      " |      weights inversely proportional to class frequencies in the input data\n",
      " |      as ``n_samples / (n_classes * np.bincount(y))``\n",
      " |  \n",
      " |      The \"balanced_subsample\" mode is the same as \"balanced\" except that\n",
      " |      weights are computed based on the bootstrap sample for every tree\n",
      " |      grown.\n",
      " |  \n",
      " |      For multi-output, the weights of each column of y will be multiplied.\n",
      " |  \n",
      " |      Note that these weights will be multiplied with sample_weight (passed\n",
      " |      through the fit method) if sample_weight is specified.\n",
      " |  \n",
      " |  ccp_alpha : non-negative float, optional (default=0.0)\n",
      " |      Complexity parameter used for Minimal Cost-Complexity Pruning. The\n",
      " |      subtree with the largest cost complexity that is smaller than\n",
      " |      ``ccp_alpha`` will be chosen. By default, no pruning is performed. See\n",
      " |      :ref:`minimal_cost_complexity_pruning` for details.\n",
      " |  \n",
      " |      .. versionadded:: 0.22\n",
      " |  \n",
      " |  max_samples : int or float, default=None\n",
      " |      If bootstrap is True, the number of samples to draw from X\n",
      " |      to train each base estimator.\n",
      " |  \n",
      " |      - If None (default), then draw `X.shape[0]` samples.\n",
      " |      - If int, then draw `max_samples` samples.\n",
      " |      - If float, then draw `max_samples * X.shape[0]` samples. Thus,\n",
      " |        `max_samples` should be in the interval `(0, 1)`.\n",
      " |  \n",
      " |      .. versionadded:: 0.22\n",
      " |  \n",
      " |  Attributes\n",
      " |  ----------\n",
      " |  base_estimator_ : DecisionTreeClassifier\n",
      " |      The child estimator template used to create the collection of fitted\n",
      " |      sub-estimators.\n",
      " |  \n",
      " |  estimators_ : list of DecisionTreeClassifier\n",
      " |      The collection of fitted sub-estimators.\n",
      " |  \n",
      " |  classes_ : array of shape (n_classes,) or a list of such arrays\n",
      " |      The classes labels (single output problem), or a list of arrays of\n",
      " |      class labels (multi-output problem).\n",
      " |  \n",
      " |  n_classes_ : int or list\n",
      " |      The number of classes (single output problem), or a list containing the\n",
      " |      number of classes for each output (multi-output problem).\n",
      " |  \n",
      " |  n_features_ : int\n",
      " |      The number of features when ``fit`` is performed.\n",
      " |  \n",
      " |  n_outputs_ : int\n",
      " |      The number of outputs when ``fit`` is performed.\n",
      " |  \n",
      " |  feature_importances_ : ndarray of shape (n_features,)\n",
      " |      The feature importances (the higher, the more important the feature).\n",
      " |  \n",
      " |  oob_score_ : float\n",
      " |      Score of the training dataset obtained using an out-of-bag estimate.\n",
      " |      This attribute exists only when ``oob_score`` is True.\n",
      " |  \n",
      " |  oob_decision_function_ : array of shape (n_samples, n_classes)\n",
      " |      Decision function computed with out-of-bag estimate on the training\n",
      " |      set. If n_estimators is small it might be possible that a data point\n",
      " |      was never left out during the bootstrap. In this case,\n",
      " |      `oob_decision_function_` might contain NaN. This attribute exists\n",
      " |      only when ``oob_score`` is True.\n",
      " |  \n",
      " |  Examples\n",
      " |  --------\n",
      " |  >>> from sklearn.ensemble import RandomForestClassifier\n",
      " |  >>> from sklearn.datasets import make_classification\n",
      " |  \n",
      " |  >>> X, y = make_classification(n_samples=1000, n_features=4,\n",
      " |  ...                            n_informative=2, n_redundant=0,\n",
      " |  ...                            random_state=0, shuffle=False)\n",
      " |  >>> clf = RandomForestClassifier(max_depth=2, random_state=0)\n",
      " |  >>> clf.fit(X, y)\n",
      " |  RandomForestClassifier(max_depth=2, random_state=0)\n",
      " |  >>> print(clf.feature_importances_)\n",
      " |  [0.14205973 0.76664038 0.0282433  0.06305659]\n",
      " |  >>> print(clf.predict([[0, 0, 0, 0]]))\n",
      " |  [1]\n",
      " |  \n",
      " |  Notes\n",
      " |  -----\n",
      " |  The default values for the parameters controlling the size of the trees\n",
      " |  (e.g. ``max_depth``, ``min_samples_leaf``, etc.) lead to fully grown and\n",
      " |  unpruned trees which can potentially be very large on some data sets. To\n",
      " |  reduce memory consumption, the complexity and size of the trees should be\n",
      " |  controlled by setting those parameter values.\n",
      " |  \n",
      " |  The features are always randomly permuted at each split. Therefore,\n",
      " |  the best found split may vary, even with the same training data,\n",
      " |  ``max_features=n_features`` and ``bootstrap=False``, if the improvement\n",
      " |  of the criterion is identical for several splits enumerated during the\n",
      " |  search of the best split. To obtain a deterministic behaviour during\n",
      " |  fitting, ``random_state`` has to be fixed.\n",
      " |  \n",
      " |  References\n",
      " |  ----------\n",
      " |  \n",
      " |  .. [1] L. Breiman, \"Random Forests\", Machine Learning, 45(1), 5-32, 2001.\n",
      " |  \n",
      " |  See Also\n",
      " |  --------\n",
      " |  DecisionTreeClassifier, ExtraTreesClassifier\n",
      " |  \n",
      " |  Method resolution order:\n",
      " |      RandomForestClassifier\n",
      " |      ForestClassifier\n",
      " |      sklearn.base.ClassifierMixin\n",
      " |      BaseForest\n",
      " |      sklearn.base.MultiOutputMixin\n",
      " |      sklearn.ensemble._base.BaseEnsemble\n",
      " |      sklearn.base.MetaEstimatorMixin\n",
      " |      sklearn.base.BaseEstimator\n",
      " |      builtins.object\n",
      " |  \n",
      " |  Methods defined here:\n",
      " |  \n",
      " |  __init__(self, n_estimators=100, criterion='gini', max_depth=None, min_samples_split=2, min_samples_leaf=1, min_weight_fraction_leaf=0.0, max_features='auto', max_leaf_nodes=None, min_impurity_decrease=0.0, min_impurity_split=None, bootstrap=True, oob_score=False, n_jobs=None, random_state=None, verbose=0, warm_start=False, class_weight=None, ccp_alpha=0.0, max_samples=None)\n",
      " |      Initialize self.  See help(type(self)) for accurate signature.\n",
      " |  \n",
      " |  ----------------------------------------------------------------------\n",
      " |  Data and other attributes defined here:\n",
      " |  \n",
      " |  __abstractmethods__ = frozenset()\n",
      " |  \n",
      " |  ----------------------------------------------------------------------\n",
      " |  Methods inherited from ForestClassifier:\n",
      " |  \n",
      " |  predict(self, X)\n",
      " |      Predict class for X.\n",
      " |      \n",
      " |      The predicted class of an input sample is a vote by the trees in\n",
      " |      the forest, weighted by their probability estimates. That is,\n",
      " |      the predicted class is the one with highest mean probability\n",
      " |      estimate across the trees.\n",
      " |      \n",
      " |      Parameters\n",
      " |      ----------\n",
      " |      X : array-like or sparse matrix of shape (n_samples, n_features)\n",
      " |          The input samples. Internally, its dtype will be converted to\n",
      " |          ``dtype=np.float32``. If a sparse matrix is provided, it will be\n",
      " |          converted into a sparse ``csr_matrix``.\n",
      " |      \n",
      " |      Returns\n",
      " |      -------\n",
      " |      y : array-like of shape (n_samples,) or (n_samples, n_outputs)\n",
      " |          The predicted classes.\n",
      " |  \n",
      " |  predict_log_proba(self, X)\n",
      " |      Predict class log-probabilities for X.\n",
      " |      \n",
      " |      The predicted class log-probabilities of an input sample is computed as\n",
      " |      the log of the mean predicted class probabilities of the trees in the\n",
      " |      forest.\n",
      " |      \n",
      " |      Parameters\n",
      " |      ----------\n",
      " |      X : array-like or sparse matrix of shape (n_samples, n_features)\n",
      " |          The input samples. Internally, its dtype will be converted to\n",
      " |          ``dtype=np.float32``. If a sparse matrix is provided, it will be\n",
      " |          converted into a sparse ``csr_matrix``.\n",
      " |      \n",
      " |      Returns\n",
      " |      -------\n",
      " |      p : array of shape (n_samples, n_classes), or a list of n_outputs\n",
      " |          such arrays if n_outputs > 1.\n",
      " |          The class probabilities of the input samples. The order of the\n",
      " |          classes corresponds to that in the attribute :term:`classes_`.\n",
      " |  \n",
      " |  predict_proba(self, X)\n",
      " |      Predict class probabilities for X.\n",
      " |      \n",
      " |      The predicted class probabilities of an input sample are computed as\n",
      " |      the mean predicted class probabilities of the trees in the forest.\n",
      " |      The class probability of a single tree is the fraction of samples of\n",
      " |      the same class in a leaf.\n",
      " |      \n",
      " |      Parameters\n",
      " |      ----------\n",
      " |      X : array-like or sparse matrix of shape (n_samples, n_features)\n",
      " |          The input samples. Internally, its dtype will be converted to\n",
      " |          ``dtype=np.float32``. If a sparse matrix is provided, it will be\n",
      " |          converted into a sparse ``csr_matrix``.\n",
      " |      \n",
      " |      Returns\n",
      " |      -------\n",
      " |      p : array of shape (n_samples, n_classes), or a list of n_outputs\n",
      " |          such arrays if n_outputs > 1.\n",
      " |          The class probabilities of the input samples. The order of the\n",
      " |          classes corresponds to that in the attribute :term:`classes_`.\n",
      " |  \n",
      " |  ----------------------------------------------------------------------\n",
      " |  Methods inherited from sklearn.base.ClassifierMixin:\n",
      " |  \n",
      " |  score(self, X, y, sample_weight=None)\n",
      " |      Return the mean accuracy on the given test data and labels.\n",
      " |      \n",
      " |      In multi-label classification, this is the subset accuracy\n",
      " |      which is a harsh metric since you require for each sample that\n",
      " |      each label set be correctly predicted.\n",
      " |      \n",
      " |      Parameters\n",
      " |      ----------\n",
      " |      X : array-like of shape (n_samples, n_features)\n",
      " |          Test samples.\n",
      " |      \n",
      " |      y : array-like of shape (n_samples,) or (n_samples, n_outputs)\n",
      " |          True labels for X.\n",
      " |      \n",
      " |      sample_weight : array-like of shape (n_samples,), default=None\n",
      " |          Sample weights.\n",
      " |      \n",
      " |      Returns\n",
      " |      -------\n",
      " |      score : float\n",
      " |          Mean accuracy of self.predict(X) wrt. y.\n",
      " |  \n",
      " |  ----------------------------------------------------------------------\n",
      " |  Data descriptors inherited from sklearn.base.ClassifierMixin:\n",
      " |  \n",
      " |  __dict__\n",
      " |      dictionary for instance variables (if defined)\n",
      " |  \n",
      " |  __weakref__\n",
      " |      list of weak references to the object (if defined)\n",
      " |  \n",
      " |  ----------------------------------------------------------------------\n",
      " |  Methods inherited from BaseForest:\n",
      " |  \n",
      " |  apply(self, X)\n",
      " |      Apply trees in the forest to X, return leaf indices.\n",
      " |      \n",
      " |      Parameters\n",
      " |      ----------\n",
      " |      X : {array-like or sparse matrix} of shape (n_samples, n_features)\n",
      " |          The input samples. Internally, its dtype will be converted to\n",
      " |          ``dtype=np.float32``. If a sparse matrix is provided, it will be\n",
      " |          converted into a sparse ``csr_matrix``.\n",
      " |      \n",
      " |      Returns\n",
      " |      -------\n",
      " |      X_leaves : array_like, shape = [n_samples, n_estimators]\n",
      " |          For each datapoint x in X and for each tree in the forest,\n",
      " |          return the index of the leaf x ends up in.\n",
      " |  \n",
      " |  decision_path(self, X)\n",
      " |      Return the decision path in the forest.\n",
      " |      \n",
      " |      .. versionadded:: 0.18\n",
      " |      \n",
      " |      Parameters\n",
      " |      ----------\n",
      " |      X : {array-like or sparse matrix} of shape (n_samples, n_features)\n",
      " |          The input samples. Internally, its dtype will be converted to\n",
      " |          ``dtype=np.float32``. If a sparse matrix is provided, it will be\n",
      " |          converted into a sparse ``csr_matrix``.\n",
      " |      \n",
      " |      Returns\n",
      " |      -------\n",
      " |      indicator : sparse csr array, shape = [n_samples, n_nodes]\n",
      " |          Return a node indicator matrix where non zero elements\n",
      " |          indicates that the samples goes through the nodes.\n",
      " |      \n",
      " |      n_nodes_ptr : array of size (n_estimators + 1, )\n",
      " |          The columns from indicator[n_nodes_ptr[i]:n_nodes_ptr[i+1]]\n",
      " |          gives the indicator value for the i-th estimator.\n",
      " |  \n",
      " |  fit(self, X, y, sample_weight=None)\n",
      " |      Build a forest of trees from the training set (X, y).\n",
      " |      \n",
      " |      Parameters\n",
      " |      ----------\n",
      " |      X : array-like or sparse matrix of shape (n_samples, n_features)\n",
      " |          The training input samples. Internally, its dtype will be converted\n",
      " |          to ``dtype=np.float32``. If a sparse matrix is provided, it will be\n",
      " |          converted into a sparse ``csc_matrix``.\n",
      " |      \n",
      " |      y : array-like of shape (n_samples,) or (n_samples, n_outputs)\n",
      " |          The target values (class labels in classification, real numbers in\n",
      " |          regression).\n",
      " |      \n",
      " |      sample_weight : array-like of shape (n_samples,), default=None\n",
      " |          Sample weights. If None, then samples are equally weighted. Splits\n",
      " |          that would create child nodes with net zero or negative weight are\n",
      " |          ignored while searching for a split in each node. In the case of\n",
      " |          classification, splits are also ignored if they would result in any\n",
      " |          single class carrying a negative weight in either child node.\n",
      " |      \n",
      " |      Returns\n",
      " |      -------\n",
      " |      self : object\n",
      " |  \n",
      " |  ----------------------------------------------------------------------\n",
      " |  Data descriptors inherited from BaseForest:\n",
      " |  \n",
      " |  feature_importances_\n",
      " |      Return the feature importances (the higher, the more important the\n",
      " |         feature).\n",
      " |      \n",
      " |      Returns\n",
      " |      -------\n",
      " |      feature_importances_ : array, shape = [n_features]\n",
      " |          The values of this array sum to 1, unless all trees are single node\n",
      " |          trees consisting of only the root node, in which case it will be an\n",
      " |          array of zeros.\n",
      " |  \n",
      " |  ----------------------------------------------------------------------\n",
      " |  Methods inherited from sklearn.ensemble._base.BaseEnsemble:\n",
      " |  \n",
      " |  __getitem__(self, index)\n",
      " |      Return the index'th estimator in the ensemble.\n",
      " |  \n",
      " |  __iter__(self)\n",
      " |      Return iterator over estimators in the ensemble.\n",
      " |  \n",
      " |  __len__(self)\n",
      " |      Return the number of estimators in the ensemble.\n",
      " |  \n",
      " |  ----------------------------------------------------------------------\n",
      " |  Methods inherited from sklearn.base.BaseEstimator:\n",
      " |  \n",
      " |  __getstate__(self)\n",
      " |  \n",
      " |  __repr__(self, N_CHAR_MAX=700)\n",
      " |      Return repr(self).\n",
      " |  \n",
      " |  __setstate__(self, state)\n",
      " |  \n",
      " |  get_params(self, deep=True)\n",
      " |      Get parameters for this estimator.\n",
      " |      \n",
      " |      Parameters\n",
      " |      ----------\n",
      " |      deep : bool, default=True\n",
      " |          If True, will return the parameters for this estimator and\n",
      " |          contained subobjects that are estimators.\n",
      " |      \n",
      " |      Returns\n",
      " |      -------\n",
      " |      params : mapping of string to any\n",
      " |          Parameter names mapped to their values.\n",
      " |  \n",
      " |  set_params(self, **params)\n",
      " |      Set the parameters of this estimator.\n",
      " |      \n",
      " |      The method works on simple estimators as well as on nested objects\n",
      " |      (such as pipelines). The latter have parameters of the form\n",
      " |      ``<component>__<parameter>`` so that it's possible to update each\n",
      " |      component of a nested object.\n",
      " |      \n",
      " |      Parameters\n",
      " |      ----------\n",
      " |      **params : dict\n",
      " |          Estimator parameters.\n",
      " |      \n",
      " |      Returns\n",
      " |      -------\n",
      " |      self : object\n",
      " |          Estimator instance.\n",
      "\n"
     ]
    }
   ],
   "source": [
    "#help(RandomForestClassifier)"
   ]
  },
  {
   "cell_type": "code",
   "execution_count": 43,
   "metadata": {},
   "outputs": [],
   "source": [
    "from sklearn.neural_network import MLPClassifier"
   ]
  },
  {
   "cell_type": "code",
   "execution_count": 44,
   "metadata": {},
   "outputs": [],
   "source": [
    "def traditional_clf_score(name, train_vec_data, train_labels, test_vec_data, test_labels, use_two_class = True):\n",
    "    train_labels, train_labels = map(np.asarray, [train_labels, train_labels])\n",
    "    if use_two_class:\n",
    "        train_labels, test_labels = map(lambda x: pd.Series(x).map(lambda xx: int(xx <= 2)), [train_labels, test_labels])\n",
    "    clf = None\n",
    "    from sklearn.svm import SVC\n",
    "    from sklearn.tree import DecisionTreeClassifier\n",
    "    from sklearn.naive_bayes import GaussianNB\n",
    "    from sklearn.ensemble import RandomForestClassifier\n",
    "    from sklearn.neural_network import MLPClassifier\n",
    "    from sklearn.metrics import accuracy_score, balanced_accuracy_score\n",
    "    assert name in [\"SVC\", \"decision_tree\", \"NB\", \"random_forest\", \"MLP\"]\n",
    "    if name == \"SVC\":\n",
    "        #clf = SVC(kernel = \"linear\")\n",
    "        clf = SVC(kernel = \"rbf\")\n",
    "    elif name == \"decision_tree\":\n",
    "        clf = DecisionTreeClassifier()\n",
    "    elif name == \"NB\":\n",
    "        clf = GaussianNB()\n",
    "    elif name == \"random_forest\":\n",
    "        clf = RandomForestClassifier(\n",
    "            n_estimators = 100, \n",
    "        )\n",
    "    elif name == \"MLP\":\n",
    "        clf = MLPClassifier(hidden_layer_sizes=(300, 300, 300, 150))\n",
    "    clf.fit(train_vec_data, train_labels)\n",
    "    pred = clf.predict(test_vec_data)\n",
    "    acc_score = accuracy_score(test_labels, pred)\n",
    "    balance_acc_score = balanced_accuracy_score(test_labels, pred)\n",
    "    return {\"acc\": acc_score, \"b_acc\": balance_acc_score}"
   ]
  },
  {
   "cell_type": "code",
   "execution_count": 214,
   "metadata": {},
   "outputs": [
    {
     "data": {
      "text/plain": [
       "0    22221\n",
       "1    14011\n",
       "dtype: int64"
      ]
     },
     "execution_count": 214,
     "metadata": {},
     "output_type": "execute_result"
    }
   ],
   "source": [
    "pd.Series(train_labels_filtered).map(lambda xx: int(xx <= 2)).value_counts()"
   ]
  },
  {
   "cell_type": "code",
   "execution_count": 215,
   "metadata": {},
   "outputs": [
    {
     "data": {
      "text/plain": [
       "0    5570\n",
       "1    3445\n",
       "dtype: int64"
      ]
     },
     "execution_count": 215,
     "metadata": {},
     "output_type": "execute_result"
    }
   ],
   "source": [
    "pd.Series(test_labels_filtered).map(lambda xx: int(xx <= 2)).value_counts()"
   ]
  },
  {
   "cell_type": "code",
   "execution_count": 41,
   "metadata": {},
   "outputs": [
    {
     "data": {
      "text/plain": [
       "{'acc': 0.5717138103161398, 'b_acc': 0.5011660257638552}"
      ]
     },
     "execution_count": 41,
     "metadata": {},
     "output_type": "execute_result"
    }
   ],
   "source": [
    "traditional_clf_score(\"random_forest\", train_w2v_avg_filtered, train_labels_filtered, test_w2v_avg_filtered, test_labels_filtered)"
   ]
  },
  {
   "cell_type": "code",
   "execution_count": 216,
   "metadata": {},
   "outputs": [
    {
     "data": {
      "text/plain": [
       "{'acc': 0.5158069883527454, 'b_acc': 0.4926642833133128}"
      ]
     },
     "execution_count": 216,
     "metadata": {},
     "output_type": "execute_result"
    }
   ],
   "source": [
    "traditional_clf_score(\"decision_tree\", train_w2v_avg_filtered, train_labels_filtered, test_w2v_avg_filtered, test_labels_filtered)"
   ]
  },
  {
   "cell_type": "code",
   "execution_count": 45,
   "metadata": {},
   "outputs": [
    {
     "data": {
      "text/plain": [
       "{'acc': 0.531669439822518, 'b_acc': 0.5029523994396279}"
      ]
     },
     "execution_count": 45,
     "metadata": {},
     "output_type": "execute_result"
    }
   ],
   "source": [
    "#traditional_clf_score(\"MLP\", train_w2v_avg_filtered, train_labels_filtered, test_w2v_avg_filtered, test_labels_filtered)"
   ]
  },
  {
   "cell_type": "code",
   "execution_count": 50,
   "metadata": {},
   "outputs": [
    {
     "data": {
      "text/html": [
       "<div>\n",
       "<style scoped>\n",
       "    .dataframe tbody tr th:only-of-type {\n",
       "        vertical-align: middle;\n",
       "    }\n",
       "\n",
       "    .dataframe tbody tr th {\n",
       "        vertical-align: top;\n",
       "    }\n",
       "\n",
       "    .dataframe thead th {\n",
       "        text-align: right;\n",
       "    }\n",
       "</style>\n",
       "<table border=\"1\" class=\"dataframe\">\n",
       "  <thead>\n",
       "    <tr style=\"text-align: right;\">\n",
       "      <th></th>\n",
       "      <th>Movie_Name_EN</th>\n",
       "      <th>Movie_Name_CN</th>\n",
       "      <th>Crawl_Date</th>\n",
       "      <th>Number</th>\n",
       "      <th>Username</th>\n",
       "      <th>Date</th>\n",
       "      <th>Star</th>\n",
       "      <th>Comment</th>\n",
       "      <th>Like</th>\n",
       "    </tr>\n",
       "    <tr>\n",
       "      <th>ID</th>\n",
       "      <th></th>\n",
       "      <th></th>\n",
       "      <th></th>\n",
       "      <th></th>\n",
       "      <th></th>\n",
       "      <th></th>\n",
       "      <th></th>\n",
       "      <th></th>\n",
       "      <th></th>\n",
       "    </tr>\n",
       "  </thead>\n",
       "  <tbody>\n",
       "    <tr>\n",
       "      <th>0</th>\n",
       "      <td>Avengers Age of Ultron</td>\n",
       "      <td>复仇者联盟2</td>\n",
       "      <td>2017-01-22</td>\n",
       "      <td>1</td>\n",
       "      <td>然潘</td>\n",
       "      <td>2015-05-13</td>\n",
       "      <td>3</td>\n",
       "      <td>连奥创都知道整容要去韩国。</td>\n",
       "      <td>2404</td>\n",
       "    </tr>\n",
       "    <tr>\n",
       "      <th>1</th>\n",
       "      <td>Avengers Age of Ultron</td>\n",
       "      <td>复仇者联盟2</td>\n",
       "      <td>2017-01-22</td>\n",
       "      <td>2</td>\n",
       "      <td>更深的白色</td>\n",
       "      <td>2015-04-24</td>\n",
       "      <td>2</td>\n",
       "      <td>非常失望，剧本完全敷衍了事，主线剧情没突破大家可以理解，可所有的人物都缺乏动机，正邪之间、...</td>\n",
       "      <td>1231</td>\n",
       "    </tr>\n",
       "    <tr>\n",
       "      <th>2</th>\n",
       "      <td>Avengers Age of Ultron</td>\n",
       "      <td>复仇者联盟2</td>\n",
       "      <td>2017-01-22</td>\n",
       "      <td>3</td>\n",
       "      <td>有意识的贱民</td>\n",
       "      <td>2015-04-26</td>\n",
       "      <td>2</td>\n",
       "      <td>2015年度最失望作品。以为面面俱到，实则画蛇添足；以为主题深刻，实则老调重弹；以为推陈出...</td>\n",
       "      <td>1052</td>\n",
       "    </tr>\n",
       "    <tr>\n",
       "      <th>3</th>\n",
       "      <td>Avengers Age of Ultron</td>\n",
       "      <td>复仇者联盟2</td>\n",
       "      <td>2017-01-22</td>\n",
       "      <td>4</td>\n",
       "      <td>不老的李大爷耶</td>\n",
       "      <td>2015-04-23</td>\n",
       "      <td>4</td>\n",
       "      <td>《铁人2》中勾引钢铁侠，《妇联1》中勾引鹰眼，《美队2》中勾引美国队长，在《妇联2》中终于...</td>\n",
       "      <td>1045</td>\n",
       "    </tr>\n",
       "    <tr>\n",
       "      <th>4</th>\n",
       "      <td>Avengers Age of Ultron</td>\n",
       "      <td>复仇者联盟2</td>\n",
       "      <td>2017-01-22</td>\n",
       "      <td>5</td>\n",
       "      <td>ZephyrO</td>\n",
       "      <td>2015-04-22</td>\n",
       "      <td>2</td>\n",
       "      <td>虽然从头打到尾，但是真的很无聊啊。</td>\n",
       "      <td>723</td>\n",
       "    </tr>\n",
       "  </tbody>\n",
       "</table>\n",
       "</div>"
      ],
      "text/plain": [
       "             Movie_Name_EN  ...  Like\n",
       "ID                          ...      \n",
       "0   Avengers Age of Ultron  ...  2404\n",
       "1   Avengers Age of Ultron  ...  1231\n",
       "2   Avengers Age of Ultron  ...  1052\n",
       "3   Avengers Age of Ultron  ...  1045\n",
       "4   Avengers Age of Ultron  ...   723\n",
       "\n",
       "[5 rows x 9 columns]"
      ]
     },
     "execution_count": 50,
     "metadata": {},
     "output_type": "execute_result"
    }
   ],
   "source": [
    "data.head()"
   ]
  },
  {
   "cell_type": "code",
   "execution_count": 47,
   "metadata": {},
   "outputs": [
    {
     "data": {
      "text/plain": [
       "(2125056,)"
      ]
     },
     "execution_count": 47,
     "metadata": {},
     "output_type": "execute_result"
    }
   ],
   "source": [
    "data['Movie_Name_CN'].shape"
   ]
  },
  {
   "cell_type": "code",
   "execution_count": 57,
   "metadata": {},
   "outputs": [],
   "source": [
    "def cut_iter(data, stopwords):\n",
    "    assert type(data) == type(pd.Series([]))\n",
    "    for index in tqdm_notebook(range(len(data))):\n",
    "        comment = clean_str(data.iloc[index])\n",
    "        seg_list = jieba.cut(comment, cut_all = False, HMM = True)\n",
    "        seg_list = list(filter(lambda x: x.strip(\"\\n\") if (x not in stopwords and len(x) > 1) else None, seg_list))\n",
    "        if len(seg_list) > 1:\n",
    "            yield seg_list"
   ]
  },
  {
   "cell_type": "code",
   "execution_count": 60,
   "metadata": {},
   "outputs": [],
   "source": [
    "comment_cut_iter = cut_iter(data['Comment'], stopwords)"
   ]
  },
  {
   "cell_type": "code",
   "execution_count": null,
   "metadata": {},
   "outputs": [
    {
     "name": "stderr",
     "output_type": "stream",
     "text": [
      "/usr/local/lib/python3.6/dist-packages/ipykernel_launcher.py:2: DeprecationWarning: The default dtype for empty Series will be 'object' instead of 'float64' in a future version. Specify a dtype explicitly to silence this warning.\n",
      "  \n",
      "/usr/local/lib/python3.6/dist-packages/ipykernel_launcher.py:3: TqdmDeprecationWarning: This function will be removed in tqdm==5.0.0\n",
      "Please use `tqdm.notebook.tqdm` instead of `tqdm.tqdm_notebook`\n",
      "  This is separate from the ipykernel package so we can avoid doing imports until\n"
     ]
    },
    {
     "data": {
      "application/vnd.jupyter.widget-view+json": {
       "model_id": "c7655f7f11f74e92b630a95da0b648bd",
       "version_major": 2,
       "version_minor": 0
      },
      "text/plain": [
       "HBox(children=(FloatProgress(value=0.0, max=2125056.0), HTML(value='')))"
      ]
     },
     "metadata": {},
     "output_type": "display_data"
    }
   ],
   "source": [
    "comment_cut_path = \"douban_comment_cut.txt\"\n",
    "with open(comment_cut_path, 'w') as f:\n",
    "    for idx, seg_list in enumerate(comment_cut_iter):\n",
    "        f.write(u\"{}\\n\".format(\" \".join(seg_list)))\n",
    "        '''\n",
    "        if idx > 0 and idx % 100000 == 0:\n",
    "            print(\"write num {}\".format(idx))\n",
    "        '''"
   ]
  },
  {
   "cell_type": "code",
   "execution_count": 70,
   "metadata": {},
   "outputs": [
    {
     "name": "stdout",
     "output_type": "stream",
     "text": [
      "read num 100000 set size 71870\n",
      "read num 200000 set size 106359\n",
      "read num 300000 set size 129472\n",
      "read num 400000 set size 146686\n",
      "read num 500000 set size 163406\n",
      "read num 600000 set size 181303\n",
      "read num 700000 set size 197381\n",
      "read num 800000 set size 210911\n",
      "read num 900000 set size 226422\n",
      "read num 1000000 set size 239623\n",
      "read num 1100000 set size 251503\n",
      "read num 1200000 set size 262019\n",
      "read num 1300000 set size 274062\n",
      "read num 1400000 set size 284474\n",
      "read num 1500000 set size 295874\n",
      "read num 1600000 set size 306323\n",
      "read num 1700000 set size 316634\n",
      "read num 1800000 set size 325081\n"
     ]
    }
   ],
   "source": [
    "comment_distinct_words = set([])\n",
    "with open(comment_cut_path, \"r\") as f:\n",
    "    idx = 0\n",
    "    while True:\n",
    "        line = f.readline()\n",
    "        if line:\n",
    "            idx += 1\n",
    "            if idx > 0 and idx % 100000 == 0:\n",
    "                print(\"read num {} set size {}\".format(idx, len(comment_distinct_words)))\n",
    "            for w in line.split(\" \"):\n",
    "                comment_distinct_words.add(w)\n",
    "        else:\n",
    "            break"
   ]
  },
  {
   "cell_type": "code",
   "execution_count": 65,
   "metadata": {},
   "outputs": [],
   "source": [
    "split_output_dir = \"douban_comment_cut_split\"\n",
    "import shutil\n",
    "if os.path.exists(split_output_dir):\n",
    "    shutil.rmtree(split_output_dir)\n",
    "os.mkdir(split_output_dir)\n"
   ]
  },
  {
   "cell_type": "code",
   "execution_count": null,
   "metadata": {},
   "outputs": [],
   "source": [
    "!pip3 install filesplit"
   ]
  },
  {
   "cell_type": "code",
   "execution_count": 66,
   "metadata": {},
   "outputs": [],
   "source": [
    "from fsplit.filesplit import FileSplit\n",
    "fs = FileSplit(file = comment_cut_path, output_dir = split_output_dir, splitsize=10 * (2**20))\n",
    "fs.split()"
   ]
  },
  {
   "cell_type": "code",
   "execution_count": 68,
   "metadata": {},
   "outputs": [],
   "source": [
    "def read_tiny_file_to_sentences(tiny_file):\n",
    "    with open(tiny_file, \"r\") as f:\n",
    "        return list(map(lambda x: x.strip().split(\" \") ,f.readlines()))"
   ]
  },
  {
   "cell_type": "code",
   "execution_count": 69,
   "metadata": {},
   "outputs": [
    {
     "name": "stdout",
     "output_type": "stream",
     "text": [
      "douban_comment_cut_split/douban_comment_cut_3.txt 135179\n",
      "douban_comment_cut_split/douban_comment_cut_5.txt 122716\n",
      "douban_comment_cut_split/douban_comment_cut_9.txt 129523\n",
      "douban_comment_cut_split/douban_comment_cut_7.txt 147979\n",
      "douban_comment_cut_split/douban_comment_cut_4.txt 162929\n",
      "douban_comment_cut_split/douban_comment_cut_8.txt 142838\n",
      "douban_comment_cut_split/douban_comment_cut_2.txt 149855\n",
      "douban_comment_cut_split/douban_comment_cut_12.txt 147496\n",
      "douban_comment_cut_split/douban_comment_cut_13.txt 136708\n",
      "douban_comment_cut_split/douban_comment_cut_6.txt 156019\n",
      "douban_comment_cut_split/douban_comment_cut_11.txt 144454\n",
      "douban_comment_cut_split/douban_comment_cut_10.txt 141556\n",
      "douban_comment_cut_split/douban_comment_cut_1.txt 130040\n"
     ]
    }
   ],
   "source": [
    "from glob import glob\n",
    "for path in glob(os.path.join(split_output_dir, \"*\")):\n",
    "    print(path, len(read_tiny_file_to_sentences(path)))"
   ]
  },
  {
   "cell_type": "code",
   "execution_count": 72,
   "metadata": {},
   "outputs": [],
   "source": [
    "from gensim.models import KeyedVectors"
   ]
  },
  {
   "cell_type": "code",
   "execution_count": 85,
   "metadata": {},
   "outputs": [
    {
     "name": "stdout",
     "output_type": "stream",
     "text": [
      "flush 10000 into\n",
      "flush 10000 into\n",
      "flush 10000 into\n",
      "flush 10000 into\n",
      "flush 10000 into\n",
      "flush 10000 into\n",
      "flush 10000 into\n",
      "flush 10000 into\n",
      "flush 10000 into\n",
      "flush 10000 into\n",
      "flush 10000 into\n",
      "flush 10000 into\n",
      "flush 10000 into\n"
     ]
    }
   ],
   "source": [
    "KeyedVectors_ext = KeyedVectors(vector_size=model_ext.get_word_vector(u\"中国\").shape[0])\n",
    "flush_size = 10000 \n",
    "words, vectors = [], []\n",
    "def get_wrapper(word_text):\n",
    "    req = None\n",
    "    try:\n",
    "        req = model_ext.get_word_vector(word_text)\n",
    "    except:\n",
    "        pass\n",
    "    return req\n",
    "for word_text in comment_distinct_words:\n",
    "    vec = get_wrapper(word_text)\n",
    "    if vec is not None:\n",
    "        words.append(word_text)\n",
    "        vectors.append(vec)\n",
    "    if len(words) >= flush_size:\n",
    "        print(\"flush {} into\".format(len(words)))\n",
    "        KeyedVectors_ext.add(words, vectors)\n",
    "        words, vectors = [], []\n",
    "KeyedVectors_ext.add(words, vectors)"
   ]
  },
  {
   "cell_type": "code",
   "execution_count": 87,
   "metadata": {},
   "outputs": [
    {
     "data": {
      "text/plain": [
       "(130156, 328151)"
      ]
     },
     "execution_count": 87,
     "metadata": {},
     "output_type": "execute_result"
    }
   ],
   "source": [
    "len(KeyedVectors_ext.vocab), len(comment_distinct_words)"
   ]
  },
  {
   "cell_type": "code",
   "execution_count": null,
   "metadata": {},
   "outputs": [],
   "source": [
    "from gensim.models import Word2Vec"
   ]
  },
  {
   "cell_type": "code",
   "execution_count": 153,
   "metadata": {},
   "outputs": [
    {
     "name": "stderr",
     "output_type": "stream",
     "text": [
      "/usr/local/lib/python3.6/dist-packages/ipykernel_launcher.py:1: DeprecationWarning: Call to deprecated `wv` (Attribute will be removed in 4.0.0, use self instead).\n",
      "  \"\"\"Entry point for launching an IPython kernel.\n"
     ]
    }
   ],
   "source": [
    "#w2v_model = Word2Vec(read_tiny_file_to_sentences(glob(os.path.join(split_output_dir, \"*\"))[0]) ,size = KeyedVectors_ext.wv[u\"中国\"].shape[0], min_count=1, iter = 1)"
   ]
  },
  {
   "cell_type": "code",
   "execution_count": 159,
   "metadata": {},
   "outputs": [
    {
     "name": "stderr",
     "output_type": "stream",
     "text": [
      "/usr/local/lib/python3.6/dist-packages/ipykernel_launcher.py:1: DeprecationWarning: Call to deprecated `wv` (Attribute will be removed in 4.0.0, use self instead).\n",
      "  \"\"\"Entry point for launching an IPython kernel.\n"
     ]
    }
   ],
   "source": [
    "w2v_model = Word2Vec(size = KeyedVectors_ext.wv[u\"中国\"].shape[0], min_count=1)"
   ]
  },
  {
   "cell_type": "code",
   "execution_count": 160,
   "metadata": {},
   "outputs": [],
   "source": [
    "w2v_model.build_vocab([list(comment_distinct_words)], update=False)"
   ]
  },
  {
   "cell_type": "code",
   "execution_count": 162,
   "metadata": {},
   "outputs": [
    {
     "data": {
      "text/plain": [
       "328151"
      ]
     },
     "execution_count": 162,
     "metadata": {},
     "output_type": "execute_result"
    }
   ],
   "source": [
    "len(w2v_model.wv.vocab)"
   ]
  },
  {
   "cell_type": "code",
   "execution_count": 165,
   "metadata": {},
   "outputs": [
    {
     "name": "stderr",
     "output_type": "stream",
     "text": [
      "/usr/local/lib/python3.6/dist-packages/ipykernel_launcher.py:2: DeprecationWarning: Call to deprecated `wv` (Attribute will be removed in 4.0.0, use self instead).\n",
      "  \n",
      "/usr/local/lib/python3.6/dist-packages/ipykernel_launcher.py:2: DeprecationWarning: Call to deprecated `syn0` (Attribute will be removed in 4.0.0, use self.wv.vectors instead).\n",
      "  \n"
     ]
    }
   ],
   "source": [
    "#### set init vector by wiki\n",
    "for k in KeyedVectors_ext.vocab.keys():\n",
    "    w2v_model.wv.syn0[w2v_model.wv.vocab[k].index] = KeyedVectors_ext.wv[k]"
   ]
  },
  {
   "cell_type": "code",
   "execution_count": 175,
   "metadata": {},
   "outputs": [],
   "source": [
    "def iter_one_time(w2v_model, file_path = None):\n",
    "    if file_path is None:\n",
    "        file_path = np.random.choice(glob(os.path.join(split_output_dir, \"*\")))\n",
    "    sentences = read_tiny_file_to_sentences(file_path)\n",
    "    w2v_model.train(sentences, epochs=5, total_examples=len(sentences))\n",
    "    return w2v_model"
   ]
  },
  {
   "cell_type": "code",
   "execution_count": 180,
   "metadata": {},
   "outputs": [
    {
     "name": "stderr",
     "output_type": "stream",
     "text": [
      "/usr/local/lib/python3.6/dist-packages/smart_open/smart_open_lib.py:254: UserWarning: This function is deprecated, use smart_open.open instead. See the migration notes for details: https://github.com/RaRe-Technologies/smart_open/blob/master/README.rst#migrating-to-the-new-open-function\n",
      "  'See the migration notes for details: %s' % _MIGRATION_NOTES_URL\n"
     ]
    },
    {
     "name": "stdout",
     "output_type": "stream",
     "text": [
      "save 3 to w2v_douban.model\n",
      "save 6 to w2v_douban.model\n",
      "save 9 to w2v_douban.model\n"
     ]
    }
   ],
   "source": [
    "run_times = 10\n",
    "save_every = 3\n",
    "w2v_save_path = \"w2v_douban.model\"\n",
    "if os.path.exists(w2v_save_path):\n",
    "    os.remove(w2v_save_path)\n",
    "for run_time in range(run_times):\n",
    "    w2v_model = iter_one_time(w2v_model)\n",
    "    if run_time > 0 and run_time % save_every == 0:\n",
    "        w2v_model.save(w2v_save_path)\n",
    "        print(\"save {} to {}\".format(run_time ,w2v_save_path))"
   ]
  },
  {
   "cell_type": "code",
   "execution_count": 213,
   "metadata": {},
   "outputs": [
    {
     "name": "stderr",
     "output_type": "stream",
     "text": [
      "/usr/local/lib/python3.6/dist-packages/smart_open/smart_open_lib.py:254: UserWarning: This function is deprecated, use smart_open.open instead. See the migration notes for details: https://github.com/RaRe-Technologies/smart_open/blob/master/README.rst#migrating-to-the-new-open-function\n",
      "  'See the migration notes for details: %s' % _MIGRATION_NOTES_URL\n"
     ]
    }
   ],
   "source": [
    "w2v_model_loaded = Word2Vec.load(w2v_save_path)"
   ]
  },
  {
   "cell_type": "code",
   "execution_count": null,
   "metadata": {},
   "outputs": [
    {
     "name": "stderr",
     "output_type": "stream",
     "text": [
      "/usr/local/lib/python3.6/dist-packages/smart_open/smart_open_lib.py:254: UserWarning: This function is deprecated, use smart_open.open instead. See the migration notes for details: https://github.com/RaRe-Technologies/smart_open/blob/master/README.rst#migrating-to-the-new-open-function\n",
      "  'See the migration notes for details: %s' % _MIGRATION_NOTES_URL\n"
     ]
    },
    {
     "name": "stdout",
     "output_type": "stream",
     "text": [
      "save 3 to w2v_douban.model\n",
      "save 6 to w2v_douban.model\n",
      "save 9 to w2v_douban.model\n",
      "save 12 to w2v_douban.model\n",
      "save 15 to w2v_douban.model\n",
      "save 18 to w2v_douban.model\n",
      "save 21 to w2v_douban.model\n",
      "save 24 to w2v_douban.model\n",
      "save 27 to w2v_douban.model\n",
      "save 30 to w2v_douban.model\n",
      "save 33 to w2v_douban.model\n",
      "save 36 to w2v_douban.model\n"
     ]
    }
   ],
   "source": [
    "run_times = 50\n",
    "save_every = 3\n",
    "w2v_save_path = \"w2v_douban.model\"\n",
    "'''\n",
    "if os.path.exists(w2v_save_path):\n",
    "    os.remove(w2v_save_path)\n",
    "'''\n",
    "for run_time in range(run_times):\n",
    "    w2v_model_loaded = iter_one_time(w2v_model_loaded)\n",
    "    if run_time > 0 and run_time % save_every == 0:\n",
    "        w2v_model_loaded.save(w2v_save_path)\n",
    "        print(\"save {} to {}\".format(run_time ,w2v_save_path))"
   ]
  },
  {
   "cell_type": "code",
   "execution_count": 184,
   "metadata": {},
   "outputs": [],
   "source": [
    "from functools import reduce\n",
    "def transform_cut_result_to_avg_w2v(cut_result, model):\n",
    "    def get_wrapper(word_text):\n",
    "        req = None\n",
    "        try:\n",
    "            req = model.wv[word_text]\n",
    "        except:\n",
    "            pass\n",
    "        return req\n",
    "    def process_w2v_list(w2v_list):\n",
    "        if not w2v_list:\n",
    "            return np.zeros(model_ext.get_word_vector(u\"中国\").shape)\n",
    "        sum_vec = reduce(lambda a, b: a + b ,w2v_list)\n",
    "        return sum_vec / len(w2v_list)\n",
    "    \n",
    "    avg_vec_list = list(map(lambda inner_list: process_w2v_list(list(filter(lambda x: False if x is None else True, map(get_wrapper, inner_list)))), cut_result))\n",
    "    return avg_vec_list"
   ]
  },
  {
   "cell_type": "code",
   "execution_count": 186,
   "metadata": {},
   "outputs": [],
   "source": [
    "train_avg_vec_list_local = transform_cut_result_to_avg_w2v(train_cut_result, w2v_model)\n",
    "test_avg_vec_list_local = transform_cut_result_to_avg_w2v(test_cut_result, w2v_model)"
   ]
  },
  {
   "cell_type": "code",
   "execution_count": 188,
   "metadata": {},
   "outputs": [],
   "source": [
    "from functools import reduce\n",
    "def retrieve_stats(cut_result, model):\n",
    "    def get_wrapper(word_text):\n",
    "        req = None\n",
    "        try:\n",
    "            req = model.wv[word_text]\n",
    "        except:\n",
    "            pass\n",
    "        return req\n",
    "    def process_w2v_list(w2v_list):\n",
    "        if not w2v_list:\n",
    "            return np.zeros(model_ext.get_word_vector(u\"中国\").shape)\n",
    "        sum_vec = reduce(lambda a, b: a + b ,w2v_list)\n",
    "        return sum_vec / len(w2v_list)\n",
    "    stats_df = pd.concat(list(map(lambda inner_list: pd.Series(list(map(lambda x:  False if x is None else True,map(get_wrapper, inner_list)))).value_counts(), cut_result)), axis = 1).fillna(0)\n",
    "    return stats_df\n",
    "    "
   ]
  },
  {
   "cell_type": "code",
   "execution_count": 189,
   "metadata": {},
   "outputs": [],
   "source": [
    "train_stats_df_local = retrieve_stats(train_cut_result, w2v_model)\n",
    "test_stats_df_local = retrieve_stats(test_cut_result, w2v_model)"
   ]
  },
  {
   "cell_type": "code",
   "execution_count": 190,
   "metadata": {},
   "outputs": [
    {
     "data": {
      "text/plain": [
       "<matplotlib.axes._subplots.AxesSubplot at 0x7f8dd271b710>"
      ]
     },
     "execution_count": 190,
     "metadata": {},
     "output_type": "execute_result"
    },
    {
     "data": {
      "image/png": "[encoded data removed]",
      "text/plain": [
       "<Figure size 432x288 with 1 Axes>"
      ]
     },
     "metadata": {
      "needs_background": "light"
     },
     "output_type": "display_data"
    }
   ],
   "source": [
    "import seaborn as sns\n",
    "sns.distplot(train_stats_df_local.T[False] / (train_stats_df_local.T[False] + train_stats_df_local.T[True]))"
   ]
  },
  {
   "cell_type": "code",
   "execution_count": 191,
   "metadata": {},
   "outputs": [
    {
     "data": {
      "text/plain": [
       "<matplotlib.axes._subplots.AxesSubplot at 0x7f8e45857b70>"
      ]
     },
     "execution_count": 191,
     "metadata": {},
     "output_type": "execute_result"
    },
    {
     "data": {
      "image/png": "[encoded data removed]",
      "text/plain": [
       "<Figure size 432x288 with 1 Axes>"
      ]
     },
     "metadata": {
      "needs_background": "light"
     },
     "output_type": "display_data"
    }
   ],
   "source": [
    "import seaborn as sns\n",
    "sns.distplot(test_stats_df_local.T[False] / (test_stats_df_local.T[False] + test_stats_df_local.T[True]))"
   ]
  },
  {
   "cell_type": "code",
   "execution_count": 196,
   "metadata": {},
   "outputs": [],
   "source": [
    "train_w2v_avg_filtered_local, train_labels_filtered_local = filter_vec_labels_by_stats(train_avg_vec_list_local, train_labels, train_stats_df_local)\n",
    "test_w2v_avg_filtered_local, test_labels_filtered_local = filter_vec_labels_by_stats(test_avg_vec_list_local, test_label, test_stats_df_local)"
   ]
  },
  {
   "cell_type": "code",
   "execution_count": 200,
   "metadata": {},
   "outputs": [
    {
     "data": {
      "text/plain": [
       "[36270, 36270, 36270, 36270]"
      ]
     },
     "execution_count": 200,
     "metadata": {},
     "output_type": "execute_result"
    }
   ],
   "source": [
    "list(map(len, [train_w2v_avg_filtered_local, train_labels_filtered_local, train_avg_vec_list_local, train_labels]))"
   ]
  },
  {
   "cell_type": "code",
   "execution_count": 199,
   "metadata": {},
   "outputs": [
    {
     "data": {
      "text/plain": [
       "[9029, 9029, 9029, 9029]"
      ]
     },
     "execution_count": 199,
     "metadata": {},
     "output_type": "execute_result"
    }
   ],
   "source": [
    "list(map(len, [test_w2v_avg_filtered_local, test_labels_filtered_local, test_avg_vec_list_local, test_label]))"
   ]
  },
  {
   "cell_type": "code",
   "execution_count": 201,
   "metadata": {},
   "outputs": [
    {
     "data": {
      "text/plain": [
       "0    22241\n",
       "1    14029\n",
       "dtype: int64"
      ]
     },
     "execution_count": 201,
     "metadata": {},
     "output_type": "execute_result"
    }
   ],
   "source": [
    "pd.Series(train_labels_filtered_local).map(lambda xx: int(xx <= 2)).value_counts()"
   ]
  },
  {
   "cell_type": "code",
   "execution_count": 202,
   "metadata": {},
   "outputs": [
    {
     "data": {
      "text/plain": [
       "0    5579\n",
       "1    3450\n",
       "dtype: int64"
      ]
     },
     "execution_count": 202,
     "metadata": {},
     "output_type": "execute_result"
    }
   ],
   "source": [
    "pd.Series(test_labels_filtered_local).map(lambda xx: int(xx <= 2)).value_counts()"
   ]
  },
  {
   "cell_type": "code",
   "execution_count": 204,
   "metadata": {},
   "outputs": [
    {
     "data": {
      "text/plain": [
       "{'acc': 0.5225384870971315, 'b_acc': 0.5013144789856372}"
      ]
     },
     "execution_count": 204,
     "metadata": {},
     "output_type": "execute_result"
    }
   ],
   "source": [
    "traditional_clf_score(\"decision_tree\", train_w2v_avg_filtered_local, train_labels_filtered_local, test_w2v_avg_filtered_local, test_labels_filtered_local)"
   ]
  },
  {
   "cell_type": "code",
   "execution_count": 208,
   "metadata": {},
   "outputs": [
    {
     "data": {
      "text/plain": [
       "{'acc': 0.5279654446782589, 'b_acc': 0.5060930871721336}"
      ]
     },
     "execution_count": 208,
     "metadata": {},
     "output_type": "execute_result"
    }
   ],
   "source": [
    "train_avg_vec_list_local = transform_cut_result_to_avg_w2v(train_cut_result, w2v_model_loaded)\n",
    "test_avg_vec_list_local = transform_cut_result_to_avg_w2v(test_cut_result, w2v_model_loaded)\n",
    "train_stats_df_local = retrieve_stats(train_cut_result, w2v_model_loaded)\n",
    "test_stats_df_local = retrieve_stats(test_cut_result, w2v_model_loaded)\n",
    "train_w2v_avg_filtered_local, train_labels_filtered_local = filter_vec_labels_by_stats(train_avg_vec_list_local, train_labels, train_stats_df_local)\n",
    "test_w2v_avg_filtered_local, test_labels_filtered_local = filter_vec_labels_by_stats(test_avg_vec_list_local, test_label, test_stats_df_local)\n",
    "\n",
    "traditional_clf_score(\"decision_tree\", train_w2v_avg_filtered_local, train_labels_filtered_local, test_w2v_avg_filtered_local, test_labels_filtered_local)"
   ]
  },
  {
   "cell_type": "code",
   "execution_count": 209,
   "metadata": {},
   "outputs": [
    {
     "data": {
      "text/plain": [
       "{'acc': 0.5275224277328607, 'b_acc': 0.5046284851838285}"
      ]
     },
     "execution_count": 209,
     "metadata": {},
     "output_type": "execute_result"
    }
   ],
   "source": [
    "traditional_clf_score(\"decision_tree\", train_w2v_avg_filtered_local, train_labels_filtered_local, test_w2v_avg_filtered_local, test_labels_filtered_local)"
   ]
  },
  {
   "cell_type": "code",
   "execution_count": 210,
   "metadata": {},
   "outputs": [
    {
     "data": {
      "text/plain": [
       "{'acc': 0.5257503599512682, 'b_acc': 0.5034710651485514}"
      ]
     },
     "execution_count": 210,
     "metadata": {},
     "output_type": "execute_result"
    }
   ],
   "source": [
    "traditional_clf_score(\"decision_tree\", train_w2v_avg_filtered_local, train_labels_filtered_local, test_w2v_avg_filtered_local, test_labels_filtered_local)"
   ]
  },
  {
   "cell_type": "code",
   "execution_count": 211,
   "metadata": {},
   "outputs": [
    {
     "data": {
      "text/plain": [
       "{'acc': 0.5271901650238121, 'b_acc': 0.5052445116391437}"
      ]
     },
     "execution_count": 211,
     "metadata": {},
     "output_type": "execute_result"
    }
   ],
   "source": [
    "traditional_clf_score(\"decision_tree\", train_w2v_avg_filtered_local, train_labels_filtered_local, test_w2v_avg_filtered_local, test_labels_filtered_local)"
   ]
  },
  {
   "cell_type": "code",
   "execution_count": 212,
   "metadata": {},
   "outputs": [
    {
     "data": {
      "text/plain": [
       "{'acc': 0.5261933768966663, 'b_acc': 0.5039954695532678}"
      ]
     },
     "execution_count": 212,
     "metadata": {},
     "output_type": "execute_result"
    }
   ],
   "source": [
    "traditional_clf_score(\"decision_tree\", train_w2v_avg_filtered_local, train_labels_filtered_local, test_w2v_avg_filtered_local, test_labels_filtered_local)"
   ]
  },
  {
   "cell_type": "code",
   "execution_count": 216,
   "metadata": {},
   "outputs": [
    {
     "data": {
      "text/plain": [
       "{'acc': 0.5220954701517333, 'b_acc': 0.4966421440650888}"
      ]
     },
     "execution_count": 216,
     "metadata": {},
     "output_type": "execute_result"
    }
   ],
   "source": [
    "train_avg_vec_list_local = transform_cut_result_to_avg_w2v(train_cut_result, w2v_model_loaded)\n",
    "test_avg_vec_list_local = transform_cut_result_to_avg_w2v(test_cut_result, w2v_model_loaded)\n",
    "train_stats_df_local = retrieve_stats(train_cut_result, w2v_model_loaded)\n",
    "test_stats_df_local = retrieve_stats(test_cut_result, w2v_model_loaded)\n",
    "train_w2v_avg_filtered_local, train_labels_filtered_local = filter_vec_labels_by_stats(train_avg_vec_list_local, train_labels, train_stats_df_local)\n",
    "test_w2v_avg_filtered_local, test_labels_filtered_local = filter_vec_labels_by_stats(test_avg_vec_list_local, test_label, test_stats_df_local)\n",
    "\n",
    "traditional_clf_score(\"decision_tree\", train_w2v_avg_filtered_local, train_labels_filtered_local, test_w2v_avg_filtered_local, test_labels_filtered_local)"
   ]
  },
  {
   "cell_type": "code",
   "execution_count": 217,
   "metadata": {},
   "outputs": [
    {
     "data": {
      "text/plain": [
       "{'acc': 0.5222062243880828, 'b_acc': 0.49717421178279836}"
      ]
     },
     "execution_count": 217,
     "metadata": {},
     "output_type": "execute_result"
    }
   ],
   "source": [
    "traditional_clf_score(\"decision_tree\", train_w2v_avg_filtered_local, train_labels_filtered_local, test_w2v_avg_filtered_local, test_labels_filtered_local)"
   ]
  },
  {
   "cell_type": "code",
   "execution_count": 218,
   "metadata": {},
   "outputs": [
    {
     "data": {
      "text/plain": [
       "{'acc': 0.5192158600066452, 'b_acc': 0.49425667162833714}"
      ]
     },
     "execution_count": 218,
     "metadata": {},
     "output_type": "execute_result"
    }
   ],
   "source": [
    "traditional_clf_score(\"decision_tree\", train_w2v_avg_filtered_local, train_labels_filtered_local, test_w2v_avg_filtered_local, test_labels_filtered_local)"
   ]
  },
  {
   "cell_type": "code",
   "execution_count": 219,
   "metadata": {},
   "outputs": [
    {
     "name": "stdout",
     "output_type": "stream",
     "text": [
      "Help on method most_similar in module gensim.models.base_any2vec:\n",
      "\n",
      "most_similar(positive=None, negative=None, topn=10, restrict_vocab=None, indexer=None) method of gensim.models.word2vec.Word2Vec instance\n",
      "    Deprecated, use self.wv.most_similar() instead.\n",
      "    \n",
      "    Refer to the documentation for :meth:`~gensim.models.keyedvectors.WordEmbeddingsKeyedVectors.most_similar`.\n",
      "\n"
     ]
    }
   ],
   "source": [
    "help(w2v_model_loaded.most_similar)"
   ]
  },
  {
   "cell_type": "code",
   "execution_count": 220,
   "metadata": {},
   "outputs": [
    {
     "name": "stderr",
     "output_type": "stream",
     "text": [
      "/usr/local/lib/python3.6/dist-packages/ipykernel_launcher.py:1: DeprecationWarning: Call to deprecated `most_similar` (Method will be removed in 4.0.0, use self.wv.most_similar() instead).\n",
      "  \"\"\"Entry point for launching an IPython kernel.\n",
      "/usr/local/lib/python3.6/dist-packages/gensim/matutils.py:737: FutureWarning: Conversion of the second argument of issubdtype from `int` to `np.signedinteger` is deprecated. In future, it will be treated as `np.int64 == np.dtype(int).type`.\n",
      "  if np.issubdtype(vec.dtype, np.int):\n"
     ]
    },
    {
     "data": {
      "text/plain": [
       "[('我国', 0.5057827234268188),\n",
       " ('凤足', 0.4630703926086426),\n",
       " ('我朝', 0.45430904626846313),\n",
       " ('版哥', 0.44566839933395386),\n",
       " ('蹬脚', 0.42335617542266846),\n",
       " ('中华人民共和国', 0.42050614953041077),\n",
       " ('天下乌鸦一般黑', 0.4143106937408447),\n",
       " ('你国', 0.41342872381210327),\n",
       " ('名垂', 0.4018208384513855),\n",
       " ('本国', 0.39493340253829956)]"
      ]
     },
     "execution_count": 220,
     "metadata": {},
     "output_type": "execute_result"
    }
   ],
   "source": [
    "w2v_model_loaded.most_similar(positive=[u\"中国\"])"
   ]
  },
  {
   "cell_type": "code",
   "execution_count": 221,
   "metadata": {},
   "outputs": [
    {
     "name": "stderr",
     "output_type": "stream",
     "text": [
      "/usr/local/lib/python3.6/dist-packages/ipykernel_launcher.py:1: DeprecationWarning: Call to deprecated `most_similar` (Method will be removed in 4.0.0, use self.wv.most_similar() instead).\n",
      "  \"\"\"Entry point for launching an IPython kernel.\n",
      "/usr/local/lib/python3.6/dist-packages/gensim/matutils.py:737: FutureWarning: Conversion of the second argument of issubdtype from `int` to `np.signedinteger` is deprecated. In future, it will be treated as `np.int64 == np.dtype(int).type`.\n",
      "  if np.issubdtype(vec.dtype, np.int):\n"
     ]
    },
    {
     "data": {
      "text/plain": [
       "[('我国', 0.6144425868988037),\n",
       " ('大陆', 0.5828164219856262),\n",
       " ('书玩', 0.5610167384147644),\n",
       " ('盗可盗', 0.532375693321228),\n",
       " ('盗盗', 0.5269922018051147),\n",
       " ('偷来偷去', 0.5260852575302124),\n",
       " ('创奥', 0.5100143551826477),\n",
       " ('蹬脚', 0.5075727105140686),\n",
       " ('凤足', 0.5071613788604736),\n",
       " ('牛爱国', 0.5042433142662048)]"
      ]
     },
     "execution_count": 221,
     "metadata": {},
     "output_type": "execute_result"
    }
   ],
   "source": [
    "w2v_model.most_similar(u\"中国\")"
   ]
  },
  {
   "cell_type": "code",
   "execution_count": 235,
   "metadata": {},
   "outputs": [],
   "source": [
    "train_mean_list = list(map(lambda x: np.concatenate(list(map(lambda y: w2v_model.wv[y].reshape([1, -1]) if y in w2v_model.wv else np.zeros((1,300)), x) ), axis = 0).mean(axis = 0),train_cut_result))"
   ]
  },
  {
   "cell_type": "code",
   "execution_count": 236,
   "metadata": {},
   "outputs": [],
   "source": [
    "test_mean_list = list(map(lambda x: np.concatenate(list(map(lambda y: w2v_model.wv[y].reshape([1, -1]) if y in w2v_model.wv else np.zeros((1,300)), x) ), axis = 0).mean(axis = 0),test_cut_result))"
   ]
  },
  {
   "cell_type": "code",
   "execution_count": 237,
   "metadata": {},
   "outputs": [],
   "source": [
    "train_X, test_X = np.stack(train_mean_list), np.stack(test_mean_list)"
   ]
  },
  {
   "cell_type": "code",
   "execution_count": 238,
   "metadata": {},
   "outputs": [],
   "source": [
    "train_y, test_y = map(np.asarray, [train_labels, test_label])"
   ]
  },
  {
   "cell_type": "code",
   "execution_count": 239,
   "metadata": {},
   "outputs": [
    {
     "data": {
      "text/plain": [
       "{'acc': 0.7446007309779599, 'b_acc': 0.7042595828747824}"
      ]
     },
     "execution_count": 239,
     "metadata": {},
     "output_type": "execute_result"
    }
   ],
   "source": [
    "traditional_clf_score(\"random_forest\", train_X, train_y, test_X, test_y)"
   ]
  },
  {
   "cell_type": "code",
   "execution_count": 240,
   "metadata": {},
   "outputs": [
    {
     "data": {
      "text/plain": [
       "{'acc': 0.7453760106324067, 'b_acc': 0.6964885451283711}"
      ]
     },
     "execution_count": 240,
     "metadata": {},
     "output_type": "execute_result"
    }
   ],
   "source": [
    "train_mean_list = list(map(lambda x: np.concatenate(list(map(lambda y: w2v_model_loaded.wv[y].reshape([1, -1]) if y in w2v_model_loaded.wv else np.zeros((1,300)), x) ), axis = 0).mean(axis = 0),train_cut_result))\n",
    "test_mean_list = list(map(lambda x: np.concatenate(list(map(lambda y: w2v_model_loaded.wv[y].reshape([1, -1]) if y in w2v_model_loaded.wv else np.zeros((1,300)), x) ), axis = 0).mean(axis = 0),test_cut_result))\n",
    "\n",
    "train_X, test_X = np.stack(train_mean_list), np.stack(test_mean_list)\n",
    "train_y, test_y = map(np.asarray, [train_labels, test_label])\n",
    "traditional_clf_score(\"random_forest\", train_X, train_y, test_X, test_y)"
   ]
  },
  {
   "cell_type": "code",
   "execution_count": 241,
   "metadata": {},
   "outputs": [
    {
     "name": "stderr",
     "output_type": "stream",
     "text": [
      "/usr/local/lib/python3.6/dist-packages/ipykernel_launcher.py:1: DeprecationWarning: Call to deprecated `wv` (Attribute will be removed in 4.0.0, use self instead).\n",
      "  \"\"\"Entry point for launching an IPython kernel.\n",
      "/usr/local/lib/python3.6/dist-packages/ipykernel_launcher.py:2: DeprecationWarning: Call to deprecated `wv` (Attribute will be removed in 4.0.0, use self instead).\n",
      "  \n"
     ]
    },
    {
     "data": {
      "text/plain": [
       "{'acc': 0.7057259940192713, 'b_acc': 0.6455639363090253}"
      ]
     },
     "execution_count": 241,
     "metadata": {},
     "output_type": "execute_result"
    }
   ],
   "source": [
    "train_mean_list = list(map(lambda x: np.concatenate(list(map(lambda y: KeyedVectors_ext.wv[y].reshape([1, -1]) if y in KeyedVectors_ext.wv else np.zeros((1,300)), x) ), axis = 0).mean(axis = 0),train_cut_result))\n",
    "test_mean_list = list(map(lambda x: np.concatenate(list(map(lambda y: KeyedVectors_ext.wv[y].reshape([1, -1]) if y in KeyedVectors_ext.wv else np.zeros((1,300)), x) ), axis = 0).mean(axis = 0),test_cut_result))\n",
    "\n",
    "train_X, test_X = np.stack(train_mean_list), np.stack(test_mean_list)\n",
    "train_y, test_y = map(np.asarray, [train_labels, test_label])\n",
    "traditional_clf_score(\"random_forest\", train_X, train_y, test_X, test_y)"
   ]
  },
  {
   "cell_type": "code",
   "execution_count": null,
   "metadata": {},
   "outputs": [],
   "source": []
  }
 ],
 "metadata": {
  "kernelspec": {
   "display_name": "Python 3",
   "language": "python",
   "name": "python3"
  },
  "language_info": {
   "codemirror_mode": {
    "name": "ipython",
    "version": 3
   },
   "file_extension": ".py",
   "mimetype": "text/x-python",
   "name": "python",
   "nbconvert_exporter": "python",
   "pygments_lexer": "ipython3",
   "version": "3.7.1"
  }
 },
 "nbformat": 4,
 "nbformat_minor": 4
}
