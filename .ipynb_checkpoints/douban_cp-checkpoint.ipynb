{
 "cells": [
  {
   "cell_type": "code",
   "execution_count": 1,
   "metadata": {},
   "outputs": [],
   "source": [
    "import pandas as pd\n",
    "import os\n",
    "import time"
   ]
  },
  {
   "cell_type": "code",
   "execution_count": 6,
   "metadata": {},
   "outputs": [
    {
     "name": "stdout",
     "output_type": "stream",
     "text": [
      "Collecting torch==1.0.0\n",
      "\u001b[?25l  Downloading https://files.pythonhosted.org/packages/7e/60/66415660aa46b23b5e1b72bc762e816736ce8d7260213e22365af51e8f9c/torch-1.0.0-cp36-cp36m-manylinux1_x86_64.whl (591.8MB)\n",
      "\u001b[K     |████████████████████████████████| 591.8MB 19kB/s  eta 0:00:01:05:15     |████████████████                | 296.0MB 1.4MB/s eta 0:03:28████████████████████▍    | 505.9MB 1.3MB/s eta 0:01:05██████████▊    | 512.6MB 1.3MB/s eta 0:01:00     |████████████████████████████▊   | 530.7MB 1.3MB/s eta 0:00:46\n",
      "\u001b[31mERROR: torchvision 0.7.0+cu101 has requirement torch==1.6.0, but you'll have torch 1.0.0 which is incompatible.\u001b[0m\n",
      "\u001b[?25hInstalling collected packages: torch\n",
      "  Found existing installation: torch 1.6.0+cu101\n",
      "    Uninstalling torch-1.6.0+cu101:\n",
      "      Successfully uninstalled torch-1.6.0+cu101\n",
      "Successfully installed torch-1.0.0\n"
     ]
    },
    {
     "data": {
      "application/vnd.colab-display-data+json": {
       "pip_warning": {
        "packages": [
         "torch"
        ]
       }
      }
     },
     "metadata": {},
     "output_type": "display_data"
    }
   ],
   "source": [
    "!pip3 install torch==1.0.0"
   ]
  },
  {
   "cell_type": "code",
   "execution_count": 7,
   "metadata": {},
   "outputs": [],
   "source": [
    "from tqdm import tqdm_notebook"
   ]
  },
  {
   "cell_type": "code",
   "execution_count": 8,
   "metadata": {},
   "outputs": [],
   "source": [
    "import re\n",
    "import time\n",
    "import copy\n",
    "import random\n",
    "import jieba\n",
    "from collections import Counter\n",
    "from sklearn.feature_extraction.text import TfidfVectorizer"
   ]
  },
  {
   "cell_type": "code",
   "execution_count": 9,
   "metadata": {},
   "outputs": [],
   "source": [
    "import torch\n",
    "import torch.nn as nn\n",
    "import torch.nn.functional as F\n",
    "from torch.utils.data import Dataset, DataLoader\n",
    "from torch.optim import lr_scheduler"
   ]
  },
  {
   "cell_type": "code",
   "execution_count": 10,
   "metadata": {},
   "outputs": [
    {
     "data": {
      "application/vnd.google.colaboratory.intrinsic+json": {
       "type": "string"
      },
      "text/plain": [
       "'1.6.0+cu101'"
      ]
     },
     "execution_count": 10,
     "metadata": {},
     "output_type": "execute_result"
    }
   ],
   "source": [
    "torch.__version__"
   ]
  },
  {
   "cell_type": "code",
   "execution_count": 11,
   "metadata": {},
   "outputs": [
    {
     "name": "stderr",
     "output_type": "stream",
     "text": [
      "/usr/local/lib/python3.6/dist-packages/numpy/lib/arraysetops.py:569: FutureWarning: elementwise comparison failed; returning scalar instead, but in the future will perform elementwise comparison\n",
      "  mask |= (ar1 == a)\n"
     ]
    }
   ],
   "source": [
    "data = pd.read_csv(\"DMSC.csv\", index_col = 0)"
   ]
  },
  {
   "cell_type": "code",
   "execution_count": 12,
   "metadata": {},
   "outputs": [
    {
     "data": {
      "text/plain": [
       "(2125056, 9)"
      ]
     },
     "execution_count": 12,
     "metadata": {},
     "output_type": "execute_result"
    }
   ],
   "source": [
    "data.shape"
   ]
  },
  {
   "cell_type": "code",
   "execution_count": 13,
   "metadata": {},
   "outputs": [
    {
     "data": {
      "text/html": [
       "<div>\n",
       "<style scoped>\n",
       "    .dataframe tbody tr th:only-of-type {\n",
       "        vertical-align: middle;\n",
       "    }\n",
       "\n",
       "    .dataframe tbody tr th {\n",
       "        vertical-align: top;\n",
       "    }\n",
       "\n",
       "    .dataframe thead th {\n",
       "        text-align: right;\n",
       "    }\n",
       "</style>\n",
       "<table border=\"1\" class=\"dataframe\">\n",
       "  <thead>\n",
       "    <tr style=\"text-align: right;\">\n",
       "      <th></th>\n",
       "      <th>Movie_Name_EN</th>\n",
       "      <th>Movie_Name_CN</th>\n",
       "      <th>Crawl_Date</th>\n",
       "      <th>Number</th>\n",
       "      <th>Username</th>\n",
       "      <th>Date</th>\n",
       "      <th>Star</th>\n",
       "      <th>Comment</th>\n",
       "      <th>Like</th>\n",
       "    </tr>\n",
       "    <tr>\n",
       "      <th>ID</th>\n",
       "      <th></th>\n",
       "      <th></th>\n",
       "      <th></th>\n",
       "      <th></th>\n",
       "      <th></th>\n",
       "      <th></th>\n",
       "      <th></th>\n",
       "      <th></th>\n",
       "      <th></th>\n",
       "    </tr>\n",
       "  </thead>\n",
       "  <tbody>\n",
       "    <tr>\n",
       "      <th>0</th>\n",
       "      <td>Avengers Age of Ultron</td>\n",
       "      <td>复仇者联盟2</td>\n",
       "      <td>2017-01-22</td>\n",
       "      <td>1</td>\n",
       "      <td>然潘</td>\n",
       "      <td>2015-05-13</td>\n",
       "      <td>3</td>\n",
       "      <td>连奥创都知道整容要去韩国。</td>\n",
       "      <td>2404</td>\n",
       "    </tr>\n",
       "    <tr>\n",
       "      <th>1</th>\n",
       "      <td>Avengers Age of Ultron</td>\n",
       "      <td>复仇者联盟2</td>\n",
       "      <td>2017-01-22</td>\n",
       "      <td>2</td>\n",
       "      <td>更深的白色</td>\n",
       "      <td>2015-04-24</td>\n",
       "      <td>2</td>\n",
       "      <td>非常失望，剧本完全敷衍了事，主线剧情没突破大家可以理解，可所有的人物都缺乏动机，正邪之间、...</td>\n",
       "      <td>1231</td>\n",
       "    </tr>\n",
       "    <tr>\n",
       "      <th>2</th>\n",
       "      <td>Avengers Age of Ultron</td>\n",
       "      <td>复仇者联盟2</td>\n",
       "      <td>2017-01-22</td>\n",
       "      <td>3</td>\n",
       "      <td>有意识的贱民</td>\n",
       "      <td>2015-04-26</td>\n",
       "      <td>2</td>\n",
       "      <td>2015年度最失望作品。以为面面俱到，实则画蛇添足；以为主题深刻，实则老调重弹；以为推陈出...</td>\n",
       "      <td>1052</td>\n",
       "    </tr>\n",
       "    <tr>\n",
       "      <th>3</th>\n",
       "      <td>Avengers Age of Ultron</td>\n",
       "      <td>复仇者联盟2</td>\n",
       "      <td>2017-01-22</td>\n",
       "      <td>4</td>\n",
       "      <td>不老的李大爷耶</td>\n",
       "      <td>2015-04-23</td>\n",
       "      <td>4</td>\n",
       "      <td>《铁人2》中勾引钢铁侠，《妇联1》中勾引鹰眼，《美队2》中勾引美国队长，在《妇联2》中终于...</td>\n",
       "      <td>1045</td>\n",
       "    </tr>\n",
       "    <tr>\n",
       "      <th>4</th>\n",
       "      <td>Avengers Age of Ultron</td>\n",
       "      <td>复仇者联盟2</td>\n",
       "      <td>2017-01-22</td>\n",
       "      <td>5</td>\n",
       "      <td>ZephyrO</td>\n",
       "      <td>2015-04-22</td>\n",
       "      <td>2</td>\n",
       "      <td>虽然从头打到尾，但是真的很无聊啊。</td>\n",
       "      <td>723</td>\n",
       "    </tr>\n",
       "  </tbody>\n",
       "</table>\n",
       "</div>"
      ],
      "text/plain": [
       "             Movie_Name_EN  ...  Like\n",
       "ID                          ...      \n",
       "0   Avengers Age of Ultron  ...  2404\n",
       "1   Avengers Age of Ultron  ...  1231\n",
       "2   Avengers Age of Ultron  ...  1052\n",
       "3   Avengers Age of Ultron  ...  1045\n",
       "4   Avengers Age of Ultron  ...   723\n",
       "\n",
       "[5 rows x 9 columns]"
      ]
     },
     "execution_count": 13,
     "metadata": {},
     "output_type": "execute_result"
    }
   ],
   "source": [
    "data.head()"
   ]
  },
  {
   "cell_type": "code",
   "execution_count": 14,
   "metadata": {},
   "outputs": [
    {
     "data": {
      "text/html": [
       "<div>\n",
       "<style scoped>\n",
       "    .dataframe tbody tr th:only-of-type {\n",
       "        vertical-align: middle;\n",
       "    }\n",
       "\n",
       "    .dataframe tbody tr th {\n",
       "        vertical-align: top;\n",
       "    }\n",
       "\n",
       "    .dataframe thead th {\n",
       "        text-align: right;\n",
       "    }\n",
       "</style>\n",
       "<table border=\"1\" class=\"dataframe\">\n",
       "  <thead>\n",
       "    <tr style=\"text-align: right;\">\n",
       "      <th></th>\n",
       "      <th>Number</th>\n",
       "      <th>Star</th>\n",
       "      <th>Like</th>\n",
       "    </tr>\n",
       "  </thead>\n",
       "  <tbody>\n",
       "    <tr>\n",
       "      <th>count</th>\n",
       "      <td>2.125056e+06</td>\n",
       "      <td>2.125056e+06</td>\n",
       "      <td>2.125056e+06</td>\n",
       "    </tr>\n",
       "    <tr>\n",
       "      <th>mean</th>\n",
       "      <td>4.609775e+04</td>\n",
       "      <td>3.638320e+00</td>\n",
       "      <td>1.078081e+00</td>\n",
       "    </tr>\n",
       "    <tr>\n",
       "      <th>std</th>\n",
       "      <td>3.191518e+04</td>\n",
       "      <td>1.240807e+00</td>\n",
       "      <td>5.436271e+01</td>\n",
       "    </tr>\n",
       "    <tr>\n",
       "      <th>min</th>\n",
       "      <td>1.000000e+00</td>\n",
       "      <td>1.000000e+00</td>\n",
       "      <td>0.000000e+00</td>\n",
       "    </tr>\n",
       "    <tr>\n",
       "      <th>25%</th>\n",
       "      <td>1.964100e+04</td>\n",
       "      <td>3.000000e+00</td>\n",
       "      <td>0.000000e+00</td>\n",
       "    </tr>\n",
       "    <tr>\n",
       "      <th>50%</th>\n",
       "      <td>4.074900e+04</td>\n",
       "      <td>4.000000e+00</td>\n",
       "      <td>0.000000e+00</td>\n",
       "    </tr>\n",
       "    <tr>\n",
       "      <th>75%</th>\n",
       "      <td>6.824200e+04</td>\n",
       "      <td>5.000000e+00</td>\n",
       "      <td>0.000000e+00</td>\n",
       "    </tr>\n",
       "    <tr>\n",
       "      <th>max</th>\n",
       "      <td>1.412000e+05</td>\n",
       "      <td>5.000000e+00</td>\n",
       "      <td>1.549900e+04</td>\n",
       "    </tr>\n",
       "  </tbody>\n",
       "</table>\n",
       "</div>"
      ],
      "text/plain": [
       "             Number          Star          Like\n",
       "count  2.125056e+06  2.125056e+06  2.125056e+06\n",
       "mean   4.609775e+04  3.638320e+00  1.078081e+00\n",
       "std    3.191518e+04  1.240807e+00  5.436271e+01\n",
       "min    1.000000e+00  1.000000e+00  0.000000e+00\n",
       "25%    1.964100e+04  3.000000e+00  0.000000e+00\n",
       "50%    4.074900e+04  4.000000e+00  0.000000e+00\n",
       "75%    6.824200e+04  5.000000e+00  0.000000e+00\n",
       "max    1.412000e+05  5.000000e+00  1.549900e+04"
      ]
     },
     "execution_count": 14,
     "metadata": {},
     "output_type": "execute_result"
    }
   ],
   "source": [
    "data.describe()"
   ]
  },
  {
   "cell_type": "code",
   "execution_count": 15,
   "metadata": {},
   "outputs": [
    {
     "data": {
      "text/plain": [
       "((141048,), (2125056, 9))"
      ]
     },
     "execution_count": 15,
     "metadata": {},
     "output_type": "execute_result"
    }
   ],
   "source": [
    "data[\"Number\"].value_counts().shape, data.shape"
   ]
  },
  {
   "cell_type": "code",
   "execution_count": 16,
   "metadata": {},
   "outputs": [],
   "source": [
    "number1_data = data[data[\"Number\"] == 1].copy()"
   ]
  },
  {
   "cell_type": "code",
   "execution_count": 17,
   "metadata": {},
   "outputs": [
    {
     "data": {
      "text/html": [
       "<div>\n",
       "<style scoped>\n",
       "    .dataframe tbody tr th:only-of-type {\n",
       "        vertical-align: middle;\n",
       "    }\n",
       "\n",
       "    .dataframe tbody tr th {\n",
       "        vertical-align: top;\n",
       "    }\n",
       "\n",
       "    .dataframe thead th {\n",
       "        text-align: right;\n",
       "    }\n",
       "</style>\n",
       "<table border=\"1\" class=\"dataframe\">\n",
       "  <thead>\n",
       "    <tr style=\"text-align: right;\">\n",
       "      <th></th>\n",
       "      <th>Movie_Name_EN</th>\n",
       "      <th>Movie_Name_CN</th>\n",
       "      <th>Crawl_Date</th>\n",
       "      <th>Number</th>\n",
       "      <th>Username</th>\n",
       "      <th>Date</th>\n",
       "      <th>Star</th>\n",
       "      <th>Comment</th>\n",
       "      <th>Like</th>\n",
       "    </tr>\n",
       "    <tr>\n",
       "      <th>ID</th>\n",
       "      <th></th>\n",
       "      <th></th>\n",
       "      <th></th>\n",
       "      <th></th>\n",
       "      <th></th>\n",
       "      <th></th>\n",
       "      <th></th>\n",
       "      <th></th>\n",
       "      <th></th>\n",
       "    </tr>\n",
       "  </thead>\n",
       "  <tbody>\n",
       "    <tr>\n",
       "      <th>0</th>\n",
       "      <td>Avengers Age of Ultron</td>\n",
       "      <td>复仇者联盟2</td>\n",
       "      <td>2017-01-22</td>\n",
       "      <td>1</td>\n",
       "      <td>然潘</td>\n",
       "      <td>2015-05-13</td>\n",
       "      <td>3</td>\n",
       "      <td>连奥创都知道整容要去韩国。</td>\n",
       "      <td>2404</td>\n",
       "    </tr>\n",
       "    <tr>\n",
       "      <th>54153</th>\n",
       "      <td>Big Fish and Begonia</td>\n",
       "      <td>大鱼海棠</td>\n",
       "      <td>2017-01-02</td>\n",
       "      <td>1</td>\n",
       "      <td>大瘦瘦</td>\n",
       "      <td>2016-07-07</td>\n",
       "      <td>2</td>\n",
       "      <td>12年让大家等来一位绿茶婊</td>\n",
       "      <td>12583</td>\n",
       "    </tr>\n",
       "    <tr>\n",
       "      <th>137845</th>\n",
       "      <td>Captain America Civil War</td>\n",
       "      <td>美国队长3</td>\n",
       "      <td>2017-01-23</td>\n",
       "      <td>1</td>\n",
       "      <td>Season_To</td>\n",
       "      <td>2016-05-05</td>\n",
       "      <td>3</td>\n",
       "      <td>好兄弟手刃了钢铁侠父母，却颠倒是非站在哥们一侧，理由仅仅是意志被坏人控制了。钢铁侠，这顿揍...</td>\n",
       "      <td>4990</td>\n",
       "    </tr>\n",
       "    <tr>\n",
       "      <th>202255</th>\n",
       "      <td>Chinese Zodiac</td>\n",
       "      <td>十二生肖</td>\n",
       "      <td>2017-01-07</td>\n",
       "      <td>1</td>\n",
       "      <td>荔枝超人</td>\n",
       "      <td>2012-12-11</td>\n",
       "      <td>2</td>\n",
       "      <td>成龙去到一个地方执行任务，轻易闯入，轻易得手，离开的时候被发现，大打一架；成龙去到一个地方...</td>\n",
       "      <td>1720</td>\n",
       "    </tr>\n",
       "    <tr>\n",
       "      <th>248488</th>\n",
       "      <td>Chronicles of the Ghostly Tribe</td>\n",
       "      <td>九层妖塔</td>\n",
       "      <td>2017-01-25</td>\n",
       "      <td>1</td>\n",
       "      <td>时间之葬</td>\n",
       "      <td>2015-09-23</td>\n",
       "      <td>1</td>\n",
       "      <td>太可怕了——当然指的不是里面的怪物</td>\n",
       "      <td>2790</td>\n",
       "    </tr>\n",
       "    <tr>\n",
       "      <th>292854</th>\n",
       "      <td>CUG King of Heroes</td>\n",
       "      <td>大圣归来</td>\n",
       "      <td>2017-01-03</td>\n",
       "      <td>1</td>\n",
       "      <td>凌晓疯</td>\n",
       "      <td>2015-07-12</td>\n",
       "      <td>4</td>\n",
       "      <td>有人说挺《小时代》的人都将在电影史耻辱柱上有一席之地。那么给《大圣归来》的打一星的人也是如...</td>\n",
       "      <td>12359</td>\n",
       "    </tr>\n",
       "    <tr>\n",
       "      <th>426247</th>\n",
       "      <td>Forever Young</td>\n",
       "      <td>栀子花开</td>\n",
       "      <td>2017-01-27</td>\n",
       "      <td>1</td>\n",
       "      <td>Itachi</td>\n",
       "      <td>2015-06-30</td>\n",
       "      <td>1</td>\n",
       "      <td>李易峰没有任何演技，他这样的演员在大陆红成这样，足以见现在市场的畸形程度，中国电影和电视是...</td>\n",
       "      <td>4129</td>\n",
       "    </tr>\n",
       "    <tr>\n",
       "      <th>456722</th>\n",
       "      <td>Goodbye Mr. Loser</td>\n",
       "      <td>夏洛特烦恼</td>\n",
       "      <td>2017-01-06</td>\n",
       "      <td>1</td>\n",
       "      <td>时间之葬</td>\n",
       "      <td>2015-09-27</td>\n",
       "      <td>2</td>\n",
       "      <td>你不能因为自己没有爱情，就断言爱情尽是虚妄；因为自己一无所成，就认定理想不必追寻；因为自己...</td>\n",
       "      <td>8664</td>\n",
       "    </tr>\n",
       "    <tr>\n",
       "      <th>565884</th>\n",
       "      <td>Iron Man</td>\n",
       "      <td>钢铁侠1</td>\n",
       "      <td>2017-01-28</td>\n",
       "      <td>1</td>\n",
       "      <td>飞鸡</td>\n",
       "      <td>2010-01-25</td>\n",
       "      <td>4</td>\n",
       "      <td>此英雄完全自给自足，没有任何超能力，自己造就自己，酷！科技以人为本，发展才是硬道理！</td>\n",
       "      <td>301</td>\n",
       "    </tr>\n",
       "    <tr>\n",
       "      <th>589623</th>\n",
       "      <td>Journey to the West Conquering the Demons</td>\n",
       "      <td>西游降魔篇</td>\n",
       "      <td>2017-01-06</td>\n",
       "      <td>1</td>\n",
       "      <td>贺兰乔月</td>\n",
       "      <td>2013-02-08</td>\n",
       "      <td>1</td>\n",
       "      <td>太泥马难看了！真不明白那些看都没看就打五星拿星爷装逼的！这片子和你们「一代人的回忆」那系列...</td>\n",
       "      <td>2189</td>\n",
       "    </tr>\n",
       "    <tr>\n",
       "      <th>669585</th>\n",
       "      <td>Journey to the West The Demons Strike Back</td>\n",
       "      <td>西游伏妖篇</td>\n",
       "      <td>2017-03-01</td>\n",
       "      <td>1</td>\n",
       "      <td>巴啦啦小魔仙</td>\n",
       "      <td>2017-01-27</td>\n",
       "      <td>1</td>\n",
       "      <td>周星驰徐克，你们缺钱直接给大家个支付宝就行了。真不用这样。</td>\n",
       "      <td>15499</td>\n",
       "    </tr>\n",
       "    <tr>\n",
       "      <th>761037</th>\n",
       "      <td>La La Land</td>\n",
       "      <td>爱乐之城</td>\n",
       "      <td>2017-03-02</td>\n",
       "      <td>1</td>\n",
       "      <td>桃桃淘电影</td>\n",
       "      <td>2016-12-18</td>\n",
       "      <td>5</td>\n",
       "      <td>最后两人一吻上，眼泪就完全止不住，最后一直是痛哭。那段蒙太奇展示的就是电影的魔力啊！生活给...</td>\n",
       "      <td>8736</td>\n",
       "    </tr>\n",
       "    <tr>\n",
       "      <th>857657</th>\n",
       "      <td>Lost In Thailand</td>\n",
       "      <td>泰囧</td>\n",
       "      <td>2017-01-06</td>\n",
       "      <td>1</td>\n",
       "      <td>Ace_艾斯</td>\n",
       "      <td>2012-12-12</td>\n",
       "      <td>2</td>\n",
       "      <td>这还能8.2分，卧槽</td>\n",
       "      <td>2643</td>\n",
       "    </tr>\n",
       "    <tr>\n",
       "      <th>943334</th>\n",
       "      <td>My Sunshine</td>\n",
       "      <td>何以笙箫默</td>\n",
       "      <td>2017-01-30</td>\n",
       "      <td>1</td>\n",
       "      <td>birds</td>\n",
       "      <td>2015-04-27</td>\n",
       "      <td>1</td>\n",
       "      <td>同档的《念念》《闯入者》排片低到冰点，而《何以》这枚烂屎占据了半壁江山。不禁想问，国产片是...</td>\n",
       "      <td>4354</td>\n",
       "    </tr>\n",
       "    <tr>\n",
       "      <th>970131</th>\n",
       "      <td>Operation Mekong</td>\n",
       "      <td>湄公河行动</td>\n",
       "      <td>2017-03-01</td>\n",
       "      <td>1</td>\n",
       "      <td>巴啦啦小魔仙</td>\n",
       "      <td>2016-09-27</td>\n",
       "      <td>5</td>\n",
       "      <td>电影想必多精彩也不用我细说了。但最讽刺的是，这部电影，居然是和隔壁某全世界的吸毒张导演片子...</td>\n",
       "      <td>7972</td>\n",
       "    </tr>\n",
       "    <tr>\n",
       "      <th>1005224</th>\n",
       "      <td>Soulmate</td>\n",
       "      <td>七月与安生</td>\n",
       "      <td>2017-01-05</td>\n",
       "      <td>1</td>\n",
       "      <td>indicent time</td>\n",
       "      <td>2016-09-14</td>\n",
       "      <td>4</td>\n",
       "      <td>在大陆青春片里看到七月与安生，就如同在屎堆里掏出了一块银子，对，还不是金子，但是终于不再是...</td>\n",
       "      <td>5488</td>\n",
       "    </tr>\n",
       "    <tr>\n",
       "      <th>1073583</th>\n",
       "      <td>The Avengers</td>\n",
       "      <td>复仇者联盟</td>\n",
       "      <td>2017-01-22</td>\n",
       "      <td>1</td>\n",
       "      <td>花生狼</td>\n",
       "      <td>2012-04-28</td>\n",
       "      <td>5</td>\n",
       "      <td>那些个说是大乱炖、狗血片的人，拜托你们闭嘴吧，你不看marvel漫画不怪你，但什么都不知道...</td>\n",
       "      <td>1297</td>\n",
       "    </tr>\n",
       "    <tr>\n",
       "      <th>1151864</th>\n",
       "      <td>The Continent</td>\n",
       "      <td>后会无期</td>\n",
       "      <td>2017-01-04</td>\n",
       "      <td>1</td>\n",
       "      <td>kerrie</td>\n",
       "      <td>2014-07-22</td>\n",
       "      <td>5</td>\n",
       "      <td>我喜欢这里的人物那种没有结局的结局，人生不到死，哪会有结局。</td>\n",
       "      <td>8526</td>\n",
       "    </tr>\n",
       "    <tr>\n",
       "      <th>1272064</th>\n",
       "      <td>The Ghouls</td>\n",
       "      <td>寻龙诀</td>\n",
       "      <td>2017-01-25</td>\n",
       "      <td>1</td>\n",
       "      <td>桃桃淘电影</td>\n",
       "      <td>2015-12-18</td>\n",
       "      <td>2</td>\n",
       "      <td>咱能不能不扯什么工业、产业、特效、华语电影崛起这种虚词。就说说，看这片你困不困吧。这么乏味...</td>\n",
       "      <td>4726</td>\n",
       "    </tr>\n",
       "    <tr>\n",
       "      <th>1385751</th>\n",
       "      <td>The Great Wall</td>\n",
       "      <td>长城</td>\n",
       "      <td>2017-01-01</td>\n",
       "      <td>1</td>\n",
       "      <td>亵渎电影</td>\n",
       "      <td>2016-12-16</td>\n",
       "      <td>1</td>\n",
       "      <td>张艺谋已死！</td>\n",
       "      <td>9876</td>\n",
       "    </tr>\n",
       "    <tr>\n",
       "      <th>1468924</th>\n",
       "      <td>The Left Ear</td>\n",
       "      <td>左耳</td>\n",
       "      <td>2017-01-30</td>\n",
       "      <td>1</td>\n",
       "      <td>whtayahg</td>\n",
       "      <td>2015-04-23</td>\n",
       "      <td>1</td>\n",
       "      <td>点我一次票房少一千万</td>\n",
       "      <td>5755</td>\n",
       "    </tr>\n",
       "    <tr>\n",
       "      <th>1508726</th>\n",
       "      <td>The Mermaid</td>\n",
       "      <td>美人鱼</td>\n",
       "      <td>2017-01-07</td>\n",
       "      <td>1</td>\n",
       "      <td>taoxinxu释凡</td>\n",
       "      <td>2016-02-08</td>\n",
       "      <td>2</td>\n",
       "      <td>屌丝女逆袭脑残高富帅，特效凑合，生硬爱和环保，邓超、林允、张雨绮混事，虎头蛇尾，值几十亿票...</td>\n",
       "      <td>11139</td>\n",
       "    </tr>\n",
       "    <tr>\n",
       "      <th>1582608</th>\n",
       "      <td>Tiny Times 1.0</td>\n",
       "      <td>小时代1</td>\n",
       "      <td>2017-01-06</td>\n",
       "      <td>1</td>\n",
       "      <td>川流熙攘</td>\n",
       "      <td>2013-06-26</td>\n",
       "      <td>1</td>\n",
       "      <td>我不黑什么郭敬明和杨幂，我对他们不了解，我只是觉得这种电影所宣扬浮夸奢靡空洞无物的价值观有...</td>\n",
       "      <td>7085</td>\n",
       "    </tr>\n",
       "    <tr>\n",
       "      <th>1671511</th>\n",
       "      <td>Tiny Times 3.0</td>\n",
       "      <td>小时代3</td>\n",
       "      <td>2017-01-26</td>\n",
       "      <td>1</td>\n",
       "      <td>小花离</td>\n",
       "      <td>2014-07-16</td>\n",
       "      <td>1</td>\n",
       "      <td>当一个同学说好期待小时代3，今夏必看影片，那一刻，我意识到我和他永远成不了朋友了！</td>\n",
       "      <td>4003</td>\n",
       "    </tr>\n",
       "    <tr>\n",
       "      <th>1712663</th>\n",
       "      <td>Train to Busan</td>\n",
       "      <td>釜山行</td>\n",
       "      <td>2017-01-02</td>\n",
       "      <td>1</td>\n",
       "      <td>安东</td>\n",
       "      <td>2016-09-12</td>\n",
       "      <td>4</td>\n",
       "      <td>明知山有釜，偏向釜山行。听名字像福建人拍的。</td>\n",
       "      <td>13771</td>\n",
       "    </tr>\n",
       "    <tr>\n",
       "      <th>1815539</th>\n",
       "      <td>Transformers Age of Extinction</td>\n",
       "      <td>变形金刚4</td>\n",
       "      <td>2017-01-24</td>\n",
       "      <td>1</td>\n",
       "      <td>深夜声咽</td>\n",
       "      <td>2014-06-27</td>\n",
       "      <td>3</td>\n",
       "      <td>真。的。太。TM。长。了。哟。</td>\n",
       "      <td>1069</td>\n",
       "    </tr>\n",
       "    <tr>\n",
       "      <th>1874285</th>\n",
       "      <td>Your Name</td>\n",
       "      <td>你的名字</td>\n",
       "      <td>2016-12-29</td>\n",
       "      <td>1</td>\n",
       "      <td>Underdyingsun</td>\n",
       "      <td>2016-09-02</td>\n",
       "      <td>1</td>\n",
       "      <td>假，大，空。</td>\n",
       "      <td>7844</td>\n",
       "    </tr>\n",
       "    <tr>\n",
       "      <th>1987545</th>\n",
       "      <td>Zootopia</td>\n",
       "      <td>疯狂动物城</td>\n",
       "      <td>2017-01-04</td>\n",
       "      <td>1</td>\n",
       "      <td>祥林嫂</td>\n",
       "      <td>2016-03-02</td>\n",
       "      <td>4</td>\n",
       "      <td>树懒太他妈好笑了！！那两分钟我嗓子都哑了！！卧槽！！真是太他妈好笑了！！</td>\n",
       "      <td>5280</td>\n",
       "    </tr>\n",
       "  </tbody>\n",
       "</table>\n",
       "</div>"
      ],
      "text/plain": [
       "                                      Movie_Name_EN  ...   Like\n",
       "ID                                                   ...       \n",
       "0                            Avengers Age of Ultron  ...   2404\n",
       "54153                          Big Fish and Begonia  ...  12583\n",
       "137845                    Captain America Civil War  ...   4990\n",
       "202255                               Chinese Zodiac  ...   1720\n",
       "248488              Chronicles of the Ghostly Tribe  ...   2790\n",
       "292854                           CUG King of Heroes  ...  12359\n",
       "426247                                Forever Young  ...   4129\n",
       "456722                            Goodbye Mr. Loser  ...   8664\n",
       "565884                                     Iron Man  ...    301\n",
       "589623    Journey to the West Conquering the Demons  ...   2189\n",
       "669585   Journey to the West The Demons Strike Back  ...  15499\n",
       "761037                                   La La Land  ...   8736\n",
       "857657                             Lost In Thailand  ...   2643\n",
       "943334                                  My Sunshine  ...   4354\n",
       "970131                             Operation Mekong  ...   7972\n",
       "1005224                                    Soulmate  ...   5488\n",
       "1073583                                The Avengers  ...   1297\n",
       "1151864                               The Continent  ...   8526\n",
       "1272064                                  The Ghouls  ...   4726\n",
       "1385751                              The Great Wall  ...   9876\n",
       "1468924                                The Left Ear  ...   5755\n",
       "1508726                                 The Mermaid  ...  11139\n",
       "1582608                              Tiny Times 1.0  ...   7085\n",
       "1671511                              Tiny Times 3.0  ...   4003\n",
       "1712663                              Train to Busan  ...  13771\n",
       "1815539              Transformers Age of Extinction  ...   1069\n",
       "1874285                                   Your Name  ...   7844\n",
       "1987545                                    Zootopia  ...   5280\n",
       "\n",
       "[28 rows x 9 columns]"
      ]
     },
     "execution_count": 17,
     "metadata": {},
     "output_type": "execute_result"
    }
   ],
   "source": [
    "number1_data"
   ]
  },
  {
   "cell_type": "code",
   "execution_count": 18,
   "metadata": {},
   "outputs": [],
   "source": [
    "unduplicates_in_numbers = data.groupby(\"Number\")[\"Movie_Name_CN\"].apply(lambda x: len(set(x))).sum()"
   ]
  },
  {
   "cell_type": "code",
   "execution_count": 19,
   "metadata": {},
   "outputs": [
    {
     "data": {
      "text/plain": [
       "True"
      ]
     },
     "execution_count": 19,
     "metadata": {},
     "output_type": "execute_result"
    }
   ],
   "source": [
    "unduplicates_in_numbers == data.shape[0]"
   ]
  },
  {
   "cell_type": "code",
   "execution_count": 20,
   "metadata": {},
   "outputs": [],
   "source": [
    "Movie = data[\"Movie_Name_CN\"].value_counts()"
   ]
  },
  {
   "cell_type": "code",
   "execution_count": 21,
   "metadata": {},
   "outputs": [],
   "source": [
    "shape_stats = data.groupby(\n",
    "    [\"Movie_Name_CN\", \"Star\"]\n",
    ").apply(lambda x: x.shape[0])"
   ]
  },
  {
   "cell_type": "code",
   "execution_count": 22,
   "metadata": {},
   "outputs": [
    {
     "name": "stderr",
     "output_type": "stream",
     "text": [
      "/usr/local/lib/python3.6/dist-packages/statsmodels/tools/_testing.py:19: FutureWarning: pandas.util.testing is deprecated. Use the functions in the public API at pandas.testing instead.\n",
      "  import pandas.util.testing as tm\n"
     ]
    },
    {
     "data": {
      "text/plain": [
       "<matplotlib.axes._subplots.AxesSubplot at 0x7f88e26be978>"
      ]
     },
     "execution_count": 22,
     "metadata": {},
     "output_type": "execute_result"
    },
    {
     "data": {
      "image/png": "[encoded data removed]",
      "text/plain": [
       "<Figure size 432x288 with 1 Axes>"
      ]
     },
     "metadata": {
      "needs_background": "light"
     },
     "output_type": "display_data"
    }
   ],
   "source": [
    "import seaborn as sns\n",
    "sns.distplot(shape_stats.value_counts().index.tolist())"
   ]
  },
  {
   "cell_type": "code",
   "execution_count": 38,
   "metadata": {},
   "outputs": [],
   "source": [
    "'''\n",
    "sample_df = data.groupby(\n",
    "    [\"Movie_Name_CN\", \"Star\"]\n",
    ").apply(\n",
    "    lambda x: x.sample(n = int(2125056/(28*200)), replace = True, random_state = 0)\n",
    ")\n",
    "'''\n",
    "sample_df = data.groupby(\n",
    "    [\"Movie_Name_CN\", \"Star\"]\n",
    ").apply(\n",
    "    lambda x: x.sample(n = int(2125056/(28*200)), replace = True, random_state = 0)\n",
    ")"
   ]
  },
  {
   "cell_type": "code",
   "execution_count": 39,
   "metadata": {},
   "outputs": [
    {
     "data": {
      "text/plain": [
       "((53060, 9), (50708, 9))"
      ]
     },
     "execution_count": 39,
     "metadata": {},
     "output_type": "execute_result"
    }
   ],
   "source": [
    "sample_df.shape, sample_df.drop_duplicates().shape"
   ]
  },
  {
   "cell_type": "code",
   "execution_count": 40,
   "metadata": {},
   "outputs": [
    {
     "data": {
      "text/plain": [
       "((53060, 9), (50708, 9))"
      ]
     },
     "execution_count": 40,
     "metadata": {},
     "output_type": "execute_result"
    }
   ],
   "source": [
    "pd.DataFrame(sample_df.values).shape, pd.DataFrame(sample_df.values).drop_duplicates().shape"
   ]
  },
  {
   "cell_type": "code",
   "execution_count": 41,
   "metadata": {},
   "outputs": [],
   "source": [
    "sample_df[\"row_hash\"] = sample_df.apply(lambda s: hash(tuple(s.values.tolist())), axis = 1)"
   ]
  },
  {
   "cell_type": "code",
   "execution_count": 42,
   "metadata": {},
   "outputs": [
    {
     "data": {
      "text/html": [
       "<div>\n",
       "<style scoped>\n",
       "    .dataframe tbody tr th:only-of-type {\n",
       "        vertical-align: middle;\n",
       "    }\n",
       "\n",
       "    .dataframe tbody tr th {\n",
       "        vertical-align: top;\n",
       "    }\n",
       "\n",
       "    .dataframe thead th {\n",
       "        text-align: right;\n",
       "    }\n",
       "</style>\n",
       "<table border=\"1\" class=\"dataframe\">\n",
       "  <thead>\n",
       "    <tr style=\"text-align: right;\">\n",
       "      <th></th>\n",
       "      <th></th>\n",
       "      <th></th>\n",
       "      <th>Movie_Name_EN</th>\n",
       "      <th>Movie_Name_CN</th>\n",
       "      <th>Crawl_Date</th>\n",
       "      <th>Number</th>\n",
       "      <th>Username</th>\n",
       "      <th>Date</th>\n",
       "      <th>Star</th>\n",
       "      <th>Comment</th>\n",
       "      <th>Like</th>\n",
       "      <th>row_hash</th>\n",
       "    </tr>\n",
       "    <tr>\n",
       "      <th>Movie_Name_CN</th>\n",
       "      <th>Star</th>\n",
       "      <th>ID</th>\n",
       "      <th></th>\n",
       "      <th></th>\n",
       "      <th></th>\n",
       "      <th></th>\n",
       "      <th></th>\n",
       "      <th></th>\n",
       "      <th></th>\n",
       "      <th></th>\n",
       "      <th></th>\n",
       "      <th></th>\n",
       "    </tr>\n",
       "  </thead>\n",
       "  <tbody>\n",
       "    <tr>\n",
       "      <th rowspan=\"9\" valign=\"top\">钢铁侠1</th>\n",
       "      <th rowspan=\"9\" valign=\"top\">1</th>\n",
       "      <th>579498</th>\n",
       "      <td>Iron Man</td>\n",
       "      <td>钢铁侠1</td>\n",
       "      <td>2017-01-28</td>\n",
       "      <td>14636</td>\n",
       "      <td>松鼠奥利奥</td>\n",
       "      <td>2013-02-17</td>\n",
       "      <td>1</td>\n",
       "      <td>via CCTV-6 XX 侠系列都好像有一个剧情范式，可以预测进展自我剧透的…… 不知道...</td>\n",
       "      <td>0</td>\n",
       "      <td>3346084123445084383</td>\n",
       "    </tr>\n",
       "    <tr>\n",
       "      <th>579498</th>\n",
       "      <td>Iron Man</td>\n",
       "      <td>钢铁侠1</td>\n",
       "      <td>2017-01-28</td>\n",
       "      <td>14636</td>\n",
       "      <td>松鼠奥利奥</td>\n",
       "      <td>2013-02-17</td>\n",
       "      <td>1</td>\n",
       "      <td>via CCTV-6 XX 侠系列都好像有一个剧情范式，可以预测进展自我剧透的…… 不知道...</td>\n",
       "      <td>0</td>\n",
       "      <td>3346084123445084383</td>\n",
       "    </tr>\n",
       "    <tr>\n",
       "      <th>579498</th>\n",
       "      <td>Iron Man</td>\n",
       "      <td>钢铁侠1</td>\n",
       "      <td>2017-01-28</td>\n",
       "      <td>14636</td>\n",
       "      <td>松鼠奥利奥</td>\n",
       "      <td>2013-02-17</td>\n",
       "      <td>1</td>\n",
       "      <td>via CCTV-6 XX 侠系列都好像有一个剧情范式，可以预测进展自我剧透的…… 不知道...</td>\n",
       "      <td>0</td>\n",
       "      <td>3346084123445084383</td>\n",
       "    </tr>\n",
       "    <tr>\n",
       "      <th>579498</th>\n",
       "      <td>Iron Man</td>\n",
       "      <td>钢铁侠1</td>\n",
       "      <td>2017-01-28</td>\n",
       "      <td>14636</td>\n",
       "      <td>松鼠奥利奥</td>\n",
       "      <td>2013-02-17</td>\n",
       "      <td>1</td>\n",
       "      <td>via CCTV-6 XX 侠系列都好像有一个剧情范式，可以预测进展自我剧透的…… 不知道...</td>\n",
       "      <td>0</td>\n",
       "      <td>3346084123445084383</td>\n",
       "    </tr>\n",
       "    <tr>\n",
       "      <th>579498</th>\n",
       "      <td>Iron Man</td>\n",
       "      <td>钢铁侠1</td>\n",
       "      <td>2017-01-28</td>\n",
       "      <td>14636</td>\n",
       "      <td>松鼠奥利奥</td>\n",
       "      <td>2013-02-17</td>\n",
       "      <td>1</td>\n",
       "      <td>via CCTV-6 XX 侠系列都好像有一个剧情范式，可以预测进展自我剧透的…… 不知道...</td>\n",
       "      <td>0</td>\n",
       "      <td>3346084123445084383</td>\n",
       "    </tr>\n",
       "    <tr>\n",
       "      <th>579498</th>\n",
       "      <td>Iron Man</td>\n",
       "      <td>钢铁侠1</td>\n",
       "      <td>2017-01-28</td>\n",
       "      <td>14636</td>\n",
       "      <td>松鼠奥利奥</td>\n",
       "      <td>2013-02-17</td>\n",
       "      <td>1</td>\n",
       "      <td>via CCTV-6 XX 侠系列都好像有一个剧情范式，可以预测进展自我剧透的…… 不知道...</td>\n",
       "      <td>0</td>\n",
       "      <td>3346084123445084383</td>\n",
       "    </tr>\n",
       "    <tr>\n",
       "      <th>579498</th>\n",
       "      <td>Iron Man</td>\n",
       "      <td>钢铁侠1</td>\n",
       "      <td>2017-01-28</td>\n",
       "      <td>14636</td>\n",
       "      <td>松鼠奥利奥</td>\n",
       "      <td>2013-02-17</td>\n",
       "      <td>1</td>\n",
       "      <td>via CCTV-6 XX 侠系列都好像有一个剧情范式，可以预测进展自我剧透的…… 不知道...</td>\n",
       "      <td>0</td>\n",
       "      <td>3346084123445084383</td>\n",
       "    </tr>\n",
       "    <tr>\n",
       "      <th>579498</th>\n",
       "      <td>Iron Man</td>\n",
       "      <td>钢铁侠1</td>\n",
       "      <td>2017-01-28</td>\n",
       "      <td>14636</td>\n",
       "      <td>松鼠奥利奥</td>\n",
       "      <td>2013-02-17</td>\n",
       "      <td>1</td>\n",
       "      <td>via CCTV-6 XX 侠系列都好像有一个剧情范式，可以预测进展自我剧透的…… 不知道...</td>\n",
       "      <td>0</td>\n",
       "      <td>3346084123445084383</td>\n",
       "    </tr>\n",
       "    <tr>\n",
       "      <th>579498</th>\n",
       "      <td>Iron Man</td>\n",
       "      <td>钢铁侠1</td>\n",
       "      <td>2017-01-28</td>\n",
       "      <td>14636</td>\n",
       "      <td>松鼠奥利奥</td>\n",
       "      <td>2013-02-17</td>\n",
       "      <td>1</td>\n",
       "      <td>via CCTV-6 XX 侠系列都好像有一个剧情范式，可以预测进展自我剧透的…… 不知道...</td>\n",
       "      <td>0</td>\n",
       "      <td>3346084123445084383</td>\n",
       "    </tr>\n",
       "  </tbody>\n",
       "</table>\n",
       "</div>"
      ],
      "text/plain": [
       "                          Movie_Name_EN  ...             row_hash\n",
       "Movie_Name_CN Star ID                    ...                     \n",
       "钢铁侠1          1    579498      Iron Man  ...  3346084123445084383\n",
       "                   579498      Iron Man  ...  3346084123445084383\n",
       "                   579498      Iron Man  ...  3346084123445084383\n",
       "                   579498      Iron Man  ...  3346084123445084383\n",
       "                   579498      Iron Man  ...  3346084123445084383\n",
       "                   579498      Iron Man  ...  3346084123445084383\n",
       "                   579498      Iron Man  ...  3346084123445084383\n",
       "                   579498      Iron Man  ...  3346084123445084383\n",
       "                   579498      Iron Man  ...  3346084123445084383\n",
       "\n",
       "[9 rows x 10 columns]"
      ]
     },
     "execution_count": 42,
     "metadata": {},
     "output_type": "execute_result"
    }
   ],
   "source": [
    "sample_df[sample_df[\"row_hash\"] == sample_df[\"row_hash\"].value_counts().index.tolist()[0]]"
   ]
  },
  {
   "cell_type": "code",
   "execution_count": 43,
   "metadata": {},
   "outputs": [
    {
     "data": {
      "text/plain": [
       "((2125056, 9), (2125056, 9))"
      ]
     },
     "execution_count": 43,
     "metadata": {},
     "output_type": "execute_result"
    }
   ],
   "source": [
    "data.shape, data.drop_duplicates().shape"
   ]
  },
  {
   "cell_type": "code",
   "execution_count": 44,
   "metadata": {},
   "outputs": [],
   "source": [
    "del sample_df[\"row_hash\"]"
   ]
  },
  {
   "cell_type": "code",
   "execution_count": 45,
   "metadata": {},
   "outputs": [],
   "source": [
    "from sklearn.model_selection import train_test_split\n",
    "comments = sample_df.values[:, 7]\n",
    "star = sample_df.values[:, 6]"
   ]
  },
  {
   "cell_type": "code",
   "execution_count": 46,
   "metadata": {},
   "outputs": [
    {
     "data": {
      "text/plain": [
       "array([' 泪目 给幻觉一星', ' 演员演技在线，对最后反转的结局稍有惊喜。其他的剧情，有些不知所云',\n",
       "       ' 不喜欢...两个女主，一星给剧本', ' 哪里不矫情？哪里不狗血？剧情bug那么多 还四星？？exo me？？',\n",
       "       ' 说实话，有点恶趣味，开头两个小女孩，能有十几岁？为什么要拍这么令人充满睱想的镜头？我不否认对观众的影响，但是，演员的角度？小孩这么小，是没有明辨世事的能力的。这段镜头会不会改变两位小演员的一生？',\n",
       "       ' 原著跟电影都是为了狗血而狗血的典范', ' 三个脑残的爱情故事。', ' 演员演技可以就是剧情有点狗血', ' 烂片，鉴定完毕',\n",
       "       ' 这么恶心，闺蜜为了渣男撕逼的电影。制片方就知道花钱请水军？'], dtype=object)"
      ]
     },
     "execution_count": 46,
     "metadata": {},
     "output_type": "execute_result"
    }
   ],
   "source": [
    "comments[:10]"
   ]
  },
  {
   "cell_type": "code",
   "execution_count": 47,
   "metadata": {},
   "outputs": [
    {
     "data": {
      "text/plain": [
       "5    10612\n",
       "4    10612\n",
       "3    10612\n",
       "2    10612\n",
       "1    10612\n",
       "dtype: int64"
      ]
     },
     "execution_count": 47,
     "metadata": {},
     "output_type": "execute_result"
    }
   ],
   "source": [
    "pd.Series(star).value_counts()"
   ]
  },
  {
   "cell_type": "code",
   "execution_count": 48,
   "metadata": {},
   "outputs": [
    {
     "data": {
      "text/plain": [
       "3    10458\n",
       "5    10413\n",
       "4    10406\n",
       "2     9974\n",
       "1     9457\n",
       "Name: Star, dtype: int64"
      ]
     },
     "execution_count": 48,
     "metadata": {},
     "output_type": "execute_result"
    }
   ],
   "source": [
    "sample_df.drop_duplicates().iloc[:, 6].value_counts()"
   ]
  },
  {
   "cell_type": "code",
   "execution_count": 49,
   "metadata": {},
   "outputs": [
    {
     "data": {
      "text/plain": [
       "<matplotlib.axes._subplots.AxesSubplot at 0x7f88b0cbefd0>"
      ]
     },
     "execution_count": 49,
     "metadata": {},
     "output_type": "execute_result"
    },
    {
     "data": {
      "image/png": "[encoded data removed]",
      "text/plain": [
       "<Figure size 432x288 with 1 Axes>"
      ]
     },
     "metadata": {
      "needs_background": "light"
     },
     "output_type": "display_data"
    }
   ],
   "source": [
    "import numpy as np\n",
    "import seaborn as sns\n",
    "sns.distplot(data.groupby(\"Movie_Name_CN\")[\"Star\"].apply(np.mean))"
   ]
  },
  {
   "cell_type": "code",
   "execution_count": 50,
   "metadata": {},
   "outputs": [
    {
     "data": {
      "text/plain": [
       "<matplotlib.axes._subplots.AxesSubplot at 0x7f88b0d18ac8>"
      ]
     },
     "execution_count": 50,
     "metadata": {},
     "output_type": "execute_result"
    },
    {
     "data": {
      "image/png": "[encoded data removed]",
      "text/plain": [
       "<Figure size 432x288 with 1 Axes>"
      ]
     },
     "metadata": {
      "needs_background": "light"
     },
     "output_type": "display_data"
    }
   ],
   "source": [
    "import seaborn as sns\n",
    "sns.distplot(sample_df.drop_duplicates().iloc[:, 6])"
   ]
  },
  {
   "cell_type": "code",
   "execution_count": 51,
   "metadata": {},
   "outputs": [],
   "source": [
    "x_train, x_test, y_train, y_test = train_test_split(\n",
    "    comments, star, test_size = 0.2, random_state = 0\n",
    ")"
   ]
  },
  {
   "cell_type": "code",
   "execution_count": 52,
   "metadata": {},
   "outputs": [
    {
     "data": {
      "text/plain": [
       "[42448, 10612, 42448, 10612]"
      ]
     },
     "execution_count": 52,
     "metadata": {},
     "output_type": "execute_result"
    }
   ],
   "source": [
    "list(map(len, [x_train, x_test, y_train, y_test]))"
   ]
  },
  {
   "cell_type": "code",
   "execution_count": 53,
   "metadata": {},
   "outputs": [],
   "source": [
    "def clean_str(line):\n",
    "    line.strip('\\n')\n",
    "    line = re.sub(r\"[^\\u4e00-\\u9fff]\", \"\", line)\n",
    "    line = re.sub(\n",
    "        \"[0-9a-zA-Z\\-\\s+\\.\\!\\/_,$%^*\\(\\)\\+(+\\\"\\')]+|[+——！，。？、~@#￥%……&*（）<>\\[\\]:：★◆【】《》;；=?？]+\", \"\", line)\n",
    "    return line.strip()"
   ]
  },
  {
   "cell_type": "code",
   "execution_count": 54,
   "metadata": {},
   "outputs": [
    {
     "data": {
      "application/vnd.google.colaboratory.intrinsic+json": {
       "type": "string"
      },
      "text/plain": [
       "'开始结束是好的'"
      ]
     },
     "execution_count": 54,
     "metadata": {},
     "output_type": "execute_result"
    }
   ],
   "source": [
    "clean_str(u\"开始 13n ?结束 sj!dn  是 好的\")"
   ]
  },
  {
   "cell_type": "code",
   "execution_count": 58,
   "metadata": {},
   "outputs": [
    {
     "name": "stdout",
     "output_type": "stream",
     "text": [
      "--2020-08-05 01:10:25--  https://codeload.github.com/weiyunchen/nlp/zip/master\n",
      "Resolving codeload.github.com (codeload.github.com)... 140.82.112.9\n",
      "Connecting to codeload.github.com (codeload.github.com)|140.82.112.9|:443... connected.\n",
      "HTTP request sent, awaiting response... 200 OK\n",
      "Length: unspecified [application/zip]\n",
      "Saving to: ‘master’\n",
      "\n",
      "master                  [ <=>                ]  75.41K   444KB/s    in 0.2s    \n",
      "\n",
      "2020-08-05 01:10:25 (444 KB/s) - ‘master’ saved [77224]\n",
      "\n"
     ]
    }
   ],
   "source": [
    "!wget -nc \"https://codeload.github.com/weiyunchen/nlp/zip/master\""
   ]
  },
  {
   "cell_type": "code",
   "execution_count": 59,
   "metadata": {},
   "outputs": [
    {
     "name": "stdout",
     "output_type": "stream",
     "text": [
      "Archive:  master\n",
      "78a55b3ff658cd83cd1ae4abbe5fb475507097c3\n",
      "   creating: nlp-master/\n",
      "  inflating: nlp-master/faker.png    \n",
      "  inflating: nlp-master/stopwords.txt  \n"
     ]
    }
   ],
   "source": [
    "!unzip master"
   ]
  },
  {
   "cell_type": "code",
   "execution_count": 60,
   "metadata": {},
   "outputs": [
    {
     "data": {
      "text/plain": [
       "['.bashrc',\n",
       " '.profile',\n",
       " 'master',\n",
       " '.bash_history',\n",
       " '.cache',\n",
       " '.ipynb_checkpoints',\n",
       " '.wget-hsts',\n",
       " '.config',\n",
       " '.keras',\n",
       " '.local',\n",
       " 'nlp-master',\n",
       " 'kaggle.json',\n",
       " 'DMSC.csv',\n",
       " 'douban_cp.ipynb',\n",
       " '.kaggle',\n",
       " '.npm',\n",
       " '.ipython',\n",
       " '.jupyter',\n",
       " '.node-gyp',\n",
       " '.gsutil']"
      ]
     },
     "execution_count": 60,
     "metadata": {},
     "output_type": "execute_result"
    }
   ],
   "source": [
    "import os\n",
    "os.listdir()"
   ]
  },
  {
   "cell_type": "code",
   "execution_count": 61,
   "metadata": {},
   "outputs": [],
   "source": [
    "with open(\"nlp-master/stopwords.txt\", \"r\") as f:\n",
    "    stopwords = list(map(lambda line: line.strip(\"\\n\") ,f.readlines()))"
   ]
  },
  {
   "cell_type": "code",
   "execution_count": 62,
   "metadata": {},
   "outputs": [],
   "source": [
    "def cut(data, labels, stopwords):\n",
    "    result = []\n",
    "    new_labels = []\n",
    "    for index in tqdm_notebook(range(len(data))):\n",
    "        comment = clean_str(data[index])\n",
    "        label = labels[index]\n",
    "        \n",
    "        seg_list = jieba.cut(comment, cut_all = False, HMM = True)\n",
    "        seg_list = list(filter(lambda x: x.strip(\"\\n\") if (x not in stopwords and len(x) > 1) else None, seg_list))\n",
    "        if len(seg_list) > 1:\n",
    "            result.append(seg_list)\n",
    "            new_labels.append(label)\n",
    "    return result, new_labels"
   ]
  },
  {
   "cell_type": "code",
   "execution_count": 63,
   "metadata": {},
   "outputs": [
    {
     "name": "stderr",
     "output_type": "stream",
     "text": [
      "/usr/local/lib/python3.6/dist-packages/ipykernel_launcher.py:4: TqdmDeprecationWarning: This function will be removed in tqdm==5.0.0\n",
      "Please use `tqdm.notebook.tqdm` instead of `tqdm.tqdm_notebook`\n",
      "  after removing the cwd from sys.path.\n"
     ]
    },
    {
     "data": {
      "application/vnd.jupyter.widget-view+json": {
       "model_id": "e5291422e6e041a48590eee5f1f56d5d",
       "version_major": 2,
       "version_minor": 0
      },
      "text/plain": [
       "HBox(children=(FloatProgress(value=0.0, max=42448.0), HTML(value='')))"
      ]
     },
     "metadata": {},
     "output_type": "display_data"
    },
    {
     "name": "stderr",
     "output_type": "stream",
     "text": [
      "Building prefix dict from the default dictionary ...\n",
      "Dumping model to file cache /tmp/jieba.cache\n",
      "Loading model cost 1.116 seconds.\n",
      "Prefix dict has been built successfully.\n"
     ]
    },
    {
     "name": "stdout",
     "output_type": "stream",
     "text": [
      "\n"
     ]
    },
    {
     "data": {
      "application/vnd.jupyter.widget-view+json": {
       "model_id": "9509299af781465d9de5788a35861c3f",
       "version_major": 2,
       "version_minor": 0
      },
      "text/plain": [
       "HBox(children=(FloatProgress(value=0.0, max=10612.0), HTML(value='')))"
      ]
     },
     "metadata": {},
     "output_type": "display_data"
    },
    {
     "name": "stdout",
     "output_type": "stream",
     "text": [
      "\n"
     ]
    }
   ],
   "source": [
    "train_cut_result, train_labels = cut(x_train, y_train, stopwords)\n",
    "test_cut_result, test_label = cut(x_test, y_test, stopwords)"
   ]
  },
  {
   "cell_type": "code",
   "execution_count": 64,
   "metadata": {},
   "outputs": [
    {
     "data": {
      "text/plain": [
       "[35930, 35930, 8947, 8947]"
      ]
     },
     "execution_count": 64,
     "metadata": {},
     "output_type": "execute_result"
    }
   ],
   "source": [
    "list(map(len, [train_cut_result, train_labels, test_cut_result, test_label]))"
   ]
  },
  {
   "cell_type": "code",
   "execution_count": 65,
   "metadata": {},
   "outputs": [],
   "source": [
    "train_data, test_data = map(lambda result_list: list(map(lambda x: \" \".join(x), result_list)), [train_cut_result, test_cut_result])"
   ]
  },
  {
   "cell_type": "code",
   "execution_count": 66,
   "metadata": {},
   "outputs": [
    {
     "data": {
      "application/vnd.google.colaboratory.intrinsic+json": {
       "type": "string"
      },
      "text/plain": [
       "'美国 队长 钢铁 好像 摇滚圈 五月天 二手 玫瑰'"
      ]
     },
     "execution_count": 66,
     "metadata": {},
     "output_type": "execute_result"
    }
   ],
   "source": [
    "train_data[0]"
   ]
  },
  {
   "cell_type": "code",
   "execution_count": 67,
   "metadata": {},
   "outputs": [],
   "source": [
    "n_dim = 20000"
   ]
  },
  {
   "cell_type": "code",
   "execution_count": 68,
   "metadata": {},
   "outputs": [],
   "source": [
    "vectorizer = TfidfVectorizer(\n",
    "    max_features = n_dim, smooth_idf = True, sublinear_tf = True\n",
    ")"
   ]
  },
  {
   "cell_type": "code",
   "execution_count": 69,
   "metadata": {},
   "outputs": [],
   "source": [
    "train_vec_data = vectorizer.fit_transform(train_data)\n",
    "test_vec_data = vectorizer.transform(test_data)"
   ]
  },
  {
   "cell_type": "code",
   "execution_count": 70,
   "metadata": {},
   "outputs": [
    {
     "data": {
      "text/plain": [
       "['一一列举', '一丁点', '一万个', '一万倍', '一万只', '一万年', '一万次', '一万遍', '一下下', '一下周']"
      ]
     },
     "execution_count": 70,
     "metadata": {},
     "output_type": "execute_result"
    }
   ],
   "source": [
    "vectorizer.get_feature_names()[:10]"
   ]
  },
  {
   "cell_type": "code",
   "execution_count": 71,
   "metadata": {},
   "outputs": [
    {
     "data": {
      "text/plain": [
       "电影     7665\n",
       "剧情     4264\n",
       "不错     2754\n",
       "喜欢     2614\n",
       "真的     2474\n",
       "       ... \n",
       "女主一       1\n",
       "很慢        1\n",
       "来撑        1\n",
       "疫苗        1\n",
       "划时代       1\n",
       "Length: 38900, dtype: int64"
      ]
     },
     "execution_count": 71,
     "metadata": {},
     "output_type": "execute_result"
    }
   ],
   "source": [
    "from functools import reduce\n",
    "pd.Series(reduce(lambda a, b: a + b ,pd.Series(train_data).map(lambda x: x.split(\" \")).tolist())).value_counts()"
   ]
  },
  {
   "cell_type": "code",
   "execution_count": 72,
   "metadata": {},
   "outputs": [
    {
     "data": {
      "text/plain": [
       "((35930, 20000), 20000)"
      ]
     },
     "execution_count": 72,
     "metadata": {},
     "output_type": "execute_result"
    }
   ],
   "source": [
    "train_vec_data.shape, len(vectorizer.get_feature_names())"
   ]
  },
  {
   "cell_type": "code",
   "execution_count": 73,
   "metadata": {},
   "outputs": [],
   "source": [
    "from gensim.models import TfidfModel\n",
    "from gensim.corpora import Dictionary"
   ]
  },
  {
   "cell_type": "code",
   "execution_count": 74,
   "metadata": {},
   "outputs": [],
   "source": [
    "dct = Dictionary(train_cut_result)"
   ]
  },
  {
   "cell_type": "code",
   "execution_count": 75,
   "metadata": {},
   "outputs": [],
   "source": [
    "corpus = list(map(lambda inner_list: dct.doc2bow(inner_list), train_cut_result))"
   ]
  },
  {
   "cell_type": "code",
   "execution_count": 76,
   "metadata": {},
   "outputs": [],
   "source": [
    "model = TfidfModel(corpus)"
   ]
  },
  {
   "cell_type": "code",
   "execution_count": 77,
   "metadata": {},
   "outputs": [],
   "source": [
    "vector = model[corpus[0]]"
   ]
  },
  {
   "cell_type": "code",
   "execution_count": 78,
   "metadata": {},
   "outputs": [],
   "source": [
    "vector_list = list(map(lambda corpus_item: model[corpus_item], corpus))"
   ]
  },
  {
   "cell_type": "code",
   "execution_count": 79,
   "metadata": {},
   "outputs": [
    {
     "data": {
      "text/plain": [
       "True    35930\n",
       "dtype: int64"
      ]
     },
     "execution_count": 79,
     "metadata": {},
     "output_type": "execute_result"
    }
   ],
   "source": [
    "pd.Series(list(map(lambda t2_list: len(set(map(lambda t2: t2[0], t2_list))) == len(t2_list), vector_list))).value_counts()"
   ]
  },
  {
   "cell_type": "code",
   "execution_count": 80,
   "metadata": {},
   "outputs": [
    {
     "data": {
      "text/plain": [
       "38900"
      ]
     },
     "execution_count": 80,
     "metadata": {},
     "output_type": "execute_result"
    }
   ],
   "source": [
    "len(dct.keys())"
   ]
  },
  {
   "cell_type": "code",
   "execution_count": 81,
   "metadata": {},
   "outputs": [],
   "source": [
    "from collections import defaultdict\n",
    "req = defaultdict(list)\n",
    "for t2_list in vector_list:\n",
    "    for t2 in t2_list:\n",
    "        k, v = t2\n",
    "        req[k].append(v)  "
   ]
  },
  {
   "cell_type": "code",
   "execution_count": 82,
   "metadata": {},
   "outputs": [],
   "source": [
    "cnt_dict = dict(map(lambda t2: (t2[0], len(set(t2[-1]))), req.items()))"
   ]
  },
  {
   "cell_type": "code",
   "execution_count": 83,
   "metadata": {},
   "outputs": [
    {
     "data": {
      "text/plain": [
       "1      22135\n",
       "2       5277\n",
       "3       2596\n",
       "4       1507\n",
       "5       1099\n",
       "       ...  \n",
       "233        1\n",
       "201        1\n",
       "564        1\n",
       "596        1\n",
       "863        1\n",
       "Length: 348, dtype: int64"
      ]
     },
     "execution_count": 83,
     "metadata": {},
     "output_type": "execute_result"
    }
   ],
   "source": [
    "pd.Series(list(cnt_dict.values())).value_counts()"
   ]
  },
  {
   "cell_type": "code",
   "execution_count": 84,
   "metadata": {},
   "outputs": [
    {
     "data": {
      "text/plain": [
       "5"
      ]
     },
     "execution_count": 84,
     "metadata": {},
     "output_type": "execute_result"
    }
   ],
   "source": [
    "dct.token2id[train_cut_result[0][0]]"
   ]
  },
  {
   "cell_type": "code",
   "execution_count": null,
   "metadata": {},
   "outputs": [],
   "source": []
  },
  {
   "cell_type": "code",
   "execution_count": 85,
   "metadata": {},
   "outputs": [],
   "source": [
    "def top_filter(filter_num = 20000, by = \"freq\"):\n",
    "    assert by in [\"freq\", \"tf-if-mean\"]\n",
    "    if by == \"tf-idf-mean\":\n",
    "        indices_filtered = list(map(lambda ttt2: ttt2[0] ,sorted(list(map(lambda t2: (t2[0], pd.Series(t2[1]).mean()) ,req.items())), key = lambda tt2: -1 * tt2[-1])))[:filter_num]\n",
    "        return indices_filtered\n",
    "    elif by == \"freq\":\n",
    "        from collections import Counter\n",
    "        cnt = Counter()\n",
    "        for ele in train_cut_result:\n",
    "            cnt.update(ele)\n",
    "        indices_filtered = list(map(lambda t2: dct.token2id[t2[0]] ,cnt.most_common(filter_num)))\n",
    "        return indices_filtered\n",
    "    else:\n",
    "        pass\n",
    "    return None\n",
    "        "
   ]
  },
  {
   "cell_type": "code",
   "execution_count": 86,
   "metadata": {},
   "outputs": [],
   "source": [
    "top_20000 = top_filter()"
   ]
  },
  {
   "cell_type": "code",
   "execution_count": 87,
   "metadata": {},
   "outputs": [
    {
     "data": {
      "text/plain": [
       "(80, 10523, [0.11596477610410169, 0.7695692734659589, 0.500092853687407])"
      ]
     },
     "execution_count": 87,
     "metadata": {},
     "output_type": "execute_result"
    }
   ],
   "source": [
    "top_20000[0], top_20000[-1], list(map(lambda x: pd.Series(req[x]).mean(),[top_20000[0], top_20000[10000], top_20000[-1]]))"
   ]
  },
  {
   "cell_type": "code",
   "execution_count": 88,
   "metadata": {},
   "outputs": [],
   "source": [
    "vector_list_top_20000_filtered = list(map(lambda t2_list: list(filter(lambda t2: t2[0] in top_20000, t2_list)), vector_list))"
   ]
  },
  {
   "cell_type": "code",
   "execution_count": 89,
   "metadata": {},
   "outputs": [
    {
     "data": {
      "text/plain": [
       "<matplotlib.axes._subplots.AxesSubplot at 0x7f889d2cd278>"
      ]
     },
     "execution_count": 89,
     "metadata": {},
     "output_type": "execute_result"
    },
    {
     "data": {
      "image/png": "[encoded data removed]",
      "text/plain": [
       "<Figure size 432x288 with 1 Axes>"
      ]
     },
     "metadata": {
      "needs_background": "light"
     },
     "output_type": "display_data"
    }
   ],
   "source": [
    "import seaborn as sns\n",
    "sns.distplot(list(map(len ,vector_list)))"
   ]
  },
  {
   "cell_type": "code",
   "execution_count": 90,
   "metadata": {},
   "outputs": [
    {
     "data": {
      "text/plain": [
       "<matplotlib.axes._subplots.AxesSubplot at 0x7f889d269908>"
      ]
     },
     "execution_count": 90,
     "metadata": {},
     "output_type": "execute_result"
    },
    {
     "data": {
      "image/png": "[encoded data removed]",
      "text/plain": [
       "<Figure size 432x288 with 1 Axes>"
      ]
     },
     "metadata": {
      "needs_background": "light"
     },
     "output_type": "display_data"
    }
   ],
   "source": [
    "import seaborn as sns\n",
    "sns.distplot(list(map(len, vector_list_top_20000_filtered)))"
   ]
  },
  {
   "cell_type": "code",
   "execution_count": 91,
   "metadata": {},
   "outputs": [],
   "source": [
    "all_filtered_indices = reduce(lambda a, b: a.union(b) ,map(lambda x: set(map(lambda t2: t2[0], x)), vector_list_top_20000_filtered))"
   ]
  },
  {
   "cell_type": "code",
   "execution_count": 92,
   "metadata": {},
   "outputs": [
    {
     "data": {
      "text/plain": [
       "20000"
      ]
     },
     "execution_count": 92,
     "metadata": {},
     "output_type": "execute_result"
    }
   ],
   "source": [
    "len(all_filtered_indices)"
   ]
  },
  {
   "cell_type": "code",
   "execution_count": 93,
   "metadata": {},
   "outputs": [
    {
     "data": {
      "application/vnd.google.colaboratory.intrinsic+json": {
       "type": "string"
      },
      "text/plain": [
       "'电影'"
      ]
     },
     "execution_count": 93,
     "metadata": {},
     "output_type": "execute_result"
    }
   ],
   "source": [
    "dct[top_20000[0]]"
   ]
  },
  {
   "cell_type": "code",
   "execution_count": 94,
   "metadata": {},
   "outputs": [
    {
     "data": {
      "text/plain": [
       "[['好长'],\n",
       " ['佩服'],\n",
       " ['赚钱'],\n",
       " ['电影'],\n",
       " ['好笑'],\n",
       " ['哈哈哈'],\n",
       " ['反思'],\n",
       " ['科幻'],\n",
       " ['精彩'],\n",
       " ['故事'],\n",
       " ['好看'],\n",
       " ['好看'],\n",
       " ['热闹'],\n",
       " ['我尼'],\n",
       " ['特技'],\n",
       " ['豆瓣'],\n",
       " ['给钱'],\n",
       " ['不装'],\n",
       " ['场面'],\n",
       " ['分钟'],\n",
       " ['本应'],\n",
       " ['结尾'],\n",
       " ['不好'],\n",
       " ['恶心'],\n",
       " ['宝宝'],\n",
       " ['一个样'],\n",
       " ['漫威'],\n",
       " ['一帮'],\n",
       " ['剧情'],\n",
       " ['爱情喜剧'],\n",
       " ['广场'],\n",
       " ['中影'],\n",
       " ['失望'],\n",
       " ['无聊'],\n",
       " ['点略'],\n",
       " ['国产电影'],\n",
       " ['剧情'],\n",
       " ['最佳'],\n",
       " ['三观'],\n",
       " ['盛誉'],\n",
       " ['垃圾'],\n",
       " ['太好'],\n",
       " ['意气风发'],\n",
       " ['二刷'],\n",
       " ['妥妥'],\n",
       " ['炸死'],\n",
       " ['不容'],\n",
       " ['张雨'],\n",
       " ['有病'],\n",
       " ['烂片'],\n",
       " ['三观'],\n",
       " ['有没有'],\n",
       " ['适合'],\n",
       " ['国人'],\n",
       " ['取决于'],\n",
       " ['不错'],\n",
       " ['人性'],\n",
       " ['敢不敢'],\n",
       " ['垃圾'],\n",
       " ['无理取闹'],\n",
       " ['各花入'],\n",
       " ['年代'],\n",
       " ['龙城'],\n",
       " ['大哥'],\n",
       " ['少女'],\n",
       " ['太累'],\n",
       " ['木有'],\n",
       " ['哈哈哈哈'],\n",
       " ['学学'],\n",
       " ['太烂'],\n",
       " ['那首歌'],\n",
       " ['直男癌'],\n",
       " ['爆炸'],\n",
       " ['开幕式'],\n",
       " ['辜负'],\n",
       " ['棒子'],\n",
       " ['天地'],\n",
       " ['好看'],\n",
       " ['不错'],\n",
       " ['英雄'],\n",
       " ['新海'],\n",
       " ['好看'],\n",
       " ['见面'],\n",
       " ['终是'],\n",
       " ['好笑'],\n",
       " ['友情'],\n",
       " ['期待'],\n",
       " ['猪肉'],\n",
       " ['复仇者'],\n",
       " ['新海'],\n",
       " ['两次'],\n",
       " ['一句'],\n",
       " ['很棒'],\n",
       " ['小铁'],\n",
       " ['十亿'],\n",
       " ['玩意'],\n",
       " ['打分'],\n",
       " ['这车'],\n",
       " ['鬼吹灯'],\n",
       " ['抱抱'],\n",
       " ['秋风'],\n",
       " ['小萝卜'],\n",
       " ['搞笑'],\n",
       " ['尴尬'],\n",
       " ['目测'],\n",
       " ['超赞'],\n",
       " ['一圈'],\n",
       " ['梦幻'],\n",
       " ['尴尬'],\n",
       " ['一颗'],\n",
       " ['广告'],\n",
       " ['坑钱'],\n",
       " ['女追男'],\n",
       " ['毕业'],\n",
       " ['四国'],\n",
       " ['這麼'],\n",
       " ['怎能'],\n",
       " ['剧情'],\n",
       " ['脏话'],\n",
       " ['错过'],\n",
       " ['好看'],\n",
       " ['无聊'],\n",
       " ['低于'],\n",
       " ['大为'],\n",
       " ['剧情'],\n",
       " ['特效'],\n",
       " ['赵薇'],\n",
       " ['绿巨人'],\n",
       " ['打打'],\n",
       " ['哈哈哈'],\n",
       " ['老少皆宜'],\n",
       " ['美队'],\n",
       " ['挺萌'],\n",
       " ['今晚'],\n",
       " ['中国'],\n",
       " ['实在'],\n",
       " ['喜欢'],\n",
       " ['爱看'],\n",
       " ['我手'],\n",
       " ['纪念'],\n",
       " ['哈哈哈'],\n",
       " ['剧情'],\n",
       " ['为啥'],\n",
       " ['傻子'],\n",
       " ['不俗'],\n",
       " ['不错'],\n",
       " ['评分'],\n",
       " ['票房'],\n",
       " ['温柔'],\n",
       " ['短评'],\n",
       " ['还行'],\n",
       " ['有没有'],\n",
       " ['期待'],\n",
       " ['兔子'],\n",
       " ['生活'],\n",
       " ['绿巨人'],\n",
       " ['白天'],\n",
       " ['年月日'],\n",
       " ['套路'],\n",
       " ['成龙'],\n",
       " ['电影'],\n",
       " ['丧尸'],\n",
       " ['剧情'],\n",
       " ['终于'],\n",
       " ['狐狸'],\n",
       " ['冷笑'],\n",
       " ['酒店'],\n",
       " ['讨人喜欢'],\n",
       " ['烂片'],\n",
       " ['媒体'],\n",
       " ['开心'],\n",
       " ['网上'],\n",
       " ['重来'],\n",
       " ['可爱'],\n",
       " ['重逢'],\n",
       " ['家明'],\n",
       " ['一锅粥'],\n",
       " ['烂片'],\n",
       " ['輿論'],\n",
       " ['说实话'],\n",
       " ['垃圾'],\n",
       " ['看點'],\n",
       " ['一星'],\n",
       " ['愉快'],\n",
       " ['梦想'],\n",
       " ['脱衣服'],\n",
       " ['李珥'],\n",
       " ['喜欢'],\n",
       " ['本来'],\n",
       " ['特效'],\n",
       " ['哈哈哈'],\n",
       " ['力气'],\n",
       " ['仇者'],\n",
       " ['两下'],\n",
       " ['江流'],\n",
       " ['唐尼'],\n",
       " ['科幻'],\n",
       " ['祖国'],\n",
       " ['老鼠屎'],\n",
       " ['光头'],\n",
       " ['妙不可言'],\n",
       " ['好看'],\n",
       " ['难看'],\n",
       " ['好歹'],\n",
       " ['很帅'],\n",
       " ['搞笑'],\n",
       " ['续集'],\n",
       " ['问候'],\n",
       " ['电视剧'],\n",
       " ['漫威粉'],\n",
       " ['原著'],\n",
       " ['意外'],\n",
       " ['红红火火'],\n",
       " ['鼓掌'],\n",
       " ['隐忍'],\n",
       " ['好帅'],\n",
       " ['意识形态'],\n",
       " ['闺蜜'],\n",
       " ['广告'],\n",
       " ['下雪'],\n",
       " ['比降'],\n",
       " ['尴尬'],\n",
       " ['费霞'],\n",
       " ['罗伯特'],\n",
       " ['玩意'],\n",
       " ['睡着'],\n",
       " ['不错'],\n",
       " ['哈哈哈'],\n",
       " ['一星'],\n",
       " ['吵吵'],\n",
       " ['台词'],\n",
       " ['情怀'],\n",
       " ['大法'],\n",
       " ['好笑'],\n",
       " ['电影'],\n",
       " ['始终'],\n",
       " ['剧情'],\n",
       " ['青春'],\n",
       " ['笑笑'],\n",
       " ['绿巨人'],\n",
       " ['翻译'],\n",
       " ['五星'],\n",
       " ['评分'],\n",
       " ['大黑'],\n",
       " ['看不下去'],\n",
       " ['河水'],\n",
       " ['垃圾'],\n",
       " ['好看'],\n",
       " ['最佳'],\n",
       " ['情节'],\n",
       " ['纽约'],\n",
       " ['尼克'],\n",
       " ['无辜'],\n",
       " ['新海'],\n",
       " ['短评'],\n",
       " ['萝莉'],\n",
       " ['朋友'],\n",
       " ['搞笑'],\n",
       " ['大哥'],\n",
       " ['保护环境'],\n",
       " ['喜欢'],\n",
       " ['喜欢'],\n",
       " ['太虐'],\n",
       " ['斯嘉丽'],\n",
       " ['月光宝盒'],\n",
       " ['粗糙'],\n",
       " ['平淡'],\n",
       " ['机器人'],\n",
       " ['惊心动魄'],\n",
       " ['搞笑'],\n",
       " ['仓鼠'],\n",
       " ['安静'],\n",
       " ['好笑'],\n",
       " ['漏洞百出'],\n",
       " ['刺激'],\n",
       " ['霸天虎'],\n",
       " ['学生'],\n",
       " ['喂狗'],\n",
       " ['之作'],\n",
       " ['片子'],\n",
       " ['爆米花'],\n",
       " ['功劳'],\n",
       " ['冬雨'],\n",
       " ['盛名之下'],\n",
       " ['异地'],\n",
       " ['真的'],\n",
       " ['看不下去'],\n",
       " ['生硬'],\n",
       " ['俗气'],\n",
       " ['女主'],\n",
       " ['各路'],\n",
       " ['博里'],\n",
       " ['我滴'],\n",
       " ['难过'],\n",
       " ['不爱'],\n",
       " ['宛如'],\n",
       " ['特效'],\n",
       " ['真的'],\n",
       " ['套路'],\n",
       " ['柯震东'],\n",
       " ['笑点'],\n",
       " ['资格'],\n",
       " ['关门'],\n",
       " ['哈哈哈哈'],\n",
       " ['一星'],\n",
       " ['观影'],\n",
       " ['睡觉'],\n",
       " ['一无是处'],\n",
       " ['欢乐'],\n",
       " ['浪费'],\n",
       " ['世界'],\n",
       " ['僵尸'],\n",
       " ['没看'],\n",
       " ['格温妮'],\n",
       " ['续集'],\n",
       " ['哈哈哈'],\n",
       " ['没意思'],\n",
       " ['好看'],\n",
       " ['惩罚'],\n",
       " ['小妖精'],\n",
       " ['好看'],\n",
       " ['住姐'],\n",
       " ['成长'],\n",
       " ['桌面'],\n",
       " ['我要'],\n",
       " ['倾向'],\n",
       " ['打打'],\n",
       " ['平淡无奇'],\n",
       " ['名为'],\n",
       " ['哈哈哈哈'],\n",
       " ['潇林'],\n",
       " ['适合'],\n",
       " ['犹如'],\n",
       " ['大黄蜂'],\n",
       " ['標準'],\n",
       " ['小辣椒'],\n",
       " ['啪啪'],\n",
       " ['才气'],\n",
       " ['怎么回事'],\n",
       " ['电影'],\n",
       " ['打分'],\n",
       " ['搞笑'],\n",
       " ['一部'],\n",
       " ['电影院'],\n",
       " ['奇葩'],\n",
       " ['苏有朋'],\n",
       " ['赞赞'],\n",
       " ['焦点'],\n",
       " ['红孩儿'],\n",
       " ['评分'],\n",
       " ['幻视'],\n",
       " ['杨洋'],\n",
       " ['大地'],\n",
       " ['我滴'],\n",
       " ['感情'],\n",
       " ['好看'],\n",
       " ['好评'],\n",
       " ['漫画'],\n",
       " ['三观'],\n",
       " ['火车'],\n",
       " ['平庸'],\n",
       " ['强大'],\n",
       " ['配乐'],\n",
       " ['一颗'],\n",
       " ['不错'],\n",
       " ['可爱'],\n",
       " ['剧情'],\n",
       " ['十足'],\n",
       " ['欢乐'],\n",
       " ['瞬间'],\n",
       " ['不错'],\n",
       " ['缘分'],\n",
       " ['令人'],\n",
       " ['木头'],\n",
       " ['喜欢'],\n",
       " ['平淡无奇'],\n",
       " ['烂片'],\n",
       " ['垃圾'],\n",
       " ['打打'],\n",
       " ['好莱坞'],\n",
       " ['看过'],\n",
       " ['喜欢'],\n",
       " ['一星'],\n",
       " ['平庸'],\n",
       " ['星爷'],\n",
       " ['醒来'],\n",
       " ['英雄'],\n",
       " ['起來'],\n",
       " ['美美'],\n",
       " ['中文版'],\n",
       " ['可惜'],\n",
       " ['矮马'],\n",
       " ['鏡頭還'],\n",
       " ['不脑'],\n",
       " ['河南'],\n",
       " ['赞赞'],\n",
       " ['看客'],\n",
       " ['友情'],\n",
       " ['加油'],\n",
       " ['圈粉'],\n",
       " ['多烂'],\n",
       " ['钢铁'],\n",
       " ['残粉'],\n",
       " ['钢铁'],\n",
       " ['泪奔'],\n",
       " ['难看'],\n",
       " ['希望'],\n",
       " ['特别'],\n",
       " ['明白'],\n",
       " ['童话'],\n",
       " ['十分钟'],\n",
       " ['龙龙'],\n",
       " ['感动'],\n",
       " ['分拉'],\n",
       " ['成龙'],\n",
       " ['眼红'],\n",
       " ['长城'],\n",
       " ['看頭'],\n",
       " ['不忍'],\n",
       " ['三星'],\n",
       " ['套路'],\n",
       " ['不适'],\n",
       " ['啊啊啊'],\n",
       " ['两星'],\n",
       " ['无聊'],\n",
       " ['厦门'],\n",
       " ['很烂'],\n",
       " ['啊啊啊'],\n",
       " ['电影院'],\n",
       " ['妮妮'],\n",
       " ['睡着'],\n",
       " ['爆米花'],\n",
       " ['故事'],\n",
       " ['喜欢'],\n",
       " ['难看'],\n",
       " ['唐尼'],\n",
       " ['没完'],\n",
       " ['几人'],\n",
       " ['打打'],\n",
       " ['还行'],\n",
       " ['喜欢'],\n",
       " ['乌托邦'],\n",
       " ['加一星'],\n",
       " ['抓住'],\n",
       " ['睡着'],\n",
       " ['西游'],\n",
       " ['干嘛'],\n",
       " ['一半'],\n",
       " ['不错'],\n",
       " ['垃圾'],\n",
       " ['回来'],\n",
       " ['画面'],\n",
       " ['王宝强'],\n",
       " ['说错'],\n",
       " ['好看'],\n",
       " ['退一步'],\n",
       " ['打打'],\n",
       " ['一向'],\n",
       " ['追梦者'],\n",
       " ['刷新'],\n",
       " ['结局'],\n",
       " ['分数'],\n",
       " ['子弹'],\n",
       " ['期待'],\n",
       " ['哈哈哈'],\n",
       " ['很烂'],\n",
       " ['好看'],\n",
       " ['作品'],\n",
       " ['看不懂'],\n",
       " ['哈哈哈'],\n",
       " ['四星'],\n",
       " ['下次'],\n",
       " ['烂片'],\n",
       " ['齐天大圣'],\n",
       " ['西游'],\n",
       " ['真不错'],\n",
       " ['周星驰'],\n",
       " ['喜欢'],\n",
       " ['一堆'],\n",
       " ['不早'],\n",
       " ['心情'],\n",
       " ['精彩'],\n",
       " ['上海滩'],\n",
       " ['价值观'],\n",
       " ['打个'],\n",
       " ['中影'],\n",
       " ['斗篷'],\n",
       " ['之怒'],\n",
       " ['相近'],\n",
       " ['明白'],\n",
       " ['无趣'],\n",
       " ['片名'],\n",
       " ['撕得'],\n",
       " ['火爆'],\n",
       " ['残粉'],\n",
       " ['好看'],\n",
       " ['烂烂'],\n",
       " ['豆瓣'],\n",
       " ['吴彦祖'],\n",
       " ['演员'],\n",
       " ['害人'],\n",
       " ['期待值'],\n",
       " ['呻吟'],\n",
       " ['爱看'],\n",
       " ['几分钟'],\n",
       " ['不到'],\n",
       " ['魂斗罗'],\n",
       " ['景甜'],\n",
       " ['烂片'],\n",
       " ['没法'],\n",
       " ['幼稚'],\n",
       " ['好笑'],\n",
       " ['好看'],\n",
       " ['看得见'],\n",
       " ['大写'],\n",
       " ['气疯'],\n",
       " ['剧情'],\n",
       " ['青春'],\n",
       " ['佩服'],\n",
       " ['凸凸'],\n",
       " ['垃圾'],\n",
       " ['开头'],\n",
       " ['色彩'],\n",
       " ['好看'],\n",
       " ['巧克力'],\n",
       " ['胸好'],\n",
       " ['愛情'],\n",
       " ['喜欢'],\n",
       " ['男孩子'],\n",
       " ['一星'],\n",
       " ['一半'],\n",
       " ['畫片'],\n",
       " ['有趣'],\n",
       " ['一份'],\n",
       " ['出彩'],\n",
       " ['难看'],\n",
       " ['失望'],\n",
       " ['下次'],\n",
       " ['科技'],\n",
       " ['此片'],\n",
       " ['要死'],\n",
       " ['感觉'],\n",
       " ['多烂'],\n",
       " ['矫情'],\n",
       " ['先锋'],\n",
       " ['系列'],\n",
       " ['人民日报'],\n",
       " ['阳光'],\n",
       " ['好多'],\n",
       " ['好看'],\n",
       " ['可惜'],\n",
       " ['圈钱'],\n",
       " ['垃圾'],\n",
       " ['科幻'],\n",
       " ['呀呀'],\n",
       " ['感谢'],\n",
       " ['蛮帅'],\n",
       " ['屯儿'],\n",
       " ['不停'],\n",
       " ['长镜头'],\n",
       " ['电影'],\n",
       " ['一部'],\n",
       " ['人心'],\n",
       " ['推荐'],\n",
       " ['狗血'],\n",
       " ['动物'],\n",
       " ['小雨'],\n",
       " ['电视剧'],\n",
       " ['树獭'],\n",
       " ['中国'],\n",
       " ['恶心'],\n",
       " ['喜欢'],\n",
       " ['垃圾'],\n",
       " ['热血'],\n",
       " ['垃圾'],\n",
       " ['五星'],\n",
       " ['无感'],\n",
       " ['罗伯特'],\n",
       " ['零分'],\n",
       " ['姿态'],\n",
       " ['重重的'],\n",
       " ['残粉'],\n",
       " ['真情'],\n",
       " ['什麼'],\n",
       " ['评分'],\n",
       " ['故事'],\n",
       " ['分数'],\n",
       " ['星半'],\n",
       " ['一星'],\n",
       " ['瞎编'],\n",
       " ['还好'],\n",
       " ['情节'],\n",
       " ['妮妮'],\n",
       " ['念念'],\n",
       " ['打打'],\n",
       " ['鼻头']]"
      ]
     },
     "execution_count": 94,
     "metadata": {},
     "output_type": "execute_result"
    }
   ],
   "source": [
    "list(map(lambda xx :list(map(lambda t2: dct[t2[0]], xx) ),filter(lambda x:x if len(x) == 1 else None, vector_list_top_20000_filtered)))"
   ]
  },
  {
   "cell_type": "code",
   "execution_count": 95,
   "metadata": {},
   "outputs": [],
   "source": [
    "#unique_elements, unique_counts = np.unique(np.asarray(train_vec_data.todense()), return_counts=True)"
   ]
  },
  {
   "cell_type": "code",
   "execution_count": 96,
   "metadata": {},
   "outputs": [
    {
     "data": {
      "text/plain": [
       "0.00041883801836905095"
      ]
     },
     "execution_count": 96,
     "metadata": {},
     "output_type": "execute_result"
    }
   ],
   "source": [
    "train_vec_data.count_nonzero() / (train_vec_data.shape[0] * train_vec_data.shape[1])"
   ]
  },
  {
   "cell_type": "code",
   "execution_count": 97,
   "metadata": {},
   "outputs": [],
   "source": [
    "unique_stats_list = list(map(lambda r_idx: len(np.unique(np.asarray(train_vec_data[r_idx].todense()))) ,range(train_vec_data.shape[0])))"
   ]
  },
  {
   "cell_type": "code",
   "execution_count": 98,
   "metadata": {},
   "outputs": [
    {
     "data": {
      "text/plain": [
       "3     5553\n",
       "4     4644\n",
       "5     3718\n",
       "6     3017\n",
       "7     2554\n",
       "8     1965\n",
       "9     1667\n",
       "10    1392\n",
       "11    1254\n",
       "12    1075\n",
       "13     970\n",
       "14     841\n",
       "15     755\n",
       "16     702\n",
       "2      641\n",
       "17     612\n",
       "18     501\n",
       "19     497\n",
       "20     465\n",
       "21     442\n",
       "23     409\n",
       "22     392\n",
       "24     350\n",
       "25     320\n",
       "26     269\n",
       "27     221\n",
       "28     182\n",
       "29     136\n",
       "30     100\n",
       "31      69\n",
       "32      58\n",
       "33      46\n",
       "34      37\n",
       "1       32\n",
       "35      15\n",
       "36      14\n",
       "37       8\n",
       "38       5\n",
       "39       2\n",
       "dtype: int64"
      ]
     },
     "execution_count": 98,
     "metadata": {},
     "output_type": "execute_result"
    }
   ],
   "source": [
    "pd.Series(unique_stats_list).value_counts()"
   ]
  },
  {
   "cell_type": "code",
   "execution_count": 99,
   "metadata": {},
   "outputs": [
    {
     "data": {
      "text/plain": [
       "<matplotlib.axes._subplots.AxesSubplot at 0x7f889d1cdbe0>"
      ]
     },
     "execution_count": 99,
     "metadata": {},
     "output_type": "execute_result"
    },
    {
     "data": {
      "image/png": "[encoded data removed]",
      "text/plain": [
       "<Figure size 432x288 with 1 Axes>"
      ]
     },
     "metadata": {
      "needs_background": "light"
     },
     "output_type": "display_data"
    }
   ],
   "source": [
    "import seaborn as sns\n",
    "sns.distplot(unique_stats_list)"
   ]
  },
  {
   "cell_type": "code",
   "execution_count": 100,
   "metadata": {},
   "outputs": [
    {
     "data": {
      "text/plain": [
       "4    7516\n",
       "3    7357\n",
       "5    7184\n",
       "2    7062\n",
       "1    6811\n",
       "dtype: int64"
      ]
     },
     "execution_count": 100,
     "metadata": {},
     "output_type": "execute_result"
    }
   ],
   "source": [
    "pd.Series(train_labels).value_counts()"
   ]
  },
  {
   "cell_type": "code",
   "execution_count": 101,
   "metadata": {},
   "outputs": [],
   "source": [
    "def label_normalize_func(label_array):\n",
    "    if type(label_array) != type(np.array([0])):\n",
    "        label_array = np.asarray(label_array)\n",
    "    return (label_array - label_array.min()) / (label_array.max() - label_array.min())"
   ]
  },
  {
   "cell_type": "code",
   "execution_count": 102,
   "metadata": {},
   "outputs": [
    {
     "data": {
      "text/plain": [
       "<matplotlib.axes._subplots.AxesSubplot at 0x7f889d116940>"
      ]
     },
     "execution_count": 102,
     "metadata": {},
     "output_type": "execute_result"
    },
    {
     "data": {
      "image/png": "[encoded data removed]",
      "text/plain": [
       "<Figure size 432x288 with 1 Axes>"
      ]
     },
     "metadata": {
      "needs_background": "light"
     },
     "output_type": "display_data"
    }
   ],
   "source": [
    "import seaborn as sns\n",
    "sns.distplot(label_normalize_func(train_labels))"
   ]
  },
  {
   "cell_type": "code",
   "execution_count": 104,
   "metadata": {},
   "outputs": [
    {
     "data": {
      "text/plain": [
       "['train_cut_result',\n",
       " 'train_data',\n",
       " 'train_labels',\n",
       " 'train_test_split',\n",
       " 'train_vec_data']"
      ]
     },
     "execution_count": 104,
     "metadata": {},
     "output_type": "execute_result"
    }
   ],
   "source": [
    "list(filter(lambda x: x.startswith(\"train\"), dir()))"
   ]
  },
  {
   "cell_type": "code",
   "execution_count": 107,
   "metadata": {},
   "outputs": [],
   "source": [
    "test_labels = test_label\n",
    "import pickle as pkl\n",
    "serlize_dict = {\n",
    "   \"train_data\": train_data,\n",
    "    \"train_cut_result\": train_cut_result,\n",
    "    \"train_labels\": train_labels,\n",
    "    \"train_vec_data\": train_vec_data,\n",
    "    \n",
    "    \"test_data\": test_data,\n",
    "    \"test_cut_result\": test_cut_result,\n",
    "    \"test_labels\": test_labels,\n",
    "    \"test_vec_data\": test_vec_data,\n",
    "}\n",
    "with open(\"douban_data.pkl\", \"wb\") as f:\n",
    "    pkl.dump(serlize_dict, f)"
   ]
  },
  {
   "cell_type": "code",
   "execution_count": null,
   "metadata": {},
   "outputs": [
    {
     "name": "stdout",
     "output_type": "stream",
     "text": [
      "'/content/gdrive/My Drive/douban_data.pkl'\n",
      "'/content/gdrive/My Drive/serlize_m_dict_bu_reg.pkl'\n",
      "'/content/gdrive/My Drive/serlize_m_dict_total.pkl'\n"
     ]
    }
   ],
   "source": [
    "#!ls -lah --block-size=M\n",
    "#!cp douban_data.pkl /content/gdrive/'My Drive'\n",
    "#!ls /content/gdrive/'My Drive'/*.pkl"
   ]
  },
  {
   "cell_type": "code",
   "execution_count": 106,
   "metadata": {},
   "outputs": [],
   "source": [
    "n_categories = 5\n",
    "learning_rate = 0.001\n",
    "criterion = nn.CrossEntropyLoss()\n",
    "epochs = 3\n",
    "batch_size = 100"
   ]
  },
  {
   "cell_type": "code",
   "execution_count": 81,
   "metadata": {},
   "outputs": [
    {
     "data": {
      "text/plain": [
       "tensor([1.], device='cuda:0')"
      ]
     },
     "execution_count": 81,
     "metadata": {},
     "output_type": "execute_result"
    }
   ],
   "source": [
    "torch.Tensor([1]).cuda()"
   ]
  },
  {
   "cell_type": "code",
   "execution_count": 82,
   "metadata": {},
   "outputs": [],
   "source": [
    "#os.environ['CUDA_LAUNCH_BLOCKING'] = '1'"
   ]
  },
  {
   "cell_type": "code",
   "execution_count": 83,
   "metadata": {},
   "outputs": [],
   "source": [
    "class TxtDataset(Dataset):\n",
    "    def __init__(self, VectData, labels):\n",
    "        self.VectData = VectData\n",
    "        self.labels = labels\n",
    "        #self.use_cuda = use_cuda\n",
    "    def __getitem__(self, index):\n",
    "        ##### -> [0, 1, 2, 3, 4]\n",
    "        '''\n",
    "        if self.use_cuda:\n",
    "            return torch.Tensor(self.VectData[index].toarray()).cuda(), torch.Tensor(self.labels[index] - 1).cuda()\n",
    "        '''\n",
    "        return self.VectData[index].toarray(), self.labels[index] - 1\n",
    "    def __len__(self):\n",
    "        return len(self.labels)"
   ]
  },
  {
   "cell_type": "code",
   "execution_count": 84,
   "metadata": {},
   "outputs": [],
   "source": [
    "train_dataset = TxtDataset(train_vec_data, train_labels, )\n",
    "train_dataloader = DataLoader(train_dataset, batch_size=batch_size,\n",
    "                         shuffle = True, num_workers = 1)\n",
    "test_labels = test_label\n",
    "test_dataset  = TxtDataset(test_vec_data, test_labels, )\n",
    "test_dataloader = DataLoader(test_dataset, batch_size = batch_size,\n",
    "                        shuffle = False, num_workers = 1)"
   ]
  },
  {
   "cell_type": "code",
   "execution_count": 85,
   "metadata": {},
   "outputs": [],
   "source": [
    "req_data, req_label = [None] * 2 \n",
    "for data, label in train_dataloader:\n",
    "    #for item in train_dataloader:\n",
    "    #req_data = item\n",
    "    \n",
    "    req_data, req_label = data, label\n",
    "    req_data = req_data\n",
    "    req_label = req_label\n",
    "    break"
   ]
  },
  {
   "cell_type": "code",
   "execution_count": 86,
   "metadata": {},
   "outputs": [
    {
     "data": {
      "text/plain": [
       "True"
      ]
     },
     "execution_count": 86,
     "metadata": {},
     "output_type": "execute_result"
    }
   ],
   "source": [
    "torch.cuda.is_available()"
   ]
  },
  {
   "cell_type": "code",
   "execution_count": 87,
   "metadata": {},
   "outputs": [],
   "source": [
    "device = torch.device(\"cuda:0\")"
   ]
  },
  {
   "cell_type": "code",
   "execution_count": 88,
   "metadata": {},
   "outputs": [],
   "source": [
    "device = torch.device(\"cuda\" if torch.cuda.is_available() else \"cpu\")"
   ]
  },
  {
   "cell_type": "code",
   "execution_count": 89,
   "metadata": {},
   "outputs": [
    {
     "data": {
      "text/plain": [
       "device(type='cuda')"
      ]
     },
     "execution_count": 89,
     "metadata": {},
     "output_type": "execute_result"
    }
   ],
   "source": [
    "device"
   ]
  },
  {
   "cell_type": "code",
   "execution_count": 100,
   "metadata": {},
   "outputs": [],
   "source": [
    "class TxtModel(nn.Module):\n",
    "    def __init__(self, input_size, output_size):\n",
    "        super(TxtModel, self).__init__()\n",
    "        self.classifier = nn.Sequential(\n",
    "            nn.Linear(input_size, 1024),\n",
    "            nn.ReLU(inplace=True),\n",
    "            nn.Dropout(),\n",
    "            nn.Linear(1024, 1024),\n",
    "            nn.ReLU(inplace=True),\n",
    "            nn.Dropout(),\n",
    "            nn.Linear(1024, 1024),\n",
    "            nn.ReLU(inplace=True),\n",
    "            nn.Dropout(),\n",
    "            nn.Linear(1024, 512),\n",
    "            nn.ReLU(inplace=True),\n",
    "            nn.Dropout(),\n",
    "            nn.Linear(512, output_size)\n",
    "        )\n",
    "\n",
    "    def forward(self, x):\n",
    "        output = self.classifier(x.double())\n",
    "        return output.squeeze(1)"
   ]
  },
  {
   "cell_type": "code",
   "execution_count": 112,
   "metadata": {},
   "outputs": [
    {
     "name": "stderr",
     "output_type": "stream",
     "text": [
      "/usr/local/lib/python3.6/dist-packages/ipykernel_launcher.py:28: TqdmDeprecationWarning: This function will be removed in tqdm==5.0.0\n",
      "Please use `tqdm.notebook.tqdm` instead of `tqdm.tqdm_notebook`\n"
     ]
    },
    {
     "data": {
      "application/vnd.jupyter.widget-view+json": {
       "model_id": "a37829c9115d451d8a4fe8d737867041",
       "version_major": 2,
       "version_minor": 0
      },
      "text/plain": [
       "HBox(children=(FloatProgress(value=0.0, max=360.0), HTML(value='')))"
      ]
     },
     "metadata": {},
     "output_type": "display_data"
    },
    {
     "name": "stdout",
     "output_type": "stream",
     "text": [
      "\n",
      "epoch 0/3:\n",
      "training loss: 0.015015671649393462, time resumed 30.09782099723816s\n",
      "testing loss: 0.01398828989102249, time resumed 3.3364431858062744s, accuracy: 0.7650609142729407\n"
     ]
    },
    {
     "data": {
      "application/vnd.jupyter.widget-view+json": {
       "model_id": "3ecf3ae47e2c4513983e36590ef5d8f9",
       "version_major": 2,
       "version_minor": 0
      },
      "text/plain": [
       "HBox(children=(FloatProgress(value=0.0, max=360.0), HTML(value='')))"
      ]
     },
     "metadata": {},
     "output_type": "display_data"
    },
    {
     "name": "stdout",
     "output_type": "stream",
     "text": [
      "\n",
      "epoch 1/3:\n",
      "training loss: 0.013321738546378328, time resumed 29.830407857894897s\n",
      "testing loss: 0.013681012893439542, time resumed 3.2757697105407715s, accuracy: 0.7667374538951603\n"
     ]
    },
    {
     "data": {
      "application/vnd.jupyter.widget-view+json": {
       "model_id": "8ebbeeb13745451bad11c7209be34cad",
       "version_major": 2,
       "version_minor": 0
      },
      "text/plain": [
       "HBox(children=(FloatProgress(value=0.0, max=360.0), HTML(value='')))"
      ]
     },
     "metadata": {},
     "output_type": "display_data"
    },
    {
     "name": "stdout",
     "output_type": "stream",
     "text": [
      "\n",
      "epoch 2/3:\n",
      "training loss: 0.011916064114647745, time resumed 29.81673312187195s\n",
      "testing loss: 0.01368438597334216, time resumed 3.3043246269226074s, accuracy: 0.7582429864759137\n"
     ]
    }
   ],
   "source": [
    "#n_dim = 20000\n",
    "model = TxtModel(n_dim, 5)\n",
    "optimizer = torch.optim.Adamax(\n",
    "    model.parameters(), lr = learning_rate\n",
    ")\n",
    "exp_lr_scheduler = lr_scheduler.StepLR(\n",
    "    optimizer, step_size = int(epochs / 2), gamma = 0.1\n",
    ")\n",
    "\n",
    "model = model.double()\n",
    "model = model.to(device)\n",
    "best_model = copy.deepcopy(model)\n",
    "best_accuracy = 0.0\n",
    "\n",
    "save_dir = \"torch_save\"\n",
    "if not os.path.exists(save_dir):\n",
    "    os.mkdir(save_dir)\n",
    "\n",
    "save_path = os.path.join(save_dir, \"iter_3\")\n",
    "    \n",
    "epochs = 3\n",
    "for epoch in range(epochs):\n",
    "    exp_lr_scheduler.step()\n",
    "    model.train()\n",
    "    loss_total = 0\n",
    "    st = time.time()\n",
    "    # train_dataloader 加载数据集\n",
    "    for data, label in tqdm_notebook(train_dataloader):\n",
    "        output = model(data.to(device))\n",
    "        # 计算损失\n",
    "        loss = criterion(output, label.to(device))\n",
    "        optimizer.zero_grad()\n",
    "        # 反向传播\n",
    "        loss.backward()\n",
    "        optimizer.step()\n",
    "        loss_total += loss.item()\n",
    "\n",
    "    # 输出损失、训练时间等\n",
    "    print('epoch {}/{}:'.format(epoch, epochs))\n",
    "    print('training loss: {}, time resumed {}s'.format(\n",
    "        loss_total/len(train_dataset), time.time()-st))\n",
    "\n",
    "    model.eval()\n",
    "\n",
    "    loss_total = 0\n",
    "    st = time.time()\n",
    "\n",
    "    correct = 0\n",
    "    for data, label in test_dataloader:\n",
    "        output = model(data.to(device)).to(device)\n",
    "        loss = criterion(output.to(device), label.to(device))\n",
    "        loss_total += loss.item()\n",
    "\n",
    "        _, predicted = torch.max(output.data, 1)\n",
    "        \n",
    "        \n",
    "        #correct += (predicted == label.to(device)).sum().item()\n",
    "        correct += ((predicted < 2) == (label.to(device) < 2)).sum().item()\n",
    "    # 如果准确度取得最高，则保存准确度最高的模型\n",
    "    if correct/len(test_dataset) > best_accuracy:\n",
    "        best_model = copy.deepcopy(model)\n",
    "\n",
    "    print('testing loss: {}, time resumed {}s, accuracy: {}'.format(\n",
    "        loss_total/len(test_dataset), time.time()-st, correct/len(test_dataset)))\n",
    "    \n",
    "    torch.save(model.state_dict(), save_path)"
   ]
  },
  {
   "cell_type": "code",
   "execution_count": null,
   "metadata": {},
   "outputs": [],
   "source": []
  }
 ],
 "metadata": {
  "kernelspec": {
   "display_name": "Python 3",
   "language": "python",
   "name": "python3"
  },
  "language_info": {
   "codemirror_mode": {
    "name": "ipython",
    "version": 3
   },
   "file_extension": ".py",
   "mimetype": "text/x-python",
   "name": "python",
   "nbconvert_exporter": "python",
   "pygments_lexer": "ipython3",
   "version": "3.7.1"
  }
 },
 "nbformat": 4,
 "nbformat_minor": 4
}
