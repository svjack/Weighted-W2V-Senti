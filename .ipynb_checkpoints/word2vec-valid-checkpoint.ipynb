{
 "cells": [
  {
   "cell_type": "code",
   "execution_count": 1,
   "metadata": {},
   "outputs": [],
   "source": [
    "import numpy as np\n",
    "import pandas as pd\n",
    "import os"
   ]
  },
  {
   "cell_type": "code",
   "execution_count": 2,
   "metadata": {},
   "outputs": [],
   "source": [
    "w2v_model_path = \"douban_w2v_output/w2v_douban.model\""
   ]
  },
  {
   "cell_type": "code",
   "execution_count": 3,
   "metadata": {},
   "outputs": [],
   "source": [
    "from gensim.models import Word2Vec"
   ]
  },
  {
   "cell_type": "code",
   "execution_count": 18,
   "metadata": {},
   "outputs": [
    {
     "name": "stderr",
     "output_type": "stream",
     "text": [
      "/usr/local/lib/python3.6/dist-packages/smart_open/smart_open_lib.py:254: UserWarning: This function is deprecated, use smart_open.open instead. See the migration notes for details: https://github.com/RaRe-Technologies/smart_open/blob/master/README.rst#migrating-to-the-new-open-function\n",
      "  'See the migration notes for details: %s' % _MIGRATION_NOTES_URL\n"
     ]
    }
   ],
   "source": [
    "w2v_model = Word2Vec.load(w2v_model_path)"
   ]
  },
  {
   "cell_type": "code",
   "execution_count": 4,
   "metadata": {},
   "outputs": [
    {
     "name": "stderr",
     "output_type": "stream",
     "text": [
      "/usr/local/lib/python3.6/dist-packages/numpy/lib/arraysetops.py:569: FutureWarning: elementwise comparison failed; returning scalar instead, but in the future will perform elementwise comparison\n",
      "  mask |= (ar1 == a)\n"
     ]
    }
   ],
   "source": [
    "data = pd.read_csv(\"DMSC.csv\", index_col = 0)\n",
    "sample_df = data.groupby(\n",
    "    [\"Movie_Name_CN\", \"Star\"]\n",
    ").apply(\n",
    "    lambda x: x.sample(n = int(2125056/(28*200)), replace = True, random_state = 0)\n",
    ")\n",
    "from sklearn.model_selection import train_test_split\n",
    "comments = sample_df.values[:, 7]\n",
    "star = sample_df.values[:, 6]\n",
    "x_train, x_test, y_train, y_test = train_test_split(\n",
    "    comments, star, test_size = 0.2, random_state = 0\n",
    ")"
   ]
  },
  {
   "cell_type": "code",
   "execution_count": 5,
   "metadata": {},
   "outputs": [
    {
     "name": "stdout",
     "output_type": "stream",
     "text": [
      "--2020-08-07 01:54:13--  https://codeload.github.com/weiyunchen/nlp/zip/master\n",
      "Resolving codeload.github.com (codeload.github.com)... 140.82.114.10\n",
      "Connecting to codeload.github.com (codeload.github.com)|140.82.114.10|:443... connected.\n",
      "HTTP request sent, awaiting response... 200 OK\n",
      "Length: unspecified [application/zip]\n",
      "Saving to: ‘master’\n",
      "\n",
      "master                  [ <=>                ]  75.41K   442KB/s    in 0.2s    \n",
      "\n",
      "2020-08-07 01:54:13 (442 KB/s) - ‘master’ saved [77224]\n",
      "\n"
     ]
    }
   ],
   "source": [
    "!wget -nc \"https://codeload.github.com/weiyunchen/nlp/zip/master\""
   ]
  },
  {
   "cell_type": "code",
   "execution_count": 6,
   "metadata": {},
   "outputs": [
    {
     "name": "stdout",
     "output_type": "stream",
     "text": [
      "Archive:  master\n",
      "78a55b3ff658cd83cd1ae4abbe5fb475507097c3\n",
      "   creating: nlp-master/\n",
      "  inflating: nlp-master/faker.png    \n",
      "  inflating: nlp-master/stopwords.txt  \n"
     ]
    }
   ],
   "source": [
    "!unzip master"
   ]
  },
  {
   "cell_type": "code",
   "execution_count": 10,
   "metadata": {},
   "outputs": [
    {
     "data": {
      "text/plain": [
       "['douban_data.pkl', 'douban_w2v_output', 'douban_comment_cut.txt']"
      ]
     },
     "execution_count": 10,
     "metadata": {},
     "output_type": "execute_result"
    }
   ],
   "source": [
    "from glob import glob\n",
    "glob(\"douban*\")"
   ]
  },
  {
   "cell_type": "code",
   "execution_count": 12,
   "metadata": {},
   "outputs": [
    {
     "name": "stdout",
     "output_type": "stream",
     "text": [
      "read num 100000 set size 71870\n",
      "read num 200000 set size 106359\n",
      "read num 300000 set size 129472\n",
      "read num 400000 set size 146686\n",
      "read num 500000 set size 163406\n",
      "read num 600000 set size 181303\n",
      "read num 700000 set size 197381\n",
      "read num 800000 set size 210911\n",
      "read num 900000 set size 226422\n",
      "read num 1000000 set size 239623\n",
      "read num 1100000 set size 251503\n",
      "read num 1200000 set size 262019\n",
      "read num 1300000 set size 274062\n",
      "read num 1400000 set size 284474\n",
      "read num 1500000 set size 295874\n",
      "read num 1600000 set size 306323\n",
      "read num 1700000 set size 316634\n",
      "read num 1800000 set size 325081\n"
     ]
    }
   ],
   "source": [
    "comment_cut_path = \"douban_comment_cut.txt\"\n",
    "comment_distinct_words = set([])\n",
    "with open(comment_cut_path, \"r\") as f:\n",
    "    idx = 0\n",
    "    while True:\n",
    "        line = f.readline()\n",
    "        if line:\n",
    "            idx += 1\n",
    "            if idx > 0 and idx % 100000 == 0:\n",
    "                print(\"read num {} set size {}\".format(idx, len(comment_distinct_words)))\n",
    "            for w in line.split(\" \"):\n",
    "                comment_distinct_words.add(w)\n",
    "        else:\n",
    "            break\n"
   ]
  },
  {
   "cell_type": "code",
   "execution_count": 13,
   "metadata": {},
   "outputs": [
    {
     "name": "stdout",
     "output_type": "stream",
     "text": [
      "write num 100000\n",
      "write num 200000\n",
      "write num 300000\n"
     ]
    }
   ],
   "source": [
    "import shutil\n",
    "import os\n",
    "wiki_dict_path = 'wiki-dict.txt'\n",
    "if os.path.exists(wiki_dict_path):\n",
    "    os.remove(wiki_dict_path)\n",
    "    \n",
    "with open(wiki_dict_path, 'w') as f:\n",
    "    for idx, w in enumerate(comment_distinct_words):\n",
    "        if hasattr(w, \"text\"):\n",
    "            #### skip entity\n",
    "            f.write(u\"{}\\n\".format(w.text))\n",
    "        if idx > 0 and idx % 100000 == 0:\n",
    "            print(\"write num {}\".format(idx))"
   ]
  },
  {
   "cell_type": "code",
   "execution_count": 14,
   "metadata": {},
   "outputs": [
    {
     "name": "stderr",
     "output_type": "stream",
     "text": [
      "Building prefix dict from the default dictionary ...\n",
      "Dumping model to file cache /tmp/jieba.cache\n",
      "Loading model cost 0.881 seconds.\n",
      "Prefix dict has been built successfully.\n"
     ]
    }
   ],
   "source": [
    "import jieba\n",
    "jieba.load_userdict(wiki_dict_path)"
   ]
  },
  {
   "cell_type": "code",
   "execution_count": 15,
   "metadata": {},
   "outputs": [
    {
     "name": "stderr",
     "output_type": "stream",
     "text": [
      "/usr/local/lib/python3.6/dist-packages/ipykernel_launcher.py:7: TqdmDeprecationWarning: This function will be removed in tqdm==5.0.0\n",
      "Please use `tqdm.notebook.tqdm` instead of `tqdm.tqdm_notebook`\n",
      "  import sys\n"
     ]
    },
    {
     "data": {
      "application/vnd.jupyter.widget-view+json": {
       "model_id": "ed211bc214ac439db3cb332f2edd73c7",
       "version_major": 2,
       "version_minor": 0
      },
      "text/plain": [
       "HBox(children=(FloatProgress(value=0.0, max=42448.0), HTML(value='')))"
      ]
     },
     "metadata": {},
     "output_type": "display_data"
    },
    {
     "name": "stdout",
     "output_type": "stream",
     "text": [
      "\n"
     ]
    },
    {
     "data": {
      "application/vnd.jupyter.widget-view+json": {
       "model_id": "db105e509a454a56933c84f7b28bb452",
       "version_major": 2,
       "version_minor": 0
      },
      "text/plain": [
       "HBox(children=(FloatProgress(value=0.0, max=10612.0), HTML(value='')))"
      ]
     },
     "metadata": {},
     "output_type": "display_data"
    },
    {
     "name": "stdout",
     "output_type": "stream",
     "text": [
      "\n"
     ]
    }
   ],
   "source": [
    "with open(\"nlp-master/stopwords.txt\", \"r\") as f:\n",
    "    stopwords = list(map(lambda line: line.strip(\"\\n\") ,f.readlines()))\n",
    "    \n",
    "def cut(data, labels, stopwords):\n",
    "    result = []\n",
    "    new_labels = []\n",
    "    for index in tqdm_notebook(range(len(data))):\n",
    "        comment = clean_str(data[index])\n",
    "        label = labels[index]\n",
    "        seg_list = jieba.cut(comment, cut_all = False, HMM = True)\n",
    "        seg_list = list(filter(lambda x: x.strip(\"\\n\") if (x not in stopwords and len(x) > 1) else None, seg_list))\n",
    "        if len(seg_list) > 1:\n",
    "            result.append(seg_list)\n",
    "            new_labels.append(label)\n",
    "    return result, new_labels\n",
    "\n",
    "from tqdm import tqdm_notebook\n",
    "import re\n",
    "\n",
    "def clean_str(line):\n",
    "    line.strip('\\n')\n",
    "    line = re.sub(r\"[^\\u4e00-\\u9fff]\", \"\", line)\n",
    "    line = re.sub(\n",
    "        \"[0-9a-zA-Z\\-\\s+\\.\\!\\/_,$%^*\\(\\)\\+(+\\\"\\')]+|[+——！，。？、~@#￥%……&*（）<>\\[\\]:：★◆【】《》;；=?？]+\", \"\", line)\n",
    "    return line.strip()\n",
    "\n",
    "train_cut_result, train_labels = cut(x_train, y_train, stopwords)\n",
    "test_cut_result, test_labels = cut(x_test, y_test, stopwords)"
   ]
  },
  {
   "cell_type": "code",
   "execution_count": 16,
   "metadata": {},
   "outputs": [],
   "source": [
    "def traditional_clf_score(name, train_vec_data, train_labels, test_vec_data, test_labels, use_two_class = True):\n",
    "    train_labels, train_labels = map(np.asarray, [train_labels, train_labels])\n",
    "    if use_two_class:\n",
    "        train_labels, test_labels = map(lambda x: pd.Series(x).map(lambda xx: int(xx <= 2)), [train_labels, test_labels])\n",
    "    clf = None\n",
    "    from sklearn.svm import SVC\n",
    "    from sklearn.tree import DecisionTreeClassifier\n",
    "    from sklearn.naive_bayes import GaussianNB\n",
    "    from sklearn.ensemble import RandomForestClassifier\n",
    "    from sklearn.neural_network import MLPClassifier\n",
    "    from sklearn.metrics import accuracy_score, balanced_accuracy_score\n",
    "    assert name in [\"SVC\", \"decision_tree\", \"NB\", \"random_forest\", \"MLP\"]\n",
    "    if name == \"SVC\":\n",
    "        #clf = SVC(kernel = \"linear\")\n",
    "        clf = SVC(kernel = \"rbf\")\n",
    "    elif name == \"decision_tree\":\n",
    "        clf = DecisionTreeClassifier()\n",
    "    elif name == \"NB\":\n",
    "        clf = GaussianNB()\n",
    "    elif name == \"random_forest\":\n",
    "        clf = RandomForestClassifier(\n",
    "            n_estimators = 100, \n",
    "        )\n",
    "    elif name == \"MLP\":\n",
    "        clf = MLPClassifier(hidden_layer_sizes=(300, 300, 300, 150))\n",
    "    clf.fit(train_vec_data, train_labels)\n",
    "    pred = clf.predict(test_vec_data)\n",
    "    acc_score = accuracy_score(test_labels, pred)\n",
    "    balance_acc_score = balanced_accuracy_score(test_labels, pred)\n",
    "    return {\"acc\": acc_score, \"b_acc\": balance_acc_score}"
   ]
  },
  {
   "cell_type": "code",
   "execution_count": 20,
   "metadata": {},
   "outputs": [
    {
     "data": {
      "text/plain": [
       "{'acc': 0.737006817927797, 'b_acc': 0.6858742214151865}"
      ]
     },
     "execution_count": 20,
     "metadata": {},
     "output_type": "execute_result"
    }
   ],
   "source": [
    "train_mean_list = list(map(lambda x: np.concatenate(list(map(lambda y: w2v_model.wv[y].reshape([1, -1]) if y in w2v_model.wv else np.zeros((1,300)), x) ), axis = 0).mean(axis = 0),train_cut_result))\n",
    "test_mean_list = list(map(lambda x: np.concatenate(list(map(lambda y: w2v_model.wv[y].reshape([1, -1]) if y in w2v_model.wv else np.zeros((1,300)), x) ), axis = 0).mean(axis = 0),test_cut_result))\n",
    "\n",
    "train_X, test_X = np.stack(train_mean_list), np.stack(test_mean_list)\n",
    "train_y, test_y = map(np.asarray, [train_labels, test_labels])\n",
    "traditional_clf_score(\"random_forest\", train_X, train_y, test_X, test_y)"
   ]
  },
  {
   "cell_type": "code",
   "execution_count": 21,
   "metadata": {},
   "outputs": [
    {
     "data": {
      "text/plain": [
       "{'acc': 0.7466189784285235, 'b_acc': 0.7270936525027138}"
      ]
     },
     "execution_count": 21,
     "metadata": {},
     "output_type": "execute_result"
    }
   ],
   "source": [
    "train_y, test_y = map(np.asarray, [train_labels, test_labels])\n",
    "traditional_clf_score(\"MLP\", train_X, train_y, test_X, test_y)"
   ]
  },
  {
   "cell_type": "code",
   "execution_count": 22,
   "metadata": {},
   "outputs": [
    {
     "data": {
      "text/plain": [
       "{'acc': 0.6386498267575724, 'b_acc': 0.6237036469519481}"
      ]
     },
     "execution_count": 22,
     "metadata": {},
     "output_type": "execute_result"
    }
   ],
   "source": [
    "train_y, test_y = map(np.asarray, [train_labels, test_labels])\n",
    "traditional_clf_score(\"decision_tree\", train_X, train_y, test_X, test_y)"
   ]
  },
  {
   "cell_type": "code",
   "execution_count": 23,
   "metadata": {},
   "outputs": [
    {
     "data": {
      "text/plain": [
       "{'acc': 0.628702358332402, 'b_acc': 0.6131570342967492}"
      ]
     },
     "execution_count": 23,
     "metadata": {},
     "output_type": "execute_result"
    }
   ],
   "source": [
    "train_mean_list = list(map(lambda x: np.concatenate(list(map(lambda y: w2v_model.wv[y].reshape([1, -1]) if y in w2v_model.wv else np.zeros((1,300)), x) ), axis = 0).max(axis = 0),train_cut_result))\n",
    "test_mean_list = list(map(lambda x: np.concatenate(list(map(lambda y: w2v_model.wv[y].reshape([1, -1]) if y in w2v_model.wv else np.zeros((1,300)), x) ), axis = 0).max(axis = 0),test_cut_result))\n",
    "\n",
    "train_X, test_X = np.stack(train_mean_list), np.stack(test_mean_list)\n",
    "train_y, test_y = map(np.asarray, [train_labels, test_labels])\n",
    "traditional_clf_score(\"decision_tree\", train_X, train_y, test_X, test_y)"
   ]
  },
  {
   "cell_type": "code",
   "execution_count": 24,
   "metadata": {},
   "outputs": [
    {
     "data": {
      "text/plain": [
       "{'acc': 0.6335084385827652, 'b_acc': 0.6177162763637709}"
      ]
     },
     "execution_count": 24,
     "metadata": {},
     "output_type": "execute_result"
    }
   ],
   "source": [
    "train_mean_list = list(map(lambda x: np.concatenate(list(map(lambda y: w2v_model.wv[y].reshape([1, -1]) if y in w2v_model.wv else np.zeros((1,300)), x) ), axis = 0).min(axis = 0),train_cut_result))\n",
    "test_mean_list = list(map(lambda x: np.concatenate(list(map(lambda y: w2v_model.wv[y].reshape([1, -1]) if y in w2v_model.wv else np.zeros((1,300)), x) ), axis = 0).min(axis = 0),test_cut_result))\n",
    "\n",
    "train_X, test_X = np.stack(train_mean_list), np.stack(test_mean_list)\n",
    "train_y, test_y = map(np.asarray, [train_labels, test_labels])\n",
    "traditional_clf_score(\"decision_tree\", train_X, train_y, test_X, test_y)"
   ]
  },
  {
   "cell_type": "code",
   "execution_count": 25,
   "metadata": {},
   "outputs": [
    {
     "data": {
      "text/plain": [
       "{'acc': 0.6431205990834917, 'b_acc': 0.6247366593897439}"
      ]
     },
     "execution_count": 25,
     "metadata": {},
     "output_type": "execute_result"
    }
   ],
   "source": [
    "train_mean_list = list(map(lambda x: np.concatenate(list(map(lambda y: w2v_model.wv[y].reshape([1, -1]) if y in w2v_model.wv else np.zeros((1,300)), x) ), axis = 0).mean(axis = 0),train_cut_result))\n",
    "test_mean_list = list(map(lambda x: np.concatenate(list(map(lambda y: w2v_model.wv[y].reshape([1, -1]) if y in w2v_model.wv else np.zeros((1,300)), x) ), axis = 0).mean(axis = 0),test_cut_result))\n",
    "\n",
    "train_max_list = list(map(lambda x: np.concatenate(list(map(lambda y: w2v_model.wv[y].reshape([1, -1]) if y in w2v_model.wv else np.zeros((1,300)), x) ), axis = 0).max(axis = 0),train_cut_result))\n",
    "test_max_list = list(map(lambda x: np.concatenate(list(map(lambda y: w2v_model.wv[y].reshape([1, -1]) if y in w2v_model.wv else np.zeros((1,300)), x) ), axis = 0).max(axis = 0),test_cut_result))\n",
    "\n",
    "train_min_list = list(map(lambda x: np.concatenate(list(map(lambda y: w2v_model.wv[y].reshape([1, -1]) if y in w2v_model.wv else np.zeros((1,300)), x) ), axis = 0).min(axis = 0),train_cut_result))\n",
    "test_min_list = list(map(lambda x: np.concatenate(list(map(lambda y: w2v_model.wv[y].reshape([1, -1]) if y in w2v_model.wv else np.zeros((1,300)), x) ), axis = 0).min(axis = 0),test_cut_result))\n",
    "\n",
    "train_mean_X, test_mean_X = np.stack(train_mean_list), np.stack(test_mean_list)\n",
    "train_max_X, test_max_X = np.stack(train_max_list), np.stack(test_max_list)\n",
    "train_min_X, test_min_X = np.stack(train_min_list), np.stack(test_min_list)\n",
    "\n",
    "train_X = np.concatenate([train_mean_X, train_max_X, train_min_X], axis = 1)\n",
    "test_X = np.concatenate([test_mean_X, test_max_X, test_min_X], axis = 1)\n",
    "\n",
    "train_y, test_y = map(np.asarray, [train_labels, test_labels])\n",
    "traditional_clf_score(\"decision_tree\", train_X, train_y, test_X, test_y)"
   ]
  },
  {
   "cell_type": "code",
   "execution_count": 26,
   "metadata": {},
   "outputs": [
    {
     "data": {
      "text/plain": [
       "{'acc': 0.73130658321225, 'b_acc': 0.6746567159532877}"
      ]
     },
     "execution_count": 26,
     "metadata": {},
     "output_type": "execute_result"
    }
   ],
   "source": [
    "traditional_clf_score(\"random_forest\", train_X, train_y, test_X, test_y)"
   ]
  },
  {
   "cell_type": "code",
   "execution_count": 27,
   "metadata": {},
   "outputs": [
    {
     "data": {
      "text/plain": [
       "{'acc': 0.7420364367944562, 'b_acc': 0.7237137904031699}"
      ]
     },
     "execution_count": 27,
     "metadata": {},
     "output_type": "execute_result"
    }
   ],
   "source": [
    "traditional_clf_score(\"MLP\", train_X, train_y, test_X, test_y)"
   ]
  },
  {
   "cell_type": "code",
   "execution_count": null,
   "metadata": {},
   "outputs": [],
   "source": []
  },
  {
   "cell_type": "code",
   "execution_count": 28,
   "metadata": {},
   "outputs": [],
   "source": [
    "train_data, test_data = map(lambda result_list: list(map(lambda x: \" \".join(x), result_list)), [train_cut_result, test_cut_result])"
   ]
  },
  {
   "cell_type": "code",
   "execution_count": 29,
   "metadata": {},
   "outputs": [
    {
     "data": {
      "application/vnd.google.colaboratory.intrinsic+json": {
       "type": "string"
      },
      "text/plain": [
       "'美国 队长 钢铁 好像 摇滚圈 五月天 二手 玫瑰'"
      ]
     },
     "execution_count": 29,
     "metadata": {},
     "output_type": "execute_result"
    }
   ],
   "source": [
    "train_data[0]"
   ]
  },
  {
   "cell_type": "code",
   "execution_count": 31,
   "metadata": {},
   "outputs": [],
   "source": [
    "from gensim.models import TfidfModel\n",
    "from gensim.corpora import Dictionary"
   ]
  },
  {
   "cell_type": "code",
   "execution_count": 32,
   "metadata": {},
   "outputs": [],
   "source": [
    "dct = Dictionary([list(comment_distinct_words)])"
   ]
  },
  {
   "cell_type": "code",
   "execution_count": 33,
   "metadata": {},
   "outputs": [],
   "source": [
    "split_output_dir = \"douban_comment_cut_split\"\n",
    "import shutil\n",
    "if os.path.exists(split_output_dir):\n",
    "    shutil.rmtree(split_output_dir)\n",
    "os.mkdir(split_output_dir)"
   ]
  },
  {
   "cell_type": "code",
   "execution_count": 35,
   "metadata": {},
   "outputs": [
    {
     "name": "stdout",
     "output_type": "stream",
     "text": [
      "Collecting filesplit\n",
      "  Downloading https://files.pythonhosted.org/packages/2e/18/d39475047fe432a4404f7a3a726183d4d70cee55c78ca6dfccc25304b2ae/filesplit-2.0.0.tar.gz\n",
      "Building wheels for collected packages: filesplit\n",
      "  Building wheel for filesplit (setup.py) ... \u001b[?25l\u001b[?25hdone\n",
      "  Created wheel for filesplit: filename=filesplit-2.0.0-cp36-none-any.whl size=3653 sha256=de108b559b66e73d41e05f14c5909077180d7fbceeb72409211656b03f4effce\n",
      "  Stored in directory: /root/.cache/pip/wheels/a4/59/68/074ada681084d79fb1a71b3d9e4f1bf5b3cf0b1b523784c470\n",
      "Successfully built filesplit\n",
      "Installing collected packages: filesplit\n",
      "Successfully installed filesplit-2.0.0\n"
     ]
    }
   ],
   "source": [
    "!pip3 install filesplit"
   ]
  },
  {
   "cell_type": "code",
   "execution_count": 36,
   "metadata": {},
   "outputs": [],
   "source": [
    "from fsplit.filesplit import FileSplit\n",
    "fs = FileSplit(file = comment_cut_path, output_dir = split_output_dir, splitsize=10 * (2**20))\n",
    "fs.split()"
   ]
  },
  {
   "cell_type": "code",
   "execution_count": 38,
   "metadata": {},
   "outputs": [],
   "source": [
    "def read_tiny_file_to_sentences(tiny_file):\n",
    "    with open(tiny_file, \"r\") as f:\n",
    "        return list(map(lambda x: x.strip().split(\" \") ,f.readlines()))"
   ]
  },
  {
   "cell_type": "code",
   "execution_count": 40,
   "metadata": {},
   "outputs": [],
   "source": [
    "def nest_result_iter():\n",
    "    for path in glob(os.path.join(split_output_dir, \"*\")):\n",
    "        for inner_list in read_tiny_file_to_sentences(path):\n",
    "            yield inner_list"
   ]
  },
  {
   "cell_type": "code",
   "execution_count": 41,
   "metadata": {},
   "outputs": [],
   "source": [
    "corpus_iter = map(lambda inner_list: dct.doc2bow(inner_list), nest_result_iter())"
   ]
  },
  {
   "cell_type": "code",
   "execution_count": 42,
   "metadata": {},
   "outputs": [],
   "source": [
    "model = TfidfModel(corpus_iter)"
   ]
  },
  {
   "cell_type": "code",
   "execution_count": 43,
   "metadata": {},
   "outputs": [],
   "source": [
    "def cut_result_to_corpus_iter(cut_result):\n",
    "    for inner_list in cut_result:\n",
    "        yield dct.doc2bow(inner_list)"
   ]
  },
  {
   "cell_type": "code",
   "execution_count": 44,
   "metadata": {},
   "outputs": [],
   "source": [
    "train_vector_iter = map(lambda corpus_item: model[corpus_item], cut_result_to_corpus_iter(train_cut_result))"
   ]
  },
  {
   "cell_type": "code",
   "execution_count": 45,
   "metadata": {},
   "outputs": [
    {
     "data": {
      "text/plain": [
       "[(20268, 0.4700070804881793),\n",
       " (21694, 0.408742185027557),\n",
       " (99161, 0.1951421423027398),\n",
       " (157359, 0.5595056224664925),\n",
       " (217749, 0.38283674599181144),\n",
       " (251000, 0.18420070365019517),\n",
       " (305477, 0.19167545300499222),\n",
       " (309425, 0.2089565040965748)]"
      ]
     },
     "execution_count": 45,
     "metadata": {},
     "output_type": "execute_result"
    }
   ],
   "source": [
    "train_vector = None\n",
    "for train_vector in train_vector_iter:\n",
    "    break\n",
    "    pass\n",
    "train_vector"
   ]
  },
  {
   "cell_type": "code",
   "execution_count": 59,
   "metadata": {},
   "outputs": [],
   "source": [
    "dct_values_list = list(dct.values())"
   ]
  },
  {
   "cell_type": "code",
   "execution_count": 133,
   "metadata": {},
   "outputs": [],
   "source": [
    "def transform_inner_list_to_tfidf_vec(inner_list, top_n = None):\n",
    "    vec = model[dct.doc2bow(inner_list)]\n",
    "    word_text_2_val_dict = dict(set(map(lambda t2: (dct_values_list[t2[0]] ,t2[1]), vec)))\n",
    "    if top_n is not None:\n",
    "        assert type(top_n) == type(0)\n",
    "        word_text_2_val_dict = dict(sorted(word_text_2_val_dict.items(), key = lambda t2: -1 * t2[1])[:top_n])\n",
    "    for word_text in inner_list:\n",
    "        if word_text not in word_text_2_val_dict:\n",
    "            word_text_2_val_dict[word_text] = 0.0\n",
    "        else:\n",
    "            #word_text_2_val_dict[word_text] = 1.0\n",
    "            pass\n",
    "    return list(map(lambda word_text: word_text_2_val_dict[word_text], inner_list))"
   ]
  },
  {
   "cell_type": "code",
   "execution_count": 120,
   "metadata": {},
   "outputs": [
    {
     "data": {
      "text/plain": [
       "[1.0, 1.0, 1.0, 1.0, 1.0, 1.0, 1.0, 1.0]"
      ]
     },
     "execution_count": 120,
     "metadata": {},
     "output_type": "execute_result"
    }
   ],
   "source": [
    "transform_inner_list_to_tfidf_vec(train_cut_result[0])"
   ]
  },
  {
   "cell_type": "code",
   "execution_count": 121,
   "metadata": {},
   "outputs": [
    {
     "data": {
      "text/plain": [
       "[0.0, 1.0, 0.0, 0.0, 1.0, 1.0, 1.0, 1.0]"
      ]
     },
     "execution_count": 121,
     "metadata": {},
     "output_type": "execute_result"
    }
   ],
   "source": [
    "transform_inner_list_to_tfidf_vec(train_cut_result[0], top_n=5)"
   ]
  },
  {
   "cell_type": "code",
   "execution_count": 85,
   "metadata": {},
   "outputs": [
    {
     "data": {
      "text/plain": [
       "[0.14113816492349268,\n",
       " 0.1387531575643223,\n",
       " 0.08765449776589788,\n",
       " 0.19559687466944625,\n",
       " 0.16056497816725473,\n",
       " 0.2721877924453556,\n",
       " 0.38902313430835483,\n",
       " 0.4665570615037714,\n",
       " 0.1930652997747356,\n",
       " 0.0915172317060719,\n",
       " 0.21103677562379697,\n",
       " 0.31669699712968413,\n",
       " 0.29846803154485313,\n",
       " 0.0,\n",
       " 0.09231506056921605,\n",
       " 0.1778784180633431,\n",
       " 0.24431908874105793,\n",
       " 0.2580376459775203]"
      ]
     },
     "execution_count": 85,
     "metadata": {},
     "output_type": "execute_result"
    }
   ],
   "source": [
    "transform_inner_list_to_tfidf_vec(test_cut_result[0])"
   ]
  },
  {
   "cell_type": "code",
   "execution_count": 86,
   "metadata": {},
   "outputs": [],
   "source": [
    "def tfidf_vec_iter(cut_result):\n",
    "    for inner_list in cut_result:\n",
    "        yield transform_inner_list_to_tfidf_vec(inner_list)"
   ]
  },
  {
   "cell_type": "code",
   "execution_count": 87,
   "metadata": {},
   "outputs": [
    {
     "data": {
      "text/plain": [
       "array([[2, 3],\n",
       "       [2, 3]])"
      ]
     },
     "execution_count": 87,
     "metadata": {},
     "output_type": "execute_result"
    }
   ],
   "source": [
    "np.asarray([[1, 1], [1, 1]]) * np.asarray([2, 3])"
   ]
  },
  {
   "cell_type": "code",
   "execution_count": 122,
   "metadata": {},
   "outputs": [],
   "source": [
    "def construct_cut_result_to_weighted_w2v_mean(cut_result, model):\n",
    "    req = []\n",
    "    for inner_list in cut_result:\n",
    "        #[l]\n",
    "        weighted = np.asarray(transform_inner_list_to_tfidf_vec(inner_list, top_n=20))\n",
    "        concat_list = []\n",
    "        for y in inner_list:\n",
    "            concat_list.append(model.wv[y].reshape([1, -1]) if y in w2v_model.wv else np.zeros((1,300)))\n",
    "        ### [l, 300]\n",
    "        before_weighted = np.concatenate(concat_list, axis = 0)\n",
    "        req.append((before_weighted.T * weighted).mean(axis = 1))\n",
    "    return np.stack(req)"
   ]
  },
  {
   "cell_type": "code",
   "execution_count": 114,
   "metadata": {},
   "outputs": [],
   "source": [
    "#construct_cut_result_to_weighted_w2v_mean(test_cut_result, w2v_model).shape"
   ]
  },
  {
   "cell_type": "code",
   "execution_count": 123,
   "metadata": {},
   "outputs": [
    {
     "data": {
      "text/plain": [
       "{'acc': 0.6337319771990612, 'b_acc': 0.6198398018298807}"
      ]
     },
     "execution_count": 123,
     "metadata": {},
     "output_type": "execute_result"
    }
   ],
   "source": [
    "train_X = construct_cut_result_to_weighted_w2v_mean(train_cut_result, w2v_model)\n",
    "test_X = construct_cut_result_to_weighted_w2v_mean(test_cut_result, w2v_model)\n",
    "train_y, test_y = map(np.asarray, [train_labels, test_labels])\n",
    "traditional_clf_score(\"decision_tree\", train_X, train_y, test_X, test_y)"
   ]
  },
  {
   "cell_type": "code",
   "execution_count": 99,
   "metadata": {},
   "outputs": [
    {
     "data": {
      "text/plain": [
       "{'acc': 0.7237062702581871, 'b_acc': 0.6678126996219632}"
      ]
     },
     "execution_count": 99,
     "metadata": {},
     "output_type": "execute_result"
    }
   ],
   "source": [
    "traditional_clf_score(\"random_forest\", train_X, train_y, test_X, test_y)"
   ]
  },
  {
   "cell_type": "code",
   "execution_count": 116,
   "metadata": {},
   "outputs": [
    {
     "data": {
      "text/plain": [
       "{'acc': 0.7234827316418911, 'b_acc': 0.6682593480132402}"
      ]
     },
     "execution_count": 116,
     "metadata": {},
     "output_type": "execute_result"
    }
   ],
   "source": [
    "traditional_clf_score(\"random_forest\", train_X, train_y, test_X, test_y)"
   ]
  },
  {
   "cell_type": "code",
   "execution_count": 117,
   "metadata": {},
   "outputs": [
    {
     "data": {
      "text/plain": [
       "{'acc': 0.6380909802168324, 'b_acc': 0.6223025466004557}"
      ]
     },
     "execution_count": 117,
     "metadata": {},
     "output_type": "execute_result"
    }
   ],
   "source": [
    "train_y, test_y = map(np.asarray, [train_labels, test_labels])\n",
    "traditional_clf_score(\"decision_tree\", train_X, train_y, test_X, test_y)"
   ]
  },
  {
   "cell_type": "code",
   "execution_count": 118,
   "metadata": {},
   "outputs": [
    {
     "data": {
      "text/plain": [
       "{'acc': 0.634626131664245, 'b_acc': 0.6187350911248957}"
      ]
     },
     "execution_count": 118,
     "metadata": {},
     "output_type": "execute_result"
    }
   ],
   "source": [
    "train_y, test_y = map(np.asarray, [train_labels, test_labels])\n",
    "traditional_clf_score(\"decision_tree\", train_X, train_y, test_X, test_y)"
   ]
  },
  {
   "cell_type": "code",
   "execution_count": 124,
   "metadata": {},
   "outputs": [
    {
     "name": "stdout",
     "output_type": "stream",
     "text": [
      "Collecting bixin\n",
      "\u001b[?25l  Downloading https://files.pythonhosted.org/packages/83/47/f656132db06e9937f823b7342a706ad042d91b90a36109f569f336aa29dc/bixin-0.0.6.tar.gz (3.6MB)\n",
      "\u001b[K     |████████████████████████████████| 3.6MB 24kB/s \n",
      "\u001b[?25hCollecting jieba_fast>=0.53\n",
      "\u001b[?25l  Downloading https://files.pythonhosted.org/packages/87/6f/9c22f7b0ecc043f8e7d324e30767fdc9ce8d3cf5fd66e60823dd2b84432e/jieba_fast-0.53.tar.gz (7.5MB)\n",
      "\u001b[K     |█████████████████████████████▋  | 6.9MB 9.2MB/s eta 0:00:01\u001b[K     |████████████████████████████████| 7.5MB 9.2MB/s eta 0:00:01\n",
      "\u001b[?25hBuilding wheels for collected packages: bixin, jieba-fast\n",
      "  Building wheel for bixin (setup.py) ... \u001b[?25l\u001b[?25hdone\n",
      "  Created wheel for bixin: filename=bixin-0.0.6-cp36-none-any.whl size=3584502 sha256=96a9a548b0e935d5c3374e7126621c44e0b2e5de65d28ebe1eaadfdc968c386f\n",
      "  Stored in directory: /root/.cache/pip/wheels/3b/4a/8f/545aa5b39876f14cb40d2ff8ebd849fdc1af9b67c91e0966c5\n",
      "  Building wheel for jieba-fast (setup.py) ... \u001b[?25l\u001b[?25hdone\n",
      "  Created wheel for jieba-fast: filename=jieba_fast-0.53-cp36-cp36m-linux_x86_64.whl size=7657317 sha256=94013a28e51a3ccd203d5d0ef7b383a7dd727dbc9b4b520b48c4379026f97f89\n",
      "  Stored in directory: /root/.cache/pip/wheels/c1/aa/57/65ebca1607f46ccf78b7fc278f790eba336ce811ce1d7c988f\n",
      "Successfully built bixin jieba-fast\n",
      "Installing collected packages: jieba-fast, bixin\n",
      "Successfully installed bixin-0.0.6 jieba-fast-0.53\n"
     ]
    }
   ],
   "source": [
    "!pip3 install bixin"
   ]
  },
  {
   "cell_type": "code",
   "execution_count": 125,
   "metadata": {},
   "outputs": [],
   "source": [
    "from bixin import predict"
   ]
  },
  {
   "cell_type": "code",
   "execution_count": 126,
   "metadata": {},
   "outputs": [
    {
     "name": "stderr",
     "output_type": "stream",
     "text": [
      "Building prefix dict from /usr/local/lib/python3.6/dist-packages/bixin/data/dict.txt.big ...\n",
      "Dumping model to file cache /tmp/jieba.ue6331ff88ce397cb78fc2f29d1d85e6c.cache\n",
      "Loading model cost 1.646 seconds.\n",
      "Prefix dict has been built succesfully.\n"
     ]
    },
    {
     "data": {
      "text/plain": [
       "1.0"
      ]
     },
     "execution_count": 126,
     "metadata": {},
     "output_type": "execute_result"
    }
   ],
   "source": [
    "predict(u\"喜欢\")"
   ]
  },
  {
   "cell_type": "code",
   "execution_count": 127,
   "metadata": {},
   "outputs": [
    {
     "data": {
      "text/plain": [
       "-1.0"
      ]
     },
     "execution_count": 127,
     "metadata": {},
     "output_type": "execute_result"
    }
   ],
   "source": [
    "predict(u\"激动\")"
   ]
  },
  {
   "cell_type": "code",
   "execution_count": 128,
   "metadata": {},
   "outputs": [
    {
     "data": {
      "text/plain": [
       "-1.0"
      ]
     },
     "execution_count": 128,
     "metadata": {},
     "output_type": "execute_result"
    }
   ],
   "source": [
    "predict(u\"讨厌\")"
   ]
  },
  {
   "cell_type": "code",
   "execution_count": 130,
   "metadata": {},
   "outputs": [
    {
     "data": {
      "text/plain": [
       "1.0"
      ]
     },
     "execution_count": 130,
     "metadata": {},
     "output_type": "execute_result"
    }
   ],
   "source": [
    "predict(u\"幸福\")"
   ]
  },
  {
   "cell_type": "code",
   "execution_count": 137,
   "metadata": {},
   "outputs": [],
   "source": [
    "def transform_inner_list_to_bixin_vec(inner_list, top_n = None):\n",
    "    vec = model[dct.doc2bow(inner_list)]\n",
    "    word_text_2_val_dict = dict(set(map(lambda t2: (dct_values_list[t2[0]] ,t2[1] + predict(dct_values_list[t2[0]])), vec)))\n",
    "    #word_text_2_val_dict = dict(set(map(lambda x: (x, predict(x)), inner_list)))\n",
    "    if top_n is not None:\n",
    "        assert type(top_n) == type(0)\n",
    "        word_text_2_val_dict = dict(sorted(word_text_2_val_dict.items(), key = lambda t2: -1 * t2[1])[:top_n])\n",
    "    for word_text in inner_list:\n",
    "        if word_text not in word_text_2_val_dict:\n",
    "            word_text_2_val_dict[word_text] = 0.0\n",
    "        else:\n",
    "            #word_text_2_val_dict[word_text] = 1.0\n",
    "            pass\n",
    "    return list(map(lambda word_text: word_text_2_val_dict[word_text], inner_list))"
   ]
  },
  {
   "cell_type": "code",
   "execution_count": 138,
   "metadata": {},
   "outputs": [
    {
     "data": {
      "text/plain": [
       "[0.18420070365019517,\n",
       " 0.2089565040965748,\n",
       " 0.19167545300499222,\n",
       " 0.1951421423027398,\n",
       " 0.5595056224664925,\n",
       " 0.408742185027557,\n",
       " 0.4700070804881793,\n",
       " 0.38283674599181144]"
      ]
     },
     "execution_count": 138,
     "metadata": {},
     "output_type": "execute_result"
    }
   ],
   "source": [
    "transform_inner_list_to_tfidf_vec(train_cut_result[0])"
   ]
  },
  {
   "cell_type": "code",
   "execution_count": 139,
   "metadata": {},
   "outputs": [
    {
     "data": {
      "text/plain": [
       "['美国', '队长', '钢铁', '好像', '摇滚圈', '五月天', '二手', '玫瑰']"
      ]
     },
     "execution_count": 139,
     "metadata": {},
     "output_type": "execute_result"
    }
   ],
   "source": [
    "train_cut_result[0]"
   ]
  },
  {
   "cell_type": "code",
   "execution_count": 140,
   "metadata": {},
   "outputs": [
    {
     "data": {
      "text/plain": [
       "[0.18420070365019517,\n",
       " 0.2089565040965748,\n",
       " 1.1916754530049922,\n",
       " 0.1951421423027398,\n",
       " 0.5595056224664925,\n",
       " 0.408742185027557,\n",
       " 0.4700070804881793,\n",
       " 0.38283674599181144]"
      ]
     },
     "execution_count": 140,
     "metadata": {},
     "output_type": "execute_result"
    }
   ],
   "source": [
    "transform_inner_list_to_bixin_vec(train_cut_result[0])"
   ]
  },
  {
   "cell_type": "code",
   "execution_count": 142,
   "metadata": {},
   "outputs": [],
   "source": [
    "def construct_cut_result_to_weighted_w2v_mean(cut_result, model):\n",
    "    req = []\n",
    "    for inner_list in cut_result:\n",
    "        #[l]\n",
    "        weighted = np.asarray(transform_inner_list_to_bixin_vec(inner_list))\n",
    "        concat_list = []\n",
    "        for y in inner_list:\n",
    "            concat_list.append(model.wv[y].reshape([1, -1]) if y in w2v_model.wv else np.zeros((1,300)))\n",
    "        ### [l, 300]\n",
    "        before_weighted = np.concatenate(concat_list, axis = 0)\n",
    "        req.append((before_weighted.T * weighted).mean(axis = 1))\n",
    "    return np.stack(req)"
   ]
  },
  {
   "cell_type": "code",
   "execution_count": 143,
   "metadata": {},
   "outputs": [
    {
     "data": {
      "text/plain": [
       "{'acc': 0.6091427294065049, 'b_acc': 0.592914959702787}"
      ]
     },
     "execution_count": 143,
     "metadata": {},
     "output_type": "execute_result"
    }
   ],
   "source": [
    "train_X = construct_cut_result_to_weighted_w2v_mean(train_cut_result, w2v_model)\n",
    "test_X = construct_cut_result_to_weighted_w2v_mean(test_cut_result, w2v_model)\n",
    "train_y, test_y = map(np.asarray, [train_labels, test_labels])\n",
    "traditional_clf_score(\"decision_tree\", train_X, train_y, test_X, test_y)"
   ]
  },
  {
   "cell_type": "code",
   "execution_count": 147,
   "metadata": {},
   "outputs": [
    {
     "data": {
      "text/plain": [
       "Comment     连奥创都知道整容要去韩国。\n",
       "Star                    3\n",
       "Name: 0, dtype: object"
      ]
     },
     "execution_count": 147,
     "metadata": {},
     "output_type": "execute_result"
    }
   ],
   "source": [
    "data[[\"Comment\", \"Star\"]].iloc[0]"
   ]
  },
  {
   "cell_type": "code",
   "execution_count": 149,
   "metadata": {},
   "outputs": [],
   "source": [
    "ext_df = data[[\"Comment\", \"Star\"]].iloc[:10]"
   ]
  },
  {
   "cell_type": "code",
   "execution_count": 150,
   "metadata": {},
   "outputs": [
    {
     "data": {
      "text/html": [
       "<div>\n",
       "<style scoped>\n",
       "    .dataframe tbody tr th:only-of-type {\n",
       "        vertical-align: middle;\n",
       "    }\n",
       "\n",
       "    .dataframe tbody tr th {\n",
       "        vertical-align: top;\n",
       "    }\n",
       "\n",
       "    .dataframe thead th {\n",
       "        text-align: right;\n",
       "    }\n",
       "</style>\n",
       "<table border=\"1\" class=\"dataframe\">\n",
       "  <thead>\n",
       "    <tr style=\"text-align: right;\">\n",
       "      <th></th>\n",
       "      <th>Comment</th>\n",
       "      <th>Star</th>\n",
       "    </tr>\n",
       "    <tr>\n",
       "      <th>ID</th>\n",
       "      <th></th>\n",
       "      <th></th>\n",
       "    </tr>\n",
       "  </thead>\n",
       "  <tbody>\n",
       "    <tr>\n",
       "      <th>0</th>\n",
       "      <td>连奥创都知道整容要去韩国。</td>\n",
       "      <td>3</td>\n",
       "    </tr>\n",
       "    <tr>\n",
       "      <th>1</th>\n",
       "      <td>非常失望，剧本完全敷衍了事，主线剧情没突破大家可以理解，可所有的人物都缺乏动机，正邪之间、...</td>\n",
       "      <td>2</td>\n",
       "    </tr>\n",
       "    <tr>\n",
       "      <th>2</th>\n",
       "      <td>2015年度最失望作品。以为面面俱到，实则画蛇添足；以为主题深刻，实则老调重弹；以为推陈出...</td>\n",
       "      <td>2</td>\n",
       "    </tr>\n",
       "    <tr>\n",
       "      <th>3</th>\n",
       "      <td>《铁人2》中勾引钢铁侠，《妇联1》中勾引鹰眼，《美队2》中勾引美国队长，在《妇联2》中终于...</td>\n",
       "      <td>4</td>\n",
       "    </tr>\n",
       "    <tr>\n",
       "      <th>4</th>\n",
       "      <td>虽然从头打到尾，但是真的很无聊啊。</td>\n",
       "      <td>2</td>\n",
       "    </tr>\n",
       "  </tbody>\n",
       "</table>\n",
       "</div>"
      ],
      "text/plain": [
       "                                              Comment  Star\n",
       "ID                                                         \n",
       "0                                       连奥创都知道整容要去韩国。     3\n",
       "1    非常失望，剧本完全敷衍了事，主线剧情没突破大家可以理解，可所有的人物都缺乏动机，正邪之间、...     2\n",
       "2    2015年度最失望作品。以为面面俱到，实则画蛇添足；以为主题深刻，实则老调重弹；以为推陈出...     2\n",
       "3    《铁人2》中勾引钢铁侠，《妇联1》中勾引鹰眼，《美队2》中勾引美国队长，在《妇联2》中终于...     4\n",
       "4                                   虽然从头打到尾，但是真的很无聊啊。     2"
      ]
     },
     "execution_count": 150,
     "metadata": {},
     "output_type": "execute_result"
    }
   ],
   "source": [
    "ext_df.head()"
   ]
  },
  {
   "cell_type": "code",
   "execution_count": null,
   "metadata": {},
   "outputs": [],
   "source": [
    "def cut(data, labels, stopwords):\n",
    "    result = []\n",
    "    new_labels = []\n",
    "    for index in tqdm_notebook(range(len(data))):\n",
    "        comment = clean_str(data[index])\n",
    "        label = labels[index]\n",
    "        seg_list = jieba.cut(comment, cut_all = False, HMM = True)\n",
    "        seg_list = list(filter(lambda x: x.strip(\"\\n\") if (x not in stopwords and len(x) > 1) else None, seg_list))\n",
    "        if len(seg_list) > 1:\n",
    "            result.append(seg_list)\n",
    "            new_labels.append(label)\n",
    "    return result, new_labels"
   ]
  },
  {
   "cell_type": "code",
   "execution_count": 190,
   "metadata": {},
   "outputs": [],
   "source": [
    "from tqdm.notebook import tqdm_notebook"
   ]
  },
  {
   "cell_type": "code",
   "execution_count": 192,
   "metadata": {},
   "outputs": [
    {
     "data": {
      "application/vnd.jupyter.widget-view+json": {
       "model_id": "4f64645628844cda869c1e8c7e474fca",
       "version_major": 2,
       "version_minor": 0
      },
      "text/plain": [
       "HBox(children=(FloatProgress(value=1.0, bar_style='info', max=1.0), HTML(value='')))"
      ]
     },
     "metadata": {},
     "output_type": "display_data"
    },
    {
     "name": "stdout",
     "output_type": "stream",
     "text": [
      "\n"
     ]
    }
   ],
   "source": [
    "from collections import defaultdict\n",
    "star_sum_dict, star_cnt_dict = defaultdict(float), defaultdict(float)\n",
    "for i ,(index ,row) in tqdm_notebook(enumerate(data[[\"Comment\", \"Star\"]].iterrows())):\n",
    "    comment, label = clean_str(row[\"Comment\"]), row[\"Star\"]\n",
    "    score = float(-1 if label <= 2 else 1)\n",
    "    seg_list = jieba.cut(comment, cut_all = False, HMM = True)\n",
    "    seg_list = list(filter(lambda x: x.strip(\"\\n\") if (x not in stopwords and len(x) > 1) else None, seg_list))\n",
    "    for seg in seg_list:\n",
    "        star_sum_dict[seg] += score\n",
    "        star_cnt_dict[seg] += 1\n",
    "    '''\n",
    "    if i > 0 and i % 1000 == 0:\n",
    "        print(\"process {}\".format(i))\n",
    "    '''"
   ]
  },
  {
   "cell_type": "code",
   "execution_count": 193,
   "metadata": {},
   "outputs": [],
   "source": [
    "'''\n",
    "import pickle as pkl\n",
    "sentiment_dict_save_path = \"sentiment_dict.pkl\"\n",
    "if os.path.exists(sentiment_dict_save_path):\n",
    "    os.remove(sentiment_dict_save_path)\n",
    "with open(sentiment_dict_save_path, \"wb\") as f:\n",
    "    pkl.dump({\n",
    "        \"star_sum_dict\": star_sum_dict,\n",
    "        \"star_cnt_dict\": star_cnt_dict, \n",
    "    }, f)\n",
    "'''"
   ]
  },
  {
   "cell_type": "code",
   "execution_count": 195,
   "metadata": {},
   "outputs": [
    {
     "data": {
      "text/plain": [
       "(331809,\n",
       " 331809,\n",
       " [('奥创', 2378.0),\n",
       "  ('整容', 129.0),\n",
       "  ('韩国', 14659.0),\n",
       "  ('失望', 12521.0),\n",
       "  ('剧本', 7392.0),\n",
       "  ('敷衍了事', 18.0),\n",
       "  ('主线', 2609.0),\n",
       "  ('剧情', 123647.0),\n",
       "  ('突破', 3821.0),\n",
       "  ('理解', 8071.0)],\n",
       " [('奥创', 2856.0),\n",
       "  ('整容', 725.0),\n",
       "  ('韩国', 16199.0),\n",
       "  ('失望', 28967.0),\n",
       "  ('剧本', 14414.0),\n",
       "  ('敷衍了事', 76.0),\n",
       "  ('主线', 4869.0),\n",
       "  ('剧情', 204599.0),\n",
       "  ('突破', 4635.0),\n",
       "  ('理解', 13093.0)])"
      ]
     },
     "execution_count": 195,
     "metadata": {},
     "output_type": "execute_result"
    }
   ],
   "source": [
    "len(star_sum_dict), len(star_cnt_dict), list(star_sum_dict.items())[:10], list(star_cnt_dict.items())[:10]"
   ]
  },
  {
   "cell_type": "code",
   "execution_count": 196,
   "metadata": {},
   "outputs": [],
   "source": [
    "def merge_star_dict(star_sum_dict, star_cnt_dict):\n",
    "    req = dict()\n",
    "    for word, star_sum in star_sum_dict.items():\n",
    "        req[word] = star_sum / star_cnt_dict[word]\n",
    "    return req"
   ]
  },
  {
   "cell_type": "code",
   "execution_count": 197,
   "metadata": {},
   "outputs": [],
   "source": [
    "score_dict = merge_star_dict(star_sum_dict, star_cnt_dict)"
   ]
  },
  {
   "cell_type": "code",
   "execution_count": 198,
   "metadata": {},
   "outputs": [],
   "source": [
    "import pickle as pkl\n",
    "sentiment_dict_save_path = \"sentiment_dict.pkl\"\n",
    "if os.path.exists(sentiment_dict_save_path):\n",
    "    os.remove(sentiment_dict_save_path)\n",
    "with open(sentiment_dict_save_path, \"wb\") as f:\n",
    "    pkl.dump({\n",
    "        \"star_sum_dict\": star_sum_dict,\n",
    "        \"star_cnt_dict\": star_cnt_dict, \n",
    "        \"score_dict\": score_dict\n",
    "    }, f)"
   ]
  },
  {
   "cell_type": "code",
   "execution_count": 45,
   "metadata": {},
   "outputs": [
    {
     "data": {
      "text/plain": [
       "[(20268, 0.4700070804881793),\n",
       " (21694, 0.408742185027557),\n",
       " (99161, 0.1951421423027398),\n",
       " (157359, 0.5595056224664925),\n",
       " (217749, 0.38283674599181144),\n",
       " (251000, 0.18420070365019517),\n",
       " (305477, 0.19167545300499222),\n",
       " (309425, 0.2089565040965748)]"
      ]
     },
     "execution_count": 45,
     "metadata": {},
     "output_type": "execute_result"
    }
   ],
   "source": [
    "train_vector = None\n",
    "for train_vector in train_vector_iter:\n",
    "    break\n",
    "    pass\n",
    "train_vector"
   ]
  },
  {
   "cell_type": "code",
   "execution_count": 200,
   "metadata": {},
   "outputs": [
    {
     "data": {
      "text/plain": [
       "0.8326330532212886"
      ]
     },
     "execution_count": 200,
     "metadata": {},
     "output_type": "execute_result"
    }
   ],
   "source": [
    "score_dict[\"奥创\"]"
   ]
  },
  {
   "cell_type": "code",
   "execution_count": 201,
   "metadata": {},
   "outputs": [
    {
     "data": {
      "text/plain": [
       "(2378.0, 2856.0)"
      ]
     },
     "execution_count": 201,
     "metadata": {},
     "output_type": "execute_result"
    }
   ],
   "source": [
    "star_sum_dict[u\"奥创\"], star_cnt_dict[u\"奥创\"]"
   ]
  },
  {
   "cell_type": "code",
   "execution_count": 202,
   "metadata": {},
   "outputs": [
    {
     "data": {
      "text/plain": [
       "0.8326330532212886"
      ]
     },
     "execution_count": 202,
     "metadata": {},
     "output_type": "execute_result"
    }
   ],
   "source": [
    "star_sum_dict[u\"奥创\"] / star_cnt_dict[u\"奥创\"]"
   ]
  },
  {
   "cell_type": "code",
   "execution_count": 199,
   "metadata": {},
   "outputs": [
    {
     "data": {
      "text/plain": [
       "[('验孕', 1.0),\n",
       " ('僧多粥少', 1.0),\n",
       " ('喷真', 1.0),\n",
       " ('八仙过海', 1.0),\n",
       " ('绿巨黑', 1.0),\n",
       " ('寡激萌', 1.0),\n",
       " ('日新', 1.0),\n",
       " ('威秀', 1.0),\n",
       " ('反增', 1.0),\n",
       " ('逼轮', 1.0),\n",
       " ('基妹争', 1.0),\n",
       " ('燃度', 1.0),\n",
       " ('劲应', 1.0),\n",
       " ('强人', 1.0),\n",
       " ('段末句', 1.0),\n",
       " ('紫龙', 1.0),\n",
       " ('新发型', 1.0),\n",
       " ('于剧', 1.0),\n",
       " ('男主式', 1.0),\n",
       " ('狂立', 1.0),\n",
       " ('不死本', 1.0),\n",
       " ('巨巨凯瑞', 1.0),\n",
       " ('小基仔', 1.0),\n",
       " ('即墨', 1.0),\n",
       " ('自然观', 1.0),\n",
       " ('打戏少', 1.0),\n",
       " ('新复联', 1.0),\n",
       " ('几大新', 1.0),\n",
       " ('甜口', 1.0),\n",
       " ('江米', 1.0),\n",
       " ('大枣', 1.0),\n",
       " ('谷类', 1.0),\n",
       " ('豆类', 1.0),\n",
       " ('八样', 1.0),\n",
       " ('但往', 1.0),\n",
       " ('老万是', 1.0),\n",
       " ('老万造', 1.0),\n",
       " ('爆刚', 1.0),\n",
       " ('刷拉拉', 1.0),\n",
       " ('人机交互', 1.0),\n",
       " ('机械公敌', 1.0),\n",
       " ('胸隔', 1.0),\n",
       " ('搶映', 1.0),\n",
       " ('敏俊', 1.0),\n",
       " ('好几刀', 1.0),\n",
       " ('螢火蟲別', 1.0),\n",
       " ('贾秀琰', 1.0),\n",
       " ('魂离', 1.0),\n",
       " ('点齐', 1.0),\n",
       " ('哽太', 1.0),\n",
       " ('牛有', 1.0),\n",
       " ('小打', 1.0),\n",
       " ('既会', 1.0),\n",
       " ('赞锤哥', 1.0),\n",
       " ('令想', 1.0),\n",
       " ('字爽', 1.0),\n",
       " ('打别', 1.0),\n",
       " ('我锤', 1.0),\n",
       " ('我队', 1.0),\n",
       " ('文武', 1.0),\n",
       " ('戏块', 1.0),\n",
       " ('退位', 1.0),\n",
       " ('让贤', 1.0),\n",
       " ('拆寡鹰', 1.0),\n",
       " ('寡可绿寡', 1.0),\n",
       " ('虐文', 1.0),\n",
       " ('戏帅', 1.0),\n",
       " ('更普世', 1.0),\n",
       " ('时苏到', 1.0),\n",
       " ('震摄', 1.0),\n",
       " ('超灵', 1.0),\n",
       " ('光束', 1.0),\n",
       " ('过密', 1.0),\n",
       " ('人話染', 1.0),\n",
       " ('惡習', 1.0),\n",
       " ('文戲', 1.0),\n",
       " ('看發', 1.0),\n",
       " ('打什麼', 1.0),\n",
       " ('抽式', 1.0),\n",
       " ('得乱', 1.0),\n",
       " ('巴菲', 1.0),\n",
       " ('由酷', 1.0),\n",
       " ('复联二均', 1.0),\n",
       " ('华看', 1.0),\n",
       " ('有略', 1.0),\n",
       " ('中二之魂', 1.0),\n",
       " ('熊熊', 1.0),\n",
       " ('燃燒', 1.0),\n",
       " ('設定略', 1.0),\n",
       " ('諸多', 1.0),\n",
       " ('小細節', 1.0),\n",
       " ('滿天', 1.0),\n",
       " ('鈔票', 1.0),\n",
       " ('眾多裡', 1.0),\n",
       " ('絕倫', 1.0),\n",
       " ('傾斜', 1.0),\n",
       " ('震動', 1.0),\n",
       " ('身臨', 1.0),\n",
       " ('能聞到', 1.0),\n",
       " ('硝煙', 1.0)]"
      ]
     },
     "execution_count": 199,
     "metadata": {},
     "output_type": "execute_result"
    }
   ],
   "source": [
    "sorted(score_dict.items(), key = lambda t2: -1 * t2[-1])[:100]"
   ]
  },
  {
   "cell_type": "code",
   "execution_count": 209,
   "metadata": {},
   "outputs": [],
   "source": [
    "def trans_dict_to_series(d):\n",
    "    return pd.Series(list(d.values()),index=d.keys())"
   ]
  },
  {
   "cell_type": "code",
   "execution_count": 213,
   "metadata": {},
   "outputs": [],
   "source": [
    "star_sum_s = trans_dict_to_series(star_sum_dict)\n",
    "star_cnt_s = trans_dict_to_series(star_cnt_dict)"
   ]
  },
  {
   "cell_type": "code",
   "execution_count": 217,
   "metadata": {},
   "outputs": [],
   "source": [
    "star_df = pd.concat([star_cnt_s, star_sum_s], axis = 1)\n",
    "star_df.columns = [\"cnt\", \"score_sum\"]"
   ]
  },
  {
   "cell_type": "code",
   "execution_count": 218,
   "metadata": {},
   "outputs": [],
   "source": [
    "star_df[\"score_mean\"] = star_df[\"score_sum\"] / star_df[\"cnt\"]"
   ]
  },
  {
   "cell_type": "code",
   "execution_count": 241,
   "metadata": {},
   "outputs": [],
   "source": [
    "pd.set_option(\"max_rows\", 1000)"
   ]
  },
  {
   "cell_type": "code",
   "execution_count": 259,
   "metadata": {},
   "outputs": [
    {
     "data": {
      "text/plain": [
       " 1.000000    207494\n",
       "-1.000000     37063\n",
       " 0.000000     12483\n",
       " 0.333333      7592\n",
       " 0.500000      5015\n",
       "              ...  \n",
       " 0.312946         1\n",
       " 0.829146         1\n",
       " 0.795676         1\n",
       "-0.916667         1\n",
       "-0.110169         1\n",
       "Name: score_mean, Length: 9793, dtype: int64"
      ]
     },
     "execution_count": 259,
     "metadata": {},
     "output_type": "execute_result"
    }
   ],
   "source": [
    "star_df[\"score_mean\"].value_counts()"
   ]
  },
  {
   "cell_type": "code",
   "execution_count": 243,
   "metadata": {},
   "outputs": [
    {
     "data": {
      "text/html": [
       "<div>\n",
       "<style scoped>\n",
       "    .dataframe tbody tr th:only-of-type {\n",
       "        vertical-align: middle;\n",
       "    }\n",
       "\n",
       "    .dataframe tbody tr th {\n",
       "        vertical-align: top;\n",
       "    }\n",
       "\n",
       "    .dataframe thead th {\n",
       "        text-align: right;\n",
       "    }\n",
       "</style>\n",
       "<table border=\"1\" class=\"dataframe\">\n",
       "  <thead>\n",
       "    <tr style=\"text-align: right;\">\n",
       "      <th></th>\n",
       "      <th>cnt</th>\n",
       "      <th>score_sum</th>\n",
       "      <th>score_mean</th>\n",
       "    </tr>\n",
       "  </thead>\n",
       "  <tbody>\n",
       "    <tr>\n",
       "      <th>电影</th>\n",
       "      <td>374209.0</td>\n",
       "      <td>240555.0</td>\n",
       "      <td>0.642836</td>\n",
       "    </tr>\n",
       "    <tr>\n",
       "      <th>剧情</th>\n",
       "      <td>204599.0</td>\n",
       "      <td>123647.0</td>\n",
       "      <td>0.604338</td>\n",
       "    </tr>\n",
       "    <tr>\n",
       "      <th>不错</th>\n",
       "      <td>167303.0</td>\n",
       "      <td>147473.0</td>\n",
       "      <td>0.881473</td>\n",
       "    </tr>\n",
       "    <tr>\n",
       "      <th>喜欢</th>\n",
       "      <td>145077.0</td>\n",
       "      <td>121689.0</td>\n",
       "      <td>0.838789</td>\n",
       "    </tr>\n",
       "    <tr>\n",
       "      <th>好看</th>\n",
       "      <td>143087.0</td>\n",
       "      <td>115173.0</td>\n",
       "      <td>0.804916</td>\n",
       "    </tr>\n",
       "    <tr>\n",
       "      <th>真的</th>\n",
       "      <td>128121.0</td>\n",
       "      <td>82117.0</td>\n",
       "      <td>0.640933</td>\n",
       "    </tr>\n",
       "    <tr>\n",
       "      <th>感觉</th>\n",
       "      <td>120635.0</td>\n",
       "      <td>88935.0</td>\n",
       "      <td>0.737224</td>\n",
       "    </tr>\n",
       "    <tr>\n",
       "      <th>故事</th>\n",
       "      <td>118037.0</td>\n",
       "      <td>84103.0</td>\n",
       "      <td>0.712514</td>\n",
       "    </tr>\n",
       "    <tr>\n",
       "      <th>特效</th>\n",
       "      <td>106865.0</td>\n",
       "      <td>64607.0</td>\n",
       "      <td>0.604567</td>\n",
       "    </tr>\n",
       "    <tr>\n",
       "      <th>一部</th>\n",
       "      <td>97071.0</td>\n",
       "      <td>67381.0</td>\n",
       "      <td>0.694141</td>\n",
       "    </tr>\n",
       "    <tr>\n",
       "      <th>画面</th>\n",
       "      <td>84566.0</td>\n",
       "      <td>63108.0</td>\n",
       "      <td>0.746257</td>\n",
       "    </tr>\n",
       "    <tr>\n",
       "      <th>这部</th>\n",
       "      <td>74338.0</td>\n",
       "      <td>49916.0</td>\n",
       "      <td>0.671474</td>\n",
       "    </tr>\n",
       "    <tr>\n",
       "      <th>片子</th>\n",
       "      <td>66013.0</td>\n",
       "      <td>40469.0</td>\n",
       "      <td>0.613046</td>\n",
       "    </tr>\n",
       "    <tr>\n",
       "      <th>演技</th>\n",
       "      <td>64343.0</td>\n",
       "      <td>28817.0</td>\n",
       "      <td>0.447865</td>\n",
       "    </tr>\n",
       "    <tr>\n",
       "      <th>中国</th>\n",
       "      <td>60254.0</td>\n",
       "      <td>41744.0</td>\n",
       "      <td>0.692800</td>\n",
       "    </tr>\n",
       "    <tr>\n",
       "      <th>国产</th>\n",
       "      <td>59495.0</td>\n",
       "      <td>52133.0</td>\n",
       "      <td>0.876259</td>\n",
       "    </tr>\n",
       "    <tr>\n",
       "      <th>看过</th>\n",
       "      <td>59318.0</td>\n",
       "      <td>34794.0</td>\n",
       "      <td>0.586567</td>\n",
       "    </tr>\n",
       "    <tr>\n",
       "      <th>搞笑</th>\n",
       "      <td>52972.0</td>\n",
       "      <td>42602.0</td>\n",
       "      <td>0.804236</td>\n",
       "    </tr>\n",
       "    <tr>\n",
       "      <th>动画</th>\n",
       "      <td>52940.0</td>\n",
       "      <td>47376.0</td>\n",
       "      <td>0.894900</td>\n",
       "    </tr>\n",
       "    <tr>\n",
       "      <th>一星</th>\n",
       "      <td>52513.0</td>\n",
       "      <td>4295.0</td>\n",
       "      <td>0.081789</td>\n",
       "    </tr>\n",
       "    <tr>\n",
       "      <th>情节</th>\n",
       "      <td>50703.0</td>\n",
       "      <td>34393.0</td>\n",
       "      <td>0.678323</td>\n",
       "    </tr>\n",
       "    <tr>\n",
       "      <th>演员</th>\n",
       "      <td>49766.0</td>\n",
       "      <td>24990.0</td>\n",
       "      <td>0.502150</td>\n",
       "    </tr>\n",
       "    <tr>\n",
       "      <th>导演</th>\n",
       "      <td>46607.0</td>\n",
       "      <td>22441.0</td>\n",
       "      <td>0.481494</td>\n",
       "    </tr>\n",
       "    <tr>\n",
       "      <th>电影院</th>\n",
       "      <td>44825.0</td>\n",
       "      <td>29253.0</td>\n",
       "      <td>0.652605</td>\n",
       "    </tr>\n",
       "    <tr>\n",
       "      <th>星爷</th>\n",
       "      <td>43228.0</td>\n",
       "      <td>30054.0</td>\n",
       "      <td>0.695244</td>\n",
       "    </tr>\n",
       "    <tr>\n",
       "      <th>感动</th>\n",
       "      <td>41512.0</td>\n",
       "      <td>37526.0</td>\n",
       "      <td>0.903980</td>\n",
       "    </tr>\n",
       "    <tr>\n",
       "      <th>笑点</th>\n",
       "      <td>38094.0</td>\n",
       "      <td>27368.0</td>\n",
       "      <td>0.718433</td>\n",
       "    </tr>\n",
       "    <tr>\n",
       "      <th>爱情</th>\n",
       "      <td>36136.0</td>\n",
       "      <td>30098.0</td>\n",
       "      <td>0.832909</td>\n",
       "    </tr>\n",
       "    <tr>\n",
       "      <th>期待</th>\n",
       "      <td>36117.0</td>\n",
       "      <td>28847.0</td>\n",
       "      <td>0.798710</td>\n",
       "    </tr>\n",
       "    <tr>\n",
       "      <th>确实</th>\n",
       "      <td>36011.0</td>\n",
       "      <td>29163.0</td>\n",
       "      <td>0.809836</td>\n",
       "    </tr>\n",
       "    <tr>\n",
       "      <th>青春</th>\n",
       "      <td>35174.0</td>\n",
       "      <td>18908.0</td>\n",
       "      <td>0.537556</td>\n",
       "    </tr>\n",
       "    <tr>\n",
       "      <th>台词</th>\n",
       "      <td>35084.0</td>\n",
       "      <td>16092.0</td>\n",
       "      <td>0.458671</td>\n",
       "    </tr>\n",
       "    <tr>\n",
       "      <th>结局</th>\n",
       "      <td>34350.0</td>\n",
       "      <td>30700.0</td>\n",
       "      <td>0.893741</td>\n",
       "    </tr>\n",
       "    <tr>\n",
       "      <th>音乐</th>\n",
       "      <td>33108.0</td>\n",
       "      <td>26342.0</td>\n",
       "      <td>0.795639</td>\n",
       "    </tr>\n",
       "    <tr>\n",
       "      <th>人物</th>\n",
       "      <td>32962.0</td>\n",
       "      <td>21736.0</td>\n",
       "      <td>0.659426</td>\n",
       "    </tr>\n",
       "    <tr>\n",
       "      <th>人性</th>\n",
       "      <td>32750.0</td>\n",
       "      <td>31076.0</td>\n",
       "      <td>0.948885</td>\n",
       "    </tr>\n",
       "    <tr>\n",
       "      <th>特别</th>\n",
       "      <td>32680.0</td>\n",
       "      <td>27212.0</td>\n",
       "      <td>0.832681</td>\n",
       "    </tr>\n",
       "    <tr>\n",
       "      <th>效果</th>\n",
       "      <td>32471.0</td>\n",
       "      <td>27851.0</td>\n",
       "      <td>0.857719</td>\n",
       "    </tr>\n",
       "    <tr>\n",
       "      <th>尴尬</th>\n",
       "      <td>32313.0</td>\n",
       "      <td>4637.0</td>\n",
       "      <td>0.143503</td>\n",
       "    </tr>\n",
       "    <tr>\n",
       "      <th>英雄</th>\n",
       "      <td>32203.0</td>\n",
       "      <td>28779.0</td>\n",
       "      <td>0.893675</td>\n",
       "    </tr>\n",
       "    <tr>\n",
       "      <th>值得</th>\n",
       "      <td>31079.0</td>\n",
       "      <td>26923.0</td>\n",
       "      <td>0.866276</td>\n",
       "    </tr>\n",
       "    <tr>\n",
       "      <th>希望</th>\n",
       "      <td>30646.0</td>\n",
       "      <td>25598.0</td>\n",
       "      <td>0.835280</td>\n",
       "    </tr>\n",
       "    <tr>\n",
       "      <th>结尾</th>\n",
       "      <td>30638.0</td>\n",
       "      <td>25528.0</td>\n",
       "      <td>0.833214</td>\n",
       "    </tr>\n",
       "    <tr>\n",
       "      <th>大圣</th>\n",
       "      <td>30388.0</td>\n",
       "      <td>27906.0</td>\n",
       "      <td>0.918323</td>\n",
       "    </tr>\n",
       "    <tr>\n",
       "      <th>喜剧</th>\n",
       "      <td>30132.0</td>\n",
       "      <td>24774.0</td>\n",
       "      <td>0.822182</td>\n",
       "    </tr>\n",
       "    <tr>\n",
       "      <th>一点</th>\n",
       "      <td>29888.0</td>\n",
       "      <td>17234.0</td>\n",
       "      <td>0.576619</td>\n",
       "    </tr>\n",
       "    <tr>\n",
       "      <th>实在</th>\n",
       "      <td>29884.0</td>\n",
       "      <td>12458.0</td>\n",
       "      <td>0.416879</td>\n",
       "    </tr>\n",
       "    <tr>\n",
       "      <th>三星</th>\n",
       "      <td>29865.0</td>\n",
       "      <td>26179.0</td>\n",
       "      <td>0.876578</td>\n",
       "    </tr>\n",
       "    <tr>\n",
       "      <th>小说</th>\n",
       "      <td>29342.0</td>\n",
       "      <td>14320.0</td>\n",
       "      <td>0.488038</td>\n",
       "    </tr>\n",
       "    <tr>\n",
       "      <th>时代</th>\n",
       "      <td>29144.0</td>\n",
       "      <td>7420.0</td>\n",
       "      <td>0.254598</td>\n",
       "    </tr>\n",
       "    <tr>\n",
       "      <th>失望</th>\n",
       "      <td>28967.0</td>\n",
       "      <td>12521.0</td>\n",
       "      <td>0.432250</td>\n",
       "    </tr>\n",
       "    <tr>\n",
       "      <th>影片</th>\n",
       "      <td>28555.0</td>\n",
       "      <td>22023.0</td>\n",
       "      <td>0.771248</td>\n",
       "    </tr>\n",
       "    <tr>\n",
       "      <th>舒淇</th>\n",
       "      <td>28497.0</td>\n",
       "      <td>22261.0</td>\n",
       "      <td>0.781170</td>\n",
       "    </tr>\n",
       "    <tr>\n",
       "      <th>丧尸</th>\n",
       "      <td>28023.0</td>\n",
       "      <td>26321.0</td>\n",
       "      <td>0.939264</td>\n",
       "    </tr>\n",
       "    <tr>\n",
       "      <th>周星驰</th>\n",
       "      <td>27723.0</td>\n",
       "      <td>14149.0</td>\n",
       "      <td>0.510370</td>\n",
       "    </tr>\n",
       "    <tr>\n",
       "      <th>梦想</th>\n",
       "      <td>27669.0</td>\n",
       "      <td>25249.0</td>\n",
       "      <td>0.912537</td>\n",
       "    </tr>\n",
       "    <tr>\n",
       "      <th>良心</th>\n",
       "      <td>26960.0</td>\n",
       "      <td>24860.0</td>\n",
       "      <td>0.922107</td>\n",
       "    </tr>\n",
       "    <tr>\n",
       "      <th>世界</th>\n",
       "      <td>26577.0</td>\n",
       "      <td>21543.0</td>\n",
       "      <td>0.810588</td>\n",
       "    </tr>\n",
       "    <tr>\n",
       "      <th>地方</th>\n",
       "      <td>26562.0</td>\n",
       "      <td>20692.0</td>\n",
       "      <td>0.779008</td>\n",
       "    </tr>\n",
       "    <tr>\n",
       "      <th>场面</th>\n",
       "      <td>26506.0</td>\n",
       "      <td>21228.0</td>\n",
       "      <td>0.800875</td>\n",
       "    </tr>\n",
       "    <tr>\n",
       "      <th>五星</th>\n",
       "      <td>26392.0</td>\n",
       "      <td>23620.0</td>\n",
       "      <td>0.894968</td>\n",
       "    </tr>\n",
       "    <tr>\n",
       "      <th>角色</th>\n",
       "      <td>24857.0</td>\n",
       "      <td>17899.0</td>\n",
       "      <td>0.720079</td>\n",
       "    </tr>\n",
       "    <tr>\n",
       "      <th>韩寒</th>\n",
       "      <td>24850.0</td>\n",
       "      <td>18306.0</td>\n",
       "      <td>0.736660</td>\n",
       "    </tr>\n",
       "    <tr>\n",
       "      <th>很棒</th>\n",
       "      <td>24664.0</td>\n",
       "      <td>23520.0</td>\n",
       "      <td>0.953617</td>\n",
       "    </tr>\n",
       "    <tr>\n",
       "      <th>只能</th>\n",
       "      <td>24549.0</td>\n",
       "      <td>11783.0</td>\n",
       "      <td>0.479979</td>\n",
       "    </tr>\n",
       "    <tr>\n",
       "      <th>作品</th>\n",
       "      <td>24442.0</td>\n",
       "      <td>19282.0</td>\n",
       "      <td>0.788888</td>\n",
       "    </tr>\n",
       "    <tr>\n",
       "      <th>超级</th>\n",
       "      <td>24427.0</td>\n",
       "      <td>20917.0</td>\n",
       "      <td>0.856307</td>\n",
       "    </tr>\n",
       "    <tr>\n",
       "      <th>精彩</th>\n",
       "      <td>24398.0</td>\n",
       "      <td>21820.0</td>\n",
       "      <td>0.894336</td>\n",
       "    </tr>\n",
       "    <tr>\n",
       "      <th>场景</th>\n",
       "      <td>24317.0</td>\n",
       "      <td>18565.0</td>\n",
       "      <td>0.763458</td>\n",
       "    </tr>\n",
       "    <tr>\n",
       "      <th>两个</th>\n",
       "      <td>24227.0</td>\n",
       "      <td>16189.0</td>\n",
       "      <td>0.668221</td>\n",
       "    </tr>\n",
       "    <tr>\n",
       "      <th>细节</th>\n",
       "      <td>24091.0</td>\n",
       "      <td>22005.0</td>\n",
       "      <td>0.913412</td>\n",
       "    </tr>\n",
       "    <tr>\n",
       "      <th>原著</th>\n",
       "      <td>23946.0</td>\n",
       "      <td>12502.0</td>\n",
       "      <td>0.522091</td>\n",
       "    </tr>\n",
       "    <tr>\n",
       "      <th>配乐</th>\n",
       "      <td>23662.0</td>\n",
       "      <td>18498.0</td>\n",
       "      <td>0.781760</td>\n",
       "    </tr>\n",
       "    <tr>\n",
       "      <th>节奏</th>\n",
       "      <td>23635.0</td>\n",
       "      <td>18449.0</td>\n",
       "      <td>0.780580</td>\n",
       "    </tr>\n",
       "    <tr>\n",
       "      <th>生活</th>\n",
       "      <td>23147.0</td>\n",
       "      <td>19539.0</td>\n",
       "      <td>0.844127</td>\n",
       "    </tr>\n",
       "    <tr>\n",
       "      <th>大片</th>\n",
       "      <td>23044.0</td>\n",
       "      <td>18932.0</td>\n",
       "      <td>0.821559</td>\n",
       "    </tr>\n",
       "    <tr>\n",
       "      <th>真心</th>\n",
       "      <td>23004.0</td>\n",
       "      <td>14028.0</td>\n",
       "      <td>0.609807</td>\n",
       "    </tr>\n",
       "    <tr>\n",
       "      <th>人生</th>\n",
       "      <td>22676.0</td>\n",
       "      <td>19818.0</td>\n",
       "      <td>0.873964</td>\n",
       "    </tr>\n",
       "    <tr>\n",
       "      <th>现实</th>\n",
       "      <td>22526.0</td>\n",
       "      <td>20070.0</td>\n",
       "      <td>0.890970</td>\n",
       "    </tr>\n",
       "    <tr>\n",
       "      <th>哈哈哈</th>\n",
       "      <td>22481.0</td>\n",
       "      <td>17365.0</td>\n",
       "      <td>0.772430</td>\n",
       "    </tr>\n",
       "    <tr>\n",
       "      <th>制作</th>\n",
       "      <td>22321.0</td>\n",
       "      <td>18475.0</td>\n",
       "      <td>0.827696</td>\n",
       "    </tr>\n",
       "    <tr>\n",
       "      <th>想象</th>\n",
       "      <td>22177.0</td>\n",
       "      <td>18657.0</td>\n",
       "      <td>0.841277</td>\n",
       "    </tr>\n",
       "    <tr>\n",
       "      <th>美国</th>\n",
       "      <td>21705.0</td>\n",
       "      <td>18321.0</td>\n",
       "      <td>0.844091</td>\n",
       "    </tr>\n",
       "    <tr>\n",
       "      <th>风格</th>\n",
       "      <td>21650.0</td>\n",
       "      <td>18132.0</td>\n",
       "      <td>0.837506</td>\n",
       "    </tr>\n",
       "    <tr>\n",
       "      <th>东西</th>\n",
       "      <td>20961.0</td>\n",
       "      <td>12417.0</td>\n",
       "      <td>0.592386</td>\n",
       "    </tr>\n",
       "    <tr>\n",
       "      <th>情怀</th>\n",
       "      <td>20907.0</td>\n",
       "      <td>11467.0</td>\n",
       "      <td>0.548477</td>\n",
       "    </tr>\n",
       "    <tr>\n",
       "      <th>成龙</th>\n",
       "      <td>20850.0</td>\n",
       "      <td>16956.0</td>\n",
       "      <td>0.813237</td>\n",
       "    </tr>\n",
       "    <tr>\n",
       "      <th>本来</th>\n",
       "      <td>20557.0</td>\n",
       "      <td>10581.0</td>\n",
       "      <td>0.514715</td>\n",
       "    </tr>\n",
       "    <tr>\n",
       "      <th>观众</th>\n",
       "      <td>20501.0</td>\n",
       "      <td>11099.0</td>\n",
       "      <td>0.541388</td>\n",
       "    </tr>\n",
       "    <tr>\n",
       "      <th>动画片</th>\n",
       "      <td>20477.0</td>\n",
       "      <td>18483.0</td>\n",
       "      <td>0.902622</td>\n",
       "    </tr>\n",
       "    <tr>\n",
       "      <th>时间</th>\n",
       "      <td>20430.0</td>\n",
       "      <td>13710.0</td>\n",
       "      <td>0.671072</td>\n",
       "    </tr>\n",
       "    <tr>\n",
       "      <th>那段</th>\n",
       "      <td>20386.0</td>\n",
       "      <td>16982.0</td>\n",
       "      <td>0.833023</td>\n",
       "    </tr>\n",
       "    <tr>\n",
       "      <th>影院</th>\n",
       "      <td>20385.0</td>\n",
       "      <td>15019.0</td>\n",
       "      <td>0.736767</td>\n",
       "    </tr>\n",
       "    <tr>\n",
       "      <th>适合</th>\n",
       "      <td>20242.0</td>\n",
       "      <td>13516.0</td>\n",
       "      <td>0.667721</td>\n",
       "    </tr>\n",
       "    <tr>\n",
       "      <th>七月</th>\n",
       "      <td>20119.0</td>\n",
       "      <td>19481.0</td>\n",
       "      <td>0.968289</td>\n",
       "    </tr>\n",
       "    <tr>\n",
       "      <th>镜头</th>\n",
       "      <td>20054.0</td>\n",
       "      <td>12940.0</td>\n",
       "      <td>0.645258</td>\n",
       "    </tr>\n",
       "    <tr>\n",
       "      <th>女主</th>\n",
       "      <td>19793.0</td>\n",
       "      <td>9531.0</td>\n",
       "      <td>0.481534</td>\n",
       "    </tr>\n",
       "    <tr>\n",
       "      <th>终于</th>\n",
       "      <td>19704.0</td>\n",
       "      <td>15678.0</td>\n",
       "      <td>0.795676</td>\n",
       "    </tr>\n",
       "    <tr>\n",
       "      <th>好笑</th>\n",
       "      <td>19692.0</td>\n",
       "      <td>15996.0</td>\n",
       "      <td>0.812310</td>\n",
       "    </tr>\n",
       "    <tr>\n",
       "      <th>简单</th>\n",
       "      <td>19687.0</td>\n",
       "      <td>16327.0</td>\n",
       "      <td>0.829329</td>\n",
       "    </tr>\n",
       "  </tbody>\n",
       "</table>\n",
       "</div>"
      ],
      "text/plain": [
       "          cnt  score_sum  score_mean\n",
       "电影   374209.0   240555.0    0.642836\n",
       "剧情   204599.0   123647.0    0.604338\n",
       "不错   167303.0   147473.0    0.881473\n",
       "喜欢   145077.0   121689.0    0.838789\n",
       "好看   143087.0   115173.0    0.804916\n",
       "真的   128121.0    82117.0    0.640933\n",
       "感觉   120635.0    88935.0    0.737224\n",
       "故事   118037.0    84103.0    0.712514\n",
       "特效   106865.0    64607.0    0.604567\n",
       "一部    97071.0    67381.0    0.694141\n",
       "画面    84566.0    63108.0    0.746257\n",
       "这部    74338.0    49916.0    0.671474\n",
       "片子    66013.0    40469.0    0.613046\n",
       "演技    64343.0    28817.0    0.447865\n",
       "中国    60254.0    41744.0    0.692800\n",
       "国产    59495.0    52133.0    0.876259\n",
       "看过    59318.0    34794.0    0.586567\n",
       "搞笑    52972.0    42602.0    0.804236\n",
       "动画    52940.0    47376.0    0.894900\n",
       "一星    52513.0     4295.0    0.081789\n",
       "情节    50703.0    34393.0    0.678323\n",
       "演员    49766.0    24990.0    0.502150\n",
       "导演    46607.0    22441.0    0.481494\n",
       "电影院   44825.0    29253.0    0.652605\n",
       "星爷    43228.0    30054.0    0.695244\n",
       "感动    41512.0    37526.0    0.903980\n",
       "笑点    38094.0    27368.0    0.718433\n",
       "爱情    36136.0    30098.0    0.832909\n",
       "期待    36117.0    28847.0    0.798710\n",
       "确实    36011.0    29163.0    0.809836\n",
       "青春    35174.0    18908.0    0.537556\n",
       "台词    35084.0    16092.0    0.458671\n",
       "结局    34350.0    30700.0    0.893741\n",
       "音乐    33108.0    26342.0    0.795639\n",
       "人物    32962.0    21736.0    0.659426\n",
       "人性    32750.0    31076.0    0.948885\n",
       "特别    32680.0    27212.0    0.832681\n",
       "效果    32471.0    27851.0    0.857719\n",
       "尴尬    32313.0     4637.0    0.143503\n",
       "英雄    32203.0    28779.0    0.893675\n",
       "值得    31079.0    26923.0    0.866276\n",
       "希望    30646.0    25598.0    0.835280\n",
       "结尾    30638.0    25528.0    0.833214\n",
       "大圣    30388.0    27906.0    0.918323\n",
       "喜剧    30132.0    24774.0    0.822182\n",
       "一点    29888.0    17234.0    0.576619\n",
       "实在    29884.0    12458.0    0.416879\n",
       "三星    29865.0    26179.0    0.876578\n",
       "小说    29342.0    14320.0    0.488038\n",
       "时代    29144.0     7420.0    0.254598\n",
       "失望    28967.0    12521.0    0.432250\n",
       "影片    28555.0    22023.0    0.771248\n",
       "舒淇    28497.0    22261.0    0.781170\n",
       "丧尸    28023.0    26321.0    0.939264\n",
       "周星驰   27723.0    14149.0    0.510370\n",
       "梦想    27669.0    25249.0    0.912537\n",
       "良心    26960.0    24860.0    0.922107\n",
       "世界    26577.0    21543.0    0.810588\n",
       "地方    26562.0    20692.0    0.779008\n",
       "场面    26506.0    21228.0    0.800875\n",
       "五星    26392.0    23620.0    0.894968\n",
       "角色    24857.0    17899.0    0.720079\n",
       "韩寒    24850.0    18306.0    0.736660\n",
       "很棒    24664.0    23520.0    0.953617\n",
       "只能    24549.0    11783.0    0.479979\n",
       "作品    24442.0    19282.0    0.788888\n",
       "超级    24427.0    20917.0    0.856307\n",
       "精彩    24398.0    21820.0    0.894336\n",
       "场景    24317.0    18565.0    0.763458\n",
       "两个    24227.0    16189.0    0.668221\n",
       "细节    24091.0    22005.0    0.913412\n",
       "原著    23946.0    12502.0    0.522091\n",
       "配乐    23662.0    18498.0    0.781760\n",
       "节奏    23635.0    18449.0    0.780580\n",
       "生活    23147.0    19539.0    0.844127\n",
       "大片    23044.0    18932.0    0.821559\n",
       "真心    23004.0    14028.0    0.609807\n",
       "人生    22676.0    19818.0    0.873964\n",
       "现实    22526.0    20070.0    0.890970\n",
       "哈哈哈   22481.0    17365.0    0.772430\n",
       "制作    22321.0    18475.0    0.827696\n",
       "想象    22177.0    18657.0    0.841277\n",
       "美国    21705.0    18321.0    0.844091\n",
       "风格    21650.0    18132.0    0.837506\n",
       "东西    20961.0    12417.0    0.592386\n",
       "情怀    20907.0    11467.0    0.548477\n",
       "成龙    20850.0    16956.0    0.813237\n",
       "本来    20557.0    10581.0    0.514715\n",
       "观众    20501.0    11099.0    0.541388\n",
       "动画片   20477.0    18483.0    0.902622\n",
       "时间    20430.0    13710.0    0.671072\n",
       "那段    20386.0    16982.0    0.833023\n",
       "影院    20385.0    15019.0    0.736767\n",
       "适合    20242.0    13516.0    0.667721\n",
       "七月    20119.0    19481.0    0.968289\n",
       "镜头    20054.0    12940.0    0.645258\n",
       "女主    19793.0     9531.0    0.481534\n",
       "终于    19704.0    15678.0    0.795676\n",
       "好笑    19692.0    15996.0    0.812310\n",
       "简单    19687.0    16327.0    0.829329"
      ]
     },
     "execution_count": 243,
     "metadata": {},
     "output_type": "execute_result"
    }
   ],
   "source": [
    "star_df[star_df[\"score_mean\"] > 0].sort_values(by = \"cnt\", ascending = False).head(100)"
   ]
  },
  {
   "cell_type": "code",
   "execution_count": 246,
   "metadata": {},
   "outputs": [
    {
     "data": {
      "text/html": [
       "<div>\n",
       "<style scoped>\n",
       "    .dataframe tbody tr th:only-of-type {\n",
       "        vertical-align: middle;\n",
       "    }\n",
       "\n",
       "    .dataframe tbody tr th {\n",
       "        vertical-align: top;\n",
       "    }\n",
       "\n",
       "    .dataframe thead th {\n",
       "        text-align: right;\n",
       "    }\n",
       "</style>\n",
       "<table border=\"1\" class=\"dataframe\">\n",
       "  <thead>\n",
       "    <tr style=\"text-align: right;\">\n",
       "      <th></th>\n",
       "      <th>cnt</th>\n",
       "      <th>score_sum</th>\n",
       "      <th>score_mean</th>\n",
       "    </tr>\n",
       "  </thead>\n",
       "  <tbody>\n",
       "    <tr>\n",
       "      <th>烂片</th>\n",
       "      <td>25514.0</td>\n",
       "      <td>-7660.0</td>\n",
       "      <td>-0.300227</td>\n",
       "    </tr>\n",
       "    <tr>\n",
       "      <th>两星</th>\n",
       "      <td>11709.0</td>\n",
       "      <td>-2373.0</td>\n",
       "      <td>-0.202665</td>\n",
       "    </tr>\n",
       "    <tr>\n",
       "      <th>恶心</th>\n",
       "      <td>11458.0</td>\n",
       "      <td>-828.0</td>\n",
       "      <td>-0.072264</td>\n",
       "    </tr>\n",
       "    <tr>\n",
       "      <th>垃圾</th>\n",
       "      <td>11305.0</td>\n",
       "      <td>-6657.0</td>\n",
       "      <td>-0.588854</td>\n",
       "    </tr>\n",
       "    <tr>\n",
       "      <th>难看</th>\n",
       "      <td>9392.0</td>\n",
       "      <td>-2254.0</td>\n",
       "      <td>-0.239991</td>\n",
       "    </tr>\n",
       "    <tr>\n",
       "      <th>浪费</th>\n",
       "      <td>6395.0</td>\n",
       "      <td>-2001.0</td>\n",
       "      <td>-0.312901</td>\n",
       "    </tr>\n",
       "    <tr>\n",
       "      <th>陆川</th>\n",
       "      <td>5508.0</td>\n",
       "      <td>-476.0</td>\n",
       "      <td>-0.086420</td>\n",
       "    </tr>\n",
       "    <tr>\n",
       "      <th>看不下去</th>\n",
       "      <td>5131.0</td>\n",
       "      <td>-1813.0</td>\n",
       "      <td>-0.353342</td>\n",
       "    </tr>\n",
       "    <tr>\n",
       "      <th>负分</th>\n",
       "      <td>5055.0</td>\n",
       "      <td>-3761.0</td>\n",
       "      <td>-0.744016</td>\n",
       "    </tr>\n",
       "    <tr>\n",
       "      <th>无力</th>\n",
       "      <td>5007.0</td>\n",
       "      <td>-95.0</td>\n",
       "      <td>-0.018973</td>\n",
       "    </tr>\n",
       "    <tr>\n",
       "      <th>杨幂</th>\n",
       "      <td>4445.0</td>\n",
       "      <td>-541.0</td>\n",
       "      <td>-0.121710</td>\n",
       "    </tr>\n",
       "    <tr>\n",
       "      <th>脑残</th>\n",
       "      <td>4026.0</td>\n",
       "      <td>-146.0</td>\n",
       "      <td>-0.036264</td>\n",
       "    </tr>\n",
       "    <tr>\n",
       "      <th>太烂</th>\n",
       "      <td>3917.0</td>\n",
       "      <td>-711.0</td>\n",
       "      <td>-0.181516</td>\n",
       "    </tr>\n",
       "    <tr>\n",
       "      <th>四娘</th>\n",
       "      <td>3657.0</td>\n",
       "      <td>-1367.0</td>\n",
       "      <td>-0.373804</td>\n",
       "    </tr>\n",
       "    <tr>\n",
       "      <th>乱七八糟</th>\n",
       "      <td>3643.0</td>\n",
       "      <td>-951.0</td>\n",
       "      <td>-0.261049</td>\n",
       "    </tr>\n",
       "    <tr>\n",
       "      <th>意淫</th>\n",
       "      <td>3511.0</td>\n",
       "      <td>-107.0</td>\n",
       "      <td>-0.030476</td>\n",
       "    </tr>\n",
       "    <tr>\n",
       "      <th>圈钱</th>\n",
       "      <td>3479.0</td>\n",
       "      <td>-717.0</td>\n",
       "      <td>-0.206094</td>\n",
       "    </tr>\n",
       "    <tr>\n",
       "      <th>两颗</th>\n",
       "      <td>3222.0</td>\n",
       "      <td>-870.0</td>\n",
       "      <td>-0.270019</td>\n",
       "    </tr>\n",
       "    <tr>\n",
       "      <th>李易峰</th>\n",
       "      <td>3153.0</td>\n",
       "      <td>-53.0</td>\n",
       "      <td>-0.016809</td>\n",
       "    </tr>\n",
       "    <tr>\n",
       "      <th>不知所云</th>\n",
       "      <td>3136.0</td>\n",
       "      <td>-1138.0</td>\n",
       "      <td>-0.362883</td>\n",
       "    </tr>\n",
       "    <tr>\n",
       "      <th>很烂</th>\n",
       "      <td>3042.0</td>\n",
       "      <td>-418.0</td>\n",
       "      <td>-0.137410</td>\n",
       "    </tr>\n",
       "    <tr>\n",
       "      <th>玩意</th>\n",
       "      <td>2890.0</td>\n",
       "      <td>-1584.0</td>\n",
       "      <td>-0.548097</td>\n",
       "    </tr>\n",
       "    <tr>\n",
       "      <th>黄晓明</th>\n",
       "      <td>2404.0</td>\n",
       "      <td>-1198.0</td>\n",
       "      <td>-0.498336</td>\n",
       "    </tr>\n",
       "    <tr>\n",
       "      <th>可言</th>\n",
       "      <td>2308.0</td>\n",
       "      <td>-610.0</td>\n",
       "      <td>-0.264298</td>\n",
       "    </tr>\n",
       "    <tr>\n",
       "      <th>玩意儿</th>\n",
       "      <td>2286.0</td>\n",
       "      <td>-1220.0</td>\n",
       "      <td>-0.533683</td>\n",
       "    </tr>\n",
       "    <tr>\n",
       "      <th>采洁</th>\n",
       "      <td>2133.0</td>\n",
       "      <td>-135.0</td>\n",
       "      <td>-0.063291</td>\n",
       "    </tr>\n",
       "    <tr>\n",
       "      <th>浪费时间</th>\n",
       "      <td>2099.0</td>\n",
       "      <td>-1455.0</td>\n",
       "      <td>-0.693187</td>\n",
       "    </tr>\n",
       "    <tr>\n",
       "      <th>最烂</th>\n",
       "      <td>2069.0</td>\n",
       "      <td>-1623.0</td>\n",
       "      <td>-0.784437</td>\n",
       "    </tr>\n",
       "    <tr>\n",
       "      <th>赵又廷</th>\n",
       "      <td>2050.0</td>\n",
       "      <td>-280.0</td>\n",
       "      <td>-0.136585</td>\n",
       "    </tr>\n",
       "    <tr>\n",
       "      <th>侮辱</th>\n",
       "      <td>1984.0</td>\n",
       "      <td>-1172.0</td>\n",
       "      <td>-0.590726</td>\n",
       "    </tr>\n",
       "    <tr>\n",
       "      <th>无语</th>\n",
       "      <td>1922.0</td>\n",
       "      <td>-70.0</td>\n",
       "      <td>-0.036420</td>\n",
       "    </tr>\n",
       "    <tr>\n",
       "      <th>住姐</th>\n",
       "      <td>1860.0</td>\n",
       "      <td>-154.0</td>\n",
       "      <td>-0.082796</td>\n",
       "    </tr>\n",
       "    <tr>\n",
       "      <th>郭碧婷</th>\n",
       "      <td>1822.0</td>\n",
       "      <td>-196.0</td>\n",
       "      <td>-0.107574</td>\n",
       "    </tr>\n",
       "    <tr>\n",
       "      <th>消费</th>\n",
       "      <td>1679.0</td>\n",
       "      <td>-21.0</td>\n",
       "      <td>-0.012507</td>\n",
       "    </tr>\n",
       "    <tr>\n",
       "      <th>两分</th>\n",
       "      <td>1679.0</td>\n",
       "      <td>-335.0</td>\n",
       "      <td>-0.199524</td>\n",
       "    </tr>\n",
       "    <tr>\n",
       "      <th>教主</th>\n",
       "      <td>1638.0</td>\n",
       "      <td>-620.0</td>\n",
       "      <td>-0.378510</td>\n",
       "    </tr>\n",
       "    <tr>\n",
       "      <th>零分</th>\n",
       "      <td>1537.0</td>\n",
       "      <td>-1005.0</td>\n",
       "      <td>-0.653871</td>\n",
       "    </tr>\n",
       "    <tr>\n",
       "      <th>二星</th>\n",
       "      <td>1525.0</td>\n",
       "      <td>-3.0</td>\n",
       "      <td>-0.001967</td>\n",
       "    </tr>\n",
       "    <tr>\n",
       "      <th>凤小岳</th>\n",
       "      <td>1442.0</td>\n",
       "      <td>-276.0</td>\n",
       "      <td>-0.191401</td>\n",
       "    </tr>\n",
       "    <tr>\n",
       "      <th>何炅</th>\n",
       "      <td>1433.0</td>\n",
       "      <td>-479.0</td>\n",
       "      <td>-0.334264</td>\n",
       "    </tr>\n",
       "    <tr>\n",
       "      <th>快进</th>\n",
       "      <td>1420.0</td>\n",
       "      <td>-312.0</td>\n",
       "      <td>-0.219718</td>\n",
       "    </tr>\n",
       "    <tr>\n",
       "      <th>智障</th>\n",
       "      <td>1375.0</td>\n",
       "      <td>-85.0</td>\n",
       "      <td>-0.061818</td>\n",
       "    </tr>\n",
       "    <tr>\n",
       "      <th>一无是处</th>\n",
       "      <td>1215.0</td>\n",
       "      <td>-319.0</td>\n",
       "      <td>-0.262551</td>\n",
       "    </tr>\n",
       "    <tr>\n",
       "      <th>最差</th>\n",
       "      <td>1192.0</td>\n",
       "      <td>-418.0</td>\n",
       "      <td>-0.350671</td>\n",
       "    </tr>\n",
       "    <tr>\n",
       "      <th>懒得</th>\n",
       "      <td>1190.0</td>\n",
       "      <td>-76.0</td>\n",
       "      <td>-0.063866</td>\n",
       "    </tr>\n",
       "    <tr>\n",
       "      <th>无病呻吟</th>\n",
       "      <td>1186.0</td>\n",
       "      <td>-48.0</td>\n",
       "      <td>-0.040472</td>\n",
       "    </tr>\n",
       "    <tr>\n",
       "      <th>骗钱</th>\n",
       "      <td>1180.0</td>\n",
       "      <td>-414.0</td>\n",
       "      <td>-0.350847</td>\n",
       "    </tr>\n",
       "    <tr>\n",
       "      <th>小学生</th>\n",
       "      <td>1168.0</td>\n",
       "      <td>-114.0</td>\n",
       "      <td>-0.097603</td>\n",
       "    </tr>\n",
       "    <tr>\n",
       "      <th>底线</th>\n",
       "      <td>1163.0</td>\n",
       "      <td>-149.0</td>\n",
       "      <td>-0.128117</td>\n",
       "    </tr>\n",
       "    <tr>\n",
       "      <th>下限</th>\n",
       "      <td>1147.0</td>\n",
       "      <td>-235.0</td>\n",
       "      <td>-0.204882</td>\n",
       "    </tr>\n",
       "    <tr>\n",
       "      <th>唐嫣</th>\n",
       "      <td>1141.0</td>\n",
       "      <td>-125.0</td>\n",
       "      <td>-0.109553</td>\n",
       "    </tr>\n",
       "    <tr>\n",
       "      <th>江郎才尽</th>\n",
       "      <td>1129.0</td>\n",
       "      <td>-1.0</td>\n",
       "      <td>-0.000886</td>\n",
       "    </tr>\n",
       "    <tr>\n",
       "      <th>糟蹋</th>\n",
       "      <td>1102.0</td>\n",
       "      <td>-412.0</td>\n",
       "      <td>-0.373866</td>\n",
       "    </tr>\n",
       "    <tr>\n",
       "      <th>不伦不类</th>\n",
       "      <td>1059.0</td>\n",
       "      <td>-19.0</td>\n",
       "      <td>-0.017941</td>\n",
       "    </tr>\n",
       "    <tr>\n",
       "      <th>狗屎</th>\n",
       "      <td>1019.0</td>\n",
       "      <td>-451.0</td>\n",
       "      <td>-0.442591</td>\n",
       "    </tr>\n",
       "    <tr>\n",
       "      <th>郭导</th>\n",
       "      <td>1011.0</td>\n",
       "      <td>-221.0</td>\n",
       "      <td>-0.218595</td>\n",
       "    </tr>\n",
       "    <tr>\n",
       "      <th>毛钱</th>\n",
       "      <td>1009.0</td>\n",
       "      <td>-207.0</td>\n",
       "      <td>-0.205154</td>\n",
       "    </tr>\n",
       "    <tr>\n",
       "      <th>支离破碎</th>\n",
       "      <td>977.0</td>\n",
       "      <td>-75.0</td>\n",
       "      <td>-0.076766</td>\n",
       "    </tr>\n",
       "    <tr>\n",
       "      <th>大为</th>\n",
       "      <td>952.0</td>\n",
       "      <td>-432.0</td>\n",
       "      <td>-0.453782</td>\n",
       "    </tr>\n",
       "    <tr>\n",
       "      <th>退场</th>\n",
       "      <td>900.0</td>\n",
       "      <td>-174.0</td>\n",
       "      <td>-0.193333</td>\n",
       "    </tr>\n",
       "    <tr>\n",
       "      <th>好烂</th>\n",
       "      <td>876.0</td>\n",
       "      <td>-312.0</td>\n",
       "      <td>-0.356164</td>\n",
       "    </tr>\n",
       "    <tr>\n",
       "      <th>不要脸</th>\n",
       "      <td>865.0</td>\n",
       "      <td>-33.0</td>\n",
       "      <td>-0.038150</td>\n",
       "    </tr>\n",
       "    <tr>\n",
       "      <th>矫揉造作</th>\n",
       "      <td>840.0</td>\n",
       "      <td>-36.0</td>\n",
       "      <td>-0.042857</td>\n",
       "    </tr>\n",
       "    <tr>\n",
       "      <th>辣鸡</th>\n",
       "      <td>822.0</td>\n",
       "      <td>-306.0</td>\n",
       "      <td>-0.372263</td>\n",
       "    </tr>\n",
       "    <tr>\n",
       "      <th>人民日报</th>\n",
       "      <td>821.0</td>\n",
       "      <td>-603.0</td>\n",
       "      <td>-0.734470</td>\n",
       "    </tr>\n",
       "    <tr>\n",
       "      <th>烂烂</th>\n",
       "      <td>799.0</td>\n",
       "      <td>-681.0</td>\n",
       "      <td>-0.852315</td>\n",
       "    </tr>\n",
       "    <tr>\n",
       "      <th>三流</th>\n",
       "      <td>799.0</td>\n",
       "      <td>-29.0</td>\n",
       "      <td>-0.036295</td>\n",
       "    </tr>\n",
       "    <tr>\n",
       "      <th>慢镜头</th>\n",
       "      <td>789.0</td>\n",
       "      <td>-5.0</td>\n",
       "      <td>-0.006337</td>\n",
       "    </tr>\n",
       "    <tr>\n",
       "      <th>谢依霖</th>\n",
       "      <td>781.0</td>\n",
       "      <td>-53.0</td>\n",
       "      <td>-0.067862</td>\n",
       "    </tr>\n",
       "    <tr>\n",
       "      <th>富春山</th>\n",
       "      <td>759.0</td>\n",
       "      <td>-403.0</td>\n",
       "      <td>-0.530962</td>\n",
       "    </tr>\n",
       "    <tr>\n",
       "      <th>李晨</th>\n",
       "      <td>759.0</td>\n",
       "      <td>-49.0</td>\n",
       "      <td>-0.064559</td>\n",
       "    </tr>\n",
       "    <tr>\n",
       "      <th>忽悠</th>\n",
       "      <td>755.0</td>\n",
       "      <td>-37.0</td>\n",
       "      <td>-0.049007</td>\n",
       "    </tr>\n",
       "    <tr>\n",
       "      <th>更烂</th>\n",
       "      <td>755.0</td>\n",
       "      <td>-565.0</td>\n",
       "      <td>-0.748344</td>\n",
       "    </tr>\n",
       "    <tr>\n",
       "      <th>好意思</th>\n",
       "      <td>747.0</td>\n",
       "      <td>-163.0</td>\n",
       "      <td>-0.218206</td>\n",
       "    </tr>\n",
       "    <tr>\n",
       "      <th>不知所谓</th>\n",
       "      <td>739.0</td>\n",
       "      <td>-293.0</td>\n",
       "      <td>-0.396482</td>\n",
       "    </tr>\n",
       "    <tr>\n",
       "      <th>炫富</th>\n",
       "      <td>714.0</td>\n",
       "      <td>-112.0</td>\n",
       "      <td>-0.156863</td>\n",
       "    </tr>\n",
       "    <tr>\n",
       "      <th>逗我</th>\n",
       "      <td>712.0</td>\n",
       "      <td>-94.0</td>\n",
       "      <td>-0.132022</td>\n",
       "    </tr>\n",
       "    <tr>\n",
       "      <th>一坨</th>\n",
       "      <td>709.0</td>\n",
       "      <td>-335.0</td>\n",
       "      <td>-0.472496</td>\n",
       "    </tr>\n",
       "    <tr>\n",
       "      <th>赵默笙</th>\n",
       "      <td>703.0</td>\n",
       "      <td>-61.0</td>\n",
       "      <td>-0.086771</td>\n",
       "    </tr>\n",
       "    <tr>\n",
       "      <th>笙箫</th>\n",
       "      <td>696.0</td>\n",
       "      <td>-96.0</td>\n",
       "      <td>-0.137931</td>\n",
       "    </tr>\n",
       "    <tr>\n",
       "      <th>又臭又长</th>\n",
       "      <td>684.0</td>\n",
       "      <td>-264.0</td>\n",
       "      <td>-0.385965</td>\n",
       "    </tr>\n",
       "    <tr>\n",
       "      <th>零星</th>\n",
       "      <td>669.0</td>\n",
       "      <td>-375.0</td>\n",
       "      <td>-0.560538</td>\n",
       "    </tr>\n",
       "    <tr>\n",
       "      <th>嫌多</th>\n",
       "      <td>665.0</td>\n",
       "      <td>-387.0</td>\n",
       "      <td>-0.581955</td>\n",
       "    </tr>\n",
       "    <tr>\n",
       "      <th>主持</th>\n",
       "      <td>660.0</td>\n",
       "      <td>-504.0</td>\n",
       "      <td>-0.763636</td>\n",
       "    </tr>\n",
       "    <tr>\n",
       "      <th>居图</th>\n",
       "      <td>618.0</td>\n",
       "      <td>-340.0</td>\n",
       "      <td>-0.550162</td>\n",
       "    </tr>\n",
       "    <tr>\n",
       "      <th>商人</th>\n",
       "      <td>610.0</td>\n",
       "      <td>-4.0</td>\n",
       "      <td>-0.006557</td>\n",
       "    </tr>\n",
       "    <tr>\n",
       "      <th>拙劣</th>\n",
       "      <td>608.0</td>\n",
       "      <td>-36.0</td>\n",
       "      <td>-0.059211</td>\n",
       "    </tr>\n",
       "    <tr>\n",
       "      <th>战斗机</th>\n",
       "      <td>591.0</td>\n",
       "      <td>-253.0</td>\n",
       "      <td>-0.428088</td>\n",
       "    </tr>\n",
       "    <tr>\n",
       "      <th>婊子</th>\n",
       "      <td>587.0</td>\n",
       "      <td>-49.0</td>\n",
       "      <td>-0.083475</td>\n",
       "    </tr>\n",
       "    <tr>\n",
       "      <th>身高</th>\n",
       "      <td>580.0</td>\n",
       "      <td>-54.0</td>\n",
       "      <td>-0.093103</td>\n",
       "    </tr>\n",
       "    <tr>\n",
       "      <th>最低</th>\n",
       "      <td>578.0</td>\n",
       "      <td>-174.0</td>\n",
       "      <td>-0.301038</td>\n",
       "    </tr>\n",
       "    <tr>\n",
       "      <th>炮王</th>\n",
       "      <td>578.0</td>\n",
       "      <td>-62.0</td>\n",
       "      <td>-0.107266</td>\n",
       "    </tr>\n",
       "    <tr>\n",
       "      <th>差到</th>\n",
       "      <td>577.0</td>\n",
       "      <td>-87.0</td>\n",
       "      <td>-0.150780</td>\n",
       "    </tr>\n",
       "    <tr>\n",
       "      <th>吃屎</th>\n",
       "      <td>576.0</td>\n",
       "      <td>-60.0</td>\n",
       "      <td>-0.104167</td>\n",
       "    </tr>\n",
       "    <tr>\n",
       "      <th>不谢</th>\n",
       "      <td>574.0</td>\n",
       "      <td>-296.0</td>\n",
       "      <td>-0.515679</td>\n",
       "    </tr>\n",
       "    <tr>\n",
       "      <th>无耻</th>\n",
       "      <td>571.0</td>\n",
       "      <td>-47.0</td>\n",
       "      <td>-0.082312</td>\n",
       "    </tr>\n",
       "    <tr>\n",
       "      <th>雪姨</th>\n",
       "      <td>567.0</td>\n",
       "      <td>-113.0</td>\n",
       "      <td>-0.199295</td>\n",
       "    </tr>\n",
       "    <tr>\n",
       "      <th>麻痹</th>\n",
       "      <td>564.0</td>\n",
       "      <td>-12.0</td>\n",
       "      <td>-0.021277</td>\n",
       "    </tr>\n",
       "    <tr>\n",
       "      <th>惨不忍睹</th>\n",
       "      <td>549.0</td>\n",
       "      <td>-1.0</td>\n",
       "      <td>-0.001821</td>\n",
       "    </tr>\n",
       "    <tr>\n",
       "      <th>奢侈品</th>\n",
       "      <td>533.0</td>\n",
       "      <td>-5.0</td>\n",
       "      <td>-0.009381</td>\n",
       "    </tr>\n",
       "  </tbody>\n",
       "</table>\n",
       "</div>"
      ],
      "text/plain": [
       "          cnt  score_sum  score_mean\n",
       "烂片    25514.0    -7660.0   -0.300227\n",
       "两星    11709.0    -2373.0   -0.202665\n",
       "恶心    11458.0     -828.0   -0.072264\n",
       "垃圾    11305.0    -6657.0   -0.588854\n",
       "难看     9392.0    -2254.0   -0.239991\n",
       "浪费     6395.0    -2001.0   -0.312901\n",
       "陆川     5508.0     -476.0   -0.086420\n",
       "看不下去   5131.0    -1813.0   -0.353342\n",
       "负分     5055.0    -3761.0   -0.744016\n",
       "无力     5007.0      -95.0   -0.018973\n",
       "杨幂     4445.0     -541.0   -0.121710\n",
       "脑残     4026.0     -146.0   -0.036264\n",
       "太烂     3917.0     -711.0   -0.181516\n",
       "四娘     3657.0    -1367.0   -0.373804\n",
       "乱七八糟   3643.0     -951.0   -0.261049\n",
       "意淫     3511.0     -107.0   -0.030476\n",
       "圈钱     3479.0     -717.0   -0.206094\n",
       "两颗     3222.0     -870.0   -0.270019\n",
       "李易峰    3153.0      -53.0   -0.016809\n",
       "不知所云   3136.0    -1138.0   -0.362883\n",
       "很烂     3042.0     -418.0   -0.137410\n",
       "玩意     2890.0    -1584.0   -0.548097\n",
       "黄晓明    2404.0    -1198.0   -0.498336\n",
       "可言     2308.0     -610.0   -0.264298\n",
       "玩意儿    2286.0    -1220.0   -0.533683\n",
       "采洁     2133.0     -135.0   -0.063291\n",
       "浪费时间   2099.0    -1455.0   -0.693187\n",
       "最烂     2069.0    -1623.0   -0.784437\n",
       "赵又廷    2050.0     -280.0   -0.136585\n",
       "侮辱     1984.0    -1172.0   -0.590726\n",
       "无语     1922.0      -70.0   -0.036420\n",
       "住姐     1860.0     -154.0   -0.082796\n",
       "郭碧婷    1822.0     -196.0   -0.107574\n",
       "消费     1679.0      -21.0   -0.012507\n",
       "两分     1679.0     -335.0   -0.199524\n",
       "教主     1638.0     -620.0   -0.378510\n",
       "零分     1537.0    -1005.0   -0.653871\n",
       "二星     1525.0       -3.0   -0.001967\n",
       "凤小岳    1442.0     -276.0   -0.191401\n",
       "何炅     1433.0     -479.0   -0.334264\n",
       "快进     1420.0     -312.0   -0.219718\n",
       "智障     1375.0      -85.0   -0.061818\n",
       "一无是处   1215.0     -319.0   -0.262551\n",
       "最差     1192.0     -418.0   -0.350671\n",
       "懒得     1190.0      -76.0   -0.063866\n",
       "无病呻吟   1186.0      -48.0   -0.040472\n",
       "骗钱     1180.0     -414.0   -0.350847\n",
       "小学生    1168.0     -114.0   -0.097603\n",
       "底线     1163.0     -149.0   -0.128117\n",
       "下限     1147.0     -235.0   -0.204882\n",
       "唐嫣     1141.0     -125.0   -0.109553\n",
       "江郎才尽   1129.0       -1.0   -0.000886\n",
       "糟蹋     1102.0     -412.0   -0.373866\n",
       "不伦不类   1059.0      -19.0   -0.017941\n",
       "狗屎     1019.0     -451.0   -0.442591\n",
       "郭导     1011.0     -221.0   -0.218595\n",
       "毛钱     1009.0     -207.0   -0.205154\n",
       "支离破碎    977.0      -75.0   -0.076766\n",
       "大为      952.0     -432.0   -0.453782\n",
       "退场      900.0     -174.0   -0.193333\n",
       "好烂      876.0     -312.0   -0.356164\n",
       "不要脸     865.0      -33.0   -0.038150\n",
       "矫揉造作    840.0      -36.0   -0.042857\n",
       "辣鸡      822.0     -306.0   -0.372263\n",
       "人民日报    821.0     -603.0   -0.734470\n",
       "烂烂      799.0     -681.0   -0.852315\n",
       "三流      799.0      -29.0   -0.036295\n",
       "慢镜头     789.0       -5.0   -0.006337\n",
       "谢依霖     781.0      -53.0   -0.067862\n",
       "富春山     759.0     -403.0   -0.530962\n",
       "李晨      759.0      -49.0   -0.064559\n",
       "忽悠      755.0      -37.0   -0.049007\n",
       "更烂      755.0     -565.0   -0.748344\n",
       "好意思     747.0     -163.0   -0.218206\n",
       "不知所谓    739.0     -293.0   -0.396482\n",
       "炫富      714.0     -112.0   -0.156863\n",
       "逗我      712.0      -94.0   -0.132022\n",
       "一坨      709.0     -335.0   -0.472496\n",
       "赵默笙     703.0      -61.0   -0.086771\n",
       "笙箫      696.0      -96.0   -0.137931\n",
       "又臭又长    684.0     -264.0   -0.385965\n",
       "零星      669.0     -375.0   -0.560538\n",
       "嫌多      665.0     -387.0   -0.581955\n",
       "主持      660.0     -504.0   -0.763636\n",
       "居图      618.0     -340.0   -0.550162\n",
       "商人      610.0       -4.0   -0.006557\n",
       "拙劣      608.0      -36.0   -0.059211\n",
       "战斗机     591.0     -253.0   -0.428088\n",
       "婊子      587.0      -49.0   -0.083475\n",
       "身高      580.0      -54.0   -0.093103\n",
       "最低      578.0     -174.0   -0.301038\n",
       "炮王      578.0      -62.0   -0.107266\n",
       "差到      577.0      -87.0   -0.150780\n",
       "吃屎      576.0      -60.0   -0.104167\n",
       "不谢      574.0     -296.0   -0.515679\n",
       "无耻      571.0      -47.0   -0.082312\n",
       "雪姨      567.0     -113.0   -0.199295\n",
       "麻痹      564.0      -12.0   -0.021277\n",
       "惨不忍睹    549.0       -1.0   -0.001821\n",
       "奢侈品     533.0       -5.0   -0.009381"
      ]
     },
     "execution_count": 246,
     "metadata": {},
     "output_type": "execute_result"
    }
   ],
   "source": [
    "star_df[star_df[\"score_mean\"] < 0].sort_values(by = \"cnt\", ascending = False).head(100)"
   ]
  },
  {
   "cell_type": "code",
   "execution_count": 254,
   "metadata": {},
   "outputs": [
    {
     "data": {
      "text/html": [
       "<div>\n",
       "<style scoped>\n",
       "    .dataframe tbody tr th:only-of-type {\n",
       "        vertical-align: middle;\n",
       "    }\n",
       "\n",
       "    .dataframe tbody tr th {\n",
       "        vertical-align: top;\n",
       "    }\n",
       "\n",
       "    .dataframe thead th {\n",
       "        text-align: right;\n",
       "    }\n",
       "</style>\n",
       "<table border=\"1\" class=\"dataframe\">\n",
       "  <thead>\n",
       "    <tr style=\"text-align: right;\">\n",
       "      <th></th>\n",
       "      <th>cnt</th>\n",
       "      <th>score_sum</th>\n",
       "      <th>score_mean</th>\n",
       "    </tr>\n",
       "  </thead>\n",
       "  <tbody>\n",
       "    <tr>\n",
       "      <th>名牌</th>\n",
       "      <td>522.0</td>\n",
       "      <td>0.0</td>\n",
       "      <td>0.0</td>\n",
       "    </tr>\n",
       "    <tr>\n",
       "      <th>那英</th>\n",
       "      <td>348.0</td>\n",
       "      <td>0.0</td>\n",
       "      <td>0.0</td>\n",
       "    </tr>\n",
       "    <tr>\n",
       "      <th>芭蕾舞</th>\n",
       "      <td>176.0</td>\n",
       "      <td>0.0</td>\n",
       "      <td>0.0</td>\n",
       "    </tr>\n",
       "    <tr>\n",
       "      <th>倒贴</th>\n",
       "      <td>130.0</td>\n",
       "      <td>0.0</td>\n",
       "      <td>0.0</td>\n",
       "    </tr>\n",
       "    <tr>\n",
       "      <th>精病</th>\n",
       "      <td>128.0</td>\n",
       "      <td>0.0</td>\n",
       "      <td>0.0</td>\n",
       "    </tr>\n",
       "    <tr>\n",
       "      <th>天雷</th>\n",
       "      <td>122.0</td>\n",
       "      <td>0.0</td>\n",
       "      <td>0.0</td>\n",
       "    </tr>\n",
       "    <tr>\n",
       "      <th>睡得</th>\n",
       "      <td>116.0</td>\n",
       "      <td>0.0</td>\n",
       "      <td>0.0</td>\n",
       "    </tr>\n",
       "    <tr>\n",
       "      <th>郁可</th>\n",
       "      <td>78.0</td>\n",
       "      <td>0.0</td>\n",
       "      <td>0.0</td>\n",
       "    </tr>\n",
       "    <tr>\n",
       "      <th>三头六臂</th>\n",
       "      <td>74.0</td>\n",
       "      <td>0.0</td>\n",
       "      <td>0.0</td>\n",
       "    </tr>\n",
       "    <tr>\n",
       "      <th>晚年</th>\n",
       "      <td>74.0</td>\n",
       "      <td>0.0</td>\n",
       "      <td>0.0</td>\n",
       "    </tr>\n",
       "    <tr>\n",
       "      <th>电影学院</th>\n",
       "      <td>62.0</td>\n",
       "      <td>0.0</td>\n",
       "      <td>0.0</td>\n",
       "    </tr>\n",
       "    <tr>\n",
       "      <th>残疾人</th>\n",
       "      <td>62.0</td>\n",
       "      <td>0.0</td>\n",
       "      <td>0.0</td>\n",
       "    </tr>\n",
       "    <tr>\n",
       "      <th>分刷</th>\n",
       "      <td>62.0</td>\n",
       "      <td>0.0</td>\n",
       "      <td>0.0</td>\n",
       "    </tr>\n",
       "    <tr>\n",
       "      <th>歪曲</th>\n",
       "      <td>60.0</td>\n",
       "      <td>0.0</td>\n",
       "      <td>0.0</td>\n",
       "    </tr>\n",
       "    <tr>\n",
       "      <th>粗鄙</th>\n",
       "      <td>60.0</td>\n",
       "      <td>0.0</td>\n",
       "      <td>0.0</td>\n",
       "    </tr>\n",
       "    <tr>\n",
       "      <th>拍来</th>\n",
       "      <td>60.0</td>\n",
       "      <td>0.0</td>\n",
       "      <td>0.0</td>\n",
       "    </tr>\n",
       "    <tr>\n",
       "      <th>卖脸</th>\n",
       "      <td>56.0</td>\n",
       "      <td>0.0</td>\n",
       "      <td>0.0</td>\n",
       "    </tr>\n",
       "    <tr>\n",
       "      <th>作假</th>\n",
       "      <td>54.0</td>\n",
       "      <td>0.0</td>\n",
       "      <td>0.0</td>\n",
       "    </tr>\n",
       "    <tr>\n",
       "      <th>闲得</th>\n",
       "      <td>50.0</td>\n",
       "      <td>0.0</td>\n",
       "      <td>0.0</td>\n",
       "    </tr>\n",
       "    <tr>\n",
       "      <th>欠票</th>\n",
       "      <td>50.0</td>\n",
       "      <td>0.0</td>\n",
       "      <td>0.0</td>\n",
       "    </tr>\n",
       "    <tr>\n",
       "      <th>没脸</th>\n",
       "      <td>50.0</td>\n",
       "      <td>0.0</td>\n",
       "      <td>0.0</td>\n",
       "    </tr>\n",
       "    <tr>\n",
       "      <th>编个</th>\n",
       "      <td>50.0</td>\n",
       "      <td>0.0</td>\n",
       "      <td>0.0</td>\n",
       "    </tr>\n",
       "    <tr>\n",
       "      <th>太郎</th>\n",
       "      <td>46.0</td>\n",
       "      <td>0.0</td>\n",
       "      <td>0.0</td>\n",
       "    </tr>\n",
       "    <tr>\n",
       "      <th>几毛钱</th>\n",
       "      <td>46.0</td>\n",
       "      <td>0.0</td>\n",
       "      <td>0.0</td>\n",
       "    </tr>\n",
       "    <tr>\n",
       "      <th>可别</th>\n",
       "      <td>46.0</td>\n",
       "      <td>0.0</td>\n",
       "      <td>0.0</td>\n",
       "    </tr>\n",
       "    <tr>\n",
       "      <th>水手服</th>\n",
       "      <td>46.0</td>\n",
       "      <td>0.0</td>\n",
       "      <td>0.0</td>\n",
       "    </tr>\n",
       "    <tr>\n",
       "      <th>装成</th>\n",
       "      <td>44.0</td>\n",
       "      <td>0.0</td>\n",
       "      <td>0.0</td>\n",
       "    </tr>\n",
       "    <tr>\n",
       "      <th>生理性</th>\n",
       "      <td>44.0</td>\n",
       "      <td>0.0</td>\n",
       "      <td>0.0</td>\n",
       "    </tr>\n",
       "    <tr>\n",
       "      <th>路转</th>\n",
       "      <td>42.0</td>\n",
       "      <td>0.0</td>\n",
       "      <td>0.0</td>\n",
       "    </tr>\n",
       "    <tr>\n",
       "      <th>颜看</th>\n",
       "      <td>40.0</td>\n",
       "      <td>0.0</td>\n",
       "      <td>0.0</td>\n",
       "    </tr>\n",
       "    <tr>\n",
       "      <th>画展</th>\n",
       "      <td>38.0</td>\n",
       "      <td>0.0</td>\n",
       "      <td>0.0</td>\n",
       "    </tr>\n",
       "    <tr>\n",
       "      <th>我草</th>\n",
       "      <td>38.0</td>\n",
       "      <td>0.0</td>\n",
       "      <td>0.0</td>\n",
       "    </tr>\n",
       "    <tr>\n",
       "      <th>赚够</th>\n",
       "      <td>38.0</td>\n",
       "      <td>0.0</td>\n",
       "      <td>0.0</td>\n",
       "    </tr>\n",
       "    <tr>\n",
       "      <th>送个</th>\n",
       "      <td>38.0</td>\n",
       "      <td>0.0</td>\n",
       "      <td>0.0</td>\n",
       "    </tr>\n",
       "    <tr>\n",
       "      <th>行么</th>\n",
       "      <td>38.0</td>\n",
       "      <td>0.0</td>\n",
       "      <td>0.0</td>\n",
       "    </tr>\n",
       "    <tr>\n",
       "      <th>我吐槽</th>\n",
       "      <td>36.0</td>\n",
       "      <td>0.0</td>\n",
       "      <td>0.0</td>\n",
       "    </tr>\n",
       "    <tr>\n",
       "      <th>郭老板</th>\n",
       "      <td>36.0</td>\n",
       "      <td>0.0</td>\n",
       "      <td>0.0</td>\n",
       "    </tr>\n",
       "    <tr>\n",
       "      <th>技穷</th>\n",
       "      <td>34.0</td>\n",
       "      <td>0.0</td>\n",
       "      <td>0.0</td>\n",
       "    </tr>\n",
       "    <tr>\n",
       "      <th>杨阳</th>\n",
       "      <td>34.0</td>\n",
       "      <td>0.0</td>\n",
       "      <td>0.0</td>\n",
       "    </tr>\n",
       "    <tr>\n",
       "      <th>天鹅湖</th>\n",
       "      <td>34.0</td>\n",
       "      <td>0.0</td>\n",
       "      <td>0.0</td>\n",
       "    </tr>\n",
       "    <tr>\n",
       "      <th>虚华</th>\n",
       "      <td>32.0</td>\n",
       "      <td>0.0</td>\n",
       "      <td>0.0</td>\n",
       "    </tr>\n",
       "    <tr>\n",
       "      <th>毛片</th>\n",
       "      <td>32.0</td>\n",
       "      <td>0.0</td>\n",
       "      <td>0.0</td>\n",
       "    </tr>\n",
       "    <tr>\n",
       "      <th>演顾里</th>\n",
       "      <td>32.0</td>\n",
       "      <td>0.0</td>\n",
       "      <td>0.0</td>\n",
       "    </tr>\n",
       "    <tr>\n",
       "      <th>片一星</th>\n",
       "      <td>32.0</td>\n",
       "      <td>0.0</td>\n",
       "      <td>0.0</td>\n",
       "    </tr>\n",
       "    <tr>\n",
       "      <th>几面</th>\n",
       "      <td>32.0</td>\n",
       "      <td>0.0</td>\n",
       "      <td>0.0</td>\n",
       "    </tr>\n",
       "    <tr>\n",
       "      <th>杀猪</th>\n",
       "      <td>32.0</td>\n",
       "      <td>0.0</td>\n",
       "      <td>0.0</td>\n",
       "    </tr>\n",
       "    <tr>\n",
       "      <th>铜臭</th>\n",
       "      <td>30.0</td>\n",
       "      <td>0.0</td>\n",
       "      <td>0.0</td>\n",
       "    </tr>\n",
       "    <tr>\n",
       "      <th>出离</th>\n",
       "      <td>30.0</td>\n",
       "      <td>0.0</td>\n",
       "      <td>0.0</td>\n",
       "    </tr>\n",
       "    <tr>\n",
       "      <th>兑换券</th>\n",
       "      <td>30.0</td>\n",
       "      <td>0.0</td>\n",
       "      <td>0.0</td>\n",
       "    </tr>\n",
       "    <tr>\n",
       "      <th>舍本逐末</th>\n",
       "      <td>30.0</td>\n",
       "      <td>0.0</td>\n",
       "      <td>0.0</td>\n",
       "    </tr>\n",
       "    <tr>\n",
       "      <th>赏给</th>\n",
       "      <td>28.0</td>\n",
       "      <td>0.0</td>\n",
       "      <td>0.0</td>\n",
       "    </tr>\n",
       "    <tr>\n",
       "      <th>高达分</th>\n",
       "      <td>28.0</td>\n",
       "      <td>0.0</td>\n",
       "      <td>0.0</td>\n",
       "    </tr>\n",
       "    <tr>\n",
       "      <th>豪门</th>\n",
       "      <td>28.0</td>\n",
       "      <td>0.0</td>\n",
       "      <td>0.0</td>\n",
       "    </tr>\n",
       "    <tr>\n",
       "      <th>行为艺术</th>\n",
       "      <td>28.0</td>\n",
       "      <td>0.0</td>\n",
       "      <td>0.0</td>\n",
       "    </tr>\n",
       "    <tr>\n",
       "      <th>滥造</th>\n",
       "      <td>28.0</td>\n",
       "      <td>0.0</td>\n",
       "      <td>0.0</td>\n",
       "    </tr>\n",
       "    <tr>\n",
       "      <th>四女</th>\n",
       "      <td>26.0</td>\n",
       "      <td>0.0</td>\n",
       "      <td>0.0</td>\n",
       "    </tr>\n",
       "    <tr>\n",
       "      <th>泼妇</th>\n",
       "      <td>26.0</td>\n",
       "      <td>0.0</td>\n",
       "      <td>0.0</td>\n",
       "    </tr>\n",
       "    <tr>\n",
       "      <th>克拉</th>\n",
       "      <td>26.0</td>\n",
       "      <td>0.0</td>\n",
       "      <td>0.0</td>\n",
       "    </tr>\n",
       "    <tr>\n",
       "      <th>十句</th>\n",
       "      <td>26.0</td>\n",
       "      <td>0.0</td>\n",
       "      <td>0.0</td>\n",
       "    </tr>\n",
       "    <tr>\n",
       "      <th>山炮</th>\n",
       "      <td>26.0</td>\n",
       "      <td>0.0</td>\n",
       "      <td>0.0</td>\n",
       "    </tr>\n",
       "    <tr>\n",
       "      <th>胶卷</th>\n",
       "      <td>26.0</td>\n",
       "      <td>0.0</td>\n",
       "      <td>0.0</td>\n",
       "    </tr>\n",
       "    <tr>\n",
       "      <th>史航</th>\n",
       "      <td>26.0</td>\n",
       "      <td>0.0</td>\n",
       "      <td>0.0</td>\n",
       "    </tr>\n",
       "    <tr>\n",
       "      <th>端上来</th>\n",
       "      <td>26.0</td>\n",
       "      <td>0.0</td>\n",
       "      <td>0.0</td>\n",
       "    </tr>\n",
       "    <tr>\n",
       "      <th>打水漂</th>\n",
       "      <td>26.0</td>\n",
       "      <td>0.0</td>\n",
       "      <td>0.0</td>\n",
       "    </tr>\n",
       "    <tr>\n",
       "      <th>粪坑</th>\n",
       "      <td>24.0</td>\n",
       "      <td>0.0</td>\n",
       "      <td>0.0</td>\n",
       "    </tr>\n",
       "    <tr>\n",
       "      <th>前言</th>\n",
       "      <td>24.0</td>\n",
       "      <td>0.0</td>\n",
       "      <td>0.0</td>\n",
       "    </tr>\n",
       "    <tr>\n",
       "      <th>星动</th>\n",
       "      <td>24.0</td>\n",
       "      <td>0.0</td>\n",
       "      <td>0.0</td>\n",
       "    </tr>\n",
       "    <tr>\n",
       "      <th>女主脸</th>\n",
       "      <td>24.0</td>\n",
       "      <td>0.0</td>\n",
       "      <td>0.0</td>\n",
       "    </tr>\n",
       "    <tr>\n",
       "      <th>剪个</th>\n",
       "      <td>24.0</td>\n",
       "      <td>0.0</td>\n",
       "      <td>0.0</td>\n",
       "    </tr>\n",
       "    <tr>\n",
       "      <th>一袋</th>\n",
       "      <td>24.0</td>\n",
       "      <td>0.0</td>\n",
       "      <td>0.0</td>\n",
       "    </tr>\n",
       "    <tr>\n",
       "      <th>人力物力</th>\n",
       "      <td>24.0</td>\n",
       "      <td>0.0</td>\n",
       "      <td>0.0</td>\n",
       "    </tr>\n",
       "    <tr>\n",
       "      <th>好险</th>\n",
       "      <td>24.0</td>\n",
       "      <td>0.0</td>\n",
       "      <td>0.0</td>\n",
       "    </tr>\n",
       "    <tr>\n",
       "      <th>黄片</th>\n",
       "      <td>24.0</td>\n",
       "      <td>0.0</td>\n",
       "      <td>0.0</td>\n",
       "    </tr>\n",
       "    <tr>\n",
       "      <th>张大脸</th>\n",
       "      <td>24.0</td>\n",
       "      <td>0.0</td>\n",
       "      <td>0.0</td>\n",
       "    </tr>\n",
       "    <tr>\n",
       "      <th>看點</th>\n",
       "      <td>22.0</td>\n",
       "      <td>0.0</td>\n",
       "      <td>0.0</td>\n",
       "    </tr>\n",
       "    <tr>\n",
       "      <th>奴才</th>\n",
       "      <td>22.0</td>\n",
       "      <td>0.0</td>\n",
       "      <td>0.0</td>\n",
       "    </tr>\n",
       "    <tr>\n",
       "      <th>无地自容</th>\n",
       "      <td>22.0</td>\n",
       "      <td>0.0</td>\n",
       "      <td>0.0</td>\n",
       "    </tr>\n",
       "    <tr>\n",
       "      <th>翻着</th>\n",
       "      <td>22.0</td>\n",
       "      <td>0.0</td>\n",
       "      <td>0.0</td>\n",
       "    </tr>\n",
       "    <tr>\n",
       "      <th>我作</th>\n",
       "      <td>22.0</td>\n",
       "      <td>0.0</td>\n",
       "      <td>0.0</td>\n",
       "    </tr>\n",
       "    <tr>\n",
       "      <th>傻女</th>\n",
       "      <td>22.0</td>\n",
       "      <td>0.0</td>\n",
       "      <td>0.0</td>\n",
       "    </tr>\n",
       "    <tr>\n",
       "      <th>加脑</th>\n",
       "      <td>22.0</td>\n",
       "      <td>0.0</td>\n",
       "      <td>0.0</td>\n",
       "    </tr>\n",
       "    <tr>\n",
       "      <th>景天</th>\n",
       "      <td>22.0</td>\n",
       "      <td>0.0</td>\n",
       "      <td>0.0</td>\n",
       "    </tr>\n",
       "    <tr>\n",
       "      <th>游行</th>\n",
       "      <td>22.0</td>\n",
       "      <td>0.0</td>\n",
       "      <td>0.0</td>\n",
       "    </tr>\n",
       "    <tr>\n",
       "      <th>坑货</th>\n",
       "      <td>22.0</td>\n",
       "      <td>0.0</td>\n",
       "      <td>0.0</td>\n",
       "    </tr>\n",
       "    <tr>\n",
       "      <th>韬演</th>\n",
       "      <td>22.0</td>\n",
       "      <td>0.0</td>\n",
       "      <td>0.0</td>\n",
       "    </tr>\n",
       "    <tr>\n",
       "      <th>八两</th>\n",
       "      <td>20.0</td>\n",
       "      <td>0.0</td>\n",
       "      <td>0.0</td>\n",
       "    </tr>\n",
       "    <tr>\n",
       "      <th>吃枣</th>\n",
       "      <td>20.0</td>\n",
       "      <td>0.0</td>\n",
       "      <td>0.0</td>\n",
       "    </tr>\n",
       "    <tr>\n",
       "      <th>快滚</th>\n",
       "      <td>20.0</td>\n",
       "      <td>0.0</td>\n",
       "      <td>0.0</td>\n",
       "    </tr>\n",
       "    <tr>\n",
       "      <th>品鉴</th>\n",
       "      <td>20.0</td>\n",
       "      <td>0.0</td>\n",
       "      <td>0.0</td>\n",
       "    </tr>\n",
       "    <tr>\n",
       "      <th>吵到</th>\n",
       "      <td>20.0</td>\n",
       "      <td>0.0</td>\n",
       "      <td>0.0</td>\n",
       "    </tr>\n",
       "    <tr>\n",
       "      <th>惺惺作态</th>\n",
       "      <td>20.0</td>\n",
       "      <td>0.0</td>\n",
       "      <td>0.0</td>\n",
       "    </tr>\n",
       "    <tr>\n",
       "      <th>管不住</th>\n",
       "      <td>20.0</td>\n",
       "      <td>0.0</td>\n",
       "      <td>0.0</td>\n",
       "    </tr>\n",
       "    <tr>\n",
       "      <th>盲探</th>\n",
       "      <td>20.0</td>\n",
       "      <td>0.0</td>\n",
       "      <td>0.0</td>\n",
       "    </tr>\n",
       "    <tr>\n",
       "      <th>海枯石烂</th>\n",
       "      <td>20.0</td>\n",
       "      <td>0.0</td>\n",
       "      <td>0.0</td>\n",
       "    </tr>\n",
       "    <tr>\n",
       "      <th>我醉</th>\n",
       "      <td>20.0</td>\n",
       "      <td>0.0</td>\n",
       "      <td>0.0</td>\n",
       "    </tr>\n",
       "    <tr>\n",
       "      <th>毛事</th>\n",
       "      <td>20.0</td>\n",
       "      <td>0.0</td>\n",
       "      <td>0.0</td>\n",
       "    </tr>\n",
       "    <tr>\n",
       "      <th>撕逼后</th>\n",
       "      <td>20.0</td>\n",
       "      <td>0.0</td>\n",
       "      <td>0.0</td>\n",
       "    </tr>\n",
       "    <tr>\n",
       "      <th>黄黄的</th>\n",
       "      <td>20.0</td>\n",
       "      <td>0.0</td>\n",
       "      <td>0.0</td>\n",
       "    </tr>\n",
       "    <tr>\n",
       "      <th>失敗</th>\n",
       "      <td>20.0</td>\n",
       "      <td>0.0</td>\n",
       "      <td>0.0</td>\n",
       "    </tr>\n",
       "    <tr>\n",
       "      <th>胡作非为</th>\n",
       "      <td>20.0</td>\n",
       "      <td>0.0</td>\n",
       "      <td>0.0</td>\n",
       "    </tr>\n",
       "  </tbody>\n",
       "</table>\n",
       "</div>"
      ],
      "text/plain": [
       "        cnt  score_sum  score_mean\n",
       "名牌    522.0        0.0         0.0\n",
       "那英    348.0        0.0         0.0\n",
       "芭蕾舞   176.0        0.0         0.0\n",
       "倒贴    130.0        0.0         0.0\n",
       "精病    128.0        0.0         0.0\n",
       "天雷    122.0        0.0         0.0\n",
       "睡得    116.0        0.0         0.0\n",
       "郁可     78.0        0.0         0.0\n",
       "三头六臂   74.0        0.0         0.0\n",
       "晚年     74.0        0.0         0.0\n",
       "电影学院   62.0        0.0         0.0\n",
       "残疾人    62.0        0.0         0.0\n",
       "分刷     62.0        0.0         0.0\n",
       "歪曲     60.0        0.0         0.0\n",
       "粗鄙     60.0        0.0         0.0\n",
       "拍来     60.0        0.0         0.0\n",
       "卖脸     56.0        0.0         0.0\n",
       "作假     54.0        0.0         0.0\n",
       "闲得     50.0        0.0         0.0\n",
       "欠票     50.0        0.0         0.0\n",
       "没脸     50.0        0.0         0.0\n",
       "编个     50.0        0.0         0.0\n",
       "太郎     46.0        0.0         0.0\n",
       "几毛钱    46.0        0.0         0.0\n",
       "可别     46.0        0.0         0.0\n",
       "水手服    46.0        0.0         0.0\n",
       "装成     44.0        0.0         0.0\n",
       "生理性    44.0        0.0         0.0\n",
       "路转     42.0        0.0         0.0\n",
       "颜看     40.0        0.0         0.0\n",
       "画展     38.0        0.0         0.0\n",
       "我草     38.0        0.0         0.0\n",
       "赚够     38.0        0.0         0.0\n",
       "送个     38.0        0.0         0.0\n",
       "行么     38.0        0.0         0.0\n",
       "我吐槽    36.0        0.0         0.0\n",
       "郭老板    36.0        0.0         0.0\n",
       "技穷     34.0        0.0         0.0\n",
       "杨阳     34.0        0.0         0.0\n",
       "天鹅湖    34.0        0.0         0.0\n",
       "虚华     32.0        0.0         0.0\n",
       "毛片     32.0        0.0         0.0\n",
       "演顾里    32.0        0.0         0.0\n",
       "片一星    32.0        0.0         0.0\n",
       "几面     32.0        0.0         0.0\n",
       "杀猪     32.0        0.0         0.0\n",
       "铜臭     30.0        0.0         0.0\n",
       "出离     30.0        0.0         0.0\n",
       "兑换券    30.0        0.0         0.0\n",
       "舍本逐末   30.0        0.0         0.0\n",
       "赏给     28.0        0.0         0.0\n",
       "高达分    28.0        0.0         0.0\n",
       "豪门     28.0        0.0         0.0\n",
       "行为艺术   28.0        0.0         0.0\n",
       "滥造     28.0        0.0         0.0\n",
       "四女     26.0        0.0         0.0\n",
       "泼妇     26.0        0.0         0.0\n",
       "克拉     26.0        0.0         0.0\n",
       "十句     26.0        0.0         0.0\n",
       "山炮     26.0        0.0         0.0\n",
       "胶卷     26.0        0.0         0.0\n",
       "史航     26.0        0.0         0.0\n",
       "端上来    26.0        0.0         0.0\n",
       "打水漂    26.0        0.0         0.0\n",
       "粪坑     24.0        0.0         0.0\n",
       "前言     24.0        0.0         0.0\n",
       "星动     24.0        0.0         0.0\n",
       "女主脸    24.0        0.0         0.0\n",
       "剪个     24.0        0.0         0.0\n",
       "一袋     24.0        0.0         0.0\n",
       "人力物力   24.0        0.0         0.0\n",
       "好险     24.0        0.0         0.0\n",
       "黄片     24.0        0.0         0.0\n",
       "张大脸    24.0        0.0         0.0\n",
       "看點     22.0        0.0         0.0\n",
       "奴才     22.0        0.0         0.0\n",
       "无地自容   22.0        0.0         0.0\n",
       "翻着     22.0        0.0         0.0\n",
       "我作     22.0        0.0         0.0\n",
       "傻女     22.0        0.0         0.0\n",
       "加脑     22.0        0.0         0.0\n",
       "景天     22.0        0.0         0.0\n",
       "游行     22.0        0.0         0.0\n",
       "坑货     22.0        0.0         0.0\n",
       "韬演     22.0        0.0         0.0\n",
       "八两     20.0        0.0         0.0\n",
       "吃枣     20.0        0.0         0.0\n",
       "快滚     20.0        0.0         0.0\n",
       "品鉴     20.0        0.0         0.0\n",
       "吵到     20.0        0.0         0.0\n",
       "惺惺作态   20.0        0.0         0.0\n",
       "管不住    20.0        0.0         0.0\n",
       "盲探     20.0        0.0         0.0\n",
       "海枯石烂   20.0        0.0         0.0\n",
       "我醉     20.0        0.0         0.0\n",
       "毛事     20.0        0.0         0.0\n",
       "撕逼后    20.0        0.0         0.0\n",
       "黄黄的    20.0        0.0         0.0\n",
       "失敗     20.0        0.0         0.0\n",
       "胡作非为   20.0        0.0         0.0"
      ]
     },
     "execution_count": 254,
     "metadata": {},
     "output_type": "execute_result"
    }
   ],
   "source": [
    "star_df[star_df[\"score_mean\"] == 0].sort_values(by = \"cnt\", ascending = False).head(100)"
   ]
  },
  {
   "cell_type": "code",
   "execution_count": 263,
   "metadata": {},
   "outputs": [
    {
     "data": {
      "text/html": [
       "<div>\n",
       "<style scoped>\n",
       "    .dataframe tbody tr th:only-of-type {\n",
       "        vertical-align: middle;\n",
       "    }\n",
       "\n",
       "    .dataframe tbody tr th {\n",
       "        vertical-align: top;\n",
       "    }\n",
       "\n",
       "    .dataframe thead th {\n",
       "        text-align: right;\n",
       "    }\n",
       "</style>\n",
       "<table border=\"1\" class=\"dataframe\">\n",
       "  <thead>\n",
       "    <tr style=\"text-align: right;\">\n",
       "      <th></th>\n",
       "      <th>cnt</th>\n",
       "      <th>score_sum</th>\n",
       "      <th>score_mean</th>\n",
       "    </tr>\n",
       "  </thead>\n",
       "  <tbody>\n",
       "    <tr>\n",
       "      <th>电影</th>\n",
       "      <td>374209.0</td>\n",
       "      <td>240555.0</td>\n",
       "      <td>0.642836</td>\n",
       "    </tr>\n",
       "    <tr>\n",
       "      <th>剧情</th>\n",
       "      <td>204599.0</td>\n",
       "      <td>123647.0</td>\n",
       "      <td>0.604338</td>\n",
       "    </tr>\n",
       "    <tr>\n",
       "      <th>不错</th>\n",
       "      <td>167303.0</td>\n",
       "      <td>147473.0</td>\n",
       "      <td>0.881473</td>\n",
       "    </tr>\n",
       "    <tr>\n",
       "      <th>喜欢</th>\n",
       "      <td>145077.0</td>\n",
       "      <td>121689.0</td>\n",
       "      <td>0.838789</td>\n",
       "    </tr>\n",
       "    <tr>\n",
       "      <th>好看</th>\n",
       "      <td>143087.0</td>\n",
       "      <td>115173.0</td>\n",
       "      <td>0.804916</td>\n",
       "    </tr>\n",
       "    <tr>\n",
       "      <th>真的</th>\n",
       "      <td>128121.0</td>\n",
       "      <td>82117.0</td>\n",
       "      <td>0.640933</td>\n",
       "    </tr>\n",
       "    <tr>\n",
       "      <th>感觉</th>\n",
       "      <td>120635.0</td>\n",
       "      <td>88935.0</td>\n",
       "      <td>0.737224</td>\n",
       "    </tr>\n",
       "    <tr>\n",
       "      <th>故事</th>\n",
       "      <td>118037.0</td>\n",
       "      <td>84103.0</td>\n",
       "      <td>0.712514</td>\n",
       "    </tr>\n",
       "    <tr>\n",
       "      <th>特效</th>\n",
       "      <td>106865.0</td>\n",
       "      <td>64607.0</td>\n",
       "      <td>0.604567</td>\n",
       "    </tr>\n",
       "    <tr>\n",
       "      <th>一部</th>\n",
       "      <td>97071.0</td>\n",
       "      <td>67381.0</td>\n",
       "      <td>0.694141</td>\n",
       "    </tr>\n",
       "    <tr>\n",
       "      <th>画面</th>\n",
       "      <td>84566.0</td>\n",
       "      <td>63108.0</td>\n",
       "      <td>0.746257</td>\n",
       "    </tr>\n",
       "    <tr>\n",
       "      <th>这部</th>\n",
       "      <td>74338.0</td>\n",
       "      <td>49916.0</td>\n",
       "      <td>0.671474</td>\n",
       "    </tr>\n",
       "    <tr>\n",
       "      <th>片子</th>\n",
       "      <td>66013.0</td>\n",
       "      <td>40469.0</td>\n",
       "      <td>0.613046</td>\n",
       "    </tr>\n",
       "    <tr>\n",
       "      <th>演技</th>\n",
       "      <td>64343.0</td>\n",
       "      <td>28817.0</td>\n",
       "      <td>0.447865</td>\n",
       "    </tr>\n",
       "    <tr>\n",
       "      <th>中国</th>\n",
       "      <td>60254.0</td>\n",
       "      <td>41744.0</td>\n",
       "      <td>0.692800</td>\n",
       "    </tr>\n",
       "    <tr>\n",
       "      <th>国产</th>\n",
       "      <td>59495.0</td>\n",
       "      <td>52133.0</td>\n",
       "      <td>0.876259</td>\n",
       "    </tr>\n",
       "    <tr>\n",
       "      <th>看过</th>\n",
       "      <td>59318.0</td>\n",
       "      <td>34794.0</td>\n",
       "      <td>0.586567</td>\n",
       "    </tr>\n",
       "    <tr>\n",
       "      <th>搞笑</th>\n",
       "      <td>52972.0</td>\n",
       "      <td>42602.0</td>\n",
       "      <td>0.804236</td>\n",
       "    </tr>\n",
       "    <tr>\n",
       "      <th>动画</th>\n",
       "      <td>52940.0</td>\n",
       "      <td>47376.0</td>\n",
       "      <td>0.894900</td>\n",
       "    </tr>\n",
       "    <tr>\n",
       "      <th>一星</th>\n",
       "      <td>52513.0</td>\n",
       "      <td>4295.0</td>\n",
       "      <td>0.081789</td>\n",
       "    </tr>\n",
       "    <tr>\n",
       "      <th>情节</th>\n",
       "      <td>50703.0</td>\n",
       "      <td>34393.0</td>\n",
       "      <td>0.678323</td>\n",
       "    </tr>\n",
       "    <tr>\n",
       "      <th>演员</th>\n",
       "      <td>49766.0</td>\n",
       "      <td>24990.0</td>\n",
       "      <td>0.502150</td>\n",
       "    </tr>\n",
       "    <tr>\n",
       "      <th>导演</th>\n",
       "      <td>46607.0</td>\n",
       "      <td>22441.0</td>\n",
       "      <td>0.481494</td>\n",
       "    </tr>\n",
       "    <tr>\n",
       "      <th>电影院</th>\n",
       "      <td>44825.0</td>\n",
       "      <td>29253.0</td>\n",
       "      <td>0.652605</td>\n",
       "    </tr>\n",
       "    <tr>\n",
       "      <th>星爷</th>\n",
       "      <td>43228.0</td>\n",
       "      <td>30054.0</td>\n",
       "      <td>0.695244</td>\n",
       "    </tr>\n",
       "    <tr>\n",
       "      <th>感动</th>\n",
       "      <td>41512.0</td>\n",
       "      <td>37526.0</td>\n",
       "      <td>0.903980</td>\n",
       "    </tr>\n",
       "    <tr>\n",
       "      <th>笑点</th>\n",
       "      <td>38094.0</td>\n",
       "      <td>27368.0</td>\n",
       "      <td>0.718433</td>\n",
       "    </tr>\n",
       "    <tr>\n",
       "      <th>爱情</th>\n",
       "      <td>36136.0</td>\n",
       "      <td>30098.0</td>\n",
       "      <td>0.832909</td>\n",
       "    </tr>\n",
       "    <tr>\n",
       "      <th>期待</th>\n",
       "      <td>36117.0</td>\n",
       "      <td>28847.0</td>\n",
       "      <td>0.798710</td>\n",
       "    </tr>\n",
       "    <tr>\n",
       "      <th>确实</th>\n",
       "      <td>36011.0</td>\n",
       "      <td>29163.0</td>\n",
       "      <td>0.809836</td>\n",
       "    </tr>\n",
       "    <tr>\n",
       "      <th>青春</th>\n",
       "      <td>35174.0</td>\n",
       "      <td>18908.0</td>\n",
       "      <td>0.537556</td>\n",
       "    </tr>\n",
       "    <tr>\n",
       "      <th>台词</th>\n",
       "      <td>35084.0</td>\n",
       "      <td>16092.0</td>\n",
       "      <td>0.458671</td>\n",
       "    </tr>\n",
       "    <tr>\n",
       "      <th>结局</th>\n",
       "      <td>34350.0</td>\n",
       "      <td>30700.0</td>\n",
       "      <td>0.893741</td>\n",
       "    </tr>\n",
       "    <tr>\n",
       "      <th>音乐</th>\n",
       "      <td>33108.0</td>\n",
       "      <td>26342.0</td>\n",
       "      <td>0.795639</td>\n",
       "    </tr>\n",
       "    <tr>\n",
       "      <th>人物</th>\n",
       "      <td>32962.0</td>\n",
       "      <td>21736.0</td>\n",
       "      <td>0.659426</td>\n",
       "    </tr>\n",
       "    <tr>\n",
       "      <th>人性</th>\n",
       "      <td>32750.0</td>\n",
       "      <td>31076.0</td>\n",
       "      <td>0.948885</td>\n",
       "    </tr>\n",
       "    <tr>\n",
       "      <th>特别</th>\n",
       "      <td>32680.0</td>\n",
       "      <td>27212.0</td>\n",
       "      <td>0.832681</td>\n",
       "    </tr>\n",
       "    <tr>\n",
       "      <th>效果</th>\n",
       "      <td>32471.0</td>\n",
       "      <td>27851.0</td>\n",
       "      <td>0.857719</td>\n",
       "    </tr>\n",
       "    <tr>\n",
       "      <th>尴尬</th>\n",
       "      <td>32313.0</td>\n",
       "      <td>4637.0</td>\n",
       "      <td>0.143503</td>\n",
       "    </tr>\n",
       "    <tr>\n",
       "      <th>英雄</th>\n",
       "      <td>32203.0</td>\n",
       "      <td>28779.0</td>\n",
       "      <td>0.893675</td>\n",
       "    </tr>\n",
       "    <tr>\n",
       "      <th>值得</th>\n",
       "      <td>31079.0</td>\n",
       "      <td>26923.0</td>\n",
       "      <td>0.866276</td>\n",
       "    </tr>\n",
       "    <tr>\n",
       "      <th>希望</th>\n",
       "      <td>30646.0</td>\n",
       "      <td>25598.0</td>\n",
       "      <td>0.835280</td>\n",
       "    </tr>\n",
       "    <tr>\n",
       "      <th>结尾</th>\n",
       "      <td>30638.0</td>\n",
       "      <td>25528.0</td>\n",
       "      <td>0.833214</td>\n",
       "    </tr>\n",
       "    <tr>\n",
       "      <th>大圣</th>\n",
       "      <td>30388.0</td>\n",
       "      <td>27906.0</td>\n",
       "      <td>0.918323</td>\n",
       "    </tr>\n",
       "    <tr>\n",
       "      <th>喜剧</th>\n",
       "      <td>30132.0</td>\n",
       "      <td>24774.0</td>\n",
       "      <td>0.822182</td>\n",
       "    </tr>\n",
       "    <tr>\n",
       "      <th>一点</th>\n",
       "      <td>29888.0</td>\n",
       "      <td>17234.0</td>\n",
       "      <td>0.576619</td>\n",
       "    </tr>\n",
       "    <tr>\n",
       "      <th>实在</th>\n",
       "      <td>29884.0</td>\n",
       "      <td>12458.0</td>\n",
       "      <td>0.416879</td>\n",
       "    </tr>\n",
       "    <tr>\n",
       "      <th>三星</th>\n",
       "      <td>29865.0</td>\n",
       "      <td>26179.0</td>\n",
       "      <td>0.876578</td>\n",
       "    </tr>\n",
       "    <tr>\n",
       "      <th>小说</th>\n",
       "      <td>29342.0</td>\n",
       "      <td>14320.0</td>\n",
       "      <td>0.488038</td>\n",
       "    </tr>\n",
       "    <tr>\n",
       "      <th>时代</th>\n",
       "      <td>29144.0</td>\n",
       "      <td>7420.0</td>\n",
       "      <td>0.254598</td>\n",
       "    </tr>\n",
       "    <tr>\n",
       "      <th>失望</th>\n",
       "      <td>28967.0</td>\n",
       "      <td>12521.0</td>\n",
       "      <td>0.432250</td>\n",
       "    </tr>\n",
       "    <tr>\n",
       "      <th>影片</th>\n",
       "      <td>28555.0</td>\n",
       "      <td>22023.0</td>\n",
       "      <td>0.771248</td>\n",
       "    </tr>\n",
       "    <tr>\n",
       "      <th>舒淇</th>\n",
       "      <td>28497.0</td>\n",
       "      <td>22261.0</td>\n",
       "      <td>0.781170</td>\n",
       "    </tr>\n",
       "    <tr>\n",
       "      <th>丧尸</th>\n",
       "      <td>28023.0</td>\n",
       "      <td>26321.0</td>\n",
       "      <td>0.939264</td>\n",
       "    </tr>\n",
       "    <tr>\n",
       "      <th>周星驰</th>\n",
       "      <td>27723.0</td>\n",
       "      <td>14149.0</td>\n",
       "      <td>0.510370</td>\n",
       "    </tr>\n",
       "    <tr>\n",
       "      <th>梦想</th>\n",
       "      <td>27669.0</td>\n",
       "      <td>25249.0</td>\n",
       "      <td>0.912537</td>\n",
       "    </tr>\n",
       "    <tr>\n",
       "      <th>良心</th>\n",
       "      <td>26960.0</td>\n",
       "      <td>24860.0</td>\n",
       "      <td>0.922107</td>\n",
       "    </tr>\n",
       "    <tr>\n",
       "      <th>世界</th>\n",
       "      <td>26577.0</td>\n",
       "      <td>21543.0</td>\n",
       "      <td>0.810588</td>\n",
       "    </tr>\n",
       "    <tr>\n",
       "      <th>地方</th>\n",
       "      <td>26562.0</td>\n",
       "      <td>20692.0</td>\n",
       "      <td>0.779008</td>\n",
       "    </tr>\n",
       "    <tr>\n",
       "      <th>场面</th>\n",
       "      <td>26506.0</td>\n",
       "      <td>21228.0</td>\n",
       "      <td>0.800875</td>\n",
       "    </tr>\n",
       "    <tr>\n",
       "      <th>五星</th>\n",
       "      <td>26392.0</td>\n",
       "      <td>23620.0</td>\n",
       "      <td>0.894968</td>\n",
       "    </tr>\n",
       "    <tr>\n",
       "      <th>烂片</th>\n",
       "      <td>25514.0</td>\n",
       "      <td>-7660.0</td>\n",
       "      <td>-0.300227</td>\n",
       "    </tr>\n",
       "    <tr>\n",
       "      <th>角色</th>\n",
       "      <td>24857.0</td>\n",
       "      <td>17899.0</td>\n",
       "      <td>0.720079</td>\n",
       "    </tr>\n",
       "    <tr>\n",
       "      <th>韩寒</th>\n",
       "      <td>24850.0</td>\n",
       "      <td>18306.0</td>\n",
       "      <td>0.736660</td>\n",
       "    </tr>\n",
       "    <tr>\n",
       "      <th>很棒</th>\n",
       "      <td>24664.0</td>\n",
       "      <td>23520.0</td>\n",
       "      <td>0.953617</td>\n",
       "    </tr>\n",
       "    <tr>\n",
       "      <th>只能</th>\n",
       "      <td>24549.0</td>\n",
       "      <td>11783.0</td>\n",
       "      <td>0.479979</td>\n",
       "    </tr>\n",
       "    <tr>\n",
       "      <th>作品</th>\n",
       "      <td>24442.0</td>\n",
       "      <td>19282.0</td>\n",
       "      <td>0.788888</td>\n",
       "    </tr>\n",
       "    <tr>\n",
       "      <th>超级</th>\n",
       "      <td>24427.0</td>\n",
       "      <td>20917.0</td>\n",
       "      <td>0.856307</td>\n",
       "    </tr>\n",
       "    <tr>\n",
       "      <th>精彩</th>\n",
       "      <td>24398.0</td>\n",
       "      <td>21820.0</td>\n",
       "      <td>0.894336</td>\n",
       "    </tr>\n",
       "    <tr>\n",
       "      <th>场景</th>\n",
       "      <td>24317.0</td>\n",
       "      <td>18565.0</td>\n",
       "      <td>0.763458</td>\n",
       "    </tr>\n",
       "    <tr>\n",
       "      <th>两个</th>\n",
       "      <td>24227.0</td>\n",
       "      <td>16189.0</td>\n",
       "      <td>0.668221</td>\n",
       "    </tr>\n",
       "    <tr>\n",
       "      <th>细节</th>\n",
       "      <td>24091.0</td>\n",
       "      <td>22005.0</td>\n",
       "      <td>0.913412</td>\n",
       "    </tr>\n",
       "    <tr>\n",
       "      <th>原著</th>\n",
       "      <td>23946.0</td>\n",
       "      <td>12502.0</td>\n",
       "      <td>0.522091</td>\n",
       "    </tr>\n",
       "    <tr>\n",
       "      <th>配乐</th>\n",
       "      <td>23662.0</td>\n",
       "      <td>18498.0</td>\n",
       "      <td>0.781760</td>\n",
       "    </tr>\n",
       "    <tr>\n",
       "      <th>节奏</th>\n",
       "      <td>23635.0</td>\n",
       "      <td>18449.0</td>\n",
       "      <td>0.780580</td>\n",
       "    </tr>\n",
       "    <tr>\n",
       "      <th>生活</th>\n",
       "      <td>23147.0</td>\n",
       "      <td>19539.0</td>\n",
       "      <td>0.844127</td>\n",
       "    </tr>\n",
       "    <tr>\n",
       "      <th>大片</th>\n",
       "      <td>23044.0</td>\n",
       "      <td>18932.0</td>\n",
       "      <td>0.821559</td>\n",
       "    </tr>\n",
       "    <tr>\n",
       "      <th>真心</th>\n",
       "      <td>23004.0</td>\n",
       "      <td>14028.0</td>\n",
       "      <td>0.609807</td>\n",
       "    </tr>\n",
       "    <tr>\n",
       "      <th>人生</th>\n",
       "      <td>22676.0</td>\n",
       "      <td>19818.0</td>\n",
       "      <td>0.873964</td>\n",
       "    </tr>\n",
       "    <tr>\n",
       "      <th>现实</th>\n",
       "      <td>22526.0</td>\n",
       "      <td>20070.0</td>\n",
       "      <td>0.890970</td>\n",
       "    </tr>\n",
       "    <tr>\n",
       "      <th>哈哈哈</th>\n",
       "      <td>22481.0</td>\n",
       "      <td>17365.0</td>\n",
       "      <td>0.772430</td>\n",
       "    </tr>\n",
       "    <tr>\n",
       "      <th>制作</th>\n",
       "      <td>22321.0</td>\n",
       "      <td>18475.0</td>\n",
       "      <td>0.827696</td>\n",
       "    </tr>\n",
       "    <tr>\n",
       "      <th>想象</th>\n",
       "      <td>22177.0</td>\n",
       "      <td>18657.0</td>\n",
       "      <td>0.841277</td>\n",
       "    </tr>\n",
       "    <tr>\n",
       "      <th>美国</th>\n",
       "      <td>21705.0</td>\n",
       "      <td>18321.0</td>\n",
       "      <td>0.844091</td>\n",
       "    </tr>\n",
       "    <tr>\n",
       "      <th>风格</th>\n",
       "      <td>21650.0</td>\n",
       "      <td>18132.0</td>\n",
       "      <td>0.837506</td>\n",
       "    </tr>\n",
       "    <tr>\n",
       "      <th>东西</th>\n",
       "      <td>20961.0</td>\n",
       "      <td>12417.0</td>\n",
       "      <td>0.592386</td>\n",
       "    </tr>\n",
       "    <tr>\n",
       "      <th>情怀</th>\n",
       "      <td>20907.0</td>\n",
       "      <td>11467.0</td>\n",
       "      <td>0.548477</td>\n",
       "    </tr>\n",
       "    <tr>\n",
       "      <th>成龙</th>\n",
       "      <td>20850.0</td>\n",
       "      <td>16956.0</td>\n",
       "      <td>0.813237</td>\n",
       "    </tr>\n",
       "    <tr>\n",
       "      <th>本来</th>\n",
       "      <td>20557.0</td>\n",
       "      <td>10581.0</td>\n",
       "      <td>0.514715</td>\n",
       "    </tr>\n",
       "    <tr>\n",
       "      <th>观众</th>\n",
       "      <td>20501.0</td>\n",
       "      <td>11099.0</td>\n",
       "      <td>0.541388</td>\n",
       "    </tr>\n",
       "    <tr>\n",
       "      <th>动画片</th>\n",
       "      <td>20477.0</td>\n",
       "      <td>18483.0</td>\n",
       "      <td>0.902622</td>\n",
       "    </tr>\n",
       "    <tr>\n",
       "      <th>时间</th>\n",
       "      <td>20430.0</td>\n",
       "      <td>13710.0</td>\n",
       "      <td>0.671072</td>\n",
       "    </tr>\n",
       "    <tr>\n",
       "      <th>那段</th>\n",
       "      <td>20386.0</td>\n",
       "      <td>16982.0</td>\n",
       "      <td>0.833023</td>\n",
       "    </tr>\n",
       "    <tr>\n",
       "      <th>影院</th>\n",
       "      <td>20385.0</td>\n",
       "      <td>15019.0</td>\n",
       "      <td>0.736767</td>\n",
       "    </tr>\n",
       "    <tr>\n",
       "      <th>适合</th>\n",
       "      <td>20242.0</td>\n",
       "      <td>13516.0</td>\n",
       "      <td>0.667721</td>\n",
       "    </tr>\n",
       "    <tr>\n",
       "      <th>七月</th>\n",
       "      <td>20119.0</td>\n",
       "      <td>19481.0</td>\n",
       "      <td>0.968289</td>\n",
       "    </tr>\n",
       "    <tr>\n",
       "      <th>镜头</th>\n",
       "      <td>20054.0</td>\n",
       "      <td>12940.0</td>\n",
       "      <td>0.645258</td>\n",
       "    </tr>\n",
       "    <tr>\n",
       "      <th>女主</th>\n",
       "      <td>19793.0</td>\n",
       "      <td>9531.0</td>\n",
       "      <td>0.481534</td>\n",
       "    </tr>\n",
       "    <tr>\n",
       "      <th>终于</th>\n",
       "      <td>19704.0</td>\n",
       "      <td>15678.0</td>\n",
       "      <td>0.795676</td>\n",
       "    </tr>\n",
       "    <tr>\n",
       "      <th>好笑</th>\n",
       "      <td>19692.0</td>\n",
       "      <td>15996.0</td>\n",
       "      <td>0.812310</td>\n",
       "    </tr>\n",
       "  </tbody>\n",
       "</table>\n",
       "</div>"
      ],
      "text/plain": [
       "          cnt  score_sum  score_mean\n",
       "电影   374209.0   240555.0    0.642836\n",
       "剧情   204599.0   123647.0    0.604338\n",
       "不错   167303.0   147473.0    0.881473\n",
       "喜欢   145077.0   121689.0    0.838789\n",
       "好看   143087.0   115173.0    0.804916\n",
       "真的   128121.0    82117.0    0.640933\n",
       "感觉   120635.0    88935.0    0.737224\n",
       "故事   118037.0    84103.0    0.712514\n",
       "特效   106865.0    64607.0    0.604567\n",
       "一部    97071.0    67381.0    0.694141\n",
       "画面    84566.0    63108.0    0.746257\n",
       "这部    74338.0    49916.0    0.671474\n",
       "片子    66013.0    40469.0    0.613046\n",
       "演技    64343.0    28817.0    0.447865\n",
       "中国    60254.0    41744.0    0.692800\n",
       "国产    59495.0    52133.0    0.876259\n",
       "看过    59318.0    34794.0    0.586567\n",
       "搞笑    52972.0    42602.0    0.804236\n",
       "动画    52940.0    47376.0    0.894900\n",
       "一星    52513.0     4295.0    0.081789\n",
       "情节    50703.0    34393.0    0.678323\n",
       "演员    49766.0    24990.0    0.502150\n",
       "导演    46607.0    22441.0    0.481494\n",
       "电影院   44825.0    29253.0    0.652605\n",
       "星爷    43228.0    30054.0    0.695244\n",
       "感动    41512.0    37526.0    0.903980\n",
       "笑点    38094.0    27368.0    0.718433\n",
       "爱情    36136.0    30098.0    0.832909\n",
       "期待    36117.0    28847.0    0.798710\n",
       "确实    36011.0    29163.0    0.809836\n",
       "青春    35174.0    18908.0    0.537556\n",
       "台词    35084.0    16092.0    0.458671\n",
       "结局    34350.0    30700.0    0.893741\n",
       "音乐    33108.0    26342.0    0.795639\n",
       "人物    32962.0    21736.0    0.659426\n",
       "人性    32750.0    31076.0    0.948885\n",
       "特别    32680.0    27212.0    0.832681\n",
       "效果    32471.0    27851.0    0.857719\n",
       "尴尬    32313.0     4637.0    0.143503\n",
       "英雄    32203.0    28779.0    0.893675\n",
       "值得    31079.0    26923.0    0.866276\n",
       "希望    30646.0    25598.0    0.835280\n",
       "结尾    30638.0    25528.0    0.833214\n",
       "大圣    30388.0    27906.0    0.918323\n",
       "喜剧    30132.0    24774.0    0.822182\n",
       "一点    29888.0    17234.0    0.576619\n",
       "实在    29884.0    12458.0    0.416879\n",
       "三星    29865.0    26179.0    0.876578\n",
       "小说    29342.0    14320.0    0.488038\n",
       "时代    29144.0     7420.0    0.254598\n",
       "失望    28967.0    12521.0    0.432250\n",
       "影片    28555.0    22023.0    0.771248\n",
       "舒淇    28497.0    22261.0    0.781170\n",
       "丧尸    28023.0    26321.0    0.939264\n",
       "周星驰   27723.0    14149.0    0.510370\n",
       "梦想    27669.0    25249.0    0.912537\n",
       "良心    26960.0    24860.0    0.922107\n",
       "世界    26577.0    21543.0    0.810588\n",
       "地方    26562.0    20692.0    0.779008\n",
       "场面    26506.0    21228.0    0.800875\n",
       "五星    26392.0    23620.0    0.894968\n",
       "烂片    25514.0    -7660.0   -0.300227\n",
       "角色    24857.0    17899.0    0.720079\n",
       "韩寒    24850.0    18306.0    0.736660\n",
       "很棒    24664.0    23520.0    0.953617\n",
       "只能    24549.0    11783.0    0.479979\n",
       "作品    24442.0    19282.0    0.788888\n",
       "超级    24427.0    20917.0    0.856307\n",
       "精彩    24398.0    21820.0    0.894336\n",
       "场景    24317.0    18565.0    0.763458\n",
       "两个    24227.0    16189.0    0.668221\n",
       "细节    24091.0    22005.0    0.913412\n",
       "原著    23946.0    12502.0    0.522091\n",
       "配乐    23662.0    18498.0    0.781760\n",
       "节奏    23635.0    18449.0    0.780580\n",
       "生活    23147.0    19539.0    0.844127\n",
       "大片    23044.0    18932.0    0.821559\n",
       "真心    23004.0    14028.0    0.609807\n",
       "人生    22676.0    19818.0    0.873964\n",
       "现实    22526.0    20070.0    0.890970\n",
       "哈哈哈   22481.0    17365.0    0.772430\n",
       "制作    22321.0    18475.0    0.827696\n",
       "想象    22177.0    18657.0    0.841277\n",
       "美国    21705.0    18321.0    0.844091\n",
       "风格    21650.0    18132.0    0.837506\n",
       "东西    20961.0    12417.0    0.592386\n",
       "情怀    20907.0    11467.0    0.548477\n",
       "成龙    20850.0    16956.0    0.813237\n",
       "本来    20557.0    10581.0    0.514715\n",
       "观众    20501.0    11099.0    0.541388\n",
       "动画片   20477.0    18483.0    0.902622\n",
       "时间    20430.0    13710.0    0.671072\n",
       "那段    20386.0    16982.0    0.833023\n",
       "影院    20385.0    15019.0    0.736767\n",
       "适合    20242.0    13516.0    0.667721\n",
       "七月    20119.0    19481.0    0.968289\n",
       "镜头    20054.0    12940.0    0.645258\n",
       "女主    19793.0     9531.0    0.481534\n",
       "终于    19704.0    15678.0    0.795676\n",
       "好笑    19692.0    15996.0    0.812310"
      ]
     },
     "execution_count": 263,
     "metadata": {},
     "output_type": "execute_result"
    }
   ],
   "source": [
    "star_df.loc[((star_df[\"score_mean\"] - 0.333333).abs() < 0.0000001).index.tolist()].sort_values(by = \"cnt\", ascending = False).head(100)"
   ]
  },
  {
   "cell_type": "code",
   "execution_count": 247,
   "metadata": {},
   "outputs": [
    {
     "data": {
      "text/plain": [
       "((276106, 3), (43220, 3))"
      ]
     },
     "execution_count": 247,
     "metadata": {},
     "output_type": "execute_result"
    }
   ],
   "source": [
    "star_df[star_df[\"score_mean\"] > 0].shape, star_df[star_df[\"score_mean\"] < 0].shape"
   ]
  },
  {
   "cell_type": "code",
   "execution_count": 264,
   "metadata": {},
   "outputs": [
    {
     "data": {
      "text/plain": [
       "<matplotlib.axes._subplots.AxesSubplot at 0x7f153ce217b8>"
      ]
     },
     "execution_count": 264,
     "metadata": {},
     "output_type": "execute_result"
    },
    {
     "data": {
      "image/png": "[encoded data removed]",
      "text/plain": [
       "<Figure size 432x288 with 1 Axes>"
      ]
     },
     "metadata": {
      "needs_background": "light"
     },
     "output_type": "display_data"
    }
   ],
   "source": [
    "import seaborn as sns\n",
    "sns.distplot(star_df[star_df[\"score_mean\"] > 0][\"score_mean\"])"
   ]
  },
  {
   "cell_type": "code",
   "execution_count": 265,
   "metadata": {},
   "outputs": [
    {
     "data": {
      "text/plain": [
       "<matplotlib.axes._subplots.AxesSubplot at 0x7f155d3640b8>"
      ]
     },
     "execution_count": 265,
     "metadata": {},
     "output_type": "execute_result"
    },
    {
     "data": {
      "image/png": "[encoded data removed]",
      "text/plain": [
       "<Figure size 432x288 with 1 Axes>"
      ]
     },
     "metadata": {
      "needs_background": "light"
     },
     "output_type": "display_data"
    }
   ],
   "source": [
    "import seaborn as sns\n",
    "sns.distplot(star_df[star_df[\"score_mean\"] < 0][\"score_mean\"])"
   ]
  },
  {
   "cell_type": "code",
   "execution_count": 266,
   "metadata": {},
   "outputs": [],
   "source": [
    "def filter_star_df(star_df):\n",
    "    req = star_df[star_df[\"score_mean\"] > -1.0]\n",
    "    req = req[req[\"score_mean\"] < 1.0]\n",
    "    req = req[req[\"score_mean\"] != 0.0]\n",
    "    return req"
   ]
  },
  {
   "cell_type": "code",
   "execution_count": 267,
   "metadata": {},
   "outputs": [],
   "source": [
    "req_df = filter_star_df(star_df)"
   ]
  },
  {
   "cell_type": "code",
   "execution_count": 268,
   "metadata": {},
   "outputs": [
    {
     "data": {
      "text/plain": [
       "((74769, 3), (331809, 3))"
      ]
     },
     "execution_count": 268,
     "metadata": {},
     "output_type": "execute_result"
    }
   ],
   "source": [
    "req_df.shape, star_df.shape"
   ]
  },
  {
   "cell_type": "code",
   "execution_count": 269,
   "metadata": {},
   "outputs": [
    {
     "data": {
      "text/plain": [
       "<matplotlib.axes._subplots.AxesSubplot at 0x7f155ce37f60>"
      ]
     },
     "execution_count": 269,
     "metadata": {},
     "output_type": "execute_result"
    },
    {
     "data": {
      "image/png": "[encoded data removed]",
      "text/plain": [
       "<Figure size 432x288 with 1 Axes>"
      ]
     },
     "metadata": {
      "needs_background": "light"
     },
     "output_type": "display_data"
    }
   ],
   "source": [
    "import seaborn as sns\n",
    "sns.distplot(req_df[\"score_mean\"])"
   ]
  },
  {
   "cell_type": "code",
   "execution_count": 277,
   "metadata": {},
   "outputs": [
    {
     "data": {
      "text/plain": [
       "<matplotlib.axes._subplots.AxesSubplot at 0x7f15329de710>"
      ]
     },
     "execution_count": 277,
     "metadata": {},
     "output_type": "execute_result"
    },
    {
     "data": {
      "image/png": "[encoded data removed]",
      "text/plain": [
       "<Figure size 432x288 with 1 Axes>"
      ]
     },
     "metadata": {
      "needs_background": "light"
     },
     "output_type": "display_data"
    }
   ],
   "source": [
    "import seaborn as sns\n",
    "sns.distplot(req_df[req_df[\"cnt\"] < 100][\"cnt\"])"
   ]
  },
  {
   "cell_type": "code",
   "execution_count": 282,
   "metadata": {},
   "outputs": [
    {
     "data": {
      "text/plain": [
       "(229.16015995934143, 16.0)"
      ]
     },
     "execution_count": 282,
     "metadata": {},
     "output_type": "execute_result"
    }
   ],
   "source": [
    "req_df[\"cnt\"].mean(), np.percentile(req_df[\"cnt\"], 50)"
   ]
  },
  {
   "cell_type": "code",
   "execution_count": 321,
   "metadata": {},
   "outputs": [],
   "source": [
    "req_score_dict = dict((r[\"index\"], r[\"score_mean\"]) for _, r in req_df[[\"score_mean\"]].reset_index().iterrows())"
   ]
  },
  {
   "cell_type": "code",
   "execution_count": 323,
   "metadata": {},
   "outputs": [
    {
     "data": {
      "text/plain": [
       "0.6428359553083972"
      ]
     },
     "execution_count": 323,
     "metadata": {},
     "output_type": "execute_result"
    }
   ],
   "source": [
    "req_score_dict[u\"电影\"]"
   ]
  },
  {
   "cell_type": "code",
   "execution_count": 324,
   "metadata": {},
   "outputs": [],
   "source": [
    "train_score_sum = list(map(lambda inner_list: sum(map(lambda x: req_score_dict[x] if x in req_score_dict else 0.0,inner_list)) ,train_cut_result))"
   ]
  },
  {
   "cell_type": "code",
   "execution_count": 325,
   "metadata": {},
   "outputs": [
    {
     "data": {
      "text/plain": [
       "<matplotlib.axes._subplots.AxesSubplot at 0x7f1532f8c710>"
      ]
     },
     "execution_count": 325,
     "metadata": {},
     "output_type": "execute_result"
    },
    {
     "data": {
      "image/png": "[encoded data removed]",
      "text/plain": [
       "<Figure size 432x288 with 1 Axes>"
      ]
     },
     "metadata": {
      "needs_background": "light"
     },
     "output_type": "display_data"
    }
   ],
   "source": [
    "import seaborn as sns\n",
    "sns.distplot(train_score_sum)"
   ]
  },
  {
   "cell_type": "code",
   "execution_count": 329,
   "metadata": {},
   "outputs": [
    {
     "data": {
      "text/plain": [
       "<matplotlib.axes._subplots.AxesSubplot at 0x7f159f374278>"
      ]
     },
     "execution_count": 329,
     "metadata": {},
     "output_type": "execute_result"
    },
    {
     "data": {
      "image/png": "[encoded data removed]",
      "text/plain": [
       "<Figure size 432x288 with 1 Axes>"
      ]
     },
     "metadata": {
      "needs_background": "light"
     },
     "output_type": "display_data"
    }
   ],
   "source": [
    "import seaborn as sns\n",
    "sns.distplot(np.asarray(train_labels) > 2)"
   ]
  },
  {
   "cell_type": "code",
   "execution_count": 337,
   "metadata": {},
   "outputs": [
    {
     "data": {
      "text/html": [
       "<div>\n",
       "<style scoped>\n",
       "    .dataframe tbody tr th:only-of-type {\n",
       "        vertical-align: middle;\n",
       "    }\n",
       "\n",
       "    .dataframe tbody tr th {\n",
       "        vertical-align: top;\n",
       "    }\n",
       "\n",
       "    .dataframe thead th {\n",
       "        text-align: right;\n",
       "    }\n",
       "</style>\n",
       "<table border=\"1\" class=\"dataframe\">\n",
       "  <thead>\n",
       "    <tr style=\"text-align: right;\">\n",
       "      <th></th>\n",
       "      <th>0</th>\n",
       "      <th>1</th>\n",
       "    </tr>\n",
       "  </thead>\n",
       "  <tbody>\n",
       "    <tr>\n",
       "      <th>0</th>\n",
       "      <td>1.000000</td>\n",
       "      <td>0.216829</td>\n",
       "    </tr>\n",
       "    <tr>\n",
       "      <th>1</th>\n",
       "      <td>0.216829</td>\n",
       "      <td>1.000000</td>\n",
       "    </tr>\n",
       "  </tbody>\n",
       "</table>\n",
       "</div>"
      ],
      "text/plain": [
       "          0         1\n",
       "0  1.000000  0.216829\n",
       "1  0.216829  1.000000"
      ]
     },
     "execution_count": 337,
     "metadata": {},
     "output_type": "execute_result"
    }
   ],
   "source": [
    "pd.concat([pd.Series(np.asarray(train_labels) > 2), pd.Series(np.asarray(train_score_sum) > 1)], axis = 1).corr()"
   ]
  },
  {
   "cell_type": "code",
   "execution_count": 312,
   "metadata": {},
   "outputs": [],
   "source": [
    "score_df_path = \"douban_word_senti_dict.csv\"\n",
    "if os.path.exists(score_df_path):\n",
    "    os.remove(score_df_path)\n",
    "req_df.to_csv(score_df_path, index = True)"
   ]
  },
  {
   "cell_type": "code",
   "execution_count": 314,
   "metadata": {},
   "outputs": [
    {
     "data": {
      "text/plain": [
       "{'acc': 0.6385380574494244, 'b_acc': 0.623612255981376}"
      ]
     },
     "execution_count": 314,
     "metadata": {},
     "output_type": "execute_result"
    }
   ],
   "source": [
    "train_mean_list = list(map(lambda x: np.concatenate(list(map(lambda y: w2v_model.wv[y].reshape([1, -1]) if y in w2v_model.wv else np.zeros((1,300)), x) ), axis = 0).mean(axis = 0),train_cut_result))\n",
    "test_mean_list = list(map(lambda x: np.concatenate(list(map(lambda y: w2v_model.wv[y].reshape([1, -1]) if y in w2v_model.wv else np.zeros((1,300)), x) ), axis = 0).mean(axis = 0),test_cut_result))\n",
    "\n",
    "train_X, test_X = np.stack(train_mean_list), np.stack(test_mean_list)\n",
    "train_y, test_y = map(np.asarray, [train_labels, test_labels])\n",
    "traditional_clf_score(\"decision_tree\", train_X, train_y, test_X, test_y)"
   ]
  },
  {
   "cell_type": "code",
   "execution_count": 317,
   "metadata": {},
   "outputs": [
    {
     "data": {
      "text/plain": [
       "{'acc': 0.5936067955739354, 'b_acc': 0.5766448429095435}"
      ]
     },
     "execution_count": 317,
     "metadata": {},
     "output_type": "execute_result"
    }
   ],
   "source": [
    "train_mean_list = list(map(lambda x: np.concatenate(list(map(lambda y: np.abs(w2v_model.wv[y].reshape([1, -1])) if y in w2v_model.wv else np.zeros((1,300)), x) ), axis = 0).mean(axis = 0),train_cut_result))\n",
    "test_mean_list = list(map(lambda x: np.concatenate(list(map(lambda y: np.abs(w2v_model.wv[y].reshape([1, -1])) if y in w2v_model.wv else np.zeros((1,300)), x) ), axis = 0).mean(axis = 0),test_cut_result))\n",
    "\n",
    "train_X, test_X = np.stack(train_mean_list), np.stack(test_mean_list)\n",
    "train_y, test_y = map(np.asarray, [train_labels, test_labels])\n",
    "traditional_clf_score(\"decision_tree\", train_X, train_y, test_X, test_y)"
   ]
  },
  {
   "cell_type": "code",
   "execution_count": 338,
   "metadata": {},
   "outputs": [
    {
     "data": {
      "text/plain": [
       "{'acc': 0.647367832793115, 'b_acc': 0.6330876013477487}"
      ]
     },
     "execution_count": 338,
     "metadata": {},
     "output_type": "execute_result"
    }
   ],
   "source": [
    "train_mean_list = list(map(lambda x: np.concatenate(list(map(lambda y: w2v_model.wv[y].reshape([1, -1]) if y in w2v_model.wv else np.zeros((1,300)), x) ), axis = 0).mean(axis = 0),train_cut_result))\n",
    "test_mean_list = list(map(lambda x: np.concatenate(list(map(lambda y: w2v_model.wv[y].reshape([1, -1]) if y in w2v_model.wv else np.zeros((1,300)), x) ), axis = 0).mean(axis = 0),test_cut_result))\n",
    "\n",
    "train_X, test_X = np.stack(train_mean_list), np.stack(test_mean_list)\n",
    "\n",
    "train_score_sum = list(map(lambda inner_list: sum(map(lambda x: req_score_dict[x] if x in req_score_dict else 0.0,inner_list)) ,train_cut_result))\n",
    "\n",
    "test_score_sum = list(map(lambda inner_list: sum(map(lambda x: req_score_dict[x] if x in req_score_dict else 0.0,inner_list)) ,test_cut_result))\n",
    "\n",
    "train_X = np.concatenate([train_X, np.asarray(train_score_sum).reshape([-1, 1])], axis = 1)\n",
    "\n",
    "test_X = np.concatenate([test_X, np.asarray(test_score_sum).reshape([-1, 1])], axis = 1)\n",
    "\n",
    "train_y, test_y = map(np.asarray, [train_labels, test_labels])\n",
    "traditional_clf_score(\"decision_tree\", train_X, train_y, test_X, test_y)"
   ]
  },
  {
   "cell_type": "code",
   "execution_count": 340,
   "metadata": {},
   "outputs": [
    {
     "data": {
      "text/plain": [
       "{'acc': 0.6444618307812675, 'b_acc': 0.6296099330311367}"
      ]
     },
     "execution_count": 340,
     "metadata": {},
     "output_type": "execute_result"
    }
   ],
   "source": [
    "traditional_clf_score(\"decision_tree\", train_X, train_y, test_X, test_y)"
   ]
  },
  {
   "cell_type": "code",
   "execution_count": 341,
   "metadata": {},
   "outputs": [
    {
     "data": {
      "text/plain": [
       "{'acc': 0.6468089862523752, 'b_acc': 0.6320012161624669}"
      ]
     },
     "execution_count": 341,
     "metadata": {},
     "output_type": "execute_result"
    }
   ],
   "source": [
    "traditional_clf_score(\"decision_tree\", train_X, train_y, test_X, test_y)"
   ]
  },
  {
   "cell_type": "code",
   "execution_count": 342,
   "metadata": {},
   "outputs": [
    {
     "data": {
      "text/plain": [
       "{'acc': 0.6916284788197161, 'b_acc': 0.6767791371556564}"
      ]
     },
     "execution_count": 342,
     "metadata": {},
     "output_type": "execute_result"
    }
   ],
   "source": [
    "train_mean_list = list(map(lambda x: np.concatenate(list(map(lambda y: w2v_model.wv[y].reshape([1, -1]) if y in w2v_model.wv else np.zeros((1,300)), x) ), axis = 0).mean(axis = 0),train_cut_result))\n",
    "test_mean_list = list(map(lambda x: np.concatenate(list(map(lambda y: w2v_model.wv[y].reshape([1, -1]) if y in w2v_model.wv else np.zeros((1,300)), x) ), axis = 0).mean(axis = 0),test_cut_result))\n",
    "\n",
    "train_X, test_X = np.stack(train_mean_list), np.stack(test_mean_list)\n",
    "\n",
    "train_score_sum = list(map(lambda inner_list: sum(map(lambda x: req_score_dict[x] if x in req_score_dict else 0.0,inner_list)) ,train_cut_result))\n",
    "\n",
    "test_score_sum = list(map(lambda inner_list: sum(map(lambda x: req_score_dict[x] if x in req_score_dict else 0.0,inner_list)) ,test_cut_result))\n",
    "\n",
    "train_score_max = list(map(lambda inner_list: max(map(lambda x: req_score_dict[x] if x in req_score_dict else 0.0,inner_list)) ,train_cut_result))\n",
    "\n",
    "test_score_max = list(map(lambda inner_list: max(map(lambda x: req_score_dict[x] if x in req_score_dict else 0.0,inner_list)) ,test_cut_result))\n",
    "\n",
    "train_score_min = list(map(lambda inner_list: min(map(lambda x: req_score_dict[x] if x in req_score_dict else 0.0,inner_list)) ,train_cut_result))\n",
    "\n",
    "test_score_min = list(map(lambda inner_list: min(map(lambda x: req_score_dict[x] if x in req_score_dict else 0.0,inner_list)) ,test_cut_result))\n",
    "\n",
    "train_X = np.concatenate([train_X, np.asarray(train_score_sum).reshape([-1, 1])], axis = 1)\n",
    "\n",
    "test_X = np.concatenate([test_X, np.asarray(test_score_sum).reshape([-1, 1])], axis = 1)\n",
    "\n",
    "train_X = np.concatenate([train_X, np.asarray(train_score_max).reshape([-1, 1])], axis = 1)\n",
    "\n",
    "test_X = np.concatenate([test_X, np.asarray(test_score_max).reshape([-1, 1])], axis = 1)\n",
    "\n",
    "train_X = np.concatenate([train_X, np.asarray(train_score_min).reshape([-1, 1])], axis = 1)\n",
    "\n",
    "test_X = np.concatenate([test_X, np.asarray(test_score_min).reshape([-1, 1])], axis = 1)\n",
    "\n",
    "train_y, test_y = map(np.asarray, [train_labels, test_labels])\n",
    "traditional_clf_score(\"decision_tree\", train_X, train_y, test_X, test_y)"
   ]
  },
  {
   "cell_type": "code",
   "execution_count": 343,
   "metadata": {},
   "outputs": [
    {
     "data": {
      "text/plain": [
       "{'acc': 0.6865988599530569, 'b_acc': 0.6719846606197886}"
      ]
     },
     "execution_count": 343,
     "metadata": {},
     "output_type": "execute_result"
    }
   ],
   "source": [
    "train_y, test_y = map(np.asarray, [train_labels, test_labels])\n",
    "traditional_clf_score(\"decision_tree\", train_X, train_y, test_X, test_y)"
   ]
  },
  {
   "cell_type": "code",
   "execution_count": 344,
   "metadata": {},
   "outputs": [
    {
     "data": {
      "text/plain": [
       "{'acc': 0.6899519391974964, 'b_acc': 0.6762475130403031}"
      ]
     },
     "execution_count": 344,
     "metadata": {},
     "output_type": "execute_result"
    }
   ],
   "source": [
    "train_y, test_y = map(np.asarray, [train_labels, test_labels])\n",
    "traditional_clf_score(\"decision_tree\", train_X, train_y, test_X, test_y)"
   ]
  },
  {
   "cell_type": "code",
   "execution_count": 345,
   "metadata": {},
   "outputs": [
    {
     "data": {
      "text/plain": [
       "{'acc': 0.7697552252151559, 'b_acc': 0.7302233725729073}"
      ]
     },
     "execution_count": 345,
     "metadata": {},
     "output_type": "execute_result"
    }
   ],
   "source": [
    "traditional_clf_score(\"random_forest\", train_X, train_y, test_X, test_y)"
   ]
  },
  {
   "cell_type": "code",
   "execution_count": 346,
   "metadata": {},
   "outputs": [
    {
     "data": {
      "text/plain": [
       "{'acc': 0.7508662121381469, 'b_acc': 0.7341857337958761}"
      ]
     },
     "execution_count": 346,
     "metadata": {},
     "output_type": "execute_result"
    }
   ],
   "source": [
    "traditional_clf_score(\"MLP\", train_X, train_y, test_X, test_y)"
   ]
  },
  {
   "cell_type": "code",
   "execution_count": 373,
   "metadata": {},
   "outputs": [
    {
     "data": {
      "text/plain": [
       "{'acc': 0.6651391527886442, 'b_acc': 0.6532311861328032}"
      ]
     },
     "execution_count": 373,
     "metadata": {},
     "output_type": "execute_result"
    }
   ],
   "source": [
    "empty_array = np.stack(list(map(lambda x: np.concatenate(list(map(lambda y: w2v_model.wv[y].reshape([1, -1]) if y in w2v_model.wv else np.zeros((1,300)), x) ), axis = 0).mean(axis = 0),train_cut_result + test_cut_result))).mean(axis = 0)\n",
    "\n",
    "empty_array = np.abs(empty_array).reshape((1, 300))\n",
    "#empty_array = np.zeros((1, 300))\n",
    "empty_weight = np.percentile(list(req_score_dict.values()), 50)\n",
    "#empty_weight = 0.0\n",
    "\n",
    "train_mean_list = list(map(lambda x: np.concatenate(list(map(lambda y: np.abs(w2v_model.wv[y].reshape([1, -1])) * req_score_dict.get(y, empty_weight) if y in w2v_model.wv else empty_array, x) ), axis = 0).mean(axis = 0),train_cut_result))\n",
    "\n",
    "test_mean_list = list(map(lambda x: np.concatenate(list(map(lambda y: np.abs(w2v_model.wv[y].reshape([1, -1])) * req_score_dict.get(y, empty_weight) if y in w2v_model.wv else empty_array, x) ), axis = 0).mean(axis = 0),test_cut_result))\n",
    "\n",
    "train_X, test_X = np.stack(train_mean_list), np.stack(test_mean_list)\n",
    "\n",
    "train_y, test_y = map(np.asarray, [train_labels, test_labels])\n",
    "traditional_clf_score(\"decision_tree\", train_X, train_y, test_X, test_y)"
   ]
  },
  {
   "cell_type": "code",
   "execution_count": 379,
   "metadata": {},
   "outputs": [
    {
     "data": {
      "text/plain": [
       "{'acc': 0.6960992511456354, 'b_acc': 0.683791737751454}"
      ]
     },
     "execution_count": 379,
     "metadata": {},
     "output_type": "execute_result"
    }
   ],
   "source": [
    "empty_array = np.stack(list(map(lambda x: np.concatenate(list(map(lambda y: w2v_model.wv[y].reshape([1, -1]) if y in w2v_model.wv else np.zeros((1,300)), x) ), axis = 0).mean(axis = 0),train_cut_result + test_cut_result))).mean(axis = 0)\n",
    "\n",
    "empty_array = np.abs(empty_array).reshape((1, 300))\n",
    "#empty_array = np.zeros((1, 300))\n",
    "empty_weight = np.percentile(list(req_score_dict.values()), 50)\n",
    "#empty_weight = 0.0\n",
    "\n",
    "train_mean_list = list(map(lambda x: np.concatenate(list(map(lambda y: np.abs(w2v_model.wv[y].reshape([1, -1])) * req_score_dict.get(y, empty_weight) if y in w2v_model.wv else empty_array, x) ), axis = 0).mean(axis = 0),train_cut_result))\n",
    "\n",
    "test_mean_list = list(map(lambda x: np.concatenate(list(map(lambda y: np.abs(w2v_model.wv[y].reshape([1, -1])) * req_score_dict.get(y, empty_weight) if y in w2v_model.wv else empty_array, x) ), axis = 0).mean(axis = 0),test_cut_result))\n",
    "\n",
    "train_X, test_X = np.stack(train_mean_list), np.stack(test_mean_list)\n",
    "\n",
    "train_mean_list = list(map(lambda x: np.concatenate(list(map(lambda y: w2v_model.wv[y].reshape([1, -1]) if y in w2v_model.wv else np.zeros((1,300)), x) ), axis = 0).mean(axis = 0),train_cut_result))\n",
    "test_mean_list = list(map(lambda x: np.concatenate(list(map(lambda y: w2v_model.wv[y].reshape([1, -1]) if y in w2v_model.wv else np.zeros((1,300)), x) ), axis = 0).mean(axis = 0),test_cut_result))\n",
    "\n",
    "train_X_append, test_X_append = np.stack(train_mean_list), np.stack(test_mean_list)\n",
    "\n",
    "train_X = np.concatenate([train_X, train_X_append], axis = 1)\n",
    "\n",
    "test_X = np.concatenate([test_X, test_X_append], axis = 1)\n",
    "\n",
    "train_score_sum = list(map(lambda inner_list: sum(map(lambda x: req_score_dict[x] if x in req_score_dict else 0.0,inner_list)) ,train_cut_result))\n",
    "\n",
    "test_score_sum = list(map(lambda inner_list: sum(map(lambda x: req_score_dict[x] if x in req_score_dict else 0.0,inner_list)) ,test_cut_result))\n",
    "\n",
    "train_score_max = list(map(lambda inner_list: max(map(lambda x: req_score_dict[x] if x in req_score_dict else 0.0,inner_list)) ,train_cut_result))\n",
    "\n",
    "test_score_max = list(map(lambda inner_list: max(map(lambda x: req_score_dict[x] if x in req_score_dict else 0.0,inner_list)) ,test_cut_result))\n",
    "\n",
    "train_score_min = list(map(lambda inner_list: min(map(lambda x: req_score_dict[x] if x in req_score_dict else 0.0,inner_list)) ,train_cut_result))\n",
    "\n",
    "test_score_min = list(map(lambda inner_list: min(map(lambda x: req_score_dict[x] if x in req_score_dict else 0.0,inner_list)) ,test_cut_result))\n",
    "\n",
    "train_X = np.concatenate([train_X, np.asarray(train_score_sum).reshape([-1, 1])], axis = 1)\n",
    "\n",
    "test_X = np.concatenate([test_X, np.asarray(test_score_sum).reshape([-1, 1])], axis = 1)\n",
    "\n",
    "train_X = np.concatenate([train_X, np.asarray(train_score_max).reshape([-1, 1])], axis = 1)\n",
    "\n",
    "test_X = np.concatenate([test_X, np.asarray(test_score_max).reshape([-1, 1])], axis = 1)\n",
    "\n",
    "train_X = np.concatenate([train_X, np.asarray(train_score_min).reshape([-1, 1])], axis = 1)\n",
    "\n",
    "test_X = np.concatenate([test_X, np.asarray(test_score_min).reshape([-1, 1])], axis = 1)\n",
    "\n",
    "train_y, test_y = map(np.asarray, [train_labels, test_labels])\n",
    "traditional_clf_score(\"decision_tree\", train_X, train_y, test_X, test_y)"
   ]
  },
  {
   "cell_type": "code",
   "execution_count": 380,
   "metadata": {},
   "outputs": [
    {
     "data": {
      "text/plain": [
       "{'acc': 0.7671845311277523, 'b_acc': 0.7329470127983115}"
      ]
     },
     "execution_count": 380,
     "metadata": {},
     "output_type": "execute_result"
    }
   ],
   "source": [
    "train_y, test_y = map(np.asarray, [train_labels, test_labels])\n",
    "traditional_clf_score(\"random_forest\", train_X, train_y, test_X, test_y)"
   ]
  },
  {
   "cell_type": "code",
   "execution_count": 381,
   "metadata": {},
   "outputs": [
    {
     "data": {
      "text/plain": [
       "{'acc': 0.7574606013188778, 'b_acc': 0.7333359502631198}"
      ]
     },
     "execution_count": 381,
     "metadata": {},
     "output_type": "execute_result"
    }
   ],
   "source": [
    "train_y, test_y = map(np.asarray, [train_labels, test_labels])\n",
    "traditional_clf_score(\"MLP\", train_X, train_y, test_X, test_y)"
   ]
  },
  {
   "cell_type": "code",
   "execution_count": 382,
   "metadata": {},
   "outputs": [
    {
     "data": {
      "text/plain": [
       "{'acc': 0.6886107074997205, 'b_acc': 0.6768293022798945}"
      ]
     },
     "execution_count": 382,
     "metadata": {},
     "output_type": "execute_result"
    }
   ],
   "source": [
    "empty_array = np.stack(list(map(lambda x: np.concatenate(list(map(lambda y: w2v_model.wv[y].reshape([1, -1]) if y in w2v_model.wv else np.zeros((1,300)), x) ), axis = 0).mean(axis = 0),train_cut_result + test_cut_result))).mean(axis = 0)\n",
    "\n",
    "empty_array = np.abs(empty_array).reshape((1, 300))\n",
    "#empty_array = np.zeros((1, 300))\n",
    "empty_weight = np.percentile(list(req_score_dict.values()), 50)\n",
    "#empty_weight = 0.0\n",
    "\n",
    "train_mean_list = list(map(lambda x: np.concatenate(list(map(lambda y: np.abs(w2v_model.wv[y].reshape([1, -1])) * req_score_dict.get(y, empty_weight) if y in w2v_model.wv else empty_array, x) ), axis = 0).mean(axis = 0),train_cut_result))\n",
    "\n",
    "test_mean_list = list(map(lambda x: np.concatenate(list(map(lambda y: np.abs(w2v_model.wv[y].reshape([1, -1])) * req_score_dict.get(y, empty_weight) if y in w2v_model.wv else empty_array, x) ), axis = 0).mean(axis = 0),test_cut_result))\n",
    "\n",
    "train_X, test_X = np.stack(train_mean_list), np.stack(test_mean_list)\n",
    "\n",
    "train_mean_list = list(map(lambda x: np.concatenate(list(map(lambda y: w2v_model.wv[y].reshape([1, -1]) if y in w2v_model.wv else np.zeros((1,300)), x) ), axis = 0).mean(axis = 0),train_cut_result))\n",
    "test_mean_list = list(map(lambda x: np.concatenate(list(map(lambda y: w2v_model.wv[y].reshape([1, -1]) if y in w2v_model.wv else np.zeros((1,300)), x) ), axis = 0).mean(axis = 0),test_cut_result))\n",
    "\n",
    "train_X_append, test_X_append = np.stack(train_mean_list), np.stack(test_mean_list)\n",
    "\n",
    "train_X = np.concatenate([train_X, train_X_append], axis = 1)\n",
    "\n",
    "test_X = np.concatenate([test_X, test_X_append], axis = 1)\n",
    "\n",
    "train_score_sum = list(map(lambda inner_list: sum(map(lambda x: req_score_dict[x] if x in req_score_dict else empty_weight,inner_list)) ,train_cut_result))\n",
    "\n",
    "test_score_sum = list(map(lambda inner_list: sum(map(lambda x: req_score_dict[x] if x in req_score_dict else empty_weight,inner_list)) ,test_cut_result))\n",
    "\n",
    "train_score_max = list(map(lambda inner_list: max(map(lambda x: req_score_dict[x] if x in req_score_dict else empty_weight,inner_list)) ,train_cut_result))\n",
    "\n",
    "test_score_max = list(map(lambda inner_list: max(map(lambda x: req_score_dict[x] if x in req_score_dict else empty_weight,inner_list)) ,test_cut_result))\n",
    "\n",
    "train_score_min = list(map(lambda inner_list: min(map(lambda x: req_score_dict[x] if x in req_score_dict else empty_weight,inner_list)) ,train_cut_result))\n",
    "\n",
    "test_score_min = list(map(lambda inner_list: min(map(lambda x: req_score_dict[x] if x in req_score_dict else empty_weight,inner_list)) ,test_cut_result))\n",
    "\n",
    "train_X = np.concatenate([train_X, np.asarray(train_score_sum).reshape([-1, 1])], axis = 1)\n",
    "\n",
    "test_X = np.concatenate([test_X, np.asarray(test_score_sum).reshape([-1, 1])], axis = 1)\n",
    "\n",
    "train_X = np.concatenate([train_X, np.asarray(train_score_max).reshape([-1, 1])], axis = 1)\n",
    "\n",
    "test_X = np.concatenate([test_X, np.asarray(test_score_max).reshape([-1, 1])], axis = 1)\n",
    "\n",
    "train_X = np.concatenate([train_X, np.asarray(train_score_min).reshape([-1, 1])], axis = 1)\n",
    "\n",
    "test_X = np.concatenate([test_X, np.asarray(test_score_min).reshape([-1, 1])], axis = 1)\n",
    "\n",
    "train_y, test_y = map(np.asarray, [train_labels, test_labels])\n",
    "traditional_clf_score(\"decision_tree\", train_X, train_y, test_X, test_y)"
   ]
  },
  {
   "cell_type": "code",
   "execution_count": 383,
   "metadata": {},
   "outputs": [
    {
     "data": {
      "text/plain": [
       "{'acc': 0.7643902984240527, 'b_acc': 0.7306622385340089}"
      ]
     },
     "execution_count": 383,
     "metadata": {},
     "output_type": "execute_result"
    }
   ],
   "source": [
    "traditional_clf_score(\"random_forest\", train_X, train_y, test_X, test_y)"
   ]
  },
  {
   "cell_type": "code",
   "execution_count": 384,
   "metadata": {},
   "outputs": [
    {
     "data": {
      "text/plain": [
       "{'acc': 0.7570135240862859, 'b_acc': 0.7430412716995712}"
      ]
     },
     "execution_count": 384,
     "metadata": {},
     "output_type": "execute_result"
    }
   ],
   "source": [
    "traditional_clf_score(\"MLP\", train_X, train_y, test_X, test_y)"
   ]
  },
  {
   "cell_type": "code",
   "execution_count": 385,
   "metadata": {},
   "outputs": [
    {
     "data": {
      "text/plain": [
       "{'acc': 0.6910696322789762, 'b_acc': 0.6782629258277613}"
      ]
     },
     "execution_count": 385,
     "metadata": {},
     "output_type": "execute_result"
    }
   ],
   "source": [
    "empty_array = np.stack(list(map(lambda x: np.concatenate(list(map(lambda y: w2v_model.wv[y].reshape([1, -1]) if y in w2v_model.wv else np.zeros((1,300)), x) ), axis = 0).mean(axis = 0),train_cut_result + test_cut_result))).mean(axis = 0)\n",
    "\n",
    "empty_array = np.abs(empty_array).reshape((1, 300))\n",
    "#empty_array = np.zeros((1, 300))\n",
    "empty_weight = np.percentile(list(req_score_dict.values()), 50)\n",
    "#empty_weight = 0.0\n",
    "\n",
    "train_mean_list = list(map(lambda x: np.concatenate(list(map(lambda y: np.abs(w2v_model.wv[y].reshape([1, -1])) * req_score_dict.get(y, empty_weight) if y in w2v_model.wv else empty_array, x) ), axis = 0).mean(axis = 0),train_cut_result))\n",
    "\n",
    "test_mean_list = list(map(lambda x: np.concatenate(list(map(lambda y: np.abs(w2v_model.wv[y].reshape([1, -1])) * req_score_dict.get(y, empty_weight) if y in w2v_model.wv else empty_array, x) ), axis = 0).mean(axis = 0),test_cut_result))\n",
    "\n",
    "train_X, test_X = np.stack(train_mean_list), np.stack(test_mean_list)\n",
    "\n",
    "train_mean_list = list(map(lambda x: np.concatenate(list(map(lambda y: w2v_model.wv[y].reshape([1, -1]) if y in w2v_model.wv else np.zeros((1,300)), x) ), axis = 0).mean(axis = 0),train_cut_result))\n",
    "test_mean_list = list(map(lambda x: np.concatenate(list(map(lambda y: w2v_model.wv[y].reshape([1, -1]) if y in w2v_model.wv else np.zeros((1,300)), x) ), axis = 0).mean(axis = 0),test_cut_result))\n",
    "\n",
    "train_X_append, test_X_append = np.stack(train_mean_list), np.stack(test_mean_list)\n",
    "\n",
    "train_X = np.concatenate([train_X, train_X_append], axis = 1)\n",
    "\n",
    "test_X = np.concatenate([test_X, test_X_append], axis = 1)\n",
    "\n",
    "train_score_sum = list(map(lambda inner_list: sum(map(lambda x: req_score_dict[x] if x in req_score_dict else empty_weight,inner_list)) ,train_cut_result))\n",
    "\n",
    "test_score_sum = list(map(lambda inner_list: sum(map(lambda x: req_score_dict[x] if x in req_score_dict else empty_weight,inner_list)) ,test_cut_result))\n",
    "\n",
    "train_score_max = list(map(lambda inner_list: max(map(lambda x: req_score_dict[x] if x in req_score_dict else empty_weight,inner_list)) ,train_cut_result))\n",
    "\n",
    "test_score_max = list(map(lambda inner_list: max(map(lambda x: req_score_dict[x] if x in req_score_dict else empty_weight,inner_list)) ,test_cut_result))\n",
    "\n",
    "train_score_min = list(map(lambda inner_list: min(map(lambda x: req_score_dict[x] if x in req_score_dict else empty_weight,inner_list)) ,train_cut_result))\n",
    "\n",
    "test_score_min = list(map(lambda inner_list: min(map(lambda x: req_score_dict[x] if x in req_score_dict else empty_weight,inner_list)) ,test_cut_result))\n",
    "\n",
    "train_score_mean = list(map(lambda inner_list: np.mean(list(map(lambda x: req_score_dict[x] if x in req_score_dict else empty_weight,inner_list))) ,train_cut_result))\n",
    "\n",
    "test_score_mean = list(map(lambda inner_list: np.mean(list(map(lambda x: req_score_dict[x] if x in req_score_dict else empty_weight,inner_list))) ,test_cut_result))\n",
    "\n",
    "train_X = np.concatenate([train_X, np.asarray(train_score_sum).reshape([-1, 1])], axis = 1)\n",
    "\n",
    "test_X = np.concatenate([test_X, np.asarray(test_score_sum).reshape([-1, 1])], axis = 1)\n",
    "\n",
    "train_X = np.concatenate([train_X, np.asarray(train_score_max).reshape([-1, 1])], axis = 1)\n",
    "\n",
    "test_X = np.concatenate([test_X, np.asarray(test_score_max).reshape([-1, 1])], axis = 1)\n",
    "\n",
    "train_X = np.concatenate([train_X, np.asarray(train_score_min).reshape([-1, 1])], axis = 1)\n",
    "\n",
    "test_X = np.concatenate([test_X, np.asarray(test_score_min).reshape([-1, 1])], axis = 1)\n",
    "\n",
    "train_X = np.concatenate([train_X, np.asarray(train_score_mean).reshape([-1, 1])], axis = 1)\n",
    "\n",
    "test_X = np.concatenate([test_X, np.asarray(test_score_mean).reshape([-1, 1])], axis = 1)\n",
    "\n",
    "train_y, test_y = map(np.asarray, [train_labels, test_labels])\n",
    "traditional_clf_score(\"decision_tree\", train_X, train_y, test_X, test_y)"
   ]
  },
  {
   "cell_type": "code",
   "execution_count": 386,
   "metadata": {},
   "outputs": [
    {
     "data": {
      "text/plain": [
       "{'acc': 0.7708729182966357, 'b_acc': 0.7395821392386133}"
      ]
     },
     "execution_count": 386,
     "metadata": {},
     "output_type": "execute_result"
    }
   ],
   "source": [
    "traditional_clf_score(\"random_forest\", train_X, train_y, test_X, test_y)"
   ]
  },
  {
   "cell_type": "code",
   "execution_count": 387,
   "metadata": {},
   "outputs": [
    {
     "data": {
      "text/plain": [
       "{'acc': 0.7501955962892589, 'b_acc': 0.7450720390114295}"
      ]
     },
     "execution_count": 387,
     "metadata": {},
     "output_type": "execute_result"
    }
   ],
   "source": [
    "traditional_clf_score(\"MLP\", train_X, train_y, test_X, test_y)"
   ]
  },
  {
   "cell_type": "code",
   "execution_count": null,
   "metadata": {},
   "outputs": [],
   "source": []
  }
 ],
 "metadata": {
  "kernelspec": {
   "display_name": "Python 3",
   "language": "python",
   "name": "python3"
  },
  "language_info": {
   "codemirror_mode": {
    "name": "ipython",
    "version": 3
   },
   "file_extension": ".py",
   "mimetype": "text/x-python",
   "name": "python",
   "nbconvert_exporter": "python",
   "pygments_lexer": "ipython3",
   "version": "3.7.1"
  }
 },
 "nbformat": 4,
 "nbformat_minor": 4
}
